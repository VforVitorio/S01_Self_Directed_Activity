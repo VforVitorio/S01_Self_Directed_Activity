{
 "cells": [
  {
   "cell_type": "markdown",
   "metadata": {},
   "source": [
    "# Multi Layer Perceptron (MLP)\n",
    "\n",
    "In the last notebook, the Scikit-Learn MLP will be implemented and tested in the dev set. Then, after loading the trained traditional model (RandomForest), I´ll compare the results and choose the best model of all.\n",
    "\n",
    "Finally, some appointments will be done, exposing the conclussions and some points that should be checked in a deeper analysis.\n"
   ]
  },
  {
   "cell_type": "code",
   "execution_count": 60,
   "metadata": {},
   "outputs": [],
   "source": [
    "# Import libraries\n",
    "import numpy as np\n",
    "import pandas as pd\n",
    "import matplotlib.pyplot as plt\n",
    "from sklearn.neural_network import MLPClassifier\n",
    "import joblib\n",
    "from time import sleep"
   ]
  },
  {
   "cell_type": "code",
   "execution_count": 61,
   "metadata": {},
   "outputs": [],
   "source": [
    "# Load data splits\n",
    "X_dev = pd.read_csv('datasets/iris_data_splits/x_dev.csv')\n",
    "y_dev = pd.read_csv('datasets/iris_data_splits/y_dev.csv')\n",
    "X_test = pd.read_csv('datasets/iris_data_splits/x_test.csv')\n",
    "y_test = pd.read_csv('datasets/iris_data_splits/y_test.csv')\n",
    "X_train = pd.read_csv('datasets/iris_data_splits/x_train.csv')\n",
    "y_train = pd.read_csv('datasets/iris_data_splits/y_train.csv')\n",
    "target_names = ['Iris-setosa', 'Iris-versicolor', 'Iris-virginica']"
   ]
  },
  {
   "cell_type": "code",
   "execution_count": 62,
   "metadata": {},
   "outputs": [],
   "source": [
    "# Load saved RF model\n",
    "rf_model = joblib.load('models/optimized_random_forest.joblib')"
   ]
  },
  {
   "cell_type": "code",
   "execution_count": 63,
   "metadata": {},
   "outputs": [],
   "source": [
    "# Assuring the partitions are vectors (important for efficiency to apply vectorization)\n",
    "y_train = y_train.values.ravel()\n",
    "y_dev = y_dev.values.ravel()\n"
   ]
  },
  {
   "cell_type": "markdown",
   "metadata": {},
   "source": [
    "# MLP Definition\n",
    "\n",
    "``**Disclaimer**: the next implementation and functions have been worked on the Deep Learning Specialization I´m doing. This wasn´t taught in the previous subjects with this amount of detail. However, I think that it´s a good idea to try to implement these concepts I learnt in a different dataset and environment.``\n",
    "\n",
    "## Adam Optimizer and L2 Regularization  \n",
    "\n",
    "### Adam Optimizer  \n",
    "Adam (**Adaptive Moment Estimation**) is an optimization algorithm that combines the advantages of **Momentum** and **RMSProp**, adapting the learning rate for each parameter.  \n",
    "\n",
    "#### Why use Adam?  \n",
    "- **Faster convergence** compared to standard SGD.  \n",
    "- **Adaptive learning rates** for different parameters.  \n",
    "- Works well in non-stationary problems and with sparse gradients.  \n",
    "\n",
    "### L2 Regularization (Weight Decay)  \n",
    "L2 regularization, also called **weight decay**, adds a penalty term to the loss function to prevent overfitting. The modified loss function is:  \n",
    "\n",
    "$L'(\\theta) = L(\\theta) + \\frac{\\lambda}{2} \\sum_{i} \\theta_i^2$\n",
    "\n",
    "\n",
    "where:  \n",
    "- $L(\\theta)$ is the original loss function.  \n",
    "- $(\\lambda)$ (regularization strength) controls the impact of weight decay.  \n",
    "- $( \\theta_i)$ are the model parameters.  \n",
    "\n",
    "#### Why use L2 regularization?  \n",
    "- **Reduces overfitting** by shrinking weights towards zero.  \n",
    "- **Encourages generalization**, making the model less sensitive to noise.  \n",
    "- **Prevents large weights**, leading to smoother decision boundaries.  \n",
    "\n"
   ]
  },
  {
   "cell_type": "code",
   "execution_count": 64,
   "metadata": {},
   "outputs": [],
   "source": [
    "def train_with_progress(mlp, X_train, y_train, X_dev, y_dev):\n",
    "    losses = []\n",
    "    accuracies = []\n",
    "    \n",
    "    for i in range(1, mlp.max_iter + 1):\n",
    "        mlp.partial_fit(X_train, y_train, classes=[0, 1, 2])  # Training one epoch\n",
    "\n",
    "        # Storing loss and accuracy on dev \n",
    "        losses.append(mlp.loss_)\n",
    "        acc = mlp.score(X_dev, y_dev)\n",
    "        accuracies.append(acc)\n",
    "\n",
    "        # Show every 10 epochs the loss and accuracy\n",
    "        if i % 10 == 0:\n",
    "            print(f\"Epoch {i}/{mlp.max_iter} - Loss: {mlp.loss_:.4f} - Accuracy: {acc:.4f}\")\n",
    "            sleep(0.1)  # Small pause to avoid showing the training so fast\n",
    "    \n",
    "    return mlp, losses, accuracies\n"
   ]
  },
  {
   "cell_type": "code",
   "execution_count": 65,
   "metadata": {},
   "outputs": [],
   "source": [
    "def plot_learning_curves(losses, accuracies):\n",
    "    plt.figure(figsize=(12, 5))\n",
    "\n",
    "    # Pérdida\n",
    "    plt.subplot(1, 2, 1)\n",
    "    plt.plot(losses, label=\"Loss\", color=\"red\")\n",
    "    plt.xlabel(\"Epoch\")\n",
    "    plt.ylabel(\"Loss\")\n",
    "    plt.title(\"Loss Curve\")\n",
    "    plt.legend()\n",
    "\n",
    "    # Accuracy\n",
    "    plt.subplot(1, 2, 2)\n",
    "    plt.plot(accuracies, label=\"Accuracy\", color=\"blue\")\n",
    "    plt.xlabel(\"Epoch\")\n",
    "    plt.ylabel(\"Accuracy\")\n",
    "    plt.title(\"Learning Curve\")\n",
    "    plt.legend()\n",
    "\n",
    "    plt.show()\n"
   ]
  },
  {
   "cell_type": "code",
   "execution_count": 66,
   "metadata": {},
   "outputs": [],
   "source": [
    "# MLP Definition\n",
    "mlp = MLPClassifier(hidden_layer_sizes=(128, 64, 32),  # 3 hidden layers with that number of neurons\n",
    "                    activation='relu', # Activation function in each layer \n",
    "                    solver='adam',  # Adam optimizer\n",
    "                    alpha=0.0001,  # L2 Default Regularization \n",
    "                    max_iter=500,  # Epoch Number \n",
    "                    random_state=42,\n",
    "                    warm_start=True)"
   ]
  },
  {
   "cell_type": "code",
   "execution_count": 67,
   "metadata": {},
   "outputs": [
    {
     "name": "stdout",
     "output_type": "stream",
     "text": [
      "Epoch 10/500 - Loss: 0.7580 - Accuracy: 0.7727\n",
      "Epoch 20/500 - Loss: 0.4933 - Accuracy: 0.8636\n",
      "Epoch 30/500 - Loss: 0.3210 - Accuracy: 0.8636\n",
      "Epoch 40/500 - Loss: 0.2241 - Accuracy: 0.8636\n",
      "Epoch 50/500 - Loss: 0.1586 - Accuracy: 0.8636\n",
      "Epoch 60/500 - Loss: 0.1095 - Accuracy: 0.8636\n",
      "Epoch 70/500 - Loss: 0.0772 - Accuracy: 0.8636\n",
      "Epoch 80/500 - Loss: 0.0573 - Accuracy: 0.8636\n",
      "Epoch 90/500 - Loss: 0.0450 - Accuracy: 0.8636\n",
      "Epoch 100/500 - Loss: 0.0365 - Accuracy: 0.8636\n",
      "Epoch 110/500 - Loss: 0.0303 - Accuracy: 0.8636\n",
      "Epoch 120/500 - Loss: 0.0256 - Accuracy: 0.8636\n",
      "Epoch 130/500 - Loss: 0.0217 - Accuracy: 0.8636\n",
      "Epoch 140/500 - Loss: 0.0185 - Accuracy: 0.9091\n",
      "Epoch 150/500 - Loss: 0.0159 - Accuracy: 0.9091\n",
      "Epoch 160/500 - Loss: 0.0136 - Accuracy: 0.9091\n",
      "Epoch 170/500 - Loss: 0.0117 - Accuracy: 0.9091\n",
      "Epoch 180/500 - Loss: 0.0099 - Accuracy: 0.9091\n",
      "Epoch 190/500 - Loss: 0.0084 - Accuracy: 0.9091\n",
      "Epoch 200/500 - Loss: 0.0070 - Accuracy: 0.9091\n",
      "Epoch 210/500 - Loss: 0.0058 - Accuracy: 0.9091\n",
      "Epoch 220/500 - Loss: 0.0047 - Accuracy: 0.9091\n",
      "Epoch 230/500 - Loss: 0.0039 - Accuracy: 0.9091\n",
      "Epoch 240/500 - Loss: 0.0032 - Accuracy: 0.9091\n",
      "Epoch 250/500 - Loss: 0.0027 - Accuracy: 0.9091\n",
      "Epoch 260/500 - Loss: 0.0022 - Accuracy: 0.9091\n",
      "Epoch 270/500 - Loss: 0.0019 - Accuracy: 0.9091\n",
      "Epoch 280/500 - Loss: 0.0016 - Accuracy: 0.9091\n",
      "Epoch 290/500 - Loss: 0.0014 - Accuracy: 0.9091\n",
      "Epoch 300/500 - Loss: 0.0012 - Accuracy: 0.9091\n",
      "Epoch 310/500 - Loss: 0.0011 - Accuracy: 0.9091\n",
      "Epoch 320/500 - Loss: 0.0010 - Accuracy: 0.9091\n",
      "Epoch 330/500 - Loss: 0.0009 - Accuracy: 0.9091\n",
      "Epoch 340/500 - Loss: 0.0008 - Accuracy: 0.9091\n",
      "Epoch 350/500 - Loss: 0.0007 - Accuracy: 0.9091\n",
      "Epoch 360/500 - Loss: 0.0007 - Accuracy: 0.9091\n",
      "Epoch 370/500 - Loss: 0.0006 - Accuracy: 0.9091\n",
      "Epoch 380/500 - Loss: 0.0006 - Accuracy: 0.9091\n",
      "Epoch 390/500 - Loss: 0.0005 - Accuracy: 0.9091\n",
      "Epoch 400/500 - Loss: 0.0005 - Accuracy: 0.9091\n",
      "Epoch 410/500 - Loss: 0.0005 - Accuracy: 0.9091\n",
      "Epoch 420/500 - Loss: 0.0004 - Accuracy: 0.9091\n",
      "Epoch 430/500 - Loss: 0.0004 - Accuracy: 0.9091\n",
      "Epoch 440/500 - Loss: 0.0004 - Accuracy: 0.9091\n",
      "Epoch 450/500 - Loss: 0.0004 - Accuracy: 0.9091\n",
      "Epoch 460/500 - Loss: 0.0004 - Accuracy: 0.9091\n",
      "Epoch 470/500 - Loss: 0.0004 - Accuracy: 0.9091\n",
      "Epoch 480/500 - Loss: 0.0003 - Accuracy: 0.9091\n",
      "Epoch 490/500 - Loss: 0.0003 - Accuracy: 0.9091\n",
      "Epoch 500/500 - Loss: 0.0003 - Accuracy: 0.9091\n"
     ]
    }
   ],
   "source": [
    "# Training and obtaining loss and accuracy score during training\n",
    "mlp, losses, accuracies = train_with_progress(mlp, X_train, y_train, X_dev, y_dev)\n",
    "\n"
   ]
  },
  {
   "cell_type": "markdown",
   "metadata": {},
   "source": [
    "This MLP has 5 layers:\n",
    " - 1 input layer with 4 neurons (iris dataset has 4 features)\n",
    " - 3 hidden layers, with 128, 64 and 32 neurons.\n",
    " - 1 output layer, with 3 neurons, because it´s classifying 3 classes\n"
   ]
  },
  {
   "cell_type": "code",
   "execution_count": 68,
   "metadata": {},
   "outputs": [
    {
     "data": {
      "image/png": "[encoded data removed]",
      "text/plain": [
       "<Figure size 1200x500 with 2 Axes>"
      ]
     },
     "metadata": {},
     "output_type": "display_data"
    }
   ],
   "source": [
    "# Plotting results\n",
    "plot_learning_curves(losses, accuracies)"
   ]
  },
  {
   "cell_type": "markdown",
   "metadata": {},
   "source": [
    "## Conclussions\n",
    "\n",
    "### Fast loss convergence\n",
    "\n",
    "1. Loss decay pretty fast, specially in the first 100 epochs-\n",
    "2. After 200 epoch, loss is almost cero.\n",
    "3. Then, the model is learning well tranining data, but also can be a sympton of overfitting.\n",
    "\n",
    "### Accuracy blocked on 0.9091\n",
    " - Since epoch 140, accuracy doesn´t improve in validation data.\n",
    " - The model has learnt all that it can from current data and architecture.\n",
    "\n",
    "\n",
    "### Next Steps\n",
    "- Reducing epoch numbers to 200.\n",
    "- In other implementations, dropout should be enabled.\n",
    "- Adjust learning rate with Adam. For example, changing it to 0.01\n",
    "- Adjust number of layers or size.\n",
    "- Train with more data for better generalization.\n",
    "- Adaptative learning rate: learning rate is automatically updated while the model starts converging."
   ]
  },
  {
   "cell_type": "code",
   "execution_count": 69,
   "metadata": {},
   "outputs": [],
   "source": [
    "mlp = MLPClassifier(hidden_layer_sizes=(128, 64, 32), \n",
    "                    activation='relu',\n",
    "                    alpha=0.01, \n",
    "                    solver='adam', \n",
    "                    max_iter=250,\n",
    "                    learning_rate='adaptive',\n",
    "                    random_state=42,\n",
    "                    learning_rate_init=0.001,\n",
    "                    warm_start=True)\n"
   ]
  },
  {
   "cell_type": "code",
   "execution_count": 70,
   "metadata": {},
   "outputs": [
    {
     "name": "stdout",
     "output_type": "stream",
     "text": [
      "Epoch 10/250 - Loss: 0.7645 - Accuracy: 0.7727\n",
      "Epoch 20/250 - Loss: 0.4998 - Accuracy: 0.8636\n",
      "Epoch 30/250 - Loss: 0.3276 - Accuracy: 0.8636\n",
      "Epoch 40/250 - Loss: 0.2306 - Accuracy: 0.8636\n",
      "Epoch 50/250 - Loss: 0.1651 - Accuracy: 0.8636\n",
      "Epoch 60/250 - Loss: 0.1159 - Accuracy: 0.8636\n",
      "Epoch 70/250 - Loss: 0.0837 - Accuracy: 0.8636\n",
      "Epoch 80/250 - Loss: 0.0638 - Accuracy: 0.8636\n",
      "Epoch 90/250 - Loss: 0.0516 - Accuracy: 0.8636\n",
      "Epoch 100/250 - Loss: 0.0431 - Accuracy: 0.8636\n",
      "Epoch 110/250 - Loss: 0.0369 - Accuracy: 0.8636\n",
      "Epoch 120/250 - Loss: 0.0322 - Accuracy: 0.8636\n",
      "Epoch 130/250 - Loss: 0.0284 - Accuracy: 0.8636\n",
      "Epoch 140/250 - Loss: 0.0252 - Accuracy: 0.9091\n",
      "Epoch 150/250 - Loss: 0.0225 - Accuracy: 0.9091\n",
      "Epoch 160/250 - Loss: 0.0201 - Accuracy: 0.9091\n",
      "Epoch 170/250 - Loss: 0.0181 - Accuracy: 0.9091\n",
      "Epoch 180/250 - Loss: 0.0164 - Accuracy: 0.9091\n",
      "Epoch 190/250 - Loss: 0.0149 - Accuracy: 0.9091\n",
      "Epoch 200/250 - Loss: 0.0137 - Accuracy: 0.9091\n",
      "Epoch 210/250 - Loss: 0.0127 - Accuracy: 0.9091\n",
      "Epoch 220/250 - Loss: 0.0119 - Accuracy: 0.9091\n",
      "Epoch 230/250 - Loss: 0.0112 - Accuracy: 0.9091\n",
      "Epoch 240/250 - Loss: 0.0107 - Accuracy: 0.9091\n",
      "Epoch 250/250 - Loss: 0.0102 - Accuracy: 0.9091\n"
     ]
    }
   ],
   "source": [
    "# Training and obtaining loss and accuracies scores.\n",
    "mlp, losses, accuracies = train_with_progress(mlp, X_train, y_train, X_dev, y_dev)\n",
    "\n"
   ]
  },
  {
   "cell_type": "code",
   "execution_count": 71,
   "metadata": {},
   "outputs": [
    {
     "data": {
      "image/png": "[encoded data removed]",
      "text/plain": [
       "<Figure size 1200x500 with 2 Axes>"
      ]
     },
     "metadata": {},
     "output_type": "display_data"
    }
   ],
   "source": [
    "# Plotting results\n",
    "plot_learning_curves(losses, accuracies)"
   ]
  },
  {
   "cell_type": "markdown",
   "metadata": {},
   "source": [
    "## Conclussions\n",
    "\n",
    "- Satisfactory training: model now improves constantly, not decaying too fast and reaching 90.91% precission.\n",
    "- Saturation point in epoch 140: this model can´t learn anymore with its architecture or the data.\n",
    "\n",
    "Therefore, it will be advisable to change the architecture or make a deeper research on the correct learning rates, size and number of layers, applying cross-validation, etc.\n",
    "\n",
    "Finally, we´ll pass this model to the train set and compare it with rf.\n"
   ]
  },
  {
   "cell_type": "code",
   "execution_count": 72,
   "metadata": {},
   "outputs": [
    {
     "name": "stdout",
     "output_type": "stream",
     "text": [
      "Accuracy on dev set: 0.9091\n",
      "Accuracy on test set (MLP): 0.9565\n",
      "Accuracy on test set (Random Forest): 0.9565\n"
     ]
    }
   ],
   "source": [
    "# Evaluate on validation\n",
    "dev_accuracy = mlp.score(X_dev, y_dev)\n",
    "print(f\"Accuracy on dev set: {dev_accuracy:.4f}\")\n",
    "\n",
    "# Evaluate on test\n",
    "test_accuracy = mlp.score(X_test, y_test)\n",
    "print(f\"Accuracy on test set (MLP): {test_accuracy:.4f}\")\n",
    "\n",
    "\n",
    "# Evaluate the saved Random Forest model on the test set\n",
    "test_accuracy_rf = rf_model.score(X_test, y_test)\n",
    "print(f\"Accuracy on test set (Random Forest): {test_accuracy_rf:.4f}\")\n"
   ]
  },
  {
   "cell_type": "markdown",
   "metadata": {},
   "source": [
    "# Final Conclussions\n",
    "\n",
    "## Performance \n",
    "The MLP is performing well on both the validation (dev) and test sets, with an accuracy of 90.91% on the dev set and 95.65% on the test set. \n",
    "\n",
    "This suggests that the model generalizes well to new, unseen data and is not overfitting. The higher test accuracy indicates it is likely making good predictions on the test data.\n",
    "\n",
    "Therefore, the MLP has an excellent performance, avoiding overfitting and generalizing well on test data.\n",
    "\n",
    "## Comparison\n",
    "\n",
    "Both Random Forest and MLP have the same accuracy score. Then, some other metrics should be taken into consideration, like f1-score, mean squared error, etc.\n",
    "\n",
    "However, since in the last notebook I saw that RandomForest had a tendency to overfitting, I believe **the best option for this dataset would be MLP**.\n",
    "\n",
    "## Why MLP?\n",
    "\n",
    "Although they have the same score, MLP has more features to adjust and work with than RandomForest. Moreover, MLP doesn´t seem to overfit the data and its only problem is its saturation point, that could be provoked by dataset´s nature.\n",
    "\n",
    "In conclussion, **MLP seeems to be the best option**, because there is no overfitting, performance on test data is excellent and there are more ways of keeping track of its training and ajusting its parameters.\n",
    "\n",
    "Finally, I´ll persist the model and store it in the `models` folder.\n"
   ]
  },
  {
   "cell_type": "code",
   "execution_count": 73,
   "metadata": {},
   "outputs": [
    {
     "name": "stdout",
     "output_type": "stream",
     "text": [
      "Model saved successfully. Test accuracy: 0.9565\n"
     ]
    }
   ],
   "source": [
    "from pathlib import Path\n",
    "\n",
    "# Create models directory if it doesn't exist\n",
    "Path('models').mkdir(exist_ok=True)\n",
    "\n",
    "# Save optimized Random Forest model\n",
    "joblib.dump(mlp, 'models/mlp.joblib')\n",
    "\n",
    "# Quick load test to verify\n",
    "loaded_model = joblib.load('models/mlp.joblib')\n",
    "print(f\"Model saved successfully. Test accuracy: {loaded_model.score(X_test, y_test):.4f}\")"
   ]
  }
 ],
 "metadata": {
  "kernelspec": {
   "display_name": "aprendizaje_env",
   "language": "python",
   "name": "python3"
  },
  "language_info": {
   "codemirror_mode": {
    "name": "ipython",
    "version": 3
   },
   "file_extension": ".py",
   "mimetype": "text/x-python",
   "name": "python",
   "nbconvert_exporter": "python",
   "pygments_lexer": "ipython3",
   "version": "3.10.16"
  }
 },
 "nbformat": 4,
 "nbformat_minor": 2
}
