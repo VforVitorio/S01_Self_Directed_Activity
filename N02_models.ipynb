{
 "cells": [
  {
   "cell_type": "markdown",
   "metadata": {},
   "source": [
    "# Classification models.\n",
    "\n",
    "In this notebook, 3 classification models will be built for predicting the kind of iris flower from their atributes. This models will be used from the Scikit-Learn library, and some techiques like cross validation will be implemented in case of overfitting.\n",
    "\n",
    "Finally, a brief comparison will be made between these models, in order to select the better option and compare it in the final notebook with a Multi Layer Perceptron Model.\n",
    " "
   ]
  },
  {
   "cell_type": "code",
   "execution_count": 7,
   "metadata": {},
   "outputs": [],
   "source": [
    "__author__ = \"Víctor Vega Sobral\""
   ]
  },
  {
   "cell_type": "code",
   "execution_count": 8,
   "metadata": {},
   "outputs": [],
   "source": [
    "import pandas as pd\n",
    "from sklearn.model_selection import train_test_split,cross_val_score\n",
    "from sklearn.linear_model import LinearRegression\n",
    "from sklearn.metrics import mean_squared_error, mean_absolute_error, r2_score\n",
    "from sklearn.model_selection import RandomizedSearchCV\n",
    "from scipy.stats import uniform\n",
    "from sklearn.svm import SVR\n",
    "import matplotlib.pyplot as plt\n",
    "import numpy as np\n",
    "import joblib"
   ]
  },
  {
   "cell_type": "markdown",
   "metadata": {},
   "source": [
    "### Import Iris Normalized Data"
   ]
  },
  {
   "cell_type": "code",
   "execution_count": 9,
   "metadata": {},
   "outputs": [
    {
     "data": {
      "text/html": [
       "<div>\n",
       "<style scoped>\n",
       "    .dataframe tbody tr th:only-of-type {\n",
       "        vertical-align: middle;\n",
       "    }\n",
       "\n",
       "    .dataframe tbody tr th {\n",
       "        vertical-align: top;\n",
       "    }\n",
       "\n",
       "    .dataframe thead th {\n",
       "        text-align: right;\n",
       "    }\n",
       "</style>\n",
       "<table border=\"1\" class=\"dataframe\">\n",
       "  <thead>\n",
       "    <tr style=\"text-align: right;\">\n",
       "      <th></th>\n",
       "      <th>sepal_length</th>\n",
       "      <th>sepal_width</th>\n",
       "      <th>petal_length</th>\n",
       "      <th>petal_width</th>\n",
       "      <th>class</th>\n",
       "    </tr>\n",
       "  </thead>\n",
       "  <tbody>\n",
       "    <tr>\n",
       "      <th>0</th>\n",
       "      <td>-0.900681</td>\n",
       "      <td>1.032057</td>\n",
       "      <td>-1.341272</td>\n",
       "      <td>-1.312977</td>\n",
       "      <td>0</td>\n",
       "    </tr>\n",
       "    <tr>\n",
       "      <th>1</th>\n",
       "      <td>-1.143017</td>\n",
       "      <td>-0.124958</td>\n",
       "      <td>-1.341272</td>\n",
       "      <td>-1.312977</td>\n",
       "      <td>0</td>\n",
       "    </tr>\n",
       "    <tr>\n",
       "      <th>2</th>\n",
       "      <td>-1.385353</td>\n",
       "      <td>0.337848</td>\n",
       "      <td>-1.398138</td>\n",
       "      <td>-1.312977</td>\n",
       "      <td>0</td>\n",
       "    </tr>\n",
       "    <tr>\n",
       "      <th>3</th>\n",
       "      <td>-1.506521</td>\n",
       "      <td>0.106445</td>\n",
       "      <td>-1.284407</td>\n",
       "      <td>-1.312977</td>\n",
       "      <td>0</td>\n",
       "    </tr>\n",
       "    <tr>\n",
       "      <th>4</th>\n",
       "      <td>-1.021849</td>\n",
       "      <td>1.263460</td>\n",
       "      <td>-1.341272</td>\n",
       "      <td>-1.312977</td>\n",
       "      <td>0</td>\n",
       "    </tr>\n",
       "  </tbody>\n",
       "</table>\n",
       "</div>"
      ],
      "text/plain": [
       "   sepal_length  sepal_width  petal_length  petal_width  class\n",
       "0     -0.900681     1.032057     -1.341272    -1.312977      0\n",
       "1     -1.143017    -0.124958     -1.341272    -1.312977      0\n",
       "2     -1.385353     0.337848     -1.398138    -1.312977      0\n",
       "3     -1.506521     0.106445     -1.284407    -1.312977      0\n",
       "4     -1.021849     1.263460     -1.341272    -1.312977      0"
      ]
     },
     "execution_count": 9,
     "metadata": {},
     "output_type": "execute_result"
    }
   ],
   "source": [
    "iris_df = pd.read_csv(\"datasets/iris_normalized_data.csv\")\n",
    "\n",
    "# Eliminating the first column, with no significant data\n",
    "iris_df.drop(iris_df.columns[0], axis=1, inplace=True)\n",
    "iris_df.head()\n"
   ]
  },
  {
   "cell_type": "markdown",
   "metadata": {},
   "source": [
    "### Data Split\n",
    "\n",
    "- Train set: 70% of the dataset.\n",
    "- Dev set: 15% of the dataset.\n",
    "- Test set: 15% of the dataset.\n",
    "\n",
    "For this, we need to first split the data into 85/15, for training+dev/test.\n",
    "\n",
    "Then, we split the remaining 85 into 70/15, for having 70% for the train set and 15 for the dev set.\n",
    "\n",
    "We didn´t use a dev set in the previous subjects. However, in **the Deep Learning Specialization by Coursera that I´m doing, Andrew Ng explains the importance of having a dev set**.\n",
    "\n",
    "Dev set is separated from training and test set, and it´s commonly used to:\n",
    "- Adjust hyperparameters. \n",
    "- Evaluate the model´s performance before the final test. \n",
    "- Useful for avoiding possible overfitting and selecting the best model.\n",
    "- Taking possible decissions about model´s generalization just before the final test.\n",
    "- Avoiding bias in the evaluation due to the continous usage of test set for validating.\n",
    "\n",
    "Therefore, the workflow will be the next one:\n",
    "\n",
    "1. Training and evaluating the models in ``dev`` set. The model with best precission will be the suitable for test set.\n",
    "    - Train with ``training`` set.\n",
    "    - Evaluate in ``dev`` set.\n",
    "    - Create a `csv file` for every set, in order to make possible loading them in other notebooks. \n",
    "\n",
    "\n",
    "2. Hyperparameter tuning in `dev` set.\n",
    "    - If dev set results aren´t good.\n",
    "    - Avoiding overfitting with **cross-validation techniques** like `GridSearchCV` and `RandomizedSearchCV`.\n",
    "    - Finally, we re-evaluate the tuned model in dev before passing it to test.\n",
    "\n",
    "3. **In the next Notebook**:\n",
    "    - Implement MLP and evaluating it in dev set.\n",
    "    - Compare its performance with the best traditional model.\n",
    "    - If MLP is better than the other model, we finally pass this one to the test set.\n",
    "\n",
    "\n",
    "\n",
    "\n",
    "\n",
    "\n"
   ]
  },
  {
   "cell_type": "code",
   "execution_count": 12,
   "metadata": {},
   "outputs": [],
   "source": [
    "X = iris_df.drop('class', axis = 1) # Caracteristicas\n",
    "y = iris_df['class']\n",
    "\n",
    "# Divide the train set for being 70% of total data\n",
    "X_train, X_temp, y_train, y_temp = train_test_split(X, y, test_size=0.3, random_state=42)  \n",
    "\n",
    "# Divide the remaining 30% between dev and test set \n",
    "X_dev, X_test, y_dev, y_test = train_test_split(X_temp, y_temp, test_size=0.5, random_state=42)\n",
    "\n",
    "# Storing the sets in separate csvs\n",
    "\n",
    "X_train.to_csv(\"datasets/iris_data_splits/x_train.csv\", index=False)\n",
    "y_train.to_csv(\"datasets/iris_data_splits/y_train.csv\", index=False)\n",
    "X_dev.to_csv(\"datasets/iris_data_splits/x_dev.csv\", index=False)\n",
    "y_dev.to_csv(\"datasets/iris_data_splits/y_dev.csv\", index=False)\n",
    "X_test.to_csv(\"datasets/iris_data_splits/x_test.csv\", index=False)\n",
    "y_test.to_csv(\"datasets/iris_data_splits/y_test.csv\", index=False)\n",
    "\n",
    "\n",
    "# Final split proportions:\n",
    "# Train: 70% \n",
    "# Dev: 15% \n",
    "# Test: 15%\n"
   ]
  }
 ],
 "metadata": {
  "kernelspec": {
   "display_name": "aprendizaje_env",
   "language": "python",
   "name": "python3"
  },
  "language_info": {
   "codemirror_mode": {
    "name": "ipython",
    "version": 3
   },
   "file_extension": ".py",
   "mimetype": "text/x-python",
   "name": "python",
   "nbconvert_exporter": "python",
   "pygments_lexer": "ipython3",
   "version": "3.10.16"
  }
 },
 "nbformat": 4,
 "nbformat_minor": 2
}
