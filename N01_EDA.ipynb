{
 "cells": [
  {
   "cell_type": "markdown",
   "metadata": {},
   "source": [
    "# S01 Self Directed Activity\n",
    "\n",
    "This activity will be composed of the following notebooks:\n",
    "\n",
    "1. `N01_EDA`: notebook with a small EDA of the 2 datasets.\n",
    "\n",
    "2. `N02_models`: notebook with 3 classification models for the iris dataset: SVM, Logistic Regression and Random Forest. Finally, a comparison will be made with some evaluation metrics.\n",
    "\n",
    "3. `N03_MLP_Comparison`: last notebook, with the Scikit-Learn implementation of Multi Layer Perceptron (MLP) and a comparison with the other 3 models.\n",
    "\n",
    "This Self Directed Activity has the objective of refreshing the concepts and contents of the previous subjects, serving as a summary of the contents learnt. \n",
    "\n",
    "\n",
    "## Github Repository \n",
    "\n",
    "Here´s a link to the GitHub repository of this activity. For all the course, a separate repository will be made and set to private mode. In case the assesment needs to be displayed in public, a different repository will be made for that activity: \n",
    "\n",
    "- [S01_Self_Directed_Activity](https://github.com/VforVitorio/S01_Self_Directed_Activity.git)"
   ]
  },
  {
   "cell_type": "code",
   "execution_count": null,
   "metadata": {},
   "outputs": [],
   "source": [
    "__author__ = \"Víctor Vega Sobral\""
   ]
  }
 ],
 "metadata": {
  "kernelspec": {
   "display_name": "aprendizaje_env",
   "language": "python",
   "name": "python3"
  },
  "language_info": {
   "name": "python",
   "version": "3.10.16"
  }
 },
 "nbformat": 4,
 "nbformat_minor": 2
}
