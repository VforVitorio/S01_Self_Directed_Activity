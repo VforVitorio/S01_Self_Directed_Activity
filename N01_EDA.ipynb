{
 "cells": [
  {
   "cell_type": "markdown",
   "metadata": {},
   "source": [
    "# S01 Self Directed Activity\n",
    "\n",
    "This activity will be composed of the following notebooks:\n",
    "\n",
    "1. `N01_EDA`: notebook with a small EDA of the 2 datasets.\n",
    "\n",
    "2. `N02_models`: notebook with 3 classification models for the iris dataset: SVM, Logistic Regression and Random Forest. Finally, a comparison will be made with some evaluation metrics.\n",
    "\n",
    "3. `N03_MLP_Comparison`: last notebook, with the Scikit-Learn implementation of Multi Layer Perceptron (MLP) and a comparison with the other 3 models.\n",
    "\n",
    "This Self Directed Activity has the objective of refreshing the concepts and contents of the previous subjects, serving as a summary of the contents learnt. \n",
    "\n",
    "\n",
    "## Github Repository \n",
    "\n",
    "Here´s a link to the GitHub repository of this activity. For all the course, a separate repository will be made and set to private mode. In case the assesment needs to be displayed in public, a different repository will be made for that activity: \n",
    "\n",
    "- [S01_Self_Directed_Activity](https://github.com/VforVitorio/S01_Self_Directed_Activity.git)"
   ]
  },
  {
   "cell_type": "code",
   "execution_count": 51,
   "metadata": {},
   "outputs": [],
   "source": [
    "__author__ = \"Víctor Vega Sobral\""
   ]
  },
  {
   "cell_type": "markdown",
   "metadata": {},
   "source": [
    "#### Loading necessary libraries "
   ]
  },
  {
   "cell_type": "code",
   "execution_count": 52,
   "metadata": {},
   "outputs": [],
   "source": [
    "import pandas as pd\n",
    "import numpy as np \n",
    "import plotly.express as px\n",
    "from sklearn.preprocessing import LabelEncoder"
   ]
  },
  {
   "cell_type": "markdown",
   "metadata": {},
   "source": [
    "### Loading the datasets \n",
    "\n",
    "First of all, we need to load both of the datasets we will be working on. We can make this loading them locally or putting a seed. In this case, I´ll load them locally. The datasets are\n",
    "\n",
    "- Breast Cancer Wisconsin Diagnostics.\n",
    "- Iris Dataset."
   ]
  },
  {
   "cell_type": "code",
   "execution_count": 53,
   "metadata": {},
   "outputs": [
    {
     "name": "stdout",
     "output_type": "stream",
     "text": [
      "Cancer dataset shape: (569, 32)\n",
      "Iris dataset shape: (150, 5)\n"
     ]
    }
   ],
   "source": [
    "# Load Breast Cancer dataset\n",
    "cancer_df = pd.read_csv('datasets/breast+cancer+wisconsin+diagnostic/wdbc.data', header=None)\n",
    "\n",
    "# Load Iris dataset\n",
    "iris_df = pd.read_csv('datasets/iris/iris.data', header=None)\n",
    "\n",
    "# Verify correct loading\n",
    "print(\"Cancer dataset shape:\", cancer_df.shape)\n",
    "print(\"Iris dataset shape:\", iris_df.shape)"
   ]
  },
  {
   "cell_type": "code",
   "execution_count": 54,
   "metadata": {},
   "outputs": [
    {
     "name": "stdout",
     "output_type": "stream",
     "text": [
      "First registers of cancer dataframe \n",
      "          0  1      2      3       4       5        6        7       8   \\\n",
      "0    842302  M  17.99  10.38  122.80  1001.0  0.11840  0.27760  0.3001   \n",
      "1    842517  M  20.57  17.77  132.90  1326.0  0.08474  0.07864  0.0869   \n",
      "2  84300903  M  19.69  21.25  130.00  1203.0  0.10960  0.15990  0.1974   \n",
      "3  84348301  M  11.42  20.38   77.58   386.1  0.14250  0.28390  0.2414   \n",
      "4  84358402  M  20.29  14.34  135.10  1297.0  0.10030  0.13280  0.1980   \n",
      "\n",
      "        9   ...     22     23      24      25      26      27      28      29  \\\n",
      "0  0.14710  ...  25.38  17.33  184.60  2019.0  0.1622  0.6656  0.7119  0.2654   \n",
      "1  0.07017  ...  24.99  23.41  158.80  1956.0  0.1238  0.1866  0.2416  0.1860   \n",
      "2  0.12790  ...  23.57  25.53  152.50  1709.0  0.1444  0.4245  0.4504  0.2430   \n",
      "3  0.10520  ...  14.91  26.50   98.87   567.7  0.2098  0.8663  0.6869  0.2575   \n",
      "4  0.10430  ...  22.54  16.67  152.20  1575.0  0.1374  0.2050  0.4000  0.1625   \n",
      "\n",
      "       30       31  \n",
      "0  0.4601  0.11890  \n",
      "1  0.2750  0.08902  \n",
      "2  0.3613  0.08758  \n",
      "3  0.6638  0.17300  \n",
      "4  0.2364  0.07678  \n",
      "\n",
      "[5 rows x 32 columns]\n"
     ]
    }
   ],
   "source": [
    "print(f\"First registers of cancer dataframe \\n {cancer_df.head()}\")"
   ]
  },
  {
   "cell_type": "code",
   "execution_count": 55,
   "metadata": {},
   "outputs": [
    {
     "name": "stdout",
     "output_type": "stream",
     "text": [
      "First registers of iris dataframe \n",
      "      0    1    2    3            4\n",
      "0  5.1  3.5  1.4  0.2  Iris-setosa\n",
      "1  4.9  3.0  1.4  0.2  Iris-setosa\n",
      "2  4.7  3.2  1.3  0.2  Iris-setosa\n",
      "3  4.6  3.1  1.5  0.2  Iris-setosa\n",
      "4  5.0  3.6  1.4  0.2  Iris-setosa\n"
     ]
    }
   ],
   "source": [
    "print(f\"First registers of iris dataframe \\n {iris_df.head()}\")"
   ]
  },
  {
   "cell_type": "markdown",
   "metadata": {},
   "source": [
    "#### Data types "
   ]
  },
  {
   "cell_type": "code",
   "execution_count": 56,
   "metadata": {},
   "outputs": [
    {
     "name": "stdout",
     "output_type": "stream",
     "text": [
      "\n",
      "Cancer Dataset Types Summary:\n"
     ]
    },
    {
     "data": {
      "text/html": [
       "<div>\n",
       "<style scoped>\n",
       "    .dataframe tbody tr th:only-of-type {\n",
       "        vertical-align: middle;\n",
       "    }\n",
       "\n",
       "    .dataframe tbody tr th {\n",
       "        vertical-align: top;\n",
       "    }\n",
       "\n",
       "    .dataframe thead th {\n",
       "        text-align: right;\n",
       "    }\n",
       "</style>\n",
       "<table border=\"1\" class=\"dataframe\">\n",
       "  <thead>\n",
       "    <tr style=\"text-align: right;\">\n",
       "      <th></th>\n",
       "      <th>count</th>\n",
       "    </tr>\n",
       "  </thead>\n",
       "  <tbody>\n",
       "    <tr>\n",
       "      <th>float64</th>\n",
       "      <td>30</td>\n",
       "    </tr>\n",
       "    <tr>\n",
       "      <th>int64</th>\n",
       "      <td>1</td>\n",
       "    </tr>\n",
       "    <tr>\n",
       "      <th>object</th>\n",
       "      <td>1</td>\n",
       "    </tr>\n",
       "  </tbody>\n",
       "</table>\n",
       "</div>"
      ],
      "text/plain": [
       "         count\n",
       "float64     30\n",
       "int64        1\n",
       "object       1"
      ]
     },
     "metadata": {},
     "output_type": "display_data"
    },
    {
     "name": "stdout",
     "output_type": "stream",
     "text": [
      "\n",
      "Iris Dataset Types Summary:\n"
     ]
    },
    {
     "data": {
      "text/html": [
       "<div>\n",
       "<style scoped>\n",
       "    .dataframe tbody tr th:only-of-type {\n",
       "        vertical-align: middle;\n",
       "    }\n",
       "\n",
       "    .dataframe tbody tr th {\n",
       "        vertical-align: top;\n",
       "    }\n",
       "\n",
       "    .dataframe thead th {\n",
       "        text-align: right;\n",
       "    }\n",
       "</style>\n",
       "<table border=\"1\" class=\"dataframe\">\n",
       "  <thead>\n",
       "    <tr style=\"text-align: right;\">\n",
       "      <th></th>\n",
       "      <th>count</th>\n",
       "    </tr>\n",
       "  </thead>\n",
       "  <tbody>\n",
       "    <tr>\n",
       "      <th>float64</th>\n",
       "      <td>4</td>\n",
       "    </tr>\n",
       "    <tr>\n",
       "      <th>object</th>\n",
       "      <td>1</td>\n",
       "    </tr>\n",
       "  </tbody>\n",
       "</table>\n",
       "</div>"
      ],
      "text/plain": [
       "         count\n",
       "float64      4\n",
       "object       1"
      ]
     },
     "metadata": {},
     "output_type": "display_data"
    }
   ],
   "source": [
    "datasets = {\n",
    "    'Cancer': cancer_df,\n",
    "    'Iris': iris_df\n",
    "}\n",
    "\n",
    "for name, df in datasets.items():\n",
    "    print(f\"\\n{name} Dataset Types Summary:\")\n",
    "    display(df.dtypes.value_counts().to_frame(name='count'))"
   ]
  },
  {
   "cell_type": "markdown",
   "metadata": {},
   "source": [
    "### Identification of numeric and categoric variables\n",
    "\n",
    "1. Changing the column names of the dataset with more representative column names. These names can be found in the .names archives of both datasets.\n",
    "\n",
    "2. Brief summary of numeric columns."
   ]
  },
  {
   "cell_type": "code",
   "execution_count": 57,
   "metadata": {},
   "outputs": [
    {
     "name": "stdout",
     "output_type": "stream",
     "text": [
      "Iris columns:\n",
      " ['sepal_length', 'sepal_width', 'petal_length', 'petal_width', 'class']\n",
      "\n",
      "Cancer columns:\n",
      " ['id', 'diagnosis', 'radius_mean', 'texture_mean', 'perimeter_mean', 'area_mean', 'smoothness_mean', 'compactness_mean', 'concavity_mean', 'concave_points_mean', 'symmetry_mean', 'fractal_dimension_mean', 'radius_se', 'texture_se', 'perimeter_se', 'area_se', 'smoothness_se', 'compactness_se', 'concavity_se', 'concave_points_se', 'symmetry_se', 'fractal_dimension_se', 'radius_worst', 'texture_worst', 'perimeter_worst', 'area_worst', 'smoothness_worst', 'compactness_worst', 'concavity_worst', 'concave_points_worst', 'symmetry_worst', 'fractal_dimension_worst']\n"
     ]
    }
   ],
   "source": [
    "# Names for iris dataset\n",
    "iris_columns = [\n",
    "    'sepal_length',\n",
    "    'sepal_width', \n",
    "    'petal_length',\n",
    "    'petal_width',\n",
    "    'class'\n",
    "]\n",
    "\n",
    "# Names for breast cancer dataset\n",
    "cancer_columns = [\n",
    "    'id',\n",
    "    'diagnosis',\n",
    "    'radius_mean', \n",
    "    'texture_mean',\n",
    "    'perimeter_mean',\n",
    "    'area_mean',\n",
    "    'smoothness_mean',\n",
    "    'compactness_mean',\n",
    "    'concavity_mean',\n",
    "    'concave_points_mean',\n",
    "    'symmetry_mean',\n",
    "    'fractal_dimension_mean',\n",
    "    'radius_se',\n",
    "    'texture_se', \n",
    "    'perimeter_se',\n",
    "    'area_se',\n",
    "    'smoothness_se',\n",
    "    'compactness_se',\n",
    "    'concavity_se',\n",
    "    'concave_points_se',\n",
    "    'symmetry_se',\n",
    "    'fractal_dimension_se',\n",
    "    'radius_worst',\n",
    "    'texture_worst',\n",
    "    'perimeter_worst',\n",
    "    'area_worst',\n",
    "    'smoothness_worst', \n",
    "    'compactness_worst',\n",
    "    'concavity_worst',\n",
    "    'concave_points_worst',\n",
    "    'symmetry_worst',\n",
    "    'fractal_dimension_worst'\n",
    "]\n",
    "\n",
    "# Renaming columns \n",
    "iris_df.columns = iris_columns\n",
    "cancer_df.columns = cancer_columns\n",
    "\n",
    "# Verifying new names\n",
    "print(\"Iris columns:\\n\", iris_df.columns.tolist())\n",
    "print(\"\\nCancer columns:\\n\", cancer_df.columns.tolist())"
   ]
  },
  {
   "cell_type": "code",
   "execution_count": 58,
   "metadata": {},
   "outputs": [
    {
     "name": "stdout",
     "output_type": "stream",
     "text": [
      "\n",
      "-------------------- Cancer Dataset --------------------\n",
      "\n",
      "Brief summary of numeric columns:\n"
     ]
    },
    {
     "data": {
      "text/html": [
       "<div>\n",
       "<style scoped>\n",
       "    .dataframe tbody tr th:only-of-type {\n",
       "        vertical-align: middle;\n",
       "    }\n",
       "\n",
       "    .dataframe tbody tr th {\n",
       "        vertical-align: top;\n",
       "    }\n",
       "\n",
       "    .dataframe thead th {\n",
       "        text-align: right;\n",
       "    }\n",
       "</style>\n",
       "<table border=\"1\" class=\"dataframe\">\n",
       "  <thead>\n",
       "    <tr style=\"text-align: right;\">\n",
       "      <th></th>\n",
       "      <th>id</th>\n",
       "      <th>radius_mean</th>\n",
       "      <th>texture_mean</th>\n",
       "      <th>perimeter_mean</th>\n",
       "      <th>area_mean</th>\n",
       "      <th>smoothness_mean</th>\n",
       "      <th>compactness_mean</th>\n",
       "      <th>concavity_mean</th>\n",
       "      <th>concave_points_mean</th>\n",
       "      <th>symmetry_mean</th>\n",
       "      <th>...</th>\n",
       "      <th>radius_worst</th>\n",
       "      <th>texture_worst</th>\n",
       "      <th>perimeter_worst</th>\n",
       "      <th>area_worst</th>\n",
       "      <th>smoothness_worst</th>\n",
       "      <th>compactness_worst</th>\n",
       "      <th>concavity_worst</th>\n",
       "      <th>concave_points_worst</th>\n",
       "      <th>symmetry_worst</th>\n",
       "      <th>fractal_dimension_worst</th>\n",
       "    </tr>\n",
       "  </thead>\n",
       "  <tbody>\n",
       "    <tr>\n",
       "      <th>count</th>\n",
       "      <td>5.690000e+02</td>\n",
       "      <td>569.000000</td>\n",
       "      <td>569.000000</td>\n",
       "      <td>569.000000</td>\n",
       "      <td>569.000000</td>\n",
       "      <td>569.000000</td>\n",
       "      <td>569.000000</td>\n",
       "      <td>569.000000</td>\n",
       "      <td>569.000000</td>\n",
       "      <td>569.000000</td>\n",
       "      <td>...</td>\n",
       "      <td>569.000000</td>\n",
       "      <td>569.000000</td>\n",
       "      <td>569.000000</td>\n",
       "      <td>569.000000</td>\n",
       "      <td>569.000000</td>\n",
       "      <td>569.000000</td>\n",
       "      <td>569.000000</td>\n",
       "      <td>569.000000</td>\n",
       "      <td>569.000000</td>\n",
       "      <td>569.000000</td>\n",
       "    </tr>\n",
       "    <tr>\n",
       "      <th>mean</th>\n",
       "      <td>3.037183e+07</td>\n",
       "      <td>14.127292</td>\n",
       "      <td>19.289649</td>\n",
       "      <td>91.969033</td>\n",
       "      <td>654.889104</td>\n",
       "      <td>0.096360</td>\n",
       "      <td>0.104341</td>\n",
       "      <td>0.088799</td>\n",
       "      <td>0.048919</td>\n",
       "      <td>0.181162</td>\n",
       "      <td>...</td>\n",
       "      <td>16.269190</td>\n",
       "      <td>25.677223</td>\n",
       "      <td>107.261213</td>\n",
       "      <td>880.583128</td>\n",
       "      <td>0.132369</td>\n",
       "      <td>0.254265</td>\n",
       "      <td>0.272188</td>\n",
       "      <td>0.114606</td>\n",
       "      <td>0.290076</td>\n",
       "      <td>0.083946</td>\n",
       "    </tr>\n",
       "    <tr>\n",
       "      <th>std</th>\n",
       "      <td>1.250206e+08</td>\n",
       "      <td>3.524049</td>\n",
       "      <td>4.301036</td>\n",
       "      <td>24.298981</td>\n",
       "      <td>351.914129</td>\n",
       "      <td>0.014064</td>\n",
       "      <td>0.052813</td>\n",
       "      <td>0.079720</td>\n",
       "      <td>0.038803</td>\n",
       "      <td>0.027414</td>\n",
       "      <td>...</td>\n",
       "      <td>4.833242</td>\n",
       "      <td>6.146258</td>\n",
       "      <td>33.602542</td>\n",
       "      <td>569.356993</td>\n",
       "      <td>0.022832</td>\n",
       "      <td>0.157336</td>\n",
       "      <td>0.208624</td>\n",
       "      <td>0.065732</td>\n",
       "      <td>0.061867</td>\n",
       "      <td>0.018061</td>\n",
       "    </tr>\n",
       "    <tr>\n",
       "      <th>min</th>\n",
       "      <td>8.670000e+03</td>\n",
       "      <td>6.981000</td>\n",
       "      <td>9.710000</td>\n",
       "      <td>43.790000</td>\n",
       "      <td>143.500000</td>\n",
       "      <td>0.052630</td>\n",
       "      <td>0.019380</td>\n",
       "      <td>0.000000</td>\n",
       "      <td>0.000000</td>\n",
       "      <td>0.106000</td>\n",
       "      <td>...</td>\n",
       "      <td>7.930000</td>\n",
       "      <td>12.020000</td>\n",
       "      <td>50.410000</td>\n",
       "      <td>185.200000</td>\n",
       "      <td>0.071170</td>\n",
       "      <td>0.027290</td>\n",
       "      <td>0.000000</td>\n",
       "      <td>0.000000</td>\n",
       "      <td>0.156500</td>\n",
       "      <td>0.055040</td>\n",
       "    </tr>\n",
       "    <tr>\n",
       "      <th>25%</th>\n",
       "      <td>8.692180e+05</td>\n",
       "      <td>11.700000</td>\n",
       "      <td>16.170000</td>\n",
       "      <td>75.170000</td>\n",
       "      <td>420.300000</td>\n",
       "      <td>0.086370</td>\n",
       "      <td>0.064920</td>\n",
       "      <td>0.029560</td>\n",
       "      <td>0.020310</td>\n",
       "      <td>0.161900</td>\n",
       "      <td>...</td>\n",
       "      <td>13.010000</td>\n",
       "      <td>21.080000</td>\n",
       "      <td>84.110000</td>\n",
       "      <td>515.300000</td>\n",
       "      <td>0.116600</td>\n",
       "      <td>0.147200</td>\n",
       "      <td>0.114500</td>\n",
       "      <td>0.064930</td>\n",
       "      <td>0.250400</td>\n",
       "      <td>0.071460</td>\n",
       "    </tr>\n",
       "    <tr>\n",
       "      <th>50%</th>\n",
       "      <td>9.060240e+05</td>\n",
       "      <td>13.370000</td>\n",
       "      <td>18.840000</td>\n",
       "      <td>86.240000</td>\n",
       "      <td>551.100000</td>\n",
       "      <td>0.095870</td>\n",
       "      <td>0.092630</td>\n",
       "      <td>0.061540</td>\n",
       "      <td>0.033500</td>\n",
       "      <td>0.179200</td>\n",
       "      <td>...</td>\n",
       "      <td>14.970000</td>\n",
       "      <td>25.410000</td>\n",
       "      <td>97.660000</td>\n",
       "      <td>686.500000</td>\n",
       "      <td>0.131300</td>\n",
       "      <td>0.211900</td>\n",
       "      <td>0.226700</td>\n",
       "      <td>0.099930</td>\n",
       "      <td>0.282200</td>\n",
       "      <td>0.080040</td>\n",
       "    </tr>\n",
       "    <tr>\n",
       "      <th>75%</th>\n",
       "      <td>8.813129e+06</td>\n",
       "      <td>15.780000</td>\n",
       "      <td>21.800000</td>\n",
       "      <td>104.100000</td>\n",
       "      <td>782.700000</td>\n",
       "      <td>0.105300</td>\n",
       "      <td>0.130400</td>\n",
       "      <td>0.130700</td>\n",
       "      <td>0.074000</td>\n",
       "      <td>0.195700</td>\n",
       "      <td>...</td>\n",
       "      <td>18.790000</td>\n",
       "      <td>29.720000</td>\n",
       "      <td>125.400000</td>\n",
       "      <td>1084.000000</td>\n",
       "      <td>0.146000</td>\n",
       "      <td>0.339100</td>\n",
       "      <td>0.382900</td>\n",
       "      <td>0.161400</td>\n",
       "      <td>0.317900</td>\n",
       "      <td>0.092080</td>\n",
       "    </tr>\n",
       "    <tr>\n",
       "      <th>max</th>\n",
       "      <td>9.113205e+08</td>\n",
       "      <td>28.110000</td>\n",
       "      <td>39.280000</td>\n",
       "      <td>188.500000</td>\n",
       "      <td>2501.000000</td>\n",
       "      <td>0.163400</td>\n",
       "      <td>0.345400</td>\n",
       "      <td>0.426800</td>\n",
       "      <td>0.201200</td>\n",
       "      <td>0.304000</td>\n",
       "      <td>...</td>\n",
       "      <td>36.040000</td>\n",
       "      <td>49.540000</td>\n",
       "      <td>251.200000</td>\n",
       "      <td>4254.000000</td>\n",
       "      <td>0.222600</td>\n",
       "      <td>1.058000</td>\n",
       "      <td>1.252000</td>\n",
       "      <td>0.291000</td>\n",
       "      <td>0.663800</td>\n",
       "      <td>0.207500</td>\n",
       "    </tr>\n",
       "  </tbody>\n",
       "</table>\n",
       "<p>8 rows × 31 columns</p>\n",
       "</div>"
      ],
      "text/plain": [
       "                 id  radius_mean  texture_mean  perimeter_mean    area_mean  \\\n",
       "count  5.690000e+02   569.000000    569.000000      569.000000   569.000000   \n",
       "mean   3.037183e+07    14.127292     19.289649       91.969033   654.889104   \n",
       "std    1.250206e+08     3.524049      4.301036       24.298981   351.914129   \n",
       "min    8.670000e+03     6.981000      9.710000       43.790000   143.500000   \n",
       "25%    8.692180e+05    11.700000     16.170000       75.170000   420.300000   \n",
       "50%    9.060240e+05    13.370000     18.840000       86.240000   551.100000   \n",
       "75%    8.813129e+06    15.780000     21.800000      104.100000   782.700000   \n",
       "max    9.113205e+08    28.110000     39.280000      188.500000  2501.000000   \n",
       "\n",
       "       smoothness_mean  compactness_mean  concavity_mean  concave_points_mean  \\\n",
       "count       569.000000        569.000000      569.000000           569.000000   \n",
       "mean          0.096360          0.104341        0.088799             0.048919   \n",
       "std           0.014064          0.052813        0.079720             0.038803   \n",
       "min           0.052630          0.019380        0.000000             0.000000   \n",
       "25%           0.086370          0.064920        0.029560             0.020310   \n",
       "50%           0.095870          0.092630        0.061540             0.033500   \n",
       "75%           0.105300          0.130400        0.130700             0.074000   \n",
       "max           0.163400          0.345400        0.426800             0.201200   \n",
       "\n",
       "       symmetry_mean  ...  radius_worst  texture_worst  perimeter_worst  \\\n",
       "count     569.000000  ...    569.000000     569.000000       569.000000   \n",
       "mean        0.181162  ...     16.269190      25.677223       107.261213   \n",
       "std         0.027414  ...      4.833242       6.146258        33.602542   \n",
       "min         0.106000  ...      7.930000      12.020000        50.410000   \n",
       "25%         0.161900  ...     13.010000      21.080000        84.110000   \n",
       "50%         0.179200  ...     14.970000      25.410000        97.660000   \n",
       "75%         0.195700  ...     18.790000      29.720000       125.400000   \n",
       "max         0.304000  ...     36.040000      49.540000       251.200000   \n",
       "\n",
       "        area_worst  smoothness_worst  compactness_worst  concavity_worst  \\\n",
       "count   569.000000        569.000000         569.000000       569.000000   \n",
       "mean    880.583128          0.132369           0.254265         0.272188   \n",
       "std     569.356993          0.022832           0.157336         0.208624   \n",
       "min     185.200000          0.071170           0.027290         0.000000   \n",
       "25%     515.300000          0.116600           0.147200         0.114500   \n",
       "50%     686.500000          0.131300           0.211900         0.226700   \n",
       "75%    1084.000000          0.146000           0.339100         0.382900   \n",
       "max    4254.000000          0.222600           1.058000         1.252000   \n",
       "\n",
       "       concave_points_worst  symmetry_worst  fractal_dimension_worst  \n",
       "count            569.000000      569.000000               569.000000  \n",
       "mean               0.114606        0.290076                 0.083946  \n",
       "std                0.065732        0.061867                 0.018061  \n",
       "min                0.000000        0.156500                 0.055040  \n",
       "25%                0.064930        0.250400                 0.071460  \n",
       "50%                0.099930        0.282200                 0.080040  \n",
       "75%                0.161400        0.317900                 0.092080  \n",
       "max                0.291000        0.663800                 0.207500  \n",
       "\n",
       "[8 rows x 31 columns]"
      ]
     },
     "metadata": {},
     "output_type": "display_data"
    },
    {
     "name": "stdout",
     "output_type": "stream",
     "text": [
      "\n",
      "-------------------- Iris Dataset --------------------\n",
      "\n",
      "Brief summary of numeric columns:\n"
     ]
    },
    {
     "data": {
      "text/html": [
       "<div>\n",
       "<style scoped>\n",
       "    .dataframe tbody tr th:only-of-type {\n",
       "        vertical-align: middle;\n",
       "    }\n",
       "\n",
       "    .dataframe tbody tr th {\n",
       "        vertical-align: top;\n",
       "    }\n",
       "\n",
       "    .dataframe thead th {\n",
       "        text-align: right;\n",
       "    }\n",
       "</style>\n",
       "<table border=\"1\" class=\"dataframe\">\n",
       "  <thead>\n",
       "    <tr style=\"text-align: right;\">\n",
       "      <th></th>\n",
       "      <th>sepal_length</th>\n",
       "      <th>sepal_width</th>\n",
       "      <th>petal_length</th>\n",
       "      <th>petal_width</th>\n",
       "    </tr>\n",
       "  </thead>\n",
       "  <tbody>\n",
       "    <tr>\n",
       "      <th>count</th>\n",
       "      <td>150.000000</td>\n",
       "      <td>150.000000</td>\n",
       "      <td>150.000000</td>\n",
       "      <td>150.000000</td>\n",
       "    </tr>\n",
       "    <tr>\n",
       "      <th>mean</th>\n",
       "      <td>5.843333</td>\n",
       "      <td>3.054000</td>\n",
       "      <td>3.758667</td>\n",
       "      <td>1.198667</td>\n",
       "    </tr>\n",
       "    <tr>\n",
       "      <th>std</th>\n",
       "      <td>0.828066</td>\n",
       "      <td>0.433594</td>\n",
       "      <td>1.764420</td>\n",
       "      <td>0.763161</td>\n",
       "    </tr>\n",
       "    <tr>\n",
       "      <th>min</th>\n",
       "      <td>4.300000</td>\n",
       "      <td>2.000000</td>\n",
       "      <td>1.000000</td>\n",
       "      <td>0.100000</td>\n",
       "    </tr>\n",
       "    <tr>\n",
       "      <th>25%</th>\n",
       "      <td>5.100000</td>\n",
       "      <td>2.800000</td>\n",
       "      <td>1.600000</td>\n",
       "      <td>0.300000</td>\n",
       "    </tr>\n",
       "    <tr>\n",
       "      <th>50%</th>\n",
       "      <td>5.800000</td>\n",
       "      <td>3.000000</td>\n",
       "      <td>4.350000</td>\n",
       "      <td>1.300000</td>\n",
       "    </tr>\n",
       "    <tr>\n",
       "      <th>75%</th>\n",
       "      <td>6.400000</td>\n",
       "      <td>3.300000</td>\n",
       "      <td>5.100000</td>\n",
       "      <td>1.800000</td>\n",
       "    </tr>\n",
       "    <tr>\n",
       "      <th>max</th>\n",
       "      <td>7.900000</td>\n",
       "      <td>4.400000</td>\n",
       "      <td>6.900000</td>\n",
       "      <td>2.500000</td>\n",
       "    </tr>\n",
       "  </tbody>\n",
       "</table>\n",
       "</div>"
      ],
      "text/plain": [
       "       sepal_length  sepal_width  petal_length  petal_width\n",
       "count    150.000000   150.000000    150.000000   150.000000\n",
       "mean       5.843333     3.054000      3.758667     1.198667\n",
       "std        0.828066     0.433594      1.764420     0.763161\n",
       "min        4.300000     2.000000      1.000000     0.100000\n",
       "25%        5.100000     2.800000      1.600000     0.300000\n",
       "50%        5.800000     3.000000      4.350000     1.300000\n",
       "75%        6.400000     3.300000      5.100000     1.800000\n",
       "max        7.900000     4.400000      6.900000     2.500000"
      ]
     },
     "metadata": {},
     "output_type": "display_data"
    }
   ],
   "source": [
    "# Brief summary of numerical columns \n",
    "for name, df in datasets.items():\n",
    "        print(f\"\\n{'-'*20} {name} Dataset {'-'*20}\")\n",
    "        # identifying numeric and categorical columns\n",
    "        numeric_cols = df.select_dtypes(include=['int64', 'float64']).columns\n",
    "        categorical_cols = df.select_dtypes(include=['object', 'category']).columns\n",
    "        \n",
    "        # Summary\n",
    "        print(\"\\nBrief summary of numeric columns:\")\n",
    "        display(df[numeric_cols].describe())\n",
    "\n",
    "        \n"
   ]
  },
  {
   "cell_type": "code",
   "execution_count": 59,
   "metadata": {},
   "outputs": [
    {
     "name": "stdout",
     "output_type": "stream",
     "text": [
      "\n",
      "Creating boxplots for Cancer dataset:\n"
     ]
    },
    {
     "data": {
      "application/vnd.plotly.v1+json": {
       "config": {
        "plotlyServerURL": "https://plot.ly"
       },
       "data": [
        {
         "alignmentgroup": "True",
         "hovertemplate": "id=%{y}<extra></extra>",
         "legendgroup": "",
         "marker": {
          "color": "#636efa"
         },
         "name": "",
         "notched": false,
         "offsetgroup": "",
         "orientation": "v",
         "showlegend": false,
         "type": "box",
         "x0": " ",
         "xaxis": "x",
         "y": {
          "bdata": "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",
          "dtype": "i4"
         },
         "y0": " ",
         "yaxis": "y"
        }
       ],
       "layout": {
        "boxmode": "group",
        "legend": {
         "tracegroupgap": 0
        },
        "margin": {
         "t": 60
        },
        "template": {
         "data": {
          "bar": [
           {
            "error_x": {
             "color": "#2a3f5f"
            },
            "error_y": {
             "color": "#2a3f5f"
            },
            "marker": {
             "line": {
              "color": "#E5ECF6",
              "width": 0.5
             },
             "pattern": {
              "fillmode": "overlay",
              "size": 10,
              "solidity": 0.2
             }
            },
            "type": "bar"
           }
          ],
          "barpolar": [
           {
            "marker": {
             "line": {
              "color": "#E5ECF6",
              "width": 0.5
             },
             "pattern": {
              "fillmode": "overlay",
              "size": 10,
              "solidity": 0.2
             }
            },
            "type": "barpolar"
           }
          ],
          "carpet": [
           {
            "aaxis": {
             "endlinecolor": "#2a3f5f",
             "gridcolor": "white",
             "linecolor": "white",
             "minorgridcolor": "white",
             "startlinecolor": "#2a3f5f"
            },
            "baxis": {
             "endlinecolor": "#2a3f5f",
             "gridcolor": "white",
             "linecolor": "white",
             "minorgridcolor": "white",
             "startlinecolor": "#2a3f5f"
            },
            "type": "carpet"
           }
          ],
          "choropleth": [
           {
            "colorbar": {
             "outlinewidth": 0,
             "ticks": ""
            },
            "type": "choropleth"
           }
          ],
          "contour": [
           {
            "colorbar": {
             "outlinewidth": 0,
             "ticks": ""
            },
            "colorscale": [
             [
              0,
              "#0d0887"
             ],
             [
              0.1111111111111111,
              "#46039f"
             ],
             [
              0.2222222222222222,
              "#7201a8"
             ],
             [
              0.3333333333333333,
              "#9c179e"
             ],
             [
              0.4444444444444444,
              "#bd3786"
             ],
             [
              0.5555555555555556,
              "#d8576b"
             ],
             [
              0.6666666666666666,
              "#ed7953"
             ],
             [
              0.7777777777777778,
              "#fb9f3a"
             ],
             [
              0.8888888888888888,
              "#fdca26"
             ],
             [
              1,
              "#f0f921"
             ]
            ],
            "type": "contour"
           }
          ],
          "contourcarpet": [
           {
            "colorbar": {
             "outlinewidth": 0,
             "ticks": ""
            },
            "type": "contourcarpet"
           }
          ],
          "heatmap": [
           {
            "colorbar": {
             "outlinewidth": 0,
             "ticks": ""
            },
            "colorscale": [
             [
              0,
              "#0d0887"
             ],
             [
              0.1111111111111111,
              "#46039f"
             ],
             [
              0.2222222222222222,
              "#7201a8"
             ],
             [
              0.3333333333333333,
              "#9c179e"
             ],
             [
              0.4444444444444444,
              "#bd3786"
             ],
             [
              0.5555555555555556,
              "#d8576b"
             ],
             [
              0.6666666666666666,
              "#ed7953"
             ],
             [
              0.7777777777777778,
              "#fb9f3a"
             ],
             [
              0.8888888888888888,
              "#fdca26"
             ],
             [
              1,
              "#f0f921"
             ]
            ],
            "type": "heatmap"
           }
          ],
          "histogram": [
           {
            "marker": {
             "pattern": {
              "fillmode": "overlay",
              "size": 10,
              "solidity": 0.2
             }
            },
            "type": "histogram"
           }
          ],
          "histogram2d": [
           {
            "colorbar": {
             "outlinewidth": 0,
             "ticks": ""
            },
            "colorscale": [
             [
              0,
              "#0d0887"
             ],
             [
              0.1111111111111111,
              "#46039f"
             ],
             [
              0.2222222222222222,
              "#7201a8"
             ],
             [
              0.3333333333333333,
              "#9c179e"
             ],
             [
              0.4444444444444444,
              "#bd3786"
             ],
             [
              0.5555555555555556,
              "#d8576b"
             ],
             [
              0.6666666666666666,
              "#ed7953"
             ],
             [
              0.7777777777777778,
              "#fb9f3a"
             ],
             [
              0.8888888888888888,
              "#fdca26"
             ],
             [
              1,
              "#f0f921"
             ]
            ],
            "type": "histogram2d"
           }
          ],
          "histogram2dcontour": [
           {
            "colorbar": {
             "outlinewidth": 0,
             "ticks": ""
            },
            "colorscale": [
             [
              0,
              "#0d0887"
             ],
             [
              0.1111111111111111,
              "#46039f"
             ],
             [
              0.2222222222222222,
              "#7201a8"
             ],
             [
              0.3333333333333333,
              "#9c179e"
             ],
             [
              0.4444444444444444,
              "#bd3786"
             ],
             [
              0.5555555555555556,
              "#d8576b"
             ],
             [
              0.6666666666666666,
              "#ed7953"
             ],
             [
              0.7777777777777778,
              "#fb9f3a"
             ],
             [
              0.8888888888888888,
              "#fdca26"
             ],
             [
              1,
              "#f0f921"
             ]
            ],
            "type": "histogram2dcontour"
           }
          ],
          "mesh3d": [
           {
            "colorbar": {
             "outlinewidth": 0,
             "ticks": ""
            },
            "type": "mesh3d"
           }
          ],
          "parcoords": [
           {
            "line": {
             "colorbar": {
              "outlinewidth": 0,
              "ticks": ""
             }
            },
            "type": "parcoords"
           }
          ],
          "pie": [
           {
            "automargin": true,
            "type": "pie"
           }
          ],
          "scatter": [
           {
            "fillpattern": {
             "fillmode": "overlay",
             "size": 10,
             "solidity": 0.2
            },
            "type": "scatter"
           }
          ],
          "scatter3d": [
           {
            "line": {
             "colorbar": {
              "outlinewidth": 0,
              "ticks": ""
             }
            },
            "marker": {
             "colorbar": {
              "outlinewidth": 0,
              "ticks": ""
             }
            },
            "type": "scatter3d"
           }
          ],
          "scattercarpet": [
           {
            "marker": {
             "colorbar": {
              "outlinewidth": 0,
              "ticks": ""
             }
            },
            "type": "scattercarpet"
           }
          ],
          "scattergeo": [
           {
            "marker": {
             "colorbar": {
              "outlinewidth": 0,
              "ticks": ""
             }
            },
            "type": "scattergeo"
           }
          ],
          "scattergl": [
           {
            "marker": {
             "colorbar": {
              "outlinewidth": 0,
              "ticks": ""
             }
            },
            "type": "scattergl"
           }
          ],
          "scattermap": [
           {
            "marker": {
             "colorbar": {
              "outlinewidth": 0,
              "ticks": ""
             }
            },
            "type": "scattermap"
           }
          ],
          "scattermapbox": [
           {
            "marker": {
             "colorbar": {
              "outlinewidth": 0,
              "ticks": ""
             }
            },
            "type": "scattermapbox"
           }
          ],
          "scatterpolar": [
           {
            "marker": {
             "colorbar": {
              "outlinewidth": 0,
              "ticks": ""
             }
            },
            "type": "scatterpolar"
           }
          ],
          "scatterpolargl": [
           {
            "marker": {
             "colorbar": {
              "outlinewidth": 0,
              "ticks": ""
             }
            },
            "type": "scatterpolargl"
           }
          ],
          "scatterternary": [
           {
            "marker": {
             "colorbar": {
              "outlinewidth": 0,
              "ticks": ""
             }
            },
            "type": "scatterternary"
           }
          ],
          "surface": [
           {
            "colorbar": {
             "outlinewidth": 0,
             "ticks": ""
            },
            "colorscale": [
             [
              0,
              "#0d0887"
             ],
             [
              0.1111111111111111,
              "#46039f"
             ],
             [
              0.2222222222222222,
              "#7201a8"
             ],
             [
              0.3333333333333333,
              "#9c179e"
             ],
             [
              0.4444444444444444,
              "#bd3786"
             ],
             [
              0.5555555555555556,
              "#d8576b"
             ],
             [
              0.6666666666666666,
              "#ed7953"
             ],
             [
              0.7777777777777778,
              "#fb9f3a"
             ],
             [
              0.8888888888888888,
              "#fdca26"
             ],
             [
              1,
              "#f0f921"
             ]
            ],
            "type": "surface"
           }
          ],
          "table": [
           {
            "cells": {
             "fill": {
              "color": "#EBF0F8"
             },
             "line": {
              "color": "white"
             }
            },
            "header": {
             "fill": {
              "color": "#C8D4E3"
             },
             "line": {
              "color": "white"
             }
            },
            "type": "table"
           }
          ]
         },
         "layout": {
          "annotationdefaults": {
           "arrowcolor": "#2a3f5f",
           "arrowhead": 0,
           "arrowwidth": 1
          },
          "autotypenumbers": "strict",
          "coloraxis": {
           "colorbar": {
            "outlinewidth": 0,
            "ticks": ""
           }
          },
          "colorscale": {
           "diverging": [
            [
             0,
             "#8e0152"
            ],
            [
             0.1,
             "#c51b7d"
            ],
            [
             0.2,
             "#de77ae"
            ],
            [
             0.3,
             "#f1b6da"
            ],
            [
             0.4,
             "#fde0ef"
            ],
            [
             0.5,
             "#f7f7f7"
            ],
            [
             0.6,
             "#e6f5d0"
            ],
            [
             0.7,
             "#b8e186"
            ],
            [
             0.8,
             "#7fbc41"
            ],
            [
             0.9,
             "#4d9221"
            ],
            [
             1,
             "#276419"
            ]
           ],
           "sequential": [
            [
             0,
             "#0d0887"
            ],
            [
             0.1111111111111111,
             "#46039f"
            ],
            [
             0.2222222222222222,
             "#7201a8"
            ],
            [
             0.3333333333333333,
             "#9c179e"
            ],
            [
             0.4444444444444444,
             "#bd3786"
            ],
            [
             0.5555555555555556,
             "#d8576b"
            ],
            [
             0.6666666666666666,
             "#ed7953"
            ],
            [
             0.7777777777777778,
             "#fb9f3a"
            ],
            [
             0.8888888888888888,
             "#fdca26"
            ],
            [
             1,
             "#f0f921"
            ]
           ],
           "sequentialminus": [
            [
             0,
             "#0d0887"
            ],
            [
             0.1111111111111111,
             "#46039f"
            ],
            [
             0.2222222222222222,
             "#7201a8"
            ],
            [
             0.3333333333333333,
             "#9c179e"
            ],
            [
             0.4444444444444444,
             "#bd3786"
            ],
            [
             0.5555555555555556,
             "#d8576b"
            ],
            [
             0.6666666666666666,
             "#ed7953"
            ],
            [
             0.7777777777777778,
             "#fb9f3a"
            ],
            [
             0.8888888888888888,
             "#fdca26"
            ],
            [
             1,
             "#f0f921"
            ]
           ]
          },
          "colorway": [
           "#636efa",
           "#EF553B",
           "#00cc96",
           "#ab63fa",
           "#FFA15A",
           "#19d3f3",
           "#FF6692",
           "#B6E880",
           "#FF97FF",
           "#FECB52"
          ],
          "font": {
           "color": "#2a3f5f"
          },
          "geo": {
           "bgcolor": "white",
           "lakecolor": "white",
           "landcolor": "#E5ECF6",
           "showlakes": true,
           "showland": true,
           "subunitcolor": "white"
          },
          "hoverlabel": {
           "align": "left"
          },
          "hovermode": "closest",
          "mapbox": {
           "style": "light"
          },
          "paper_bgcolor": "white",
          "plot_bgcolor": "#E5ECF6",
          "polar": {
           "angularaxis": {
            "gridcolor": "white",
            "linecolor": "white",
            "ticks": ""
           },
           "bgcolor": "#E5ECF6",
           "radialaxis": {
            "gridcolor": "white",
            "linecolor": "white",
            "ticks": ""
           }
          },
          "scene": {
           "xaxis": {
            "backgroundcolor": "#E5ECF6",
            "gridcolor": "white",
            "gridwidth": 2,
            "linecolor": "white",
            "showbackground": true,
            "ticks": "",
            "zerolinecolor": "white"
           },
           "yaxis": {
            "backgroundcolor": "#E5ECF6",
            "gridcolor": "white",
            "gridwidth": 2,
            "linecolor": "white",
            "showbackground": true,
            "ticks": "",
            "zerolinecolor": "white"
           },
           "zaxis": {
            "backgroundcolor": "#E5ECF6",
            "gridcolor": "white",
            "gridwidth": 2,
            "linecolor": "white",
            "showbackground": true,
            "ticks": "",
            "zerolinecolor": "white"
           }
          },
          "shapedefaults": {
           "line": {
            "color": "#2a3f5f"
           }
          },
          "ternary": {
           "aaxis": {
            "gridcolor": "white",
            "linecolor": "white",
            "ticks": ""
           },
           "baxis": {
            "gridcolor": "white",
            "linecolor": "white",
            "ticks": ""
           },
           "bgcolor": "#E5ECF6",
           "caxis": {
            "gridcolor": "white",
            "linecolor": "white",
            "ticks": ""
           }
          },
          "title": {
           "x": 0.05
          },
          "xaxis": {
           "automargin": true,
           "gridcolor": "white",
           "linecolor": "white",
           "ticks": "",
           "title": {
            "standoff": 15
           },
           "zerolinecolor": "white",
           "zerolinewidth": 2
          },
          "yaxis": {
           "automargin": true,
           "gridcolor": "white",
           "linecolor": "white",
           "ticks": "",
           "title": {
            "standoff": 15
           },
           "zerolinecolor": "white",
           "zerolinewidth": 2
          }
         }
        },
        "title": {
         "text": "Boxplot for id - Cancer Dataset"
        },
        "xaxis": {
         "anchor": "y",
         "domain": [
          0,
          1
         ],
         "title": {
          "text": "Category"
         }
        },
        "yaxis": {
         "anchor": "x",
         "domain": [
          0,
          1
         ],
         "title": {
          "text": "id"
         }
        }
       }
      }
     },
     "metadata": {},
     "output_type": "display_data"
    },
    {
     "data": {
      "application/vnd.plotly.v1+json": {
       "config": {
        "plotlyServerURL": "https://plot.ly"
       },
       "data": [
        {
         "alignmentgroup": "True",
         "hovertemplate": "radius_mean=%{y}<extra></extra>",
         "legendgroup": "",
         "marker": {
          "color": "#636efa"
         },
         "name": "",
         "notched": false,
         "offsetgroup": "",
         "orientation": "v",
         "showlegend": false,
         "type": "box",
         "x0": " ",
         "xaxis": "x",
         "y": {
          "bdata": "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",
          "dtype": "f8"
         },
         "y0": " ",
         "yaxis": "y"
        }
       ],
       "layout": {
        "boxmode": "group",
        "legend": {
         "tracegroupgap": 0
        },
        "margin": {
         "t": 60
        },
        "template": {
         "data": {
          "bar": [
           {
            "error_x": {
             "color": "#2a3f5f"
            },
            "error_y": {
             "color": "#2a3f5f"
            },
            "marker": {
             "line": {
              "color": "#E5ECF6",
              "width": 0.5
             },
             "pattern": {
              "fillmode": "overlay",
              "size": 10,
              "solidity": 0.2
             }
            },
            "type": "bar"
           }
          ],
          "barpolar": [
           {
            "marker": {
             "line": {
              "color": "#E5ECF6",
              "width": 0.5
             },
             "pattern": {
              "fillmode": "overlay",
              "size": 10,
              "solidity": 0.2
             }
            },
            "type": "barpolar"
           }
          ],
          "carpet": [
           {
            "aaxis": {
             "endlinecolor": "#2a3f5f",
             "gridcolor": "white",
             "linecolor": "white",
             "minorgridcolor": "white",
             "startlinecolor": "#2a3f5f"
            },
            "baxis": {
             "endlinecolor": "#2a3f5f",
             "gridcolor": "white",
             "linecolor": "white",
             "minorgridcolor": "white",
             "startlinecolor": "#2a3f5f"
            },
            "type": "carpet"
           }
          ],
          "choropleth": [
           {
            "colorbar": {
             "outlinewidth": 0,
             "ticks": ""
            },
            "type": "choropleth"
           }
          ],
          "contour": [
           {
            "colorbar": {
             "outlinewidth": 0,
             "ticks": ""
            },
            "colorscale": [
             [
              0,
              "#0d0887"
             ],
             [
              0.1111111111111111,
              "#46039f"
             ],
             [
              0.2222222222222222,
              "#7201a8"
             ],
             [
              0.3333333333333333,
              "#9c179e"
             ],
             [
              0.4444444444444444,
              "#bd3786"
             ],
             [
              0.5555555555555556,
              "#d8576b"
             ],
             [
              0.6666666666666666,
              "#ed7953"
             ],
             [
              0.7777777777777778,
              "#fb9f3a"
             ],
             [
              0.8888888888888888,
              "#fdca26"
             ],
             [
              1,
              "#f0f921"
             ]
            ],
            "type": "contour"
           }
          ],
          "contourcarpet": [
           {
            "colorbar": {
             "outlinewidth": 0,
             "ticks": ""
            },
            "type": "contourcarpet"
           }
          ],
          "heatmap": [
           {
            "colorbar": {
             "outlinewidth": 0,
             "ticks": ""
            },
            "colorscale": [
             [
              0,
              "#0d0887"
             ],
             [
              0.1111111111111111,
              "#46039f"
             ],
             [
              0.2222222222222222,
              "#7201a8"
             ],
             [
              0.3333333333333333,
              "#9c179e"
             ],
             [
              0.4444444444444444,
              "#bd3786"
             ],
             [
              0.5555555555555556,
              "#d8576b"
             ],
             [
              0.6666666666666666,
              "#ed7953"
             ],
             [
              0.7777777777777778,
              "#fb9f3a"
             ],
             [
              0.8888888888888888,
              "#fdca26"
             ],
             [
              1,
              "#f0f921"
             ]
            ],
            "type": "heatmap"
           }
          ],
          "histogram": [
           {
            "marker": {
             "pattern": {
              "fillmode": "overlay",
              "size": 10,
              "solidity": 0.2
             }
            },
            "type": "histogram"
           }
          ],
          "histogram2d": [
           {
            "colorbar": {
             "outlinewidth": 0,
             "ticks": ""
            },
            "colorscale": [
             [
              0,
              "#0d0887"
             ],
             [
              0.1111111111111111,
              "#46039f"
             ],
             [
              0.2222222222222222,
              "#7201a8"
             ],
             [
              0.3333333333333333,
              "#9c179e"
             ],
             [
              0.4444444444444444,
              "#bd3786"
             ],
             [
              0.5555555555555556,
              "#d8576b"
             ],
             [
              0.6666666666666666,
              "#ed7953"
             ],
             [
              0.7777777777777778,
              "#fb9f3a"
             ],
             [
              0.8888888888888888,
              "#fdca26"
             ],
             [
              1,
              "#f0f921"
             ]
            ],
            "type": "histogram2d"
           }
          ],
          "histogram2dcontour": [
           {
            "colorbar": {
             "outlinewidth": 0,
             "ticks": ""
            },
            "colorscale": [
             [
              0,
              "#0d0887"
             ],
             [
              0.1111111111111111,
              "#46039f"
             ],
             [
              0.2222222222222222,
              "#7201a8"
             ],
             [
              0.3333333333333333,
              "#9c179e"
             ],
             [
              0.4444444444444444,
              "#bd3786"
             ],
             [
              0.5555555555555556,
              "#d8576b"
             ],
             [
              0.6666666666666666,
              "#ed7953"
             ],
             [
              0.7777777777777778,
              "#fb9f3a"
             ],
             [
              0.8888888888888888,
              "#fdca26"
             ],
             [
              1,
              "#f0f921"
             ]
            ],
            "type": "histogram2dcontour"
           }
          ],
          "mesh3d": [
           {
            "colorbar": {
             "outlinewidth": 0,
             "ticks": ""
            },
            "type": "mesh3d"
           }
          ],
          "parcoords": [
           {
            "line": {
             "colorbar": {
              "outlinewidth": 0,
              "ticks": ""
             }
            },
            "type": "parcoords"
           }
          ],
          "pie": [
           {
            "automargin": true,
            "type": "pie"
           }
          ],
          "scatter": [
           {
            "fillpattern": {
             "fillmode": "overlay",
             "size": 10,
             "solidity": 0.2
            },
            "type": "scatter"
           }
          ],
          "scatter3d": [
           {
            "line": {
             "colorbar": {
              "outlinewidth": 0,
              "ticks": ""
             }
            },
            "marker": {
             "colorbar": {
              "outlinewidth": 0,
              "ticks": ""
             }
            },
            "type": "scatter3d"
           }
          ],
          "scattercarpet": [
           {
            "marker": {
             "colorbar": {
              "outlinewidth": 0,
              "ticks": ""
             }
            },
            "type": "scattercarpet"
           }
          ],
          "scattergeo": [
           {
            "marker": {
             "colorbar": {
              "outlinewidth": 0,
              "ticks": ""
             }
            },
            "type": "scattergeo"
           }
          ],
          "scattergl": [
           {
            "marker": {
             "colorbar": {
              "outlinewidth": 0,
              "ticks": ""
             }
            },
            "type": "scattergl"
           }
          ],
          "scattermap": [
           {
            "marker": {
             "colorbar": {
              "outlinewidth": 0,
              "ticks": ""
             }
            },
            "type": "scattermap"
           }
          ],
          "scattermapbox": [
           {
            "marker": {
             "colorbar": {
              "outlinewidth": 0,
              "ticks": ""
             }
            },
            "type": "scattermapbox"
           }
          ],
          "scatterpolar": [
           {
            "marker": {
             "colorbar": {
              "outlinewidth": 0,
              "ticks": ""
             }
            },
            "type": "scatterpolar"
           }
          ],
          "scatterpolargl": [
           {
            "marker": {
             "colorbar": {
              "outlinewidth": 0,
              "ticks": ""
             }
            },
            "type": "scatterpolargl"
           }
          ],
          "scatterternary": [
           {
            "marker": {
             "colorbar": {
              "outlinewidth": 0,
              "ticks": ""
             }
            },
            "type": "scatterternary"
           }
          ],
          "surface": [
           {
            "colorbar": {
             "outlinewidth": 0,
             "ticks": ""
            },
            "colorscale": [
             [
              0,
              "#0d0887"
             ],
             [
              0.1111111111111111,
              "#46039f"
             ],
             [
              0.2222222222222222,
              "#7201a8"
             ],
             [
              0.3333333333333333,
              "#9c179e"
             ],
             [
              0.4444444444444444,
              "#bd3786"
             ],
             [
              0.5555555555555556,
              "#d8576b"
             ],
             [
              0.6666666666666666,
              "#ed7953"
             ],
             [
              0.7777777777777778,
              "#fb9f3a"
             ],
             [
              0.8888888888888888,
              "#fdca26"
             ],
             [
              1,
              "#f0f921"
             ]
            ],
            "type": "surface"
           }
          ],
          "table": [
           {
            "cells": {
             "fill": {
              "color": "#EBF0F8"
             },
             "line": {
              "color": "white"
             }
            },
            "header": {
             "fill": {
              "color": "#C8D4E3"
             },
             "line": {
              "color": "white"
             }
            },
            "type": "table"
           }
          ]
         },
         "layout": {
          "annotationdefaults": {
           "arrowcolor": "#2a3f5f",
           "arrowhead": 0,
           "arrowwidth": 1
          },
          "autotypenumbers": "strict",
          "coloraxis": {
           "colorbar": {
            "outlinewidth": 0,
            "ticks": ""
           }
          },
          "colorscale": {
           "diverging": [
            [
             0,
             "#8e0152"
            ],
            [
             0.1,
             "#c51b7d"
            ],
            [
             0.2,
             "#de77ae"
            ],
            [
             0.3,
             "#f1b6da"
            ],
            [
             0.4,
             "#fde0ef"
            ],
            [
             0.5,
             "#f7f7f7"
            ],
            [
             0.6,
             "#e6f5d0"
            ],
            [
             0.7,
             "#b8e186"
            ],
            [
             0.8,
             "#7fbc41"
            ],
            [
             0.9,
             "#4d9221"
            ],
            [
             1,
             "#276419"
            ]
           ],
           "sequential": [
            [
             0,
             "#0d0887"
            ],
            [
             0.1111111111111111,
             "#46039f"
            ],
            [
             0.2222222222222222,
             "#7201a8"
            ],
            [
             0.3333333333333333,
             "#9c179e"
            ],
            [
             0.4444444444444444,
             "#bd3786"
            ],
            [
             0.5555555555555556,
             "#d8576b"
            ],
            [
             0.6666666666666666,
             "#ed7953"
            ],
            [
             0.7777777777777778,
             "#fb9f3a"
            ],
            [
             0.8888888888888888,
             "#fdca26"
            ],
            [
             1,
             "#f0f921"
            ]
           ],
           "sequentialminus": [
            [
             0,
             "#0d0887"
            ],
            [
             0.1111111111111111,
             "#46039f"
            ],
            [
             0.2222222222222222,
             "#7201a8"
            ],
            [
             0.3333333333333333,
             "#9c179e"
            ],
            [
             0.4444444444444444,
             "#bd3786"
            ],
            [
             0.5555555555555556,
             "#d8576b"
            ],
            [
             0.6666666666666666,
             "#ed7953"
            ],
            [
             0.7777777777777778,
             "#fb9f3a"
            ],
            [
             0.8888888888888888,
             "#fdca26"
            ],
            [
             1,
             "#f0f921"
            ]
           ]
          },
          "colorway": [
           "#636efa",
           "#EF553B",
           "#00cc96",
           "#ab63fa",
           "#FFA15A",
           "#19d3f3",
           "#FF6692",
           "#B6E880",
           "#FF97FF",
           "#FECB52"
          ],
          "font": {
           "color": "#2a3f5f"
          },
          "geo": {
           "bgcolor": "white",
           "lakecolor": "white",
           "landcolor": "#E5ECF6",
           "showlakes": true,
           "showland": true,
           "subunitcolor": "white"
          },
          "hoverlabel": {
           "align": "left"
          },
          "hovermode": "closest",
          "mapbox": {
           "style": "light"
          },
          "paper_bgcolor": "white",
          "plot_bgcolor": "#E5ECF6",
          "polar": {
           "angularaxis": {
            "gridcolor": "white",
            "linecolor": "white",
            "ticks": ""
           },
           "bgcolor": "#E5ECF6",
           "radialaxis": {
            "gridcolor": "white",
            "linecolor": "white",
            "ticks": ""
           }
          },
          "scene": {
           "xaxis": {
            "backgroundcolor": "#E5ECF6",
            "gridcolor": "white",
            "gridwidth": 2,
            "linecolor": "white",
            "showbackground": true,
            "ticks": "",
            "zerolinecolor": "white"
           },
           "yaxis": {
            "backgroundcolor": "#E5ECF6",
            "gridcolor": "white",
            "gridwidth": 2,
            "linecolor": "white",
            "showbackground": true,
            "ticks": "",
            "zerolinecolor": "white"
           },
           "zaxis": {
            "backgroundcolor": "#E5ECF6",
            "gridcolor": "white",
            "gridwidth": 2,
            "linecolor": "white",
            "showbackground": true,
            "ticks": "",
            "zerolinecolor": "white"
           }
          },
          "shapedefaults": {
           "line": {
            "color": "#2a3f5f"
           }
          },
          "ternary": {
           "aaxis": {
            "gridcolor": "white",
            "linecolor": "white",
            "ticks": ""
           },
           "baxis": {
            "gridcolor": "white",
            "linecolor": "white",
            "ticks": ""
           },
           "bgcolor": "#E5ECF6",
           "caxis": {
            "gridcolor": "white",
            "linecolor": "white",
            "ticks": ""
           }
          },
          "title": {
           "x": 0.05
          },
          "xaxis": {
           "automargin": true,
           "gridcolor": "white",
           "linecolor": "white",
           "ticks": "",
           "title": {
            "standoff": 15
           },
           "zerolinecolor": "white",
           "zerolinewidth": 2
          },
          "yaxis": {
           "automargin": true,
           "gridcolor": "white",
           "linecolor": "white",
           "ticks": "",
           "title": {
            "standoff": 15
           },
           "zerolinecolor": "white",
           "zerolinewidth": 2
          }
         }
        },
        "title": {
         "text": "Boxplot for radius_mean - Cancer Dataset"
        },
        "xaxis": {
         "anchor": "y",
         "domain": [
          0,
          1
         ],
         "title": {
          "text": "Category"
         }
        },
        "yaxis": {
         "anchor": "x",
         "domain": [
          0,
          1
         ],
         "title": {
          "text": "radius_mean"
         }
        }
       }
      }
     },
     "metadata": {},
     "output_type": "display_data"
    },
    {
     "data": {
      "application/vnd.plotly.v1+json": {
       "config": {
        "plotlyServerURL": "https://plot.ly"
       },
       "data": [
        {
         "alignmentgroup": "True",
         "hovertemplate": "texture_mean=%{y}<extra></extra>",
         "legendgroup": "",
         "marker": {
          "color": "#636efa"
         },
         "name": "",
         "notched": false,
         "offsetgroup": "",
         "orientation": "v",
         "showlegend": false,
         "type": "box",
         "x0": " ",
         "xaxis": "x",
         "y": {
          "bdata": "w/UoXI/CJECF61G4HsUxQAAAAAAAQDVA4XoUrkdhNECuR+F6FK4sQGZmZmZmZi9AexSuR+H6M0AUrkfhetQ0QFK4HoXr0TVACtejcD0KOEA9CtejcD03QKRwPQrX4zFAzczMzMzMOEAzMzMzM/M3QFyPwvUonDZACtejcD2KO0DhehSuRyE0QK5H4XoUrjRAZmZmZmYmNkC4HoXrUbgsQOxRuB6Fay9A4XoUrkfhKECF61G4HoUsQArXo3A9CjdA4XoUrkdhNUBmZmZmZmYwQEjhehSuhzVAAAAAAABANECF61G4HkU5QJqZmZmZGS5AXI/C9SgcOUAzMzMzM7MyQHsUrkfh+jdAuB6F61F4OkDhehSuR+ExQNejcD0KlzVAuB6F61G4NUDsUbgehWsyQDMzMzMzMzlAUrgehevRNEAUrkfhepQ1QJqZmZmZWTVAj8L1KFzPOEBI4XoUrkc0QI/C9ShczzVAmpmZmZmZMUDXo3A9CtcwQClcj8L1qDJAw/UoXI9CLUDNzMzMzEw2QJqZmZmZmTVA16NwPQpXMEA9CtejcD0yQDMzMzMzszJAhetRuB4FNkAAAAAAAMAyQFK4HoXrkTJA16NwPQqXNUCPwvUoXE8zQBSuR+F6lCdAw/UoXI/CLUB7FK5H4fo0QGZmZmZmJjZAuB6F61G4K0DXo3A9Ctc3QHE9Ctej8DdAw/UoXI8CNUAK16NwPQozQBSuR+F6VDFAPQrXo3B9MECPwvUoXE81QEjhehSuRy1AhetRuB6FOEAUrkfhepQvQIXrUbgehTBAZmZmZmamM0DhehSuR+ElQGZmZmZmJjBAuB6F61H4N0AAAAAAAAAyQLgehetR+DRAuB6F61G4L0ApXI/C9eg4QArXo3A9SjpAzczMzMxML0CF61G4HoUyQPYoXI/CdTVA16NwPQqXOEDNzMzMzMw1QHsUrkfhei5AhetRuB4FOEDD9Shcj8I2QIXrUbgehS1AzczMzMxMMkAUrkfhetQzQEjhehSuBzdA16NwPQrXMUBxPQrXo/AzQK5H4XoUrilAhetRuB7FM0B7FK5H4fo4QFyPwvUo3CpAhetRuB6FNEBmZmZmZmYzQArXo3A9SjNAH4XrUbgeL0AUrkfhelQyQArXo3A9ijJA7FG4HoWrM0DD9Shcj0I1QD0K16Nw/TBAw/UoXI/CNEBmZmZmZqYzQHE9CtejMDRAKVyPwvWoL0BI4XoUroc1QIXrUbgehS9A7FG4HoWrMEApXI/C9eg2QMP1KFyPAjRApHA9CtejJUAfhetRuB4xQDMzMzMzMzRASOF6FK7HJUCkcD0K12MwQPYoXI/CNTFAcT0K16OwOEApXI/C9egyQKRwPQrXYzBAH4XrUbgeOUAUrkfhepQqQHsUrkfhejNACtejcD2KNUBcj8L1KNwrQClcj8L16DVAuB6F61F4NkDsUbgehaswQEjhehSuxy5AUrgeheuRMUBI4XoUrscqQHE9Ctej8CdAzczMzMwMMkCPwvUoXE8xQNejcD0K1y9AcT0K16PwLUDNzMzMzEwtQBSuR+F6lDBAhetRuB7FMkBcj8L1KFwuQClcj8L16DFASOF6FK7HNEAzMzMzM7M0QK5H4XoUri5AKVyPwvUoKkCuR+F6FK4uQHE9Ctej8DFAPQrXo3C9NED2KFyPwnUzQHsUrkfheilA7FG4HoXrKUCuR+F6FC40QOF6FK5H4S9AZmZmZmYmMkC4HoXrUTg2QArXo3A9CjZAw/UoXI/CM0DsUbgehWsjQM3MzMzMzDJArkfhehSuOEAzMzMzM/MwQEjhehSuxyhA4XoUrkehM0BI4XoUrscnQOxRuB6Fay1AzczMzMxMLkBmZmZmZuYsQI/C9ShcDzJAXI/C9SgcNEC4HoXrUTg2QB+F61G4HipAH4XrUbjeNUBSuB6F65E6QI/C9ShcTzRA16NwPQrXLUApXI/C9Wg2QLgehetROC5AFK5H4XqUMkBxPQrXozAxQKRwPQrXYzFAzczMzMzML0AfhetRuB43QClcj8L1aDVAuB6F61E4MkBcj8L1KNw6QPYoXI/CNTdAFK5H4XpUMEAK16NwPUo2QNejcD0K1zVAPQrXo3B9NkC4HoXrUTg0QI/C9ShcjzNAUrgehetRM0DsUbgehas6QAAAAAAAwDdAmpmZmZmZMkCuR+F6FK4wQIXrUbgeRTFAw/UoXI9CNEAK16NwPYo2QFK4HoXr0SlApHA9CtcjNkBxPQrXo/AyQLgehetReDJAj8L1KFyPOUCPwvUoXM83QK5H4XoU7jBAmpmZmZlZMkB7FK5H4XoxQI/C9ShcjzVAXI/C9Sg8QEBSuB6F61EqQM3MzMzMzCtASOF6FK6HMUAAAAAAAEA0QIXrUbgeBTFAcT0K16PwKkDsUbgehesuQIXrUbgeBS9AuB6F61H4N0AUrkfhelQ2QBSuR+F6FDNAFK5H4XoUO0BI4XoUrudAQI/C9ShczztAUrgehevRL0AAAAAAAEA1QLgehetR+DpA9ihcj8J1NUCamZmZmdk7QKRwPQrXo0NAMzMzMzMzL0AUrkfhehQuQHE9CtejMDJAhetRuB7FN0AAAAAAAIA3QFyPwvUo3DNArkfhehRuMUC4HoXrUTgsQLgehetRODlAXI/C9SjcLUCPwvUoXI83QDMzMzMzczJAUrgehevRM0AUrkfhehQxQBSuR+F6VDNAzczMzMwMMUCF61G4HsU8QIXrUbgeRTFAMzMzMzMzN0BI4XoUrsdAQI/C9ShcDztAj8L1KFwPN0DhehSuRyE2QOF6FK5HYTNAUrgehesRNkAfhetRuB4/QDMzMzMz8zJA16NwPQrXNUD2KFyPwjUwQKRwPQrXYzRAUrgehevRMEAUrkfhehQqQD0K16Nw/TRA16NwPQpXL0B7FK5H4Xo4QFyPwvUoXDFAUrgehetRLEB7FK5H4fozQNejcD0K1zFAXI/C9ShcLkCamZmZmZk6QArXo3A9CixArkfhehQuMkCF61G4HsUyQGZmZmZmZi9AZmZmZmZmMkDD9Shcj8I0QD0K16NwPSpA9ihcj8L1M0CkcD0K1+MyQHsUrkfhujNAmpmZmZkZM0CF61G4HgUwQPYoXI/CdTFAj8L1KFyPK0AK16NwPYoqQDMzMzMzsyhApHA9CtcjMkDsUbgehSsyQNejcD0KFzdAZmZmZmbmMkCkcD0K1+MzQFyPwvUo3DdAXI/C9SicMkApXI/C9SgyQD0K16NwfThApHA9CtejL0DNzMzMzMwsQOxRuB6FaylArkfhehSuK0Bcj8L1KBwzQOF6FK5HYS9APQrXo3C9KkBxPQrXo3AlQJqZmZmZmTJAmpmZmZnZMEApXI/C9SgsQB+F61G43jJAZmZmZmbmMkAAAAAAAAAxQK5H4XoULjBAKVyPwvWoM0CkcD0K16MqQMP1KFyPgjVA7FG4HoVrLkDNzMzMzEwxQMP1KFyPwilArkfhehTuMUD2KFyPwrU0QOF6FK5H4TVAhetRuB4FL0CamZmZmVkzQFyPwvUo3DNAj8L1KFyPLUCF61G4HgUzQAAAAAAAADVA9ihcj8J1LECuR+F6FG41QEjhehSuhzFAhetRuB5FOEAK16NwPYowQNejcD0K1zBA7FG4HoXrLUCuR+F6FK41QGZmZmZm5i5A7FG4HoVrLUBmZmZmZuYyQHsUrkfhei1ASOF6FK4HMEDsUbgehestQFK4HoXrETFAuB6F61E4M0D2KFyPwnUxQD0K16NwvTlApHA9CtcjLEBSuB6F6xEzQNejcD0KlzJA9ihcj8I1MEB7FK5H4fouQFK4HoXrUTJAUrgehesRMkBSuB6F65E1QNejcD0K1zJACtejcD1KMkAzMzMzM/MwQEjhehSuxzVAFK5H4XrUOkCF61G4HgUyQAAAAAAAQDFAZmZmZmbmNUAK16NwPUo3QOxRuB6FaypAMzMzMzMzLkCamZmZmVkxQFK4HoXrETBAUrgehesRMEC4HoXrUTg0QPYoXI/CNTxAzczMzMxMLkAUrkfhetQyQOxRuB6F6ylAXI/C9SjcLUC4HoXrUbg2QHsUrkfhejFAcT0K16NwK0AK16NwPUo3QK5H4XoULixAKVyPwvUoMEAAAAAAAAAvQPYoXI/CNTdAcT0K16NwKEDXo3A9CtcwQLgehetR+DNASOF6FK5HNkC4HoXrUbgxQK5H4XoULjFApHA9CtfjMkD2KFyPwnUxQClcj8L1qC1Aw/UoXI9CMUCF61G4HgU1QFK4HoXr0SVACtejcD1KMkDsUbgehSswQGZmZmZm5i1A16NwPQqXMkC4HoXrUbgtQB+F61G4XjVAKVyPwvWoNEDsUbgehesxQFK4HoXrkTFAFK5H4XrUMECuR+F6FK41QFyPwvUoHDZAj8L1KFzPPUDsUbgehSs1QDMzMzMzszVAFK5H4XoUNUDXo3A9ClcoQClcj8L1aDVACtejcD0KM0D2KFyPwvUrQIXrUbgeBTBA4XoUrkchM0AfhetRuB4zQEjhehSuRzVA9ihcj8L1LUB7FK5H4fo1QB+F61G4njBA7FG4HoWrMUBI4XoUroc2QK5H4XoUrjFACtejcD2KM0C4HoXrUfg1QHE9Ctej8DBAH4XrUbieM0AK16NwPYozQPYoXI/C9S9AmpmZmZmZM0BSuB6F61EvQDMzMzMzMzFA7FG4HoVrOUAUrkfhepQvQFK4HoXrUTJAmpmZmZnZMECkcD0K1+M4QEjhehSuBzxAKVyPwvWoMUDXo3A9ClczQIXrUbgehTRACtejcD2KNUAAAAAAAAA5QHsUrkfhOjxA9ihcj8L1K0BmZmZmZiYxQLgehetRuD5ACtejcD1KPUAAAAAAAEA5QOF6FK5HITlAMzMzMzMzPEBmZmZmZiY7QIXrUbgeRTpAPQrXo3D9OkBcj8L1KFwyQLgehetRODJA4XoUrkchNEA9CtejcL00QJqZmZmZGTJAFK5H4XpUN0CuR+F6FC4yQD0K16NwfTJApHA9CtcjPEBcj8L1KNwtQLgehetR+D1APQrXo3A9L0D2KFyPwnUvQEjhehSuhzRAH4XrUbieMECuR+F6FC4tQMP1KFyPgjNASOF6FK4HMkA9CtejcD0zQB+F61G4HixApHA9CtejMUCPwvUoXI8mQClcj8L1aDBAmpmZmZnZMEBSuB6F69EyQOxRuB6FKzBAMzMzMzMzNEBxPQrXo3A2QPYoXI/CdSpAj8L1KFyPNEApXI/C9agpQArXo3A9ijRA9ihcj8I1NEDsUbgehSsyQI/C9ShcTzFAhetRuB6FMUA9CtejcD01QD0K16NwvTBAPQrXo3B9OEBSuB6F61EwQBSuR+F61DNAPQrXo3C9KUBI4XoUrkcqQArXo3A9CjRAH4XrUbgeMUBmZmZmZmYvQDMzMzMz8zdA4XoUrkdhLUBmZmZmZmYtQIXrUbgehTRAUrgehetRK0BSuB6F6xEzQFyPwvUonDJAFK5H4XqUNEDD9Shcj0I0QLgehetRODJAMzMzMzOzMEDNzMzMzMwrQJqZmZmZmTVAFK5H4XrUM0CuR+F6FK4yQFyPwvUoXC9AMzMzMzMzKkAAAAAAAMAyQArXo3A9iihA16NwPQpXKkDhehSuR+EqQI/C9ShcjzFAhetRuB4FNEAUrkfhelQwQOxRuB6FqzRAH4XrUbieMUBcj8L1KNw0QM3MzMzMjDZAcT0K16NwOEA9CtejcH05QHE9CtejcDlA4XoUrkfhLEA9CtejcP04QOxRuB6FazlAj8L1KFwPPEAzMzMzM7M0QHsUrkfhOjdAmpmZmZlZMEAUrkfhepQwQNejcD0KVzNA9ihcj8I1OEB7FK5H4Xo1QHE9CtejcDZArkfhehRuPUBxPQrXo/A1QOxRuB6F6zxAXI/C9SicO0DXo3A9CpczQOF6FK5H4TtArkfhehSuNkCuR+F6FO43QGZmZmZmJjtAH4XrUbhePUAfhetRuJ4+QNejcD0KFzlApHA9CtdjNkAAAAAAAEA8QBSuR+F6FDxAFK5H4XpUPUAK16NwPYo4QA==",
          "dtype": "f8"
         },
         "y0": " ",
         "yaxis": "y"
        }
       ],
       "layout": {
        "boxmode": "group",
        "legend": {
         "tracegroupgap": 0
        },
        "margin": {
         "t": 60
        },
        "template": {
         "data": {
          "bar": [
           {
            "error_x": {
             "color": "#2a3f5f"
            },
            "error_y": {
             "color": "#2a3f5f"
            },
            "marker": {
             "line": {
              "color": "#E5ECF6",
              "width": 0.5
             },
             "pattern": {
              "fillmode": "overlay",
              "size": 10,
              "solidity": 0.2
             }
            },
            "type": "bar"
           }
          ],
          "barpolar": [
           {
            "marker": {
             "line": {
              "color": "#E5ECF6",
              "width": 0.5
             },
             "pattern": {
              "fillmode": "overlay",
              "size": 10,
              "solidity": 0.2
             }
            },
            "type": "barpolar"
           }
          ],
          "carpet": [
           {
            "aaxis": {
             "endlinecolor": "#2a3f5f",
             "gridcolor": "white",
             "linecolor": "white",
             "minorgridcolor": "white",
             "startlinecolor": "#2a3f5f"
            },
            "baxis": {
             "endlinecolor": "#2a3f5f",
             "gridcolor": "white",
             "linecolor": "white",
             "minorgridcolor": "white",
             "startlinecolor": "#2a3f5f"
            },
            "type": "carpet"
           }
          ],
          "choropleth": [
           {
            "colorbar": {
             "outlinewidth": 0,
             "ticks": ""
            },
            "type": "choropleth"
           }
          ],
          "contour": [
           {
            "colorbar": {
             "outlinewidth": 0,
             "ticks": ""
            },
            "colorscale": [
             [
              0,
              "#0d0887"
             ],
             [
              0.1111111111111111,
              "#46039f"
             ],
             [
              0.2222222222222222,
              "#7201a8"
             ],
             [
              0.3333333333333333,
              "#9c179e"
             ],
             [
              0.4444444444444444,
              "#bd3786"
             ],
             [
              0.5555555555555556,
              "#d8576b"
             ],
             [
              0.6666666666666666,
              "#ed7953"
             ],
             [
              0.7777777777777778,
              "#fb9f3a"
             ],
             [
              0.8888888888888888,
              "#fdca26"
             ],
             [
              1,
              "#f0f921"
             ]
            ],
            "type": "contour"
           }
          ],
          "contourcarpet": [
           {
            "colorbar": {
             "outlinewidth": 0,
             "ticks": ""
            },
            "type": "contourcarpet"
           }
          ],
          "heatmap": [
           {
            "colorbar": {
             "outlinewidth": 0,
             "ticks": ""
            },
            "colorscale": [
             [
              0,
              "#0d0887"
             ],
             [
              0.1111111111111111,
              "#46039f"
             ],
             [
              0.2222222222222222,
              "#7201a8"
             ],
             [
              0.3333333333333333,
              "#9c179e"
             ],
             [
              0.4444444444444444,
              "#bd3786"
             ],
             [
              0.5555555555555556,
              "#d8576b"
             ],
             [
              0.6666666666666666,
              "#ed7953"
             ],
             [
              0.7777777777777778,
              "#fb9f3a"
             ],
             [
              0.8888888888888888,
              "#fdca26"
             ],
             [
              1,
              "#f0f921"
             ]
            ],
            "type": "heatmap"
           }
          ],
          "histogram": [
           {
            "marker": {
             "pattern": {
              "fillmode": "overlay",
              "size": 10,
              "solidity": 0.2
             }
            },
            "type": "histogram"
           }
          ],
          "histogram2d": [
           {
            "colorbar": {
             "outlinewidth": 0,
             "ticks": ""
            },
            "colorscale": [
             [
              0,
              "#0d0887"
             ],
             [
              0.1111111111111111,
              "#46039f"
             ],
             [
              0.2222222222222222,
              "#7201a8"
             ],
             [
              0.3333333333333333,
              "#9c179e"
             ],
             [
              0.4444444444444444,
              "#bd3786"
             ],
             [
              0.5555555555555556,
              "#d8576b"
             ],
             [
              0.6666666666666666,
              "#ed7953"
             ],
             [
              0.7777777777777778,
              "#fb9f3a"
             ],
             [
              0.8888888888888888,
              "#fdca26"
             ],
             [
              1,
              "#f0f921"
             ]
            ],
            "type": "histogram2d"
           }
          ],
          "histogram2dcontour": [
           {
            "colorbar": {
             "outlinewidth": 0,
             "ticks": ""
            },
            "colorscale": [
             [
              0,
              "#0d0887"
             ],
             [
              0.1111111111111111,
              "#46039f"
             ],
             [
              0.2222222222222222,
              "#7201a8"
             ],
             [
              0.3333333333333333,
              "#9c179e"
             ],
             [
              0.4444444444444444,
              "#bd3786"
             ],
             [
              0.5555555555555556,
              "#d8576b"
             ],
             [
              0.6666666666666666,
              "#ed7953"
             ],
             [
              0.7777777777777778,
              "#fb9f3a"
             ],
             [
              0.8888888888888888,
              "#fdca26"
             ],
             [
              1,
              "#f0f921"
             ]
            ],
            "type": "histogram2dcontour"
           }
          ],
          "mesh3d": [
           {
            "colorbar": {
             "outlinewidth": 0,
             "ticks": ""
            },
            "type": "mesh3d"
           }
          ],
          "parcoords": [
           {
            "line": {
             "colorbar": {
              "outlinewidth": 0,
              "ticks": ""
             }
            },
            "type": "parcoords"
           }
          ],
          "pie": [
           {
            "automargin": true,
            "type": "pie"
           }
          ],
          "scatter": [
           {
            "fillpattern": {
             "fillmode": "overlay",
             "size": 10,
             "solidity": 0.2
            },
            "type": "scatter"
           }
          ],
          "scatter3d": [
           {
            "line": {
             "colorbar": {
              "outlinewidth": 0,
              "ticks": ""
             }
            },
            "marker": {
             "colorbar": {
              "outlinewidth": 0,
              "ticks": ""
             }
            },
            "type": "scatter3d"
           }
          ],
          "scattercarpet": [
           {
            "marker": {
             "colorbar": {
              "outlinewidth": 0,
              "ticks": ""
             }
            },
            "type": "scattercarpet"
           }
          ],
          "scattergeo": [
           {
            "marker": {
             "colorbar": {
              "outlinewidth": 0,
              "ticks": ""
             }
            },
            "type": "scattergeo"
           }
          ],
          "scattergl": [
           {
            "marker": {
             "colorbar": {
              "outlinewidth": 0,
              "ticks": ""
             }
            },
            "type": "scattergl"
           }
          ],
          "scattermap": [
           {
            "marker": {
             "colorbar": {
              "outlinewidth": 0,
              "ticks": ""
             }
            },
            "type": "scattermap"
           }
          ],
          "scattermapbox": [
           {
            "marker": {
             "colorbar": {
              "outlinewidth": 0,
              "ticks": ""
             }
            },
            "type": "scattermapbox"
           }
          ],
          "scatterpolar": [
           {
            "marker": {
             "colorbar": {
              "outlinewidth": 0,
              "ticks": ""
             }
            },
            "type": "scatterpolar"
           }
          ],
          "scatterpolargl": [
           {
            "marker": {
             "colorbar": {
              "outlinewidth": 0,
              "ticks": ""
             }
            },
            "type": "scatterpolargl"
           }
          ],
          "scatterternary": [
           {
            "marker": {
             "colorbar": {
              "outlinewidth": 0,
              "ticks": ""
             }
            },
            "type": "scatterternary"
           }
          ],
          "surface": [
           {
            "colorbar": {
             "outlinewidth": 0,
             "ticks": ""
            },
            "colorscale": [
             [
              0,
              "#0d0887"
             ],
             [
              0.1111111111111111,
              "#46039f"
             ],
             [
              0.2222222222222222,
              "#7201a8"
             ],
             [
              0.3333333333333333,
              "#9c179e"
             ],
             [
              0.4444444444444444,
              "#bd3786"
             ],
             [
              0.5555555555555556,
              "#d8576b"
             ],
             [
              0.6666666666666666,
              "#ed7953"
             ],
             [
              0.7777777777777778,
              "#fb9f3a"
             ],
             [
              0.8888888888888888,
              "#fdca26"
             ],
             [
              1,
              "#f0f921"
             ]
            ],
            "type": "surface"
           }
          ],
          "table": [
           {
            "cells": {
             "fill": {
              "color": "#EBF0F8"
             },
             "line": {
              "color": "white"
             }
            },
            "header": {
             "fill": {
              "color": "#C8D4E3"
             },
             "line": {
              "color": "white"
             }
            },
            "type": "table"
           }
          ]
         },
         "layout": {
          "annotationdefaults": {
           "arrowcolor": "#2a3f5f",
           "arrowhead": 0,
           "arrowwidth": 1
          },
          "autotypenumbers": "strict",
          "coloraxis": {
           "colorbar": {
            "outlinewidth": 0,
            "ticks": ""
           }
          },
          "colorscale": {
           "diverging": [
            [
             0,
             "#8e0152"
            ],
            [
             0.1,
             "#c51b7d"
            ],
            [
             0.2,
             "#de77ae"
            ],
            [
             0.3,
             "#f1b6da"
            ],
            [
             0.4,
             "#fde0ef"
            ],
            [
             0.5,
             "#f7f7f7"
            ],
            [
             0.6,
             "#e6f5d0"
            ],
            [
             0.7,
             "#b8e186"
            ],
            [
             0.8,
             "#7fbc41"
            ],
            [
             0.9,
             "#4d9221"
            ],
            [
             1,
             "#276419"
            ]
           ],
           "sequential": [
            [
             0,
             "#0d0887"
            ],
            [
             0.1111111111111111,
             "#46039f"
            ],
            [
             0.2222222222222222,
             "#7201a8"
            ],
            [
             0.3333333333333333,
             "#9c179e"
            ],
            [
             0.4444444444444444,
             "#bd3786"
            ],
            [
             0.5555555555555556,
             "#d8576b"
            ],
            [
             0.6666666666666666,
             "#ed7953"
            ],
            [
             0.7777777777777778,
             "#fb9f3a"
            ],
            [
             0.8888888888888888,
             "#fdca26"
            ],
            [
             1,
             "#f0f921"
            ]
           ],
           "sequentialminus": [
            [
             0,
             "#0d0887"
            ],
            [
             0.1111111111111111,
             "#46039f"
            ],
            [
             0.2222222222222222,
             "#7201a8"
            ],
            [
             0.3333333333333333,
             "#9c179e"
            ],
            [
             0.4444444444444444,
             "#bd3786"
            ],
            [
             0.5555555555555556,
             "#d8576b"
            ],
            [
             0.6666666666666666,
             "#ed7953"
            ],
            [
             0.7777777777777778,
             "#fb9f3a"
            ],
            [
             0.8888888888888888,
             "#fdca26"
            ],
            [
             1,
             "#f0f921"
            ]
           ]
          },
          "colorway": [
           "#636efa",
           "#EF553B",
           "#00cc96",
           "#ab63fa",
           "#FFA15A",
           "#19d3f3",
           "#FF6692",
           "#B6E880",
           "#FF97FF",
           "#FECB52"
          ],
          "font": {
           "color": "#2a3f5f"
          },
          "geo": {
           "bgcolor": "white",
           "lakecolor": "white",
           "landcolor": "#E5ECF6",
           "showlakes": true,
           "showland": true,
           "subunitcolor": "white"
          },
          "hoverlabel": {
           "align": "left"
          },
          "hovermode": "closest",
          "mapbox": {
           "style": "light"
          },
          "paper_bgcolor": "white",
          "plot_bgcolor": "#E5ECF6",
          "polar": {
           "angularaxis": {
            "gridcolor": "white",
            "linecolor": "white",
            "ticks": ""
           },
           "bgcolor": "#E5ECF6",
           "radialaxis": {
            "gridcolor": "white",
            "linecolor": "white",
            "ticks": ""
           }
          },
          "scene": {
           "xaxis": {
            "backgroundcolor": "#E5ECF6",
            "gridcolor": "white",
            "gridwidth": 2,
            "linecolor": "white",
            "showbackground": true,
            "ticks": "",
            "zerolinecolor": "white"
           },
           "yaxis": {
            "backgroundcolor": "#E5ECF6",
            "gridcolor": "white",
            "gridwidth": 2,
            "linecolor": "white",
            "showbackground": true,
            "ticks": "",
            "zerolinecolor": "white"
           },
           "zaxis": {
            "backgroundcolor": "#E5ECF6",
            "gridcolor": "white",
            "gridwidth": 2,
            "linecolor": "white",
            "showbackground": true,
            "ticks": "",
            "zerolinecolor": "white"
           }
          },
          "shapedefaults": {
           "line": {
            "color": "#2a3f5f"
           }
          },
          "ternary": {
           "aaxis": {
            "gridcolor": "white",
            "linecolor": "white",
            "ticks": ""
           },
           "baxis": {
            "gridcolor": "white",
            "linecolor": "white",
            "ticks": ""
           },
           "bgcolor": "#E5ECF6",
           "caxis": {
            "gridcolor": "white",
            "linecolor": "white",
            "ticks": ""
           }
          },
          "title": {
           "x": 0.05
          },
          "xaxis": {
           "automargin": true,
           "gridcolor": "white",
           "linecolor": "white",
           "ticks": "",
           "title": {
            "standoff": 15
           },
           "zerolinecolor": "white",
           "zerolinewidth": 2
          },
          "yaxis": {
           "automargin": true,
           "gridcolor": "white",
           "linecolor": "white",
           "ticks": "",
           "title": {
            "standoff": 15
           },
           "zerolinecolor": "white",
           "zerolinewidth": 2
          }
         }
        },
        "title": {
         "text": "Boxplot for texture_mean - Cancer Dataset"
        },
        "xaxis": {
         "anchor": "y",
         "domain": [
          0,
          1
         ],
         "title": {
          "text": "Category"
         }
        },
        "yaxis": {
         "anchor": "x",
         "domain": [
          0,
          1
         ],
         "title": {
          "text": "texture_mean"
         }
        }
       }
      }
     },
     "metadata": {},
     "output_type": "display_data"
    },
    {
     "data": {
      "application/vnd.plotly.v1+json": {
       "config": {
        "plotlyServerURL": "https://plot.ly"
       },
       "data": [
        {
         "alignmentgroup": "True",
         "hovertemplate": "perimeter_mean=%{y}<extra></extra>",
         "legendgroup": "",
         "marker": {
          "color": "#636efa"
         },
         "name": "",
         "notched": false,
         "offsetgroup": "",
         "orientation": "v",
         "showlegend": false,
         "type": "box",
         "x0": " ",
         "xaxis": "x",
         "y": {
          "bdata": "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",
          "dtype": "f8"
         },
         "y0": " ",
         "yaxis": "y"
        }
       ],
       "layout": {
        "boxmode": "group",
        "legend": {
         "tracegroupgap": 0
        },
        "margin": {
         "t": 60
        },
        "template": {
         "data": {
          "bar": [
           {
            "error_x": {
             "color": "#2a3f5f"
            },
            "error_y": {
             "color": "#2a3f5f"
            },
            "marker": {
             "line": {
              "color": "#E5ECF6",
              "width": 0.5
             },
             "pattern": {
              "fillmode": "overlay",
              "size": 10,
              "solidity": 0.2
             }
            },
            "type": "bar"
           }
          ],
          "barpolar": [
           {
            "marker": {
             "line": {
              "color": "#E5ECF6",
              "width": 0.5
             },
             "pattern": {
              "fillmode": "overlay",
              "size": 10,
              "solidity": 0.2
             }
            },
            "type": "barpolar"
           }
          ],
          "carpet": [
           {
            "aaxis": {
             "endlinecolor": "#2a3f5f",
             "gridcolor": "white",
             "linecolor": "white",
             "minorgridcolor": "white",
             "startlinecolor": "#2a3f5f"
            },
            "baxis": {
             "endlinecolor": "#2a3f5f",
             "gridcolor": "white",
             "linecolor": "white",
             "minorgridcolor": "white",
             "startlinecolor": "#2a3f5f"
            },
            "type": "carpet"
           }
          ],
          "choropleth": [
           {
            "colorbar": {
             "outlinewidth": 0,
             "ticks": ""
            },
            "type": "choropleth"
           }
          ],
          "contour": [
           {
            "colorbar": {
             "outlinewidth": 0,
             "ticks": ""
            },
            "colorscale": [
             [
              0,
              "#0d0887"
             ],
             [
              0.1111111111111111,
              "#46039f"
             ],
             [
              0.2222222222222222,
              "#7201a8"
             ],
             [
              0.3333333333333333,
              "#9c179e"
             ],
             [
              0.4444444444444444,
              "#bd3786"
             ],
             [
              0.5555555555555556,
              "#d8576b"
             ],
             [
              0.6666666666666666,
              "#ed7953"
             ],
             [
              0.7777777777777778,
              "#fb9f3a"
             ],
             [
              0.8888888888888888,
              "#fdca26"
             ],
             [
              1,
              "#f0f921"
             ]
            ],
            "type": "contour"
           }
          ],
          "contourcarpet": [
           {
            "colorbar": {
             "outlinewidth": 0,
             "ticks": ""
            },
            "type": "contourcarpet"
           }
          ],
          "heatmap": [
           {
            "colorbar": {
             "outlinewidth": 0,
             "ticks": ""
            },
            "colorscale": [
             [
              0,
              "#0d0887"
             ],
             [
              0.1111111111111111,
              "#46039f"
             ],
             [
              0.2222222222222222,
              "#7201a8"
             ],
             [
              0.3333333333333333,
              "#9c179e"
             ],
             [
              0.4444444444444444,
              "#bd3786"
             ],
             [
              0.5555555555555556,
              "#d8576b"
             ],
             [
              0.6666666666666666,
              "#ed7953"
             ],
             [
              0.7777777777777778,
              "#fb9f3a"
             ],
             [
              0.8888888888888888,
              "#fdca26"
             ],
             [
              1,
              "#f0f921"
             ]
            ],
            "type": "heatmap"
           }
          ],
          "histogram": [
           {
            "marker": {
             "pattern": {
              "fillmode": "overlay",
              "size": 10,
              "solidity": 0.2
             }
            },
            "type": "histogram"
           }
          ],
          "histogram2d": [
           {
            "colorbar": {
             "outlinewidth": 0,
             "ticks": ""
            },
            "colorscale": [
             [
              0,
              "#0d0887"
             ],
             [
              0.1111111111111111,
              "#46039f"
             ],
             [
              0.2222222222222222,
              "#7201a8"
             ],
             [
              0.3333333333333333,
              "#9c179e"
             ],
             [
              0.4444444444444444,
              "#bd3786"
             ],
             [
              0.5555555555555556,
              "#d8576b"
             ],
             [
              0.6666666666666666,
              "#ed7953"
             ],
             [
              0.7777777777777778,
              "#fb9f3a"
             ],
             [
              0.8888888888888888,
              "#fdca26"
             ],
             [
              1,
              "#f0f921"
             ]
            ],
            "type": "histogram2d"
           }
          ],
          "histogram2dcontour": [
           {
            "colorbar": {
             "outlinewidth": 0,
             "ticks": ""
            },
            "colorscale": [
             [
              0,
              "#0d0887"
             ],
             [
              0.1111111111111111,
              "#46039f"
             ],
             [
              0.2222222222222222,
              "#7201a8"
             ],
             [
              0.3333333333333333,
              "#9c179e"
             ],
             [
              0.4444444444444444,
              "#bd3786"
             ],
             [
              0.5555555555555556,
              "#d8576b"
             ],
             [
              0.6666666666666666,
              "#ed7953"
             ],
             [
              0.7777777777777778,
              "#fb9f3a"
             ],
             [
              0.8888888888888888,
              "#fdca26"
             ],
             [
              1,
              "#f0f921"
             ]
            ],
            "type": "histogram2dcontour"
           }
          ],
          "mesh3d": [
           {
            "colorbar": {
             "outlinewidth": 0,
             "ticks": ""
            },
            "type": "mesh3d"
           }
          ],
          "parcoords": [
           {
            "line": {
             "colorbar": {
              "outlinewidth": 0,
              "ticks": ""
             }
            },
            "type": "parcoords"
           }
          ],
          "pie": [
           {
            "automargin": true,
            "type": "pie"
           }
          ],
          "scatter": [
           {
            "fillpattern": {
             "fillmode": "overlay",
             "size": 10,
             "solidity": 0.2
            },
            "type": "scatter"
           }
          ],
          "scatter3d": [
           {
            "line": {
             "colorbar": {
              "outlinewidth": 0,
              "ticks": ""
             }
            },
            "marker": {
             "colorbar": {
              "outlinewidth": 0,
              "ticks": ""
             }
            },
            "type": "scatter3d"
           }
          ],
          "scattercarpet": [
           {
            "marker": {
             "colorbar": {
              "outlinewidth": 0,
              "ticks": ""
             }
            },
            "type": "scattercarpet"
           }
          ],
          "scattergeo": [
           {
            "marker": {
             "colorbar": {
              "outlinewidth": 0,
              "ticks": ""
             }
            },
            "type": "scattergeo"
           }
          ],
          "scattergl": [
           {
            "marker": {
             "colorbar": {
              "outlinewidth": 0,
              "ticks": ""
             }
            },
            "type": "scattergl"
           }
          ],
          "scattermap": [
           {
            "marker": {
             "colorbar": {
              "outlinewidth": 0,
              "ticks": ""
             }
            },
            "type": "scattermap"
           }
          ],
          "scattermapbox": [
           {
            "marker": {
             "colorbar": {
              "outlinewidth": 0,
              "ticks": ""
             }
            },
            "type": "scattermapbox"
           }
          ],
          "scatterpolar": [
           {
            "marker": {
             "colorbar": {
              "outlinewidth": 0,
              "ticks": ""
             }
            },
            "type": "scatterpolar"
           }
          ],
          "scatterpolargl": [
           {
            "marker": {
             "colorbar": {
              "outlinewidth": 0,
              "ticks": ""
             }
            },
            "type": "scatterpolargl"
           }
          ],
          "scatterternary": [
           {
            "marker": {
             "colorbar": {
              "outlinewidth": 0,
              "ticks": ""
             }
            },
            "type": "scatterternary"
           }
          ],
          "surface": [
           {
            "colorbar": {
             "outlinewidth": 0,
             "ticks": ""
            },
            "colorscale": [
             [
              0,
              "#0d0887"
             ],
             [
              0.1111111111111111,
              "#46039f"
             ],
             [
              0.2222222222222222,
              "#7201a8"
             ],
             [
              0.3333333333333333,
              "#9c179e"
             ],
             [
              0.4444444444444444,
              "#bd3786"
             ],
             [
              0.5555555555555556,
              "#d8576b"
             ],
             [
              0.6666666666666666,
              "#ed7953"
             ],
             [
              0.7777777777777778,
              "#fb9f3a"
             ],
             [
              0.8888888888888888,
              "#fdca26"
             ],
             [
              1,
              "#f0f921"
             ]
            ],
            "type": "surface"
           }
          ],
          "table": [
           {
            "cells": {
             "fill": {
              "color": "#EBF0F8"
             },
             "line": {
              "color": "white"
             }
            },
            "header": {
             "fill": {
              "color": "#C8D4E3"
             },
             "line": {
              "color": "white"
             }
            },
            "type": "table"
           }
          ]
         },
         "layout": {
          "annotationdefaults": {
           "arrowcolor": "#2a3f5f",
           "arrowhead": 0,
           "arrowwidth": 1
          },
          "autotypenumbers": "strict",
          "coloraxis": {
           "colorbar": {
            "outlinewidth": 0,
            "ticks": ""
           }
          },
          "colorscale": {
           "diverging": [
            [
             0,
             "#8e0152"
            ],
            [
             0.1,
             "#c51b7d"
            ],
            [
             0.2,
             "#de77ae"
            ],
            [
             0.3,
             "#f1b6da"
            ],
            [
             0.4,
             "#fde0ef"
            ],
            [
             0.5,
             "#f7f7f7"
            ],
            [
             0.6,
             "#e6f5d0"
            ],
            [
             0.7,
             "#b8e186"
            ],
            [
             0.8,
             "#7fbc41"
            ],
            [
             0.9,
             "#4d9221"
            ],
            [
             1,
             "#276419"
            ]
           ],
           "sequential": [
            [
             0,
             "#0d0887"
            ],
            [
             0.1111111111111111,
             "#46039f"
            ],
            [
             0.2222222222222222,
             "#7201a8"
            ],
            [
             0.3333333333333333,
             "#9c179e"
            ],
            [
             0.4444444444444444,
             "#bd3786"
            ],
            [
             0.5555555555555556,
             "#d8576b"
            ],
            [
             0.6666666666666666,
             "#ed7953"
            ],
            [
             0.7777777777777778,
             "#fb9f3a"
            ],
            [
             0.8888888888888888,
             "#fdca26"
            ],
            [
             1,
             "#f0f921"
            ]
           ],
           "sequentialminus": [
            [
             0,
             "#0d0887"
            ],
            [
             0.1111111111111111,
             "#46039f"
            ],
            [
             0.2222222222222222,
             "#7201a8"
            ],
            [
             0.3333333333333333,
             "#9c179e"
            ],
            [
             0.4444444444444444,
             "#bd3786"
            ],
            [
             0.5555555555555556,
             "#d8576b"
            ],
            [
             0.6666666666666666,
             "#ed7953"
            ],
            [
             0.7777777777777778,
             "#fb9f3a"
            ],
            [
             0.8888888888888888,
             "#fdca26"
            ],
            [
             1,
             "#f0f921"
            ]
           ]
          },
          "colorway": [
           "#636efa",
           "#EF553B",
           "#00cc96",
           "#ab63fa",
           "#FFA15A",
           "#19d3f3",
           "#FF6692",
           "#B6E880",
           "#FF97FF",
           "#FECB52"
          ],
          "font": {
           "color": "#2a3f5f"
          },
          "geo": {
           "bgcolor": "white",
           "lakecolor": "white",
           "landcolor": "#E5ECF6",
           "showlakes": true,
           "showland": true,
           "subunitcolor": "white"
          },
          "hoverlabel": {
           "align": "left"
          },
          "hovermode": "closest",
          "mapbox": {
           "style": "light"
          },
          "paper_bgcolor": "white",
          "plot_bgcolor": "#E5ECF6",
          "polar": {
           "angularaxis": {
            "gridcolor": "white",
            "linecolor": "white",
            "ticks": ""
           },
           "bgcolor": "#E5ECF6",
           "radialaxis": {
            "gridcolor": "white",
            "linecolor": "white",
            "ticks": ""
           }
          },
          "scene": {
           "xaxis": {
            "backgroundcolor": "#E5ECF6",
            "gridcolor": "white",
            "gridwidth": 2,
            "linecolor": "white",
            "showbackground": true,
            "ticks": "",
            "zerolinecolor": "white"
           },
           "yaxis": {
            "backgroundcolor": "#E5ECF6",
            "gridcolor": "white",
            "gridwidth": 2,
            "linecolor": "white",
            "showbackground": true,
            "ticks": "",
            "zerolinecolor": "white"
           },
           "zaxis": {
            "backgroundcolor": "#E5ECF6",
            "gridcolor": "white",
            "gridwidth": 2,
            "linecolor": "white",
            "showbackground": true,
            "ticks": "",
            "zerolinecolor": "white"
           }
          },
          "shapedefaults": {
           "line": {
            "color": "#2a3f5f"
           }
          },
          "ternary": {
           "aaxis": {
            "gridcolor": "white",
            "linecolor": "white",
            "ticks": ""
           },
           "baxis": {
            "gridcolor": "white",
            "linecolor": "white",
            "ticks": ""
           },
           "bgcolor": "#E5ECF6",
           "caxis": {
            "gridcolor": "white",
            "linecolor": "white",
            "ticks": ""
           }
          },
          "title": {
           "x": 0.05
          },
          "xaxis": {
           "automargin": true,
           "gridcolor": "white",
           "linecolor": "white",
           "ticks": "",
           "title": {
            "standoff": 15
           },
           "zerolinecolor": "white",
           "zerolinewidth": 2
          },
          "yaxis": {
           "automargin": true,
           "gridcolor": "white",
           "linecolor": "white",
           "ticks": "",
           "title": {
            "standoff": 15
           },
           "zerolinecolor": "white",
           "zerolinewidth": 2
          }
         }
        },
        "title": {
         "text": "Boxplot for perimeter_mean - Cancer Dataset"
        },
        "xaxis": {
         "anchor": "y",
         "domain": [
          0,
          1
         ],
         "title": {
          "text": "Category"
         }
        },
        "yaxis": {
         "anchor": "x",
         "domain": [
          0,
          1
         ],
         "title": {
          "text": "perimeter_mean"
         }
        }
       }
      }
     },
     "metadata": {},
     "output_type": "display_data"
    },
    {
     "data": {
      "application/vnd.plotly.v1+json": {
       "config": {
        "plotlyServerURL": "https://plot.ly"
       },
       "data": [
        {
         "alignmentgroup": "True",
         "hovertemplate": "area_mean=%{y}<extra></extra>",
         "legendgroup": "",
         "marker": {
          "color": "#636efa"
         },
         "name": "",
         "notched": false,
         "offsetgroup": "",
         "orientation": "v",
         "showlegend": false,
         "type": "box",
         "x0": " ",
         "xaxis": "x",
         "y": {
          "bdata": "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",
          "dtype": "f8"
         },
         "y0": " ",
         "yaxis": "y"
        }
       ],
       "layout": {
        "boxmode": "group",
        "legend": {
         "tracegroupgap": 0
        },
        "margin": {
         "t": 60
        },
        "template": {
         "data": {
          "bar": [
           {
            "error_x": {
             "color": "#2a3f5f"
            },
            "error_y": {
             "color": "#2a3f5f"
            },
            "marker": {
             "line": {
              "color": "#E5ECF6",
              "width": 0.5
             },
             "pattern": {
              "fillmode": "overlay",
              "size": 10,
              "solidity": 0.2
             }
            },
            "type": "bar"
           }
          ],
          "barpolar": [
           {
            "marker": {
             "line": {
              "color": "#E5ECF6",
              "width": 0.5
             },
             "pattern": {
              "fillmode": "overlay",
              "size": 10,
              "solidity": 0.2
             }
            },
            "type": "barpolar"
           }
          ],
          "carpet": [
           {
            "aaxis": {
             "endlinecolor": "#2a3f5f",
             "gridcolor": "white",
             "linecolor": "white",
             "minorgridcolor": "white",
             "startlinecolor": "#2a3f5f"
            },
            "baxis": {
             "endlinecolor": "#2a3f5f",
             "gridcolor": "white",
             "linecolor": "white",
             "minorgridcolor": "white",
             "startlinecolor": "#2a3f5f"
            },
            "type": "carpet"
           }
          ],
          "choropleth": [
           {
            "colorbar": {
             "outlinewidth": 0,
             "ticks": ""
            },
            "type": "choropleth"
           }
          ],
          "contour": [
           {
            "colorbar": {
             "outlinewidth": 0,
             "ticks": ""
            },
            "colorscale": [
             [
              0,
              "#0d0887"
             ],
             [
              0.1111111111111111,
              "#46039f"
             ],
             [
              0.2222222222222222,
              "#7201a8"
             ],
             [
              0.3333333333333333,
              "#9c179e"
             ],
             [
              0.4444444444444444,
              "#bd3786"
             ],
             [
              0.5555555555555556,
              "#d8576b"
             ],
             [
              0.6666666666666666,
              "#ed7953"
             ],
             [
              0.7777777777777778,
              "#fb9f3a"
             ],
             [
              0.8888888888888888,
              "#fdca26"
             ],
             [
              1,
              "#f0f921"
             ]
            ],
            "type": "contour"
           }
          ],
          "contourcarpet": [
           {
            "colorbar": {
             "outlinewidth": 0,
             "ticks": ""
            },
            "type": "contourcarpet"
           }
          ],
          "heatmap": [
           {
            "colorbar": {
             "outlinewidth": 0,
             "ticks": ""
            },
            "colorscale": [
             [
              0,
              "#0d0887"
             ],
             [
              0.1111111111111111,
              "#46039f"
             ],
             [
              0.2222222222222222,
              "#7201a8"
             ],
             [
              0.3333333333333333,
              "#9c179e"
             ],
             [
              0.4444444444444444,
              "#bd3786"
             ],
             [
              0.5555555555555556,
              "#d8576b"
             ],
             [
              0.6666666666666666,
              "#ed7953"
             ],
             [
              0.7777777777777778,
              "#fb9f3a"
             ],
             [
              0.8888888888888888,
              "#fdca26"
             ],
             [
              1,
              "#f0f921"
             ]
            ],
            "type": "heatmap"
           }
          ],
          "histogram": [
           {
            "marker": {
             "pattern": {
              "fillmode": "overlay",
              "size": 10,
              "solidity": 0.2
             }
            },
            "type": "histogram"
           }
          ],
          "histogram2d": [
           {
            "colorbar": {
             "outlinewidth": 0,
             "ticks": ""
            },
            "colorscale": [
             [
              0,
              "#0d0887"
             ],
             [
              0.1111111111111111,
              "#46039f"
             ],
             [
              0.2222222222222222,
              "#7201a8"
             ],
             [
              0.3333333333333333,
              "#9c179e"
             ],
             [
              0.4444444444444444,
              "#bd3786"
             ],
             [
              0.5555555555555556,
              "#d8576b"
             ],
             [
              0.6666666666666666,
              "#ed7953"
             ],
             [
              0.7777777777777778,
              "#fb9f3a"
             ],
             [
              0.8888888888888888,
              "#fdca26"
             ],
             [
              1,
              "#f0f921"
             ]
            ],
            "type": "histogram2d"
           }
          ],
          "histogram2dcontour": [
           {
            "colorbar": {
             "outlinewidth": 0,
             "ticks": ""
            },
            "colorscale": [
             [
              0,
              "#0d0887"
             ],
             [
              0.1111111111111111,
              "#46039f"
             ],
             [
              0.2222222222222222,
              "#7201a8"
             ],
             [
              0.3333333333333333,
              "#9c179e"
             ],
             [
              0.4444444444444444,
              "#bd3786"
             ],
             [
              0.5555555555555556,
              "#d8576b"
             ],
             [
              0.6666666666666666,
              "#ed7953"
             ],
             [
              0.7777777777777778,
              "#fb9f3a"
             ],
             [
              0.8888888888888888,
              "#fdca26"
             ],
             [
              1,
              "#f0f921"
             ]
            ],
            "type": "histogram2dcontour"
           }
          ],
          "mesh3d": [
           {
            "colorbar": {
             "outlinewidth": 0,
             "ticks": ""
            },
            "type": "mesh3d"
           }
          ],
          "parcoords": [
           {
            "line": {
             "colorbar": {
              "outlinewidth": 0,
              "ticks": ""
             }
            },
            "type": "parcoords"
           }
          ],
          "pie": [
           {
            "automargin": true,
            "type": "pie"
           }
          ],
          "scatter": [
           {
            "fillpattern": {
             "fillmode": "overlay",
             "size": 10,
             "solidity": 0.2
            },
            "type": "scatter"
           }
          ],
          "scatter3d": [
           {
            "line": {
             "colorbar": {
              "outlinewidth": 0,
              "ticks": ""
             }
            },
            "marker": {
             "colorbar": {
              "outlinewidth": 0,
              "ticks": ""
             }
            },
            "type": "scatter3d"
           }
          ],
          "scattercarpet": [
           {
            "marker": {
             "colorbar": {
              "outlinewidth": 0,
              "ticks": ""
             }
            },
            "type": "scattercarpet"
           }
          ],
          "scattergeo": [
           {
            "marker": {
             "colorbar": {
              "outlinewidth": 0,
              "ticks": ""
             }
            },
            "type": "scattergeo"
           }
          ],
          "scattergl": [
           {
            "marker": {
             "colorbar": {
              "outlinewidth": 0,
              "ticks": ""
             }
            },
            "type": "scattergl"
           }
          ],
          "scattermap": [
           {
            "marker": {
             "colorbar": {
              "outlinewidth": 0,
              "ticks": ""
             }
            },
            "type": "scattermap"
           }
          ],
          "scattermapbox": [
           {
            "marker": {
             "colorbar": {
              "outlinewidth": 0,
              "ticks": ""
             }
            },
            "type": "scattermapbox"
           }
          ],
          "scatterpolar": [
           {
            "marker": {
             "colorbar": {
              "outlinewidth": 0,
              "ticks": ""
             }
            },
            "type": "scatterpolar"
           }
          ],
          "scatterpolargl": [
           {
            "marker": {
             "colorbar": {
              "outlinewidth": 0,
              "ticks": ""
             }
            },
            "type": "scatterpolargl"
           }
          ],
          "scatterternary": [
           {
            "marker": {
             "colorbar": {
              "outlinewidth": 0,
              "ticks": ""
             }
            },
            "type": "scatterternary"
           }
          ],
          "surface": [
           {
            "colorbar": {
             "outlinewidth": 0,
             "ticks": ""
            },
            "colorscale": [
             [
              0,
              "#0d0887"
             ],
             [
              0.1111111111111111,
              "#46039f"
             ],
             [
              0.2222222222222222,
              "#7201a8"
             ],
             [
              0.3333333333333333,
              "#9c179e"
             ],
             [
              0.4444444444444444,
              "#bd3786"
             ],
             [
              0.5555555555555556,
              "#d8576b"
             ],
             [
              0.6666666666666666,
              "#ed7953"
             ],
             [
              0.7777777777777778,
              "#fb9f3a"
             ],
             [
              0.8888888888888888,
              "#fdca26"
             ],
             [
              1,
              "#f0f921"
             ]
            ],
            "type": "surface"
           }
          ],
          "table": [
           {
            "cells": {
             "fill": {
              "color": "#EBF0F8"
             },
             "line": {
              "color": "white"
             }
            },
            "header": {
             "fill": {
              "color": "#C8D4E3"
             },
             "line": {
              "color": "white"
             }
            },
            "type": "table"
           }
          ]
         },
         "layout": {
          "annotationdefaults": {
           "arrowcolor": "#2a3f5f",
           "arrowhead": 0,
           "arrowwidth": 1
          },
          "autotypenumbers": "strict",
          "coloraxis": {
           "colorbar": {
            "outlinewidth": 0,
            "ticks": ""
           }
          },
          "colorscale": {
           "diverging": [
            [
             0,
             "#8e0152"
            ],
            [
             0.1,
             "#c51b7d"
            ],
            [
             0.2,
             "#de77ae"
            ],
            [
             0.3,
             "#f1b6da"
            ],
            [
             0.4,
             "#fde0ef"
            ],
            [
             0.5,
             "#f7f7f7"
            ],
            [
             0.6,
             "#e6f5d0"
            ],
            [
             0.7,
             "#b8e186"
            ],
            [
             0.8,
             "#7fbc41"
            ],
            [
             0.9,
             "#4d9221"
            ],
            [
             1,
             "#276419"
            ]
           ],
           "sequential": [
            [
             0,
             "#0d0887"
            ],
            [
             0.1111111111111111,
             "#46039f"
            ],
            [
             0.2222222222222222,
             "#7201a8"
            ],
            [
             0.3333333333333333,
             "#9c179e"
            ],
            [
             0.4444444444444444,
             "#bd3786"
            ],
            [
             0.5555555555555556,
             "#d8576b"
            ],
            [
             0.6666666666666666,
             "#ed7953"
            ],
            [
             0.7777777777777778,
             "#fb9f3a"
            ],
            [
             0.8888888888888888,
             "#fdca26"
            ],
            [
             1,
             "#f0f921"
            ]
           ],
           "sequentialminus": [
            [
             0,
             "#0d0887"
            ],
            [
             0.1111111111111111,
             "#46039f"
            ],
            [
             0.2222222222222222,
             "#7201a8"
            ],
            [
             0.3333333333333333,
             "#9c179e"
            ],
            [
             0.4444444444444444,
             "#bd3786"
            ],
            [
             0.5555555555555556,
             "#d8576b"
            ],
            [
             0.6666666666666666,
             "#ed7953"
            ],
            [
             0.7777777777777778,
             "#fb9f3a"
            ],
            [
             0.8888888888888888,
             "#fdca26"
            ],
            [
             1,
             "#f0f921"
            ]
           ]
          },
          "colorway": [
           "#636efa",
           "#EF553B",
           "#00cc96",
           "#ab63fa",
           "#FFA15A",
           "#19d3f3",
           "#FF6692",
           "#B6E880",
           "#FF97FF",
           "#FECB52"
          ],
          "font": {
           "color": "#2a3f5f"
          },
          "geo": {
           "bgcolor": "white",
           "lakecolor": "white",
           "landcolor": "#E5ECF6",
           "showlakes": true,
           "showland": true,
           "subunitcolor": "white"
          },
          "hoverlabel": {
           "align": "left"
          },
          "hovermode": "closest",
          "mapbox": {
           "style": "light"
          },
          "paper_bgcolor": "white",
          "plot_bgcolor": "#E5ECF6",
          "polar": {
           "angularaxis": {
            "gridcolor": "white",
            "linecolor": "white",
            "ticks": ""
           },
           "bgcolor": "#E5ECF6",
           "radialaxis": {
            "gridcolor": "white",
            "linecolor": "white",
            "ticks": ""
           }
          },
          "scene": {
           "xaxis": {
            "backgroundcolor": "#E5ECF6",
            "gridcolor": "white",
            "gridwidth": 2,
            "linecolor": "white",
            "showbackground": true,
            "ticks": "",
            "zerolinecolor": "white"
           },
           "yaxis": {
            "backgroundcolor": "#E5ECF6",
            "gridcolor": "white",
            "gridwidth": 2,
            "linecolor": "white",
            "showbackground": true,
            "ticks": "",
            "zerolinecolor": "white"
           },
           "zaxis": {
            "backgroundcolor": "#E5ECF6",
            "gridcolor": "white",
            "gridwidth": 2,
            "linecolor": "white",
            "showbackground": true,
            "ticks": "",
            "zerolinecolor": "white"
           }
          },
          "shapedefaults": {
           "line": {
            "color": "#2a3f5f"
           }
          },
          "ternary": {
           "aaxis": {
            "gridcolor": "white",
            "linecolor": "white",
            "ticks": ""
           },
           "baxis": {
            "gridcolor": "white",
            "linecolor": "white",
            "ticks": ""
           },
           "bgcolor": "#E5ECF6",
           "caxis": {
            "gridcolor": "white",
            "linecolor": "white",
            "ticks": ""
           }
          },
          "title": {
           "x": 0.05
          },
          "xaxis": {
           "automargin": true,
           "gridcolor": "white",
           "linecolor": "white",
           "ticks": "",
           "title": {
            "standoff": 15
           },
           "zerolinecolor": "white",
           "zerolinewidth": 2
          },
          "yaxis": {
           "automargin": true,
           "gridcolor": "white",
           "linecolor": "white",
           "ticks": "",
           "title": {
            "standoff": 15
           },
           "zerolinecolor": "white",
           "zerolinewidth": 2
          }
         }
        },
        "title": {
         "text": "Boxplot for area_mean - Cancer Dataset"
        },
        "xaxis": {
         "anchor": "y",
         "domain": [
          0,
          1
         ],
         "title": {
          "text": "Category"
         }
        },
        "yaxis": {
         "anchor": "x",
         "domain": [
          0,
          1
         ],
         "title": {
          "text": "area_mean"
         }
        }
       }
      }
     },
     "metadata": {},
     "output_type": "display_data"
    },
    {
     "data": {
      "application/vnd.plotly.v1+json": {
       "config": {
        "plotlyServerURL": "https://plot.ly"
       },
       "data": [
        {
         "alignmentgroup": "True",
         "hovertemplate": "smoothness_mean=%{y}<extra></extra>",
         "legendgroup": "",
         "marker": {
          "color": "#636efa"
         },
         "name": "",
         "notched": false,
         "offsetgroup": "",
         "orientation": "v",
         "showlegend": false,
         "type": "box",
         "x0": " ",
         "xaxis": "x",
         "y": {
          "bdata": "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",
          "dtype": "f8"
         },
         "y0": " ",
         "yaxis": "y"
        }
       ],
       "layout": {
        "boxmode": "group",
        "legend": {
         "tracegroupgap": 0
        },
        "margin": {
         "t": 60
        },
        "template": {
         "data": {
          "bar": [
           {
            "error_x": {
             "color": "#2a3f5f"
            },
            "error_y": {
             "color": "#2a3f5f"
            },
            "marker": {
             "line": {
              "color": "#E5ECF6",
              "width": 0.5
             },
             "pattern": {
              "fillmode": "overlay",
              "size": 10,
              "solidity": 0.2
             }
            },
            "type": "bar"
           }
          ],
          "barpolar": [
           {
            "marker": {
             "line": {
              "color": "#E5ECF6",
              "width": 0.5
             },
             "pattern": {
              "fillmode": "overlay",
              "size": 10,
              "solidity": 0.2
             }
            },
            "type": "barpolar"
           }
          ],
          "carpet": [
           {
            "aaxis": {
             "endlinecolor": "#2a3f5f",
             "gridcolor": "white",
             "linecolor": "white",
             "minorgridcolor": "white",
             "startlinecolor": "#2a3f5f"
            },
            "baxis": {
             "endlinecolor": "#2a3f5f",
             "gridcolor": "white",
             "linecolor": "white",
             "minorgridcolor": "white",
             "startlinecolor": "#2a3f5f"
            },
            "type": "carpet"
           }
          ],
          "choropleth": [
           {
            "colorbar": {
             "outlinewidth": 0,
             "ticks": ""
            },
            "type": "choropleth"
           }
          ],
          "contour": [
           {
            "colorbar": {
             "outlinewidth": 0,
             "ticks": ""
            },
            "colorscale": [
             [
              0,
              "#0d0887"
             ],
             [
              0.1111111111111111,
              "#46039f"
             ],
             [
              0.2222222222222222,
              "#7201a8"
             ],
             [
              0.3333333333333333,
              "#9c179e"
             ],
             [
              0.4444444444444444,
              "#bd3786"
             ],
             [
              0.5555555555555556,
              "#d8576b"
             ],
             [
              0.6666666666666666,
              "#ed7953"
             ],
             [
              0.7777777777777778,
              "#fb9f3a"
             ],
             [
              0.8888888888888888,
              "#fdca26"
             ],
             [
              1,
              "#f0f921"
             ]
            ],
            "type": "contour"
           }
          ],
          "contourcarpet": [
           {
            "colorbar": {
             "outlinewidth": 0,
             "ticks": ""
            },
            "type": "contourcarpet"
           }
          ],
          "heatmap": [
           {
            "colorbar": {
             "outlinewidth": 0,
             "ticks": ""
            },
            "colorscale": [
             [
              0,
              "#0d0887"
             ],
             [
              0.1111111111111111,
              "#46039f"
             ],
             [
              0.2222222222222222,
              "#7201a8"
             ],
             [
              0.3333333333333333,
              "#9c179e"
             ],
             [
              0.4444444444444444,
              "#bd3786"
             ],
             [
              0.5555555555555556,
              "#d8576b"
             ],
             [
              0.6666666666666666,
              "#ed7953"
             ],
             [
              0.7777777777777778,
              "#fb9f3a"
             ],
             [
              0.8888888888888888,
              "#fdca26"
             ],
             [
              1,
              "#f0f921"
             ]
            ],
            "type": "heatmap"
           }
          ],
          "histogram": [
           {
            "marker": {
             "pattern": {
              "fillmode": "overlay",
              "size": 10,
              "solidity": 0.2
             }
            },
            "type": "histogram"
           }
          ],
          "histogram2d": [
           {
            "colorbar": {
             "outlinewidth": 0,
             "ticks": ""
            },
            "colorscale": [
             [
              0,
              "#0d0887"
             ],
             [
              0.1111111111111111,
              "#46039f"
             ],
             [
              0.2222222222222222,
              "#7201a8"
             ],
             [
              0.3333333333333333,
              "#9c179e"
             ],
             [
              0.4444444444444444,
              "#bd3786"
             ],
             [
              0.5555555555555556,
              "#d8576b"
             ],
             [
              0.6666666666666666,
              "#ed7953"
             ],
             [
              0.7777777777777778,
              "#fb9f3a"
             ],
             [
              0.8888888888888888,
              "#fdca26"
             ],
             [
              1,
              "#f0f921"
             ]
            ],
            "type": "histogram2d"
           }
          ],
          "histogram2dcontour": [
           {
            "colorbar": {
             "outlinewidth": 0,
             "ticks": ""
            },
            "colorscale": [
             [
              0,
              "#0d0887"
             ],
             [
              0.1111111111111111,
              "#46039f"
             ],
             [
              0.2222222222222222,
              "#7201a8"
             ],
             [
              0.3333333333333333,
              "#9c179e"
             ],
             [
              0.4444444444444444,
              "#bd3786"
             ],
             [
              0.5555555555555556,
              "#d8576b"
             ],
             [
              0.6666666666666666,
              "#ed7953"
             ],
             [
              0.7777777777777778,
              "#fb9f3a"
             ],
             [
              0.8888888888888888,
              "#fdca26"
             ],
             [
              1,
              "#f0f921"
             ]
            ],
            "type": "histogram2dcontour"
           }
          ],
          "mesh3d": [
           {
            "colorbar": {
             "outlinewidth": 0,
             "ticks": ""
            },
            "type": "mesh3d"
           }
          ],
          "parcoords": [
           {
            "line": {
             "colorbar": {
              "outlinewidth": 0,
              "ticks": ""
             }
            },
            "type": "parcoords"
           }
          ],
          "pie": [
           {
            "automargin": true,
            "type": "pie"
           }
          ],
          "scatter": [
           {
            "fillpattern": {
             "fillmode": "overlay",
             "size": 10,
             "solidity": 0.2
            },
            "type": "scatter"
           }
          ],
          "scatter3d": [
           {
            "line": {
             "colorbar": {
              "outlinewidth": 0,
              "ticks": ""
             }
            },
            "marker": {
             "colorbar": {
              "outlinewidth": 0,
              "ticks": ""
             }
            },
            "type": "scatter3d"
           }
          ],
          "scattercarpet": [
           {
            "marker": {
             "colorbar": {
              "outlinewidth": 0,
              "ticks": ""
             }
            },
            "type": "scattercarpet"
           }
          ],
          "scattergeo": [
           {
            "marker": {
             "colorbar": {
              "outlinewidth": 0,
              "ticks": ""
             }
            },
            "type": "scattergeo"
           }
          ],
          "scattergl": [
           {
            "marker": {
             "colorbar": {
              "outlinewidth": 0,
              "ticks": ""
             }
            },
            "type": "scattergl"
           }
          ],
          "scattermap": [
           {
            "marker": {
             "colorbar": {
              "outlinewidth": 0,
              "ticks": ""
             }
            },
            "type": "scattermap"
           }
          ],
          "scattermapbox": [
           {
            "marker": {
             "colorbar": {
              "outlinewidth": 0,
              "ticks": ""
             }
            },
            "type": "scattermapbox"
           }
          ],
          "scatterpolar": [
           {
            "marker": {
             "colorbar": {
              "outlinewidth": 0,
              "ticks": ""
             }
            },
            "type": "scatterpolar"
           }
          ],
          "scatterpolargl": [
           {
            "marker": {
             "colorbar": {
              "outlinewidth": 0,
              "ticks": ""
             }
            },
            "type": "scatterpolargl"
           }
          ],
          "scatterternary": [
           {
            "marker": {
             "colorbar": {
              "outlinewidth": 0,
              "ticks": ""
             }
            },
            "type": "scatterternary"
           }
          ],
          "surface": [
           {
            "colorbar": {
             "outlinewidth": 0,
             "ticks": ""
            },
            "colorscale": [
             [
              0,
              "#0d0887"
             ],
             [
              0.1111111111111111,
              "#46039f"
             ],
             [
              0.2222222222222222,
              "#7201a8"
             ],
             [
              0.3333333333333333,
              "#9c179e"
             ],
             [
              0.4444444444444444,
              "#bd3786"
             ],
             [
              0.5555555555555556,
              "#d8576b"
             ],
             [
              0.6666666666666666,
              "#ed7953"
             ],
             [
              0.7777777777777778,
              "#fb9f3a"
             ],
             [
              0.8888888888888888,
              "#fdca26"
             ],
             [
              1,
              "#f0f921"
             ]
            ],
            "type": "surface"
           }
          ],
          "table": [
           {
            "cells": {
             "fill": {
              "color": "#EBF0F8"
             },
             "line": {
              "color": "white"
             }
            },
            "header": {
             "fill": {
              "color": "#C8D4E3"
             },
             "line": {
              "color": "white"
             }
            },
            "type": "table"
           }
          ]
         },
         "layout": {
          "annotationdefaults": {
           "arrowcolor": "#2a3f5f",
           "arrowhead": 0,
           "arrowwidth": 1
          },
          "autotypenumbers": "strict",
          "coloraxis": {
           "colorbar": {
            "outlinewidth": 0,
            "ticks": ""
           }
          },
          "colorscale": {
           "diverging": [
            [
             0,
             "#8e0152"
            ],
            [
             0.1,
             "#c51b7d"
            ],
            [
             0.2,
             "#de77ae"
            ],
            [
             0.3,
             "#f1b6da"
            ],
            [
             0.4,
             "#fde0ef"
            ],
            [
             0.5,
             "#f7f7f7"
            ],
            [
             0.6,
             "#e6f5d0"
            ],
            [
             0.7,
             "#b8e186"
            ],
            [
             0.8,
             "#7fbc41"
            ],
            [
             0.9,
             "#4d9221"
            ],
            [
             1,
             "#276419"
            ]
           ],
           "sequential": [
            [
             0,
             "#0d0887"
            ],
            [
             0.1111111111111111,
             "#46039f"
            ],
            [
             0.2222222222222222,
             "#7201a8"
            ],
            [
             0.3333333333333333,
             "#9c179e"
            ],
            [
             0.4444444444444444,
             "#bd3786"
            ],
            [
             0.5555555555555556,
             "#d8576b"
            ],
            [
             0.6666666666666666,
             "#ed7953"
            ],
            [
             0.7777777777777778,
             "#fb9f3a"
            ],
            [
             0.8888888888888888,
             "#fdca26"
            ],
            [
             1,
             "#f0f921"
            ]
           ],
           "sequentialminus": [
            [
             0,
             "#0d0887"
            ],
            [
             0.1111111111111111,
             "#46039f"
            ],
            [
             0.2222222222222222,
             "#7201a8"
            ],
            [
             0.3333333333333333,
             "#9c179e"
            ],
            [
             0.4444444444444444,
             "#bd3786"
            ],
            [
             0.5555555555555556,
             "#d8576b"
            ],
            [
             0.6666666666666666,
             "#ed7953"
            ],
            [
             0.7777777777777778,
             "#fb9f3a"
            ],
            [
             0.8888888888888888,
             "#fdca26"
            ],
            [
             1,
             "#f0f921"
            ]
           ]
          },
          "colorway": [
           "#636efa",
           "#EF553B",
           "#00cc96",
           "#ab63fa",
           "#FFA15A",
           "#19d3f3",
           "#FF6692",
           "#B6E880",
           "#FF97FF",
           "#FECB52"
          ],
          "font": {
           "color": "#2a3f5f"
          },
          "geo": {
           "bgcolor": "white",
           "lakecolor": "white",
           "landcolor": "#E5ECF6",
           "showlakes": true,
           "showland": true,
           "subunitcolor": "white"
          },
          "hoverlabel": {
           "align": "left"
          },
          "hovermode": "closest",
          "mapbox": {
           "style": "light"
          },
          "paper_bgcolor": "white",
          "plot_bgcolor": "#E5ECF6",
          "polar": {
           "angularaxis": {
            "gridcolor": "white",
            "linecolor": "white",
            "ticks": ""
           },
           "bgcolor": "#E5ECF6",
           "radialaxis": {
            "gridcolor": "white",
            "linecolor": "white",
            "ticks": ""
           }
          },
          "scene": {
           "xaxis": {
            "backgroundcolor": "#E5ECF6",
            "gridcolor": "white",
            "gridwidth": 2,
            "linecolor": "white",
            "showbackground": true,
            "ticks": "",
            "zerolinecolor": "white"
           },
           "yaxis": {
            "backgroundcolor": "#E5ECF6",
            "gridcolor": "white",
            "gridwidth": 2,
            "linecolor": "white",
            "showbackground": true,
            "ticks": "",
            "zerolinecolor": "white"
           },
           "zaxis": {
            "backgroundcolor": "#E5ECF6",
            "gridcolor": "white",
            "gridwidth": 2,
            "linecolor": "white",
            "showbackground": true,
            "ticks": "",
            "zerolinecolor": "white"
           }
          },
          "shapedefaults": {
           "line": {
            "color": "#2a3f5f"
           }
          },
          "ternary": {
           "aaxis": {
            "gridcolor": "white",
            "linecolor": "white",
            "ticks": ""
           },
           "baxis": {
            "gridcolor": "white",
            "linecolor": "white",
            "ticks": ""
           },
           "bgcolor": "#E5ECF6",
           "caxis": {
            "gridcolor": "white",
            "linecolor": "white",
            "ticks": ""
           }
          },
          "title": {
           "x": 0.05
          },
          "xaxis": {
           "automargin": true,
           "gridcolor": "white",
           "linecolor": "white",
           "ticks": "",
           "title": {
            "standoff": 15
           },
           "zerolinecolor": "white",
           "zerolinewidth": 2
          },
          "yaxis": {
           "automargin": true,
           "gridcolor": "white",
           "linecolor": "white",
           "ticks": "",
           "title": {
            "standoff": 15
           },
           "zerolinecolor": "white",
           "zerolinewidth": 2
          }
         }
        },
        "title": {
         "text": "Boxplot for smoothness_mean - Cancer Dataset"
        },
        "xaxis": {
         "anchor": "y",
         "domain": [
          0,
          1
         ],
         "title": {
          "text": "Category"
         }
        },
        "yaxis": {
         "anchor": "x",
         "domain": [
          0,
          1
         ],
         "title": {
          "text": "smoothness_mean"
         }
        }
       }
      }
     },
     "metadata": {},
     "output_type": "display_data"
    },
    {
     "data": {
      "application/vnd.plotly.v1+json": {
       "config": {
        "plotlyServerURL": "https://plot.ly"
       },
       "data": [
        {
         "alignmentgroup": "True",
         "hovertemplate": "compactness_mean=%{y}<extra></extra>",
         "legendgroup": "",
         "marker": {
          "color": "#636efa"
         },
         "name": "",
         "notched": false,
         "offsetgroup": "",
         "orientation": "v",
         "showlegend": false,
         "type": "box",
         "x0": " ",
         "xaxis": "x",
         "y": {
          "bdata": "h6dXyjLE0T/9TShEwCG0P/KwUGuad8Q/z2bV52or0j+PU3Qkl//AP8P1KFyPwsU/gZVDi2znuz91kxgEVg7FP18pyxDHusg/l5APejarzj+mYfiImBKxP2FUUiegicA/n6ut2F92zz+7Jw8Ltaa5P7aEfNCzWc0/0SLb+X5qxD8730+Nl26yP1InoImw4ck/X5hMFYxKuj866X3ja8+0P6jGSzeJQcA/yjfb3JiesD+HFtnO91PLPwu1pnnHKbo/SnuDL0ymwj+n6Egu/yHNP0VHcvkP6cc/7uvAOSNKuz8pyxDHurjFP+auJeSDnr0/ZapgVFInyD+6awn5oGfDPxKlvcEXJsM/4lgXt9EAxj+jI7n8h/TDP9JvXwfOGcE/B84ZUdobvD+cFrzoK0ijP4Vf6udNRao/qvHSTWIQwD9UVz7L8+CuP+cdp+hILr8/1XjpJjEIzD8aUdobfGHCP68l5IOezbo/TYQNT6+UxT+SdM3km22uP8E5I0p7g78/2GSNeohGtz9NMnIW9rSzP1u21hcJbak/S+XtCKcFrz+IRncQO1OoPzVeukkMAsM/jdE6qpogsj9oXDgQkgWsPw+cM6K0N8A/Rrbz/dR4wT+D3bBtUWajP5KzsKcd/qo/+wW7YduitD8ZkL3e/fG2P921hHzQs8k/gq0SLA5ntj9lqmBUUifAPwMJih9j7sI/Sgfr/xzmsz/hfyvZsRGoP9lfdk8eFsI/eJeL+E7Mqj+BJsKGp1e6P7hAguLHmMM/BoGVQ4tsxz/8qfHSTWLAP7PSpBR0e7E/qdkDrcCQtT+vJeSDns26P2Rd3EYDeMs/JXUCmggb1j85fxMKEXC4P51jQPZ697c/2c73U+Olwz91kxgEVg7RPz9XW7G/7MY/gSbChqdXsj8U0ETY8PS6P/Tg7qzddrk/HcnlP6Tfvj92cRsN4C24P2uad5yiI8E/Dmd+NQcItj/2l92Th4W6P1InoImw4ak/EOm3rwPntD9wzojS3uDDP5F++zpwzsA//iYUIuAQsj/Az7hwICSrP90kBoGVQ7M/2T15WKg1vT/vA5DaxMm1P3IW9rTDX7M/lDDT9q+spD9QcLGiBtO4PxKgppat9bU/ZDvfT42Xxj+30QDeAgm6PzXvOEVHcrE/ZRniWBe30T+iRbbz/dSwP4hLjjulg7U/Tx4Wak3zvj++MJkqGJXMPz2bVZ+rrcA/5ujxe5v+tD9kIxCv6xe0P4qO5PIf0r8/liGOdXEbxT93LSEf9GzGP0wao3VUNbE/W9O84xQdsT8pXI/C9Si8P0XY8PRKWdI/GJXUCWgivD+Nl24Sg8CyP7SrkPKTaq8/xr/PuHAgtD9324XmOo20P8WPMXctIcc/n82qz9VWxD9HOC140Ve4PzsBTYQNT78/HThnRGlvwD9FKowtBDm4P5fFxObj2rg/yVnY0w5/rT/35GGh1jSvPxh9BWnGorE/TmIQWDm0wD+GWtO84xS9Pzi+9sySAKU/liGOdXEbvT/U1LK1vki4P0c4LXjRV7g/OdGuQspPqj+C4seYu5bAP8P1KFyPwsU/jnVxGw3gvT/67evAOSO6P23/ykqTUrA/r+sX7IZtsz9OYhBYObTAP/KwUGuad8Q/r1+wG7Ytqj+MZ9DQP8G1P7cos0EmGbE/HVpkO99PxT+vQspPqn2yP/Z698d71ao/YWwhyEEJoz/ZPXlYqDW9P7x0kxgEVr4/pb3BFyZTxT+WQ4ts5/u5Px1aZDvfT70/niRdM/lmqz91djI4Sl6tP29kHvmDgbc/FD/G3LWExD86I0p7gy+0P+UK73IR37E/DY6SV+cYsD+BlUOLbOfDP/NZngd3Z60/2NglqrcGpj9NZyeDo+SlP3EbDeAtkMA/CfmgZ7Pqwz8OMsnIWdiTP1GIgEOoUqM/xyk6kst/yD9yio7k8h/SP58CYDyDhrY//yH99nXgtD8DCYofY+66P5kqGJXUCag/WhKgppattT/FckurIXGvP2DNAYI5eqw/4Zf6eVORsj+lLEMc6+LOP2d+NQcI5rA/G0esxacAmD/hC5OpglHBP/LSTWIQWMk/mus00lJ5qz8PnDOitDfAP+RmuAGfH7Y/1zTvOEVHwj8dyeU/pN++P8A+OnXls7Q/l5APejarvj9bQj7o2azKP/5l9+RhocY/aLPqc7UVuz+zKVd4l4u4P6TC2EKQg7I/UMJM27+ysj8kl/+QfvvCP73jFB3J5a8/NxrAWyBBwT9Ei2zn+6mxP7prCfmgZ8M/LSEf9GxWvT/WxW00gLfAP0LPZtXnasM/tFn1udqKvT/mdFlMbD6uP9bFbTSAt8A/IbByaJHtvD8/kSdJ10y2PzLmriXkg74/+YOB597DtT/7OnDOiNK+P1JEhlW8kak/aqSl8naEsz/b3JiesMSzP+Y/pN++Drw/SkG3lzRGsz+Cc0aU9gbHP5Axdy0hH8Q/oDL+fcaFoz+xbVFmg0yiP3Qkl/+Qfrs/BWnGounspD8PC7WmecexPyv2l92Th8U/kL3e/fFetT8p7Q2+MJm6P5OpglFJncA/foy5awn5sD8e4bTgRV+hP/YoXI/C9cA/W7bWFwltsT8awFsgQfHDP4oCfSJPkq4/KCzxgLIppz8mUwWjkjrBP9tQMc7fhLI/BcB4Bg39sz+tad5xio7EP80eaAWGrK4/JuSDns2qxz9Ke4MvTKa6P+/Jw0Ktab4/dEaU9gZfwD8rGJXUCWjKP+oENBE2PM0/klz+Q/rt0z9CPujZrPrEP18HzhlR2rs/Qxzr4jYasD9B8WPMXUvAP+LMr+YAwaw/gnNGlPYGtz/7y+7Jw0K9Pz7o2az6XL0/FAX6RJ4ktT9lx0YgXtevP8cpOpLLf8A/MQisHFpkmz+1MuGX+nmzP9JvXwfOGck/UtUEUfcBqD/M0eP3Nv2xP0ymCkYldbI/M/lmmxvToz8ArmTHRiCuP5D3qpUJv6Q/PGu3XWiusz8p7Q2+MJnCP/H0SlmGOKY/TKYKRiV1wj8bnl4pyxDHP9jw9EpZhrg/hBJm2v6VpT9SJ6CJsOG5P7mI78SsF6M/eVioNc07vj9OC170FaSpP/mgZ7Pqc8U/vW987ZkluT9oP1JEhlW0P2w+rg0V46w/XD0nvW98tT/S4/c2/dmvPyScFrzoK6g/ZFjFG5lHrj990LNZ9bmqP0rvG197ZrE/3GgAb4EExT+FfNCzWfW5P0mdgCbChsc/nOEGfH4YsT/fFcH/VrKzPzrMlxdgH60/GAltOZfiqj8qAMYzaOifPzemJyzxgKI/Ad4CCYofoz+FJR5QNuWqPx6n6Egu/6E/8KKvIM1YtD8d5ssLsI+uPx0gmKPH760/Gt1B7Eyhoz+LVBhbCHKgP0aU9gZfmLw/rrZif9k9yT8exM4UOq+hP+LplbIMcbw/lLw6x4DstT9au+1Cc522PwAAAAAAAMg/b/CFyVTBsD+twJDVrZ6zP9GWcymuKqs/dxVSflLtoz/D0ytlGeLAP5XUCWgibMA/eAskKH6MwT/NzMzMzMy8P1/v/nivWrE/F4IclDDTpj+IS447pYOlP0YldQKaCLs/3+ALk6mCuT/8GHPXEvLBP6neGtgqwbI/ldQJaCJswD+4rwPnjCi9P1YrE36pn7c/YMjqVs9Jtz9rmnecoiPBP91e0hito7I//ACkNnFytz/RrkLKT6qtPwn5oGez6rM/bcoV3uUirj8dyeU/pN++P6CJsOHplaI/ih9j7lpCzj8CvAUSFD/OP/xvJTs2Ark/XKyowTQMrz8YJlMFo5K6P8X+snvysMA/dOrKZ3kerD9NMnIW9rSzP1itTPilfq4/iUFg5dAimz8bKsb5m1CwP12/YDdsW7Q/WhKgppattT/uPVxy3CmtPzJ3LSEf9Lw/PujZrPpcxT+R7Xw/NV6yP14u4jsx67U/F7fRAN4CyT+aCBueXinDP+P8TShEwLE/MQisHFpkwz+WsgxxrIu7Pzdxcr9DUbA/KxiV1Alowj9zaJHtfD/FPzVj0XR2Mqg/UYiAQ6hSsz+neccpOpLLP+LplbIMcbw/V0PiHksfsj9kXdxGA3i7PwtGJXUCmsA/wcqhRbbztT8iN8MN+PywP57qkJvhBrQ/lbcjnBa8qD8UP8bctYS8PztwzojS3sA/rd12oblOsz+HM7+aAwSzPzxO0ZFc/sM/9GxWfa62yj/QYb68APu4P4kkehnFcqs/PujZrPpcvT/arPpcbcW2Pyi4WFGDaag/KgDGM2jorz8/xty1hHzQPy0JUFPL1qo/uAa2SrA4tD+QSUbOwp62PyxIMxZNZ6c/8BZIUPwYsz/ePNUhN8O1PyfaVUj5SbU/xf6ye/KwwD9pqbwd4bSwP0563/jaM6s/mKPH7236sz8EkNrEyf2uPz0K16NwPbo/ayv2l92Tpz9EaW/whcm0P5tyhXe5iK8/B84ZUdobxD/RrkLKT6qtPwjm6PF7m64/29yYnrDEsz851sVtNIDHP588LNSa5r0/PujZrPpcvT/3ksZoHVW1P7oxPWGJB6Q/dLUV+8vuuT/zWZ4Hd2etPxrdQexMoaM/uw9AahMnpz97FK5H4XrMPyqpE9BE2MA/V+wvuycPwz8PC7WmecfBP87fhEIEHLI/UwWjkjoBvT8DlfHvMy60P1jKMsSxLq4/hjjWxW00sD9sW5TZIJOsPwN4CyQofrw/wFsgQfFjvD/f/fFetTKxP/G6fsFu2KY/0gDeAgmKvz9FZFjFG5m3PxniWBe30cA/UkmdgCbCtj8rhxbZzvezPxSuR+F6FL4/zF1LyAc9uz/bxMn9DkW5P1CNl24Sg7A/1A5/Tdaotz8+eVioNc2rP1GlZg+0ArM/pYP1fw7ztT9Ke4MvTKaqPygn2lVI+ak/5dU5BmSvpz/RItv5fmq8PzXvOEVHcsk/IHu9++O9qj/RkVz+Q/qtP3HJcad0sK4/OwFNhA1Pvz9wzojS3uC7P9Fcp5GWyqs/uycPC7WmyT8kl/+QfvvCP9o4Yi0+BbA/uB6F61G4rj/7kSIyrOK1Py+ob5nTZaE/IEHxY8xduz8lzLT9Kyu1P6+UZYhjXbw/ls/yPLg7qz/HaB1VTRC1P5f/kH77Osg/OBWpMLYQtD8Us14M5USrP8UgsHJokb0/5iK+E7NetD8bDeAtkKDAPxB6Nqs+V8M/vW987ZklsT9/+zpwzojCPxHkoISZtrc/220Xmus0sj85tMh2vp+qP/iqlQm/1K8/xyk6kst/wD+l942vPbOkPzVeukkMAqs/PujZrPpctT/BqKROQBPBPw5Pr5RliLM/swxxrIvbwD/sL7snDwvFP71SliGOdcE/o5I6AU2ExT8tsp3vp8a7P1K4HoXrUcA/8IXJVMGozD9L6gQ0ETbMP5LLf0i/fb0/Qs9m1edquz87U+i8xi6xP1YOLbKd78c/enB31m67uD8DfSJPkq6pP68l5IOezcI/TRB1H4DUtj8Z529CIQK2P6eufJbnwbU/3nGKjuTyvz/4U+Olm8TAP/vL7snDQsU/RpT2Bl+YvD9cj8L1KFy/PxTQRNjw9Mo/gIKLFTWYpj8xCKwcWmS7PyF2ptB5jbU/RN0HILWJsz+n6Egu/yG9PxPVWwNbJbA/foy5awn5uD8AV7JjIxC3PwTidf2C3bg/UKp9Oh4zuD8YJlMFo5KyP5F++zpwzsA/LLe0GhL3uD+KH2PuWkLGP7RZ9bnair0/6Gor9pfdwz+Z02UxsfmoP6hXyjLEsb4/eekmMQisvD+wcmiR7Xy/P7nCu1zEd7I/0CfyJOmasT/ImLuWkA+6P/YLdsO2RbE/UkSGVbyRqT+DaRg+Iqa0P/5D+u3rwKk/gsXhzK/msD/cLjTXaaSlPyf3OxQF+rQ/WhKgppatpT+KsOHplbKsPzZZox6i0a0/CRaHM7+asz+gT+RJ0jWzP2t9kdCWc6k/oBov3SQGwT/67evAOSO6P96Th4Va07w/SIrIsIo3oj/0bFZ9rrbKP1dbsb/snsw/CD2bVZ+rvT/VCWgibHi6Pxx8YTJVMLo/7nw/NV660T+hLedSXFWmPw==",
          "dtype": "f8"
         },
         "y0": " ",
         "yaxis": "y"
        }
       ],
       "layout": {
        "boxmode": "group",
        "legend": {
         "tracegroupgap": 0
        },
        "margin": {
         "t": 60
        },
        "template": {
         "data": {
          "bar": [
           {
            "error_x": {
             "color": "#2a3f5f"
            },
            "error_y": {
             "color": "#2a3f5f"
            },
            "marker": {
             "line": {
              "color": "#E5ECF6",
              "width": 0.5
             },
             "pattern": {
              "fillmode": "overlay",
              "size": 10,
              "solidity": 0.2
             }
            },
            "type": "bar"
           }
          ],
          "barpolar": [
           {
            "marker": {
             "line": {
              "color": "#E5ECF6",
              "width": 0.5
             },
             "pattern": {
              "fillmode": "overlay",
              "size": 10,
              "solidity": 0.2
             }
            },
            "type": "barpolar"
           }
          ],
          "carpet": [
           {
            "aaxis": {
             "endlinecolor": "#2a3f5f",
             "gridcolor": "white",
             "linecolor": "white",
             "minorgridcolor": "white",
             "startlinecolor": "#2a3f5f"
            },
            "baxis": {
             "endlinecolor": "#2a3f5f",
             "gridcolor": "white",
             "linecolor": "white",
             "minorgridcolor": "white",
             "startlinecolor": "#2a3f5f"
            },
            "type": "carpet"
           }
          ],
          "choropleth": [
           {
            "colorbar": {
             "outlinewidth": 0,
             "ticks": ""
            },
            "type": "choropleth"
           }
          ],
          "contour": [
           {
            "colorbar": {
             "outlinewidth": 0,
             "ticks": ""
            },
            "colorscale": [
             [
              0,
              "#0d0887"
             ],
             [
              0.1111111111111111,
              "#46039f"
             ],
             [
              0.2222222222222222,
              "#7201a8"
             ],
             [
              0.3333333333333333,
              "#9c179e"
             ],
             [
              0.4444444444444444,
              "#bd3786"
             ],
             [
              0.5555555555555556,
              "#d8576b"
             ],
             [
              0.6666666666666666,
              "#ed7953"
             ],
             [
              0.7777777777777778,
              "#fb9f3a"
             ],
             [
              0.8888888888888888,
              "#fdca26"
             ],
             [
              1,
              "#f0f921"
             ]
            ],
            "type": "contour"
           }
          ],
          "contourcarpet": [
           {
            "colorbar": {
             "outlinewidth": 0,
             "ticks": ""
            },
            "type": "contourcarpet"
           }
          ],
          "heatmap": [
           {
            "colorbar": {
             "outlinewidth": 0,
             "ticks": ""
            },
            "colorscale": [
             [
              0,
              "#0d0887"
             ],
             [
              0.1111111111111111,
              "#46039f"
             ],
             [
              0.2222222222222222,
              "#7201a8"
             ],
             [
              0.3333333333333333,
              "#9c179e"
             ],
             [
              0.4444444444444444,
              "#bd3786"
             ],
             [
              0.5555555555555556,
              "#d8576b"
             ],
             [
              0.6666666666666666,
              "#ed7953"
             ],
             [
              0.7777777777777778,
              "#fb9f3a"
             ],
             [
              0.8888888888888888,
              "#fdca26"
             ],
             [
              1,
              "#f0f921"
             ]
            ],
            "type": "heatmap"
           }
          ],
          "histogram": [
           {
            "marker": {
             "pattern": {
              "fillmode": "overlay",
              "size": 10,
              "solidity": 0.2
             }
            },
            "type": "histogram"
           }
          ],
          "histogram2d": [
           {
            "colorbar": {
             "outlinewidth": 0,
             "ticks": ""
            },
            "colorscale": [
             [
              0,
              "#0d0887"
             ],
             [
              0.1111111111111111,
              "#46039f"
             ],
             [
              0.2222222222222222,
              "#7201a8"
             ],
             [
              0.3333333333333333,
              "#9c179e"
             ],
             [
              0.4444444444444444,
              "#bd3786"
             ],
             [
              0.5555555555555556,
              "#d8576b"
             ],
             [
              0.6666666666666666,
              "#ed7953"
             ],
             [
              0.7777777777777778,
              "#fb9f3a"
             ],
             [
              0.8888888888888888,
              "#fdca26"
             ],
             [
              1,
              "#f0f921"
             ]
            ],
            "type": "histogram2d"
           }
          ],
          "histogram2dcontour": [
           {
            "colorbar": {
             "outlinewidth": 0,
             "ticks": ""
            },
            "colorscale": [
             [
              0,
              "#0d0887"
             ],
             [
              0.1111111111111111,
              "#46039f"
             ],
             [
              0.2222222222222222,
              "#7201a8"
             ],
             [
              0.3333333333333333,
              "#9c179e"
             ],
             [
              0.4444444444444444,
              "#bd3786"
             ],
             [
              0.5555555555555556,
              "#d8576b"
             ],
             [
              0.6666666666666666,
              "#ed7953"
             ],
             [
              0.7777777777777778,
              "#fb9f3a"
             ],
             [
              0.8888888888888888,
              "#fdca26"
             ],
             [
              1,
              "#f0f921"
             ]
            ],
            "type": "histogram2dcontour"
           }
          ],
          "mesh3d": [
           {
            "colorbar": {
             "outlinewidth": 0,
             "ticks": ""
            },
            "type": "mesh3d"
           }
          ],
          "parcoords": [
           {
            "line": {
             "colorbar": {
              "outlinewidth": 0,
              "ticks": ""
             }
            },
            "type": "parcoords"
           }
          ],
          "pie": [
           {
            "automargin": true,
            "type": "pie"
           }
          ],
          "scatter": [
           {
            "fillpattern": {
             "fillmode": "overlay",
             "size": 10,
             "solidity": 0.2
            },
            "type": "scatter"
           }
          ],
          "scatter3d": [
           {
            "line": {
             "colorbar": {
              "outlinewidth": 0,
              "ticks": ""
             }
            },
            "marker": {
             "colorbar": {
              "outlinewidth": 0,
              "ticks": ""
             }
            },
            "type": "scatter3d"
           }
          ],
          "scattercarpet": [
           {
            "marker": {
             "colorbar": {
              "outlinewidth": 0,
              "ticks": ""
             }
            },
            "type": "scattercarpet"
           }
          ],
          "scattergeo": [
           {
            "marker": {
             "colorbar": {
              "outlinewidth": 0,
              "ticks": ""
             }
            },
            "type": "scattergeo"
           }
          ],
          "scattergl": [
           {
            "marker": {
             "colorbar": {
              "outlinewidth": 0,
              "ticks": ""
             }
            },
            "type": "scattergl"
           }
          ],
          "scattermap": [
           {
            "marker": {
             "colorbar": {
              "outlinewidth": 0,
              "ticks": ""
             }
            },
            "type": "scattermap"
           }
          ],
          "scattermapbox": [
           {
            "marker": {
             "colorbar": {
              "outlinewidth": 0,
              "ticks": ""
             }
            },
            "type": "scattermapbox"
           }
          ],
          "scatterpolar": [
           {
            "marker": {
             "colorbar": {
              "outlinewidth": 0,
              "ticks": ""
             }
            },
            "type": "scatterpolar"
           }
          ],
          "scatterpolargl": [
           {
            "marker": {
             "colorbar": {
              "outlinewidth": 0,
              "ticks": ""
             }
            },
            "type": "scatterpolargl"
           }
          ],
          "scatterternary": [
           {
            "marker": {
             "colorbar": {
              "outlinewidth": 0,
              "ticks": ""
             }
            },
            "type": "scatterternary"
           }
          ],
          "surface": [
           {
            "colorbar": {
             "outlinewidth": 0,
             "ticks": ""
            },
            "colorscale": [
             [
              0,
              "#0d0887"
             ],
             [
              0.1111111111111111,
              "#46039f"
             ],
             [
              0.2222222222222222,
              "#7201a8"
             ],
             [
              0.3333333333333333,
              "#9c179e"
             ],
             [
              0.4444444444444444,
              "#bd3786"
             ],
             [
              0.5555555555555556,
              "#d8576b"
             ],
             [
              0.6666666666666666,
              "#ed7953"
             ],
             [
              0.7777777777777778,
              "#fb9f3a"
             ],
             [
              0.8888888888888888,
              "#fdca26"
             ],
             [
              1,
              "#f0f921"
             ]
            ],
            "type": "surface"
           }
          ],
          "table": [
           {
            "cells": {
             "fill": {
              "color": "#EBF0F8"
             },
             "line": {
              "color": "white"
             }
            },
            "header": {
             "fill": {
              "color": "#C8D4E3"
             },
             "line": {
              "color": "white"
             }
            },
            "type": "table"
           }
          ]
         },
         "layout": {
          "annotationdefaults": {
           "arrowcolor": "#2a3f5f",
           "arrowhead": 0,
           "arrowwidth": 1
          },
          "autotypenumbers": "strict",
          "coloraxis": {
           "colorbar": {
            "outlinewidth": 0,
            "ticks": ""
           }
          },
          "colorscale": {
           "diverging": [
            [
             0,
             "#8e0152"
            ],
            [
             0.1,
             "#c51b7d"
            ],
            [
             0.2,
             "#de77ae"
            ],
            [
             0.3,
             "#f1b6da"
            ],
            [
             0.4,
             "#fde0ef"
            ],
            [
             0.5,
             "#f7f7f7"
            ],
            [
             0.6,
             "#e6f5d0"
            ],
            [
             0.7,
             "#b8e186"
            ],
            [
             0.8,
             "#7fbc41"
            ],
            [
             0.9,
             "#4d9221"
            ],
            [
             1,
             "#276419"
            ]
           ],
           "sequential": [
            [
             0,
             "#0d0887"
            ],
            [
             0.1111111111111111,
             "#46039f"
            ],
            [
             0.2222222222222222,
             "#7201a8"
            ],
            [
             0.3333333333333333,
             "#9c179e"
            ],
            [
             0.4444444444444444,
             "#bd3786"
            ],
            [
             0.5555555555555556,
             "#d8576b"
            ],
            [
             0.6666666666666666,
             "#ed7953"
            ],
            [
             0.7777777777777778,
             "#fb9f3a"
            ],
            [
             0.8888888888888888,
             "#fdca26"
            ],
            [
             1,
             "#f0f921"
            ]
           ],
           "sequentialminus": [
            [
             0,
             "#0d0887"
            ],
            [
             0.1111111111111111,
             "#46039f"
            ],
            [
             0.2222222222222222,
             "#7201a8"
            ],
            [
             0.3333333333333333,
             "#9c179e"
            ],
            [
             0.4444444444444444,
             "#bd3786"
            ],
            [
             0.5555555555555556,
             "#d8576b"
            ],
            [
             0.6666666666666666,
             "#ed7953"
            ],
            [
             0.7777777777777778,
             "#fb9f3a"
            ],
            [
             0.8888888888888888,
             "#fdca26"
            ],
            [
             1,
             "#f0f921"
            ]
           ]
          },
          "colorway": [
           "#636efa",
           "#EF553B",
           "#00cc96",
           "#ab63fa",
           "#FFA15A",
           "#19d3f3",
           "#FF6692",
           "#B6E880",
           "#FF97FF",
           "#FECB52"
          ],
          "font": {
           "color": "#2a3f5f"
          },
          "geo": {
           "bgcolor": "white",
           "lakecolor": "white",
           "landcolor": "#E5ECF6",
           "showlakes": true,
           "showland": true,
           "subunitcolor": "white"
          },
          "hoverlabel": {
           "align": "left"
          },
          "hovermode": "closest",
          "mapbox": {
           "style": "light"
          },
          "paper_bgcolor": "white",
          "plot_bgcolor": "#E5ECF6",
          "polar": {
           "angularaxis": {
            "gridcolor": "white",
            "linecolor": "white",
            "ticks": ""
           },
           "bgcolor": "#E5ECF6",
           "radialaxis": {
            "gridcolor": "white",
            "linecolor": "white",
            "ticks": ""
           }
          },
          "scene": {
           "xaxis": {
            "backgroundcolor": "#E5ECF6",
            "gridcolor": "white",
            "gridwidth": 2,
            "linecolor": "white",
            "showbackground": true,
            "ticks": "",
            "zerolinecolor": "white"
           },
           "yaxis": {
            "backgroundcolor": "#E5ECF6",
            "gridcolor": "white",
            "gridwidth": 2,
            "linecolor": "white",
            "showbackground": true,
            "ticks": "",
            "zerolinecolor": "white"
           },
           "zaxis": {
            "backgroundcolor": "#E5ECF6",
            "gridcolor": "white",
            "gridwidth": 2,
            "linecolor": "white",
            "showbackground": true,
            "ticks": "",
            "zerolinecolor": "white"
           }
          },
          "shapedefaults": {
           "line": {
            "color": "#2a3f5f"
           }
          },
          "ternary": {
           "aaxis": {
            "gridcolor": "white",
            "linecolor": "white",
            "ticks": ""
           },
           "baxis": {
            "gridcolor": "white",
            "linecolor": "white",
            "ticks": ""
           },
           "bgcolor": "#E5ECF6",
           "caxis": {
            "gridcolor": "white",
            "linecolor": "white",
            "ticks": ""
           }
          },
          "title": {
           "x": 0.05
          },
          "xaxis": {
           "automargin": true,
           "gridcolor": "white",
           "linecolor": "white",
           "ticks": "",
           "title": {
            "standoff": 15
           },
           "zerolinecolor": "white",
           "zerolinewidth": 2
          },
          "yaxis": {
           "automargin": true,
           "gridcolor": "white",
           "linecolor": "white",
           "ticks": "",
           "title": {
            "standoff": 15
           },
           "zerolinecolor": "white",
           "zerolinewidth": 2
          }
         }
        },
        "title": {
         "text": "Boxplot for compactness_mean - Cancer Dataset"
        },
        "xaxis": {
         "anchor": "y",
         "domain": [
          0,
          1
         ],
         "title": {
          "text": "Category"
         }
        },
        "yaxis": {
         "anchor": "x",
         "domain": [
          0,
          1
         ],
         "title": {
          "text": "compactness_mean"
         }
        }
       }
      }
     },
     "metadata": {},
     "output_type": "display_data"
    },
    {
     "data": {
      "application/vnd.plotly.v1+json": {
       "config": {
        "plotlyServerURL": "https://plot.ly"
       },
       "data": [
        {
         "alignmentgroup": "True",
         "hovertemplate": "concavity_mean=%{y}<extra></extra>",
         "legendgroup": "",
         "marker": {
          "color": "#636efa"
         },
         "name": "",
         "notched": false,
         "offsetgroup": "",
         "orientation": "v",
         "showlegend": false,
         "type": "box",
         "x0": " ",
         "xaxis": "x",
         "y": {
          "bdata": "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",
          "dtype": "f8"
         },
         "y0": " ",
         "yaxis": "y"
        }
       ],
       "layout": {
        "boxmode": "group",
        "legend": {
         "tracegroupgap": 0
        },
        "margin": {
         "t": 60
        },
        "template": {
         "data": {
          "bar": [
           {
            "error_x": {
             "color": "#2a3f5f"
            },
            "error_y": {
             "color": "#2a3f5f"
            },
            "marker": {
             "line": {
              "color": "#E5ECF6",
              "width": 0.5
             },
             "pattern": {
              "fillmode": "overlay",
              "size": 10,
              "solidity": 0.2
             }
            },
            "type": "bar"
           }
          ],
          "barpolar": [
           {
            "marker": {
             "line": {
              "color": "#E5ECF6",
              "width": 0.5
             },
             "pattern": {
              "fillmode": "overlay",
              "size": 10,
              "solidity": 0.2
             }
            },
            "type": "barpolar"
           }
          ],
          "carpet": [
           {
            "aaxis": {
             "endlinecolor": "#2a3f5f",
             "gridcolor": "white",
             "linecolor": "white",
             "minorgridcolor": "white",
             "startlinecolor": "#2a3f5f"
            },
            "baxis": {
             "endlinecolor": "#2a3f5f",
             "gridcolor": "white",
             "linecolor": "white",
             "minorgridcolor": "white",
             "startlinecolor": "#2a3f5f"
            },
            "type": "carpet"
           }
          ],
          "choropleth": [
           {
            "colorbar": {
             "outlinewidth": 0,
             "ticks": ""
            },
            "type": "choropleth"
           }
          ],
          "contour": [
           {
            "colorbar": {
             "outlinewidth": 0,
             "ticks": ""
            },
            "colorscale": [
             [
              0,
              "#0d0887"
             ],
             [
              0.1111111111111111,
              "#46039f"
             ],
             [
              0.2222222222222222,
              "#7201a8"
             ],
             [
              0.3333333333333333,
              "#9c179e"
             ],
             [
              0.4444444444444444,
              "#bd3786"
             ],
             [
              0.5555555555555556,
              "#d8576b"
             ],
             [
              0.6666666666666666,
              "#ed7953"
             ],
             [
              0.7777777777777778,
              "#fb9f3a"
             ],
             [
              0.8888888888888888,
              "#fdca26"
             ],
             [
              1,
              "#f0f921"
             ]
            ],
            "type": "contour"
           }
          ],
          "contourcarpet": [
           {
            "colorbar": {
             "outlinewidth": 0,
             "ticks": ""
            },
            "type": "contourcarpet"
           }
          ],
          "heatmap": [
           {
            "colorbar": {
             "outlinewidth": 0,
             "ticks": ""
            },
            "colorscale": [
             [
              0,
              "#0d0887"
             ],
             [
              0.1111111111111111,
              "#46039f"
             ],
             [
              0.2222222222222222,
              "#7201a8"
             ],
             [
              0.3333333333333333,
              "#9c179e"
             ],
             [
              0.4444444444444444,
              "#bd3786"
             ],
             [
              0.5555555555555556,
              "#d8576b"
             ],
             [
              0.6666666666666666,
              "#ed7953"
             ],
             [
              0.7777777777777778,
              "#fb9f3a"
             ],
             [
              0.8888888888888888,
              "#fdca26"
             ],
             [
              1,
              "#f0f921"
             ]
            ],
            "type": "heatmap"
           }
          ],
          "histogram": [
           {
            "marker": {
             "pattern": {
              "fillmode": "overlay",
              "size": 10,
              "solidity": 0.2
             }
            },
            "type": "histogram"
           }
          ],
          "histogram2d": [
           {
            "colorbar": {
             "outlinewidth": 0,
             "ticks": ""
            },
            "colorscale": [
             [
              0,
              "#0d0887"
             ],
             [
              0.1111111111111111,
              "#46039f"
             ],
             [
              0.2222222222222222,
              "#7201a8"
             ],
             [
              0.3333333333333333,
              "#9c179e"
             ],
             [
              0.4444444444444444,
              "#bd3786"
             ],
             [
              0.5555555555555556,
              "#d8576b"
             ],
             [
              0.6666666666666666,
              "#ed7953"
             ],
             [
              0.7777777777777778,
              "#fb9f3a"
             ],
             [
              0.8888888888888888,
              "#fdca26"
             ],
             [
              1,
              "#f0f921"
             ]
            ],
            "type": "histogram2d"
           }
          ],
          "histogram2dcontour": [
           {
            "colorbar": {
             "outlinewidth": 0,
             "ticks": ""
            },
            "colorscale": [
             [
              0,
              "#0d0887"
             ],
             [
              0.1111111111111111,
              "#46039f"
             ],
             [
              0.2222222222222222,
              "#7201a8"
             ],
             [
              0.3333333333333333,
              "#9c179e"
             ],
             [
              0.4444444444444444,
              "#bd3786"
             ],
             [
              0.5555555555555556,
              "#d8576b"
             ],
             [
              0.6666666666666666,
              "#ed7953"
             ],
             [
              0.7777777777777778,
              "#fb9f3a"
             ],
             [
              0.8888888888888888,
              "#fdca26"
             ],
             [
              1,
              "#f0f921"
             ]
            ],
            "type": "histogram2dcontour"
           }
          ],
          "mesh3d": [
           {
            "colorbar": {
             "outlinewidth": 0,
             "ticks": ""
            },
            "type": "mesh3d"
           }
          ],
          "parcoords": [
           {
            "line": {
             "colorbar": {
              "outlinewidth": 0,
              "ticks": ""
             }
            },
            "type": "parcoords"
           }
          ],
          "pie": [
           {
            "automargin": true,
            "type": "pie"
           }
          ],
          "scatter": [
           {
            "fillpattern": {
             "fillmode": "overlay",
             "size": 10,
             "solidity": 0.2
            },
            "type": "scatter"
           }
          ],
          "scatter3d": [
           {
            "line": {
             "colorbar": {
              "outlinewidth": 0,
              "ticks": ""
             }
            },
            "marker": {
             "colorbar": {
              "outlinewidth": 0,
              "ticks": ""
             }
            },
            "type": "scatter3d"
           }
          ],
          "scattercarpet": [
           {
            "marker": {
             "colorbar": {
              "outlinewidth": 0,
              "ticks": ""
             }
            },
            "type": "scattercarpet"
           }
          ],
          "scattergeo": [
           {
            "marker": {
             "colorbar": {
              "outlinewidth": 0,
              "ticks": ""
             }
            },
            "type": "scattergeo"
           }
          ],
          "scattergl": [
           {
            "marker": {
             "colorbar": {
              "outlinewidth": 0,
              "ticks": ""
             }
            },
            "type": "scattergl"
           }
          ],
          "scattermap": [
           {
            "marker": {
             "colorbar": {
              "outlinewidth": 0,
              "ticks": ""
             }
            },
            "type": "scattermap"
           }
          ],
          "scattermapbox": [
           {
            "marker": {
             "colorbar": {
              "outlinewidth": 0,
              "ticks": ""
             }
            },
            "type": "scattermapbox"
           }
          ],
          "scatterpolar": [
           {
            "marker": {
             "colorbar": {
              "outlinewidth": 0,
              "ticks": ""
             }
            },
            "type": "scatterpolar"
           }
          ],
          "scatterpolargl": [
           {
            "marker": {
             "colorbar": {
              "outlinewidth": 0,
              "ticks": ""
             }
            },
            "type": "scatterpolargl"
           }
          ],
          "scatterternary": [
           {
            "marker": {
             "colorbar": {
              "outlinewidth": 0,
              "ticks": ""
             }
            },
            "type": "scatterternary"
           }
          ],
          "surface": [
           {
            "colorbar": {
             "outlinewidth": 0,
             "ticks": ""
            },
            "colorscale": [
             [
              0,
              "#0d0887"
             ],
             [
              0.1111111111111111,
              "#46039f"
             ],
             [
              0.2222222222222222,
              "#7201a8"
             ],
             [
              0.3333333333333333,
              "#9c179e"
             ],
             [
              0.4444444444444444,
              "#bd3786"
             ],
             [
              0.5555555555555556,
              "#d8576b"
             ],
             [
              0.6666666666666666,
              "#ed7953"
             ],
             [
              0.7777777777777778,
              "#fb9f3a"
             ],
             [
              0.8888888888888888,
              "#fdca26"
             ],
             [
              1,
              "#f0f921"
             ]
            ],
            "type": "surface"
           }
          ],
          "table": [
           {
            "cells": {
             "fill": {
              "color": "#EBF0F8"
             },
             "line": {
              "color": "white"
             }
            },
            "header": {
             "fill": {
              "color": "#C8D4E3"
             },
             "line": {
              "color": "white"
             }
            },
            "type": "table"
           }
          ]
         },
         "layout": {
          "annotationdefaults": {
           "arrowcolor": "#2a3f5f",
           "arrowhead": 0,
           "arrowwidth": 1
          },
          "autotypenumbers": "strict",
          "coloraxis": {
           "colorbar": {
            "outlinewidth": 0,
            "ticks": ""
           }
          },
          "colorscale": {
           "diverging": [
            [
             0,
             "#8e0152"
            ],
            [
             0.1,
             "#c51b7d"
            ],
            [
             0.2,
             "#de77ae"
            ],
            [
             0.3,
             "#f1b6da"
            ],
            [
             0.4,
             "#fde0ef"
            ],
            [
             0.5,
             "#f7f7f7"
            ],
            [
             0.6,
             "#e6f5d0"
            ],
            [
             0.7,
             "#b8e186"
            ],
            [
             0.8,
             "#7fbc41"
            ],
            [
             0.9,
             "#4d9221"
            ],
            [
             1,
             "#276419"
            ]
           ],
           "sequential": [
            [
             0,
             "#0d0887"
            ],
            [
             0.1111111111111111,
             "#46039f"
            ],
            [
             0.2222222222222222,
             "#7201a8"
            ],
            [
             0.3333333333333333,
             "#9c179e"
            ],
            [
             0.4444444444444444,
             "#bd3786"
            ],
            [
             0.5555555555555556,
             "#d8576b"
            ],
            [
             0.6666666666666666,
             "#ed7953"
            ],
            [
             0.7777777777777778,
             "#fb9f3a"
            ],
            [
             0.8888888888888888,
             "#fdca26"
            ],
            [
             1,
             "#f0f921"
            ]
           ],
           "sequentialminus": [
            [
             0,
             "#0d0887"
            ],
            [
             0.1111111111111111,
             "#46039f"
            ],
            [
             0.2222222222222222,
             "#7201a8"
            ],
            [
             0.3333333333333333,
             "#9c179e"
            ],
            [
             0.4444444444444444,
             "#bd3786"
            ],
            [
             0.5555555555555556,
             "#d8576b"
            ],
            [
             0.6666666666666666,
             "#ed7953"
            ],
            [
             0.7777777777777778,
             "#fb9f3a"
            ],
            [
             0.8888888888888888,
             "#fdca26"
            ],
            [
             1,
             "#f0f921"
            ]
           ]
          },
          "colorway": [
           "#636efa",
           "#EF553B",
           "#00cc96",
           "#ab63fa",
           "#FFA15A",
           "#19d3f3",
           "#FF6692",
           "#B6E880",
           "#FF97FF",
           "#FECB52"
          ],
          "font": {
           "color": "#2a3f5f"
          },
          "geo": {
           "bgcolor": "white",
           "lakecolor": "white",
           "landcolor": "#E5ECF6",
           "showlakes": true,
           "showland": true,
           "subunitcolor": "white"
          },
          "hoverlabel": {
           "align": "left"
          },
          "hovermode": "closest",
          "mapbox": {
           "style": "light"
          },
          "paper_bgcolor": "white",
          "plot_bgcolor": "#E5ECF6",
          "polar": {
           "angularaxis": {
            "gridcolor": "white",
            "linecolor": "white",
            "ticks": ""
           },
           "bgcolor": "#E5ECF6",
           "radialaxis": {
            "gridcolor": "white",
            "linecolor": "white",
            "ticks": ""
           }
          },
          "scene": {
           "xaxis": {
            "backgroundcolor": "#E5ECF6",
            "gridcolor": "white",
            "gridwidth": 2,
            "linecolor": "white",
            "showbackground": true,
            "ticks": "",
            "zerolinecolor": "white"
           },
           "yaxis": {
            "backgroundcolor": "#E5ECF6",
            "gridcolor": "white",
            "gridwidth": 2,
            "linecolor": "white",
            "showbackground": true,
            "ticks": "",
            "zerolinecolor": "white"
           },
           "zaxis": {
            "backgroundcolor": "#E5ECF6",
            "gridcolor": "white",
            "gridwidth": 2,
            "linecolor": "white",
            "showbackground": true,
            "ticks": "",
            "zerolinecolor": "white"
           }
          },
          "shapedefaults": {
           "line": {
            "color": "#2a3f5f"
           }
          },
          "ternary": {
           "aaxis": {
            "gridcolor": "white",
            "linecolor": "white",
            "ticks": ""
           },
           "baxis": {
            "gridcolor": "white",
            "linecolor": "white",
            "ticks": ""
           },
           "bgcolor": "#E5ECF6",
           "caxis": {
            "gridcolor": "white",
            "linecolor": "white",
            "ticks": ""
           }
          },
          "title": {
           "x": 0.05
          },
          "xaxis": {
           "automargin": true,
           "gridcolor": "white",
           "linecolor": "white",
           "ticks": "",
           "title": {
            "standoff": 15
           },
           "zerolinecolor": "white",
           "zerolinewidth": 2
          },
          "yaxis": {
           "automargin": true,
           "gridcolor": "white",
           "linecolor": "white",
           "ticks": "",
           "title": {
            "standoff": 15
           },
           "zerolinecolor": "white",
           "zerolinewidth": 2
          }
         }
        },
        "title": {
         "text": "Boxplot for concavity_mean - Cancer Dataset"
        },
        "xaxis": {
         "anchor": "y",
         "domain": [
          0,
          1
         ],
         "title": {
          "text": "Category"
         }
        },
        "yaxis": {
         "anchor": "x",
         "domain": [
          0,
          1
         ],
         "title": {
          "text": "concavity_mean"
         }
        }
       }
      }
     },
     "metadata": {},
     "output_type": "display_data"
    },
    {
     "data": {
      "application/vnd.plotly.v1+json": {
       "config": {
        "plotlyServerURL": "https://plot.ly"
       },
       "data": [
        {
         "alignmentgroup": "True",
         "hovertemplate": "concave_points_mean=%{y}<extra></extra>",
         "legendgroup": "",
         "marker": {
          "color": "#636efa"
         },
         "name": "",
         "notched": false,
         "offsetgroup": "",
         "orientation": "v",
         "showlegend": false,
         "type": "box",
         "x0": " ",
         "xaxis": "x",
         "y": {
          "bdata": "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",
          "dtype": "f8"
         },
         "y0": " ",
         "yaxis": "y"
        }
       ],
       "layout": {
        "boxmode": "group",
        "legend": {
         "tracegroupgap": 0
        },
        "margin": {
         "t": 60
        },
        "template": {
         "data": {
          "bar": [
           {
            "error_x": {
             "color": "#2a3f5f"
            },
            "error_y": {
             "color": "#2a3f5f"
            },
            "marker": {
             "line": {
              "color": "#E5ECF6",
              "width": 0.5
             },
             "pattern": {
              "fillmode": "overlay",
              "size": 10,
              "solidity": 0.2
             }
            },
            "type": "bar"
           }
          ],
          "barpolar": [
           {
            "marker": {
             "line": {
              "color": "#E5ECF6",
              "width": 0.5
             },
             "pattern": {
              "fillmode": "overlay",
              "size": 10,
              "solidity": 0.2
             }
            },
            "type": "barpolar"
           }
          ],
          "carpet": [
           {
            "aaxis": {
             "endlinecolor": "#2a3f5f",
             "gridcolor": "white",
             "linecolor": "white",
             "minorgridcolor": "white",
             "startlinecolor": "#2a3f5f"
            },
            "baxis": {
             "endlinecolor": "#2a3f5f",
             "gridcolor": "white",
             "linecolor": "white",
             "minorgridcolor": "white",
             "startlinecolor": "#2a3f5f"
            },
            "type": "carpet"
           }
          ],
          "choropleth": [
           {
            "colorbar": {
             "outlinewidth": 0,
             "ticks": ""
            },
            "type": "choropleth"
           }
          ],
          "contour": [
           {
            "colorbar": {
             "outlinewidth": 0,
             "ticks": ""
            },
            "colorscale": [
             [
              0,
              "#0d0887"
             ],
             [
              0.1111111111111111,
              "#46039f"
             ],
             [
              0.2222222222222222,
              "#7201a8"
             ],
             [
              0.3333333333333333,
              "#9c179e"
             ],
             [
              0.4444444444444444,
              "#bd3786"
             ],
             [
              0.5555555555555556,
              "#d8576b"
             ],
             [
              0.6666666666666666,
              "#ed7953"
             ],
             [
              0.7777777777777778,
              "#fb9f3a"
             ],
             [
              0.8888888888888888,
              "#fdca26"
             ],
             [
              1,
              "#f0f921"
             ]
            ],
            "type": "contour"
           }
          ],
          "contourcarpet": [
           {
            "colorbar": {
             "outlinewidth": 0,
             "ticks": ""
            },
            "type": "contourcarpet"
           }
          ],
          "heatmap": [
           {
            "colorbar": {
             "outlinewidth": 0,
             "ticks": ""
            },
            "colorscale": [
             [
              0,
              "#0d0887"
             ],
             [
              0.1111111111111111,
              "#46039f"
             ],
             [
              0.2222222222222222,
              "#7201a8"
             ],
             [
              0.3333333333333333,
              "#9c179e"
             ],
             [
              0.4444444444444444,
              "#bd3786"
             ],
             [
              0.5555555555555556,
              "#d8576b"
             ],
             [
              0.6666666666666666,
              "#ed7953"
             ],
             [
              0.7777777777777778,
              "#fb9f3a"
             ],
             [
              0.8888888888888888,
              "#fdca26"
             ],
             [
              1,
              "#f0f921"
             ]
            ],
            "type": "heatmap"
           }
          ],
          "histogram": [
           {
            "marker": {
             "pattern": {
              "fillmode": "overlay",
              "size": 10,
              "solidity": 0.2
             }
            },
            "type": "histogram"
           }
          ],
          "histogram2d": [
           {
            "colorbar": {
             "outlinewidth": 0,
             "ticks": ""
            },
            "colorscale": [
             [
              0,
              "#0d0887"
             ],
             [
              0.1111111111111111,
              "#46039f"
             ],
             [
              0.2222222222222222,
              "#7201a8"
             ],
             [
              0.3333333333333333,
              "#9c179e"
             ],
             [
              0.4444444444444444,
              "#bd3786"
             ],
             [
              0.5555555555555556,
              "#d8576b"
             ],
             [
              0.6666666666666666,
              "#ed7953"
             ],
             [
              0.7777777777777778,
              "#fb9f3a"
             ],
             [
              0.8888888888888888,
              "#fdca26"
             ],
             [
              1,
              "#f0f921"
             ]
            ],
            "type": "histogram2d"
           }
          ],
          "histogram2dcontour": [
           {
            "colorbar": {
             "outlinewidth": 0,
             "ticks": ""
            },
            "colorscale": [
             [
              0,
              "#0d0887"
             ],
             [
              0.1111111111111111,
              "#46039f"
             ],
             [
              0.2222222222222222,
              "#7201a8"
             ],
             [
              0.3333333333333333,
              "#9c179e"
             ],
             [
              0.4444444444444444,
              "#bd3786"
             ],
             [
              0.5555555555555556,
              "#d8576b"
             ],
             [
              0.6666666666666666,
              "#ed7953"
             ],
             [
              0.7777777777777778,
              "#fb9f3a"
             ],
             [
              0.8888888888888888,
              "#fdca26"
             ],
             [
              1,
              "#f0f921"
             ]
            ],
            "type": "histogram2dcontour"
           }
          ],
          "mesh3d": [
           {
            "colorbar": {
             "outlinewidth": 0,
             "ticks": ""
            },
            "type": "mesh3d"
           }
          ],
          "parcoords": [
           {
            "line": {
             "colorbar": {
              "outlinewidth": 0,
              "ticks": ""
             }
            },
            "type": "parcoords"
           }
          ],
          "pie": [
           {
            "automargin": true,
            "type": "pie"
           }
          ],
          "scatter": [
           {
            "fillpattern": {
             "fillmode": "overlay",
             "size": 10,
             "solidity": 0.2
            },
            "type": "scatter"
           }
          ],
          "scatter3d": [
           {
            "line": {
             "colorbar": {
              "outlinewidth": 0,
              "ticks": ""
             }
            },
            "marker": {
             "colorbar": {
              "outlinewidth": 0,
              "ticks": ""
             }
            },
            "type": "scatter3d"
           }
          ],
          "scattercarpet": [
           {
            "marker": {
             "colorbar": {
              "outlinewidth": 0,
              "ticks": ""
             }
            },
            "type": "scattercarpet"
           }
          ],
          "scattergeo": [
           {
            "marker": {
             "colorbar": {
              "outlinewidth": 0,
              "ticks": ""
             }
            },
            "type": "scattergeo"
           }
          ],
          "scattergl": [
           {
            "marker": {
             "colorbar": {
              "outlinewidth": 0,
              "ticks": ""
             }
            },
            "type": "scattergl"
           }
          ],
          "scattermap": [
           {
            "marker": {
             "colorbar": {
              "outlinewidth": 0,
              "ticks": ""
             }
            },
            "type": "scattermap"
           }
          ],
          "scattermapbox": [
           {
            "marker": {
             "colorbar": {
              "outlinewidth": 0,
              "ticks": ""
             }
            },
            "type": "scattermapbox"
           }
          ],
          "scatterpolar": [
           {
            "marker": {
             "colorbar": {
              "outlinewidth": 0,
              "ticks": ""
             }
            },
            "type": "scatterpolar"
           }
          ],
          "scatterpolargl": [
           {
            "marker": {
             "colorbar": {
              "outlinewidth": 0,
              "ticks": ""
             }
            },
            "type": "scatterpolargl"
           }
          ],
          "scatterternary": [
           {
            "marker": {
             "colorbar": {
              "outlinewidth": 0,
              "ticks": ""
             }
            },
            "type": "scatterternary"
           }
          ],
          "surface": [
           {
            "colorbar": {
             "outlinewidth": 0,
             "ticks": ""
            },
            "colorscale": [
             [
              0,
              "#0d0887"
             ],
             [
              0.1111111111111111,
              "#46039f"
             ],
             [
              0.2222222222222222,
              "#7201a8"
             ],
             [
              0.3333333333333333,
              "#9c179e"
             ],
             [
              0.4444444444444444,
              "#bd3786"
             ],
             [
              0.5555555555555556,
              "#d8576b"
             ],
             [
              0.6666666666666666,
              "#ed7953"
             ],
             [
              0.7777777777777778,
              "#fb9f3a"
             ],
             [
              0.8888888888888888,
              "#fdca26"
             ],
             [
              1,
              "#f0f921"
             ]
            ],
            "type": "surface"
           }
          ],
          "table": [
           {
            "cells": {
             "fill": {
              "color": "#EBF0F8"
             },
             "line": {
              "color": "white"
             }
            },
            "header": {
             "fill": {
              "color": "#C8D4E3"
             },
             "line": {
              "color": "white"
             }
            },
            "type": "table"
           }
          ]
         },
         "layout": {
          "annotationdefaults": {
           "arrowcolor": "#2a3f5f",
           "arrowhead": 0,
           "arrowwidth": 1
          },
          "autotypenumbers": "strict",
          "coloraxis": {
           "colorbar": {
            "outlinewidth": 0,
            "ticks": ""
           }
          },
          "colorscale": {
           "diverging": [
            [
             0,
             "#8e0152"
            ],
            [
             0.1,
             "#c51b7d"
            ],
            [
             0.2,
             "#de77ae"
            ],
            [
             0.3,
             "#f1b6da"
            ],
            [
             0.4,
             "#fde0ef"
            ],
            [
             0.5,
             "#f7f7f7"
            ],
            [
             0.6,
             "#e6f5d0"
            ],
            [
             0.7,
             "#b8e186"
            ],
            [
             0.8,
             "#7fbc41"
            ],
            [
             0.9,
             "#4d9221"
            ],
            [
             1,
             "#276419"
            ]
           ],
           "sequential": [
            [
             0,
             "#0d0887"
            ],
            [
             0.1111111111111111,
             "#46039f"
            ],
            [
             0.2222222222222222,
             "#7201a8"
            ],
            [
             0.3333333333333333,
             "#9c179e"
            ],
            [
             0.4444444444444444,
             "#bd3786"
            ],
            [
             0.5555555555555556,
             "#d8576b"
            ],
            [
             0.6666666666666666,
             "#ed7953"
            ],
            [
             0.7777777777777778,
             "#fb9f3a"
            ],
            [
             0.8888888888888888,
             "#fdca26"
            ],
            [
             1,
             "#f0f921"
            ]
           ],
           "sequentialminus": [
            [
             0,
             "#0d0887"
            ],
            [
             0.1111111111111111,
             "#46039f"
            ],
            [
             0.2222222222222222,
             "#7201a8"
            ],
            [
             0.3333333333333333,
             "#9c179e"
            ],
            [
             0.4444444444444444,
             "#bd3786"
            ],
            [
             0.5555555555555556,
             "#d8576b"
            ],
            [
             0.6666666666666666,
             "#ed7953"
            ],
            [
             0.7777777777777778,
             "#fb9f3a"
            ],
            [
             0.8888888888888888,
             "#fdca26"
            ],
            [
             1,
             "#f0f921"
            ]
           ]
          },
          "colorway": [
           "#636efa",
           "#EF553B",
           "#00cc96",
           "#ab63fa",
           "#FFA15A",
           "#19d3f3",
           "#FF6692",
           "#B6E880",
           "#FF97FF",
           "#FECB52"
          ],
          "font": {
           "color": "#2a3f5f"
          },
          "geo": {
           "bgcolor": "white",
           "lakecolor": "white",
           "landcolor": "#E5ECF6",
           "showlakes": true,
           "showland": true,
           "subunitcolor": "white"
          },
          "hoverlabel": {
           "align": "left"
          },
          "hovermode": "closest",
          "mapbox": {
           "style": "light"
          },
          "paper_bgcolor": "white",
          "plot_bgcolor": "#E5ECF6",
          "polar": {
           "angularaxis": {
            "gridcolor": "white",
            "linecolor": "white",
            "ticks": ""
           },
           "bgcolor": "#E5ECF6",
           "radialaxis": {
            "gridcolor": "white",
            "linecolor": "white",
            "ticks": ""
           }
          },
          "scene": {
           "xaxis": {
            "backgroundcolor": "#E5ECF6",
            "gridcolor": "white",
            "gridwidth": 2,
            "linecolor": "white",
            "showbackground": true,
            "ticks": "",
            "zerolinecolor": "white"
           },
           "yaxis": {
            "backgroundcolor": "#E5ECF6",
            "gridcolor": "white",
            "gridwidth": 2,
            "linecolor": "white",
            "showbackground": true,
            "ticks": "",
            "zerolinecolor": "white"
           },
           "zaxis": {
            "backgroundcolor": "#E5ECF6",
            "gridcolor": "white",
            "gridwidth": 2,
            "linecolor": "white",
            "showbackground": true,
            "ticks": "",
            "zerolinecolor": "white"
           }
          },
          "shapedefaults": {
           "line": {
            "color": "#2a3f5f"
           }
          },
          "ternary": {
           "aaxis": {
            "gridcolor": "white",
            "linecolor": "white",
            "ticks": ""
           },
           "baxis": {
            "gridcolor": "white",
            "linecolor": "white",
            "ticks": ""
           },
           "bgcolor": "#E5ECF6",
           "caxis": {
            "gridcolor": "white",
            "linecolor": "white",
            "ticks": ""
           }
          },
          "title": {
           "x": 0.05
          },
          "xaxis": {
           "automargin": true,
           "gridcolor": "white",
           "linecolor": "white",
           "ticks": "",
           "title": {
            "standoff": 15
           },
           "zerolinecolor": "white",
           "zerolinewidth": 2
          },
          "yaxis": {
           "automargin": true,
           "gridcolor": "white",
           "linecolor": "white",
           "ticks": "",
           "title": {
            "standoff": 15
           },
           "zerolinecolor": "white",
           "zerolinewidth": 2
          }
         }
        },
        "title": {
         "text": "Boxplot for concave_points_mean - Cancer Dataset"
        },
        "xaxis": {
         "anchor": "y",
         "domain": [
          0,
          1
         ],
         "title": {
          "text": "Category"
         }
        },
        "yaxis": {
         "anchor": "x",
         "domain": [
          0,
          1
         ],
         "title": {
          "text": "concave_points_mean"
         }
        }
       }
      }
     },
     "metadata": {},
     "output_type": "display_data"
    },
    {
     "data": {
      "application/vnd.plotly.v1+json": {
       "config": {
        "plotlyServerURL": "https://plot.ly"
       },
       "data": [
        {
         "alignmentgroup": "True",
         "hovertemplate": "symmetry_mean=%{y}<extra></extra>",
         "legendgroup": "",
         "marker": {
          "color": "#636efa"
         },
         "name": "",
         "notched": false,
         "offsetgroup": "",
         "orientation": "v",
         "showlegend": false,
         "type": "box",
         "x0": " ",
         "xaxis": "x",
         "y": {
          "bdata": "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",
          "dtype": "f8"
         },
         "y0": " ",
         "yaxis": "y"
        }
       ],
       "layout": {
        "boxmode": "group",
        "legend": {
         "tracegroupgap": 0
        },
        "margin": {
         "t": 60
        },
        "template": {
         "data": {
          "bar": [
           {
            "error_x": {
             "color": "#2a3f5f"
            },
            "error_y": {
             "color": "#2a3f5f"
            },
            "marker": {
             "line": {
              "color": "#E5ECF6",
              "width": 0.5
             },
             "pattern": {
              "fillmode": "overlay",
              "size": 10,
              "solidity": 0.2
             }
            },
            "type": "bar"
           }
          ],
          "barpolar": [
           {
            "marker": {
             "line": {
              "color": "#E5ECF6",
              "width": 0.5
             },
             "pattern": {
              "fillmode": "overlay",
              "size": 10,
              "solidity": 0.2
             }
            },
            "type": "barpolar"
           }
          ],
          "carpet": [
           {
            "aaxis": {
             "endlinecolor": "#2a3f5f",
             "gridcolor": "white",
             "linecolor": "white",
             "minorgridcolor": "white",
             "startlinecolor": "#2a3f5f"
            },
            "baxis": {
             "endlinecolor": "#2a3f5f",
             "gridcolor": "white",
             "linecolor": "white",
             "minorgridcolor": "white",
             "startlinecolor": "#2a3f5f"
            },
            "type": "carpet"
           }
          ],
          "choropleth": [
           {
            "colorbar": {
             "outlinewidth": 0,
             "ticks": ""
            },
            "type": "choropleth"
           }
          ],
          "contour": [
           {
            "colorbar": {
             "outlinewidth": 0,
             "ticks": ""
            },
            "colorscale": [
             [
              0,
              "#0d0887"
             ],
             [
              0.1111111111111111,
              "#46039f"
             ],
             [
              0.2222222222222222,
              "#7201a8"
             ],
             [
              0.3333333333333333,
              "#9c179e"
             ],
             [
              0.4444444444444444,
              "#bd3786"
             ],
             [
              0.5555555555555556,
              "#d8576b"
             ],
             [
              0.6666666666666666,
              "#ed7953"
             ],
             [
              0.7777777777777778,
              "#fb9f3a"
             ],
             [
              0.8888888888888888,
              "#fdca26"
             ],
             [
              1,
              "#f0f921"
             ]
            ],
            "type": "contour"
           }
          ],
          "contourcarpet": [
           {
            "colorbar": {
             "outlinewidth": 0,
             "ticks": ""
            },
            "type": "contourcarpet"
           }
          ],
          "heatmap": [
           {
            "colorbar": {
             "outlinewidth": 0,
             "ticks": ""
            },
            "colorscale": [
             [
              0,
              "#0d0887"
             ],
             [
              0.1111111111111111,
              "#46039f"
             ],
             [
              0.2222222222222222,
              "#7201a8"
             ],
             [
              0.3333333333333333,
              "#9c179e"
             ],
             [
              0.4444444444444444,
              "#bd3786"
             ],
             [
              0.5555555555555556,
              "#d8576b"
             ],
             [
              0.6666666666666666,
              "#ed7953"
             ],
             [
              0.7777777777777778,
              "#fb9f3a"
             ],
             [
              0.8888888888888888,
              "#fdca26"
             ],
             [
              1,
              "#f0f921"
             ]
            ],
            "type": "heatmap"
           }
          ],
          "histogram": [
           {
            "marker": {
             "pattern": {
              "fillmode": "overlay",
              "size": 10,
              "solidity": 0.2
             }
            },
            "type": "histogram"
           }
          ],
          "histogram2d": [
           {
            "colorbar": {
             "outlinewidth": 0,
             "ticks": ""
            },
            "colorscale": [
             [
              0,
              "#0d0887"
             ],
             [
              0.1111111111111111,
              "#46039f"
             ],
             [
              0.2222222222222222,
              "#7201a8"
             ],
             [
              0.3333333333333333,
              "#9c179e"
             ],
             [
              0.4444444444444444,
              "#bd3786"
             ],
             [
              0.5555555555555556,
              "#d8576b"
             ],
             [
              0.6666666666666666,
              "#ed7953"
             ],
             [
              0.7777777777777778,
              "#fb9f3a"
             ],
             [
              0.8888888888888888,
              "#fdca26"
             ],
             [
              1,
              "#f0f921"
             ]
            ],
            "type": "histogram2d"
           }
          ],
          "histogram2dcontour": [
           {
            "colorbar": {
             "outlinewidth": 0,
             "ticks": ""
            },
            "colorscale": [
             [
              0,
              "#0d0887"
             ],
             [
              0.1111111111111111,
              "#46039f"
             ],
             [
              0.2222222222222222,
              "#7201a8"
             ],
             [
              0.3333333333333333,
              "#9c179e"
             ],
             [
              0.4444444444444444,
              "#bd3786"
             ],
             [
              0.5555555555555556,
              "#d8576b"
             ],
             [
              0.6666666666666666,
              "#ed7953"
             ],
             [
              0.7777777777777778,
              "#fb9f3a"
             ],
             [
              0.8888888888888888,
              "#fdca26"
             ],
             [
              1,
              "#f0f921"
             ]
            ],
            "type": "histogram2dcontour"
           }
          ],
          "mesh3d": [
           {
            "colorbar": {
             "outlinewidth": 0,
             "ticks": ""
            },
            "type": "mesh3d"
           }
          ],
          "parcoords": [
           {
            "line": {
             "colorbar": {
              "outlinewidth": 0,
              "ticks": ""
             }
            },
            "type": "parcoords"
           }
          ],
          "pie": [
           {
            "automargin": true,
            "type": "pie"
           }
          ],
          "scatter": [
           {
            "fillpattern": {
             "fillmode": "overlay",
             "size": 10,
             "solidity": 0.2
            },
            "type": "scatter"
           }
          ],
          "scatter3d": [
           {
            "line": {
             "colorbar": {
              "outlinewidth": 0,
              "ticks": ""
             }
            },
            "marker": {
             "colorbar": {
              "outlinewidth": 0,
              "ticks": ""
             }
            },
            "type": "scatter3d"
           }
          ],
          "scattercarpet": [
           {
            "marker": {
             "colorbar": {
              "outlinewidth": 0,
              "ticks": ""
             }
            },
            "type": "scattercarpet"
           }
          ],
          "scattergeo": [
           {
            "marker": {
             "colorbar": {
              "outlinewidth": 0,
              "ticks": ""
             }
            },
            "type": "scattergeo"
           }
          ],
          "scattergl": [
           {
            "marker": {
             "colorbar": {
              "outlinewidth": 0,
              "ticks": ""
             }
            },
            "type": "scattergl"
           }
          ],
          "scattermap": [
           {
            "marker": {
             "colorbar": {
              "outlinewidth": 0,
              "ticks": ""
             }
            },
            "type": "scattermap"
           }
          ],
          "scattermapbox": [
           {
            "marker": {
             "colorbar": {
              "outlinewidth": 0,
              "ticks": ""
             }
            },
            "type": "scattermapbox"
           }
          ],
          "scatterpolar": [
           {
            "marker": {
             "colorbar": {
              "outlinewidth": 0,
              "ticks": ""
             }
            },
            "type": "scatterpolar"
           }
          ],
          "scatterpolargl": [
           {
            "marker": {
             "colorbar": {
              "outlinewidth": 0,
              "ticks": ""
             }
            },
            "type": "scatterpolargl"
           }
          ],
          "scatterternary": [
           {
            "marker": {
             "colorbar": {
              "outlinewidth": 0,
              "ticks": ""
             }
            },
            "type": "scatterternary"
           }
          ],
          "surface": [
           {
            "colorbar": {
             "outlinewidth": 0,
             "ticks": ""
            },
            "colorscale": [
             [
              0,
              "#0d0887"
             ],
             [
              0.1111111111111111,
              "#46039f"
             ],
             [
              0.2222222222222222,
              "#7201a8"
             ],
             [
              0.3333333333333333,
              "#9c179e"
             ],
             [
              0.4444444444444444,
              "#bd3786"
             ],
             [
              0.5555555555555556,
              "#d8576b"
             ],
             [
              0.6666666666666666,
              "#ed7953"
             ],
             [
              0.7777777777777778,
              "#fb9f3a"
             ],
             [
              0.8888888888888888,
              "#fdca26"
             ],
             [
              1,
              "#f0f921"
             ]
            ],
            "type": "surface"
           }
          ],
          "table": [
           {
            "cells": {
             "fill": {
              "color": "#EBF0F8"
             },
             "line": {
              "color": "white"
             }
            },
            "header": {
             "fill": {
              "color": "#C8D4E3"
             },
             "line": {
              "color": "white"
             }
            },
            "type": "table"
           }
          ]
         },
         "layout": {
          "annotationdefaults": {
           "arrowcolor": "#2a3f5f",
           "arrowhead": 0,
           "arrowwidth": 1
          },
          "autotypenumbers": "strict",
          "coloraxis": {
           "colorbar": {
            "outlinewidth": 0,
            "ticks": ""
           }
          },
          "colorscale": {
           "diverging": [
            [
             0,
             "#8e0152"
            ],
            [
             0.1,
             "#c51b7d"
            ],
            [
             0.2,
             "#de77ae"
            ],
            [
             0.3,
             "#f1b6da"
            ],
            [
             0.4,
             "#fde0ef"
            ],
            [
             0.5,
             "#f7f7f7"
            ],
            [
             0.6,
             "#e6f5d0"
            ],
            [
             0.7,
             "#b8e186"
            ],
            [
             0.8,
             "#7fbc41"
            ],
            [
             0.9,
             "#4d9221"
            ],
            [
             1,
             "#276419"
            ]
           ],
           "sequential": [
            [
             0,
             "#0d0887"
            ],
            [
             0.1111111111111111,
             "#46039f"
            ],
            [
             0.2222222222222222,
             "#7201a8"
            ],
            [
             0.3333333333333333,
             "#9c179e"
            ],
            [
             0.4444444444444444,
             "#bd3786"
            ],
            [
             0.5555555555555556,
             "#d8576b"
            ],
            [
             0.6666666666666666,
             "#ed7953"
            ],
            [
             0.7777777777777778,
             "#fb9f3a"
            ],
            [
             0.8888888888888888,
             "#fdca26"
            ],
            [
             1,
             "#f0f921"
            ]
           ],
           "sequentialminus": [
            [
             0,
             "#0d0887"
            ],
            [
             0.1111111111111111,
             "#46039f"
            ],
            [
             0.2222222222222222,
             "#7201a8"
            ],
            [
             0.3333333333333333,
             "#9c179e"
            ],
            [
             0.4444444444444444,
             "#bd3786"
            ],
            [
             0.5555555555555556,
             "#d8576b"
            ],
            [
             0.6666666666666666,
             "#ed7953"
            ],
            [
             0.7777777777777778,
             "#fb9f3a"
            ],
            [
             0.8888888888888888,
             "#fdca26"
            ],
            [
             1,
             "#f0f921"
            ]
           ]
          },
          "colorway": [
           "#636efa",
           "#EF553B",
           "#00cc96",
           "#ab63fa",
           "#FFA15A",
           "#19d3f3",
           "#FF6692",
           "#B6E880",
           "#FF97FF",
           "#FECB52"
          ],
          "font": {
           "color": "#2a3f5f"
          },
          "geo": {
           "bgcolor": "white",
           "lakecolor": "white",
           "landcolor": "#E5ECF6",
           "showlakes": true,
           "showland": true,
           "subunitcolor": "white"
          },
          "hoverlabel": {
           "align": "left"
          },
          "hovermode": "closest",
          "mapbox": {
           "style": "light"
          },
          "paper_bgcolor": "white",
          "plot_bgcolor": "#E5ECF6",
          "polar": {
           "angularaxis": {
            "gridcolor": "white",
            "linecolor": "white",
            "ticks": ""
           },
           "bgcolor": "#E5ECF6",
           "radialaxis": {
            "gridcolor": "white",
            "linecolor": "white",
            "ticks": ""
           }
          },
          "scene": {
           "xaxis": {
            "backgroundcolor": "#E5ECF6",
            "gridcolor": "white",
            "gridwidth": 2,
            "linecolor": "white",
            "showbackground": true,
            "ticks": "",
            "zerolinecolor": "white"
           },
           "yaxis": {
            "backgroundcolor": "#E5ECF6",
            "gridcolor": "white",
            "gridwidth": 2,
            "linecolor": "white",
            "showbackground": true,
            "ticks": "",
            "zerolinecolor": "white"
           },
           "zaxis": {
            "backgroundcolor": "#E5ECF6",
            "gridcolor": "white",
            "gridwidth": 2,
            "linecolor": "white",
            "showbackground": true,
            "ticks": "",
            "zerolinecolor": "white"
           }
          },
          "shapedefaults": {
           "line": {
            "color": "#2a3f5f"
           }
          },
          "ternary": {
           "aaxis": {
            "gridcolor": "white",
            "linecolor": "white",
            "ticks": ""
           },
           "baxis": {
            "gridcolor": "white",
            "linecolor": "white",
            "ticks": ""
           },
           "bgcolor": "#E5ECF6",
           "caxis": {
            "gridcolor": "white",
            "linecolor": "white",
            "ticks": ""
           }
          },
          "title": {
           "x": 0.05
          },
          "xaxis": {
           "automargin": true,
           "gridcolor": "white",
           "linecolor": "white",
           "ticks": "",
           "title": {
            "standoff": 15
           },
           "zerolinecolor": "white",
           "zerolinewidth": 2
          },
          "yaxis": {
           "automargin": true,
           "gridcolor": "white",
           "linecolor": "white",
           "ticks": "",
           "title": {
            "standoff": 15
           },
           "zerolinecolor": "white",
           "zerolinewidth": 2
          }
         }
        },
        "title": {
         "text": "Boxplot for symmetry_mean - Cancer Dataset"
        },
        "xaxis": {
         "anchor": "y",
         "domain": [
          0,
          1
         ],
         "title": {
          "text": "Category"
         }
        },
        "yaxis": {
         "anchor": "x",
         "domain": [
          0,
          1
         ],
         "title": {
          "text": "symmetry_mean"
         }
        }
       }
      }
     },
     "metadata": {},
     "output_type": "display_data"
    },
    {
     "data": {
      "application/vnd.plotly.v1+json": {
       "config": {
        "plotlyServerURL": "https://plot.ly"
       },
       "data": [
        {
         "alignmentgroup": "True",
         "hovertemplate": "fractal_dimension_mean=%{y}<extra></extra>",
         "legendgroup": "",
         "marker": {
          "color": "#636efa"
         },
         "name": "",
         "notched": false,
         "offsetgroup": "",
         "orientation": "v",
         "showlegend": false,
         "type": "box",
         "x0": " ",
         "xaxis": "x",
         "y": {
          "bdata": "vD/eq1YmtD/AIVSp2QOtP4KQLGACt64/Un5S7dPxuD/JHww89x6uPz6WPnRBfbM/vMtFfCdmrT/7ljldFhOzP19egH106rI/YJM16iEatT8lzLT9KyutPzKs4o3MI68/K4cW2c73sz+iXYWUn1SrP5jArbt5qrM/ILWJk/sdsj8Zyol2FVKuP9szSwLU1LI/yAc9m1Wfqz/aIJOMnIWtP8jShy6ob7E/zO7Jw0KtsT9UNUHUfQCyP9kIxOv6Bas/hjjWxW00sD/uCKcFL/qyP9I1k2+2ubE/kuhlFMstrT/njCjtDb6wP3rkDwaee68/tI6qJoi6rz8QQGoTJ/ezPxGq1OyBVrA/LA5nfjUHsD89m1Wfq62wP2gFhqxu9aw/XI/C9Shcrz+GAyFZwASuPwOV8e8zLqw/AvG6fsFusD+0sKcd/pqsPxE2PL1SlrE/6dSVz/I8sD+xxAPKplyxP3Fyv0NRoK8/Kld4l4v4rj/2RUJbzqWwPyhhpu1fWbE/4gFlU67wrj+fdvhrskatP9rmxvSEJa4/tAJDVrd6rj8qOpLLf0ivP2WqYFRSJ7A/YJM16iEarT/mdFlMbD6uP2l0B7Ezha4/IhrdQexMsT9g6udNRSqsP9lCkIMSZrI/qDXNO07RsT8H0zB8REyxPwltOZfiqrI/+grSjEXTsT87cM6I0t6wPw034PPDCLE/KETAIVSpsT/AIVSp2QOtP2LboswGmbQ/xFp8CoDxrD/ZsRGI1/WrP+lILv8h/bY/QdR9AFKbsD+sxacAGM+wP2RYxRuZR64/7s7abReaqz+qmiDqPgCxPxN+qZ83FbE/nYU97fDXtD8VdHtJY7SuP3S1FfvL7rE/ehnFckursT+xxAPKplyxP8qJdhVSfrI/5ldzgGCOrj9pVyHlJ9WuPyXpmsk326w/pwUv+grSrD9pxqLp7GSwPzuqmiDqPrA/Ka4q+64Irj9lARO4dTevP19BmrFoOqs/6gQ0ETY8rT+fceFASBawP+ohGt1B7Kw/B/AWSFD8sD8zxLEubqOxP2E3bFuU2bA/6+I2GsBbsD86deWzPA+uPxaHM7+aA7Q/4q/JGvUQrT+s/3OYLy+wP54pdF5jl7A/qYdodAexsz/F/rJ78rCwP8nIWdjTDq8/Eyf3OxQFsj+7fsFu2LawP9lfdk8eFrI/YcPTK2UZsj/d6jnpfeOzP0CH+fIC7LM/XyS05VyKsz8R5KCEmbavP0qYaftXVrI/M+GX+nlTsT8xQni0ccSyP+58PzVeuqk/zeSbbW5Mrz8dcjPcgM+vP9An8iTpmrE/MjhKXp1jsD//ykqTUtCtP0cDeAskKK4/bVZ9rrZirz/6CtKMRdOpPyBGCI82jrA/zeSbbW5Mrz+NYrml1ZCwPz7L8+DurK0/fZHQlnMprj+wPbMkQE2tP4p2FVJ+Uq0/kzoBTYQNrz8AkX77OnCuP/Mf0m9fB64/wRw9fm/Trz8RHm0csRavP1TGv8+4cLA/k+NO6WD9rz8/qfbpeMywP86qz9VW7K8/OsyXF2AfrT9TXFX2XRG0P3ReY5eo3rI/5X6HokCfsD/8HYoCfSKvPzbNO07Rkaw/Q3OdRloqrz9Lk1LQ7SW1P5UO1v85zLc/GXPXEvJBrz/WHCCYo8evP1DHYwYq468/GVbxRuaRrz+3ek563/iqP+Z0WUxsPq4/81meB3dnrT+iYpy/CYWwPxxfe2ZJgKo/Mqzijcwjrz907+GS406xP3XN5Jttbqw/Sl6dY0D2qj/8qfHSTWKwP2g/UkSGVaw/QfFjzF1LsD8hsHJoke2sPyEf9GxWfa4/m1q21hcJrT9GfCdmvRiyP6Zh+IiYErE/ZDvfT42Xrj+CqPsApDaxP9dMvtnmxrQ/x0YgXtcvsD94l4v4TsyqPxEBh1ClZq8/tFn1udqKrT9V3o5wWvCyP5qUgm4vaaw/+KqVCb/Urz8knBa86CuwP/PIHww8964/LbKd76fGqz/35GGh1jSvP9Xnaiv2l60/nuqQm+EGrD+t3XahuU6zP/FG5pE/GLA//reSHRuBsD810lJ5O8KxP/g2/dmPFLE/wCFUqdkDrT/QJ/Ik6ZqxPxB6Nqs+V6s/V3iXi/hOrD8E/1vJjo2wP35XBP9bya4/Plxy3CkdrD+GVbyReeSvP8hBCTNt/7I/GyrG+ZtQsD+8V61M+KWuP7u4jQbwFrA/IHu9++O9qj/0bFZ9rrayP7PNjekJS6w/t+7mqQ65qT/eyDzyBwOvP30/NV66Saw/Ka4q+64Irj+A1CZO7newP/j8MEJ4tLE/0sYRa/EpsD/tDb4wmSqwP2xblNkgk6w/Tnrf+Nozqz8EHEKVmj2wP6a4quy7IrA/HsTOFDqvsT+muKrsuyKwPz4FwHgGDa0/FHmSdM3kqz9QjZduEoOwP+Z0WUxsPq4/xawXQznRrj/83qY/+5GyP/7UeOkmMbA/cHfWbrvQrD8QkgVM4NatP8R3YtaLoaw/Tn/2I0VksD+OdXEbDeCtP0ljtI6qJrA/Uu3T8ZiBqj82yCQjZ2GvP3k7wmnBi64/Qj7o2az6rD9LdmwE4nWtPzUk7rH0obM/B+v/HObLqz+4HoXrUbiuPz/G3LWEfLA/7lpCPujZrD/xKQDGM2iwP2vxKQDGM7A/hnKiXYWUrz/7dDxmoDKuP6d0sP7PYa4/oijQJ/IksT8+IqZEEr2sP30Facai6aw/bVZ9rrZirz8qAMYzaOivP27dzVMdcrM/kPeqlQm/tD+gGi/dJAaxP4Fbd/NUh6w/ByXMtP0rqz99XBsqxvmrPwOy17s/3qs/Ns07TtGRrD8+BcB4Bg2tP67wLhfxnbA/rMq+K4L/rT99y5wui4mtPzf92Y8UkbE/vHmqQ26Gqz8ijnVxGw2wPxHkoISZtq8/mzi536EosD9L6gQ0ETasPxSuR+F6FK4/kq6ZfLPNrT+/YDdsW5SpP2x4eqUsQ6w/ZHWr56T3rT+bVZ+rrdivP83km21uTK8/tB8pIsMqrj8/jBAebRyxP94CCYofY64/0ZFc/kP6rT/8Uj9vKlKxP2xblNkgk6w/YY4ev7fprz8hH/RsVn2uP2Gm7V9ZabI/LudSXFX2rT9xGw3gLZCwP/vL7snDQq0/CKwcWmQ7rz/3OxQF+kSuP1RXPsvz4K4/8UbmkT8YsD99Ik+SrpmsP5v+7EeKyLA/LuI7MevFsD/Jcad0sP6vP+aWVkPiHrM/TDeJQWDlsD+CHJQw0/avP7hYUYNpGK4/ITzaOGItrj8g71UrE36xP/+ye/KwUKs//1vJjo1ArD8AOsyXF2CvP/JBz2bV56o/j+TyH9Jvrz8IrBxaZDuvPy0JUFPL1rI/CHdn7bYLrT/qIRrdQeysPx13Sgfr/6w/p3Sw/s9htj8pP6n26XisP6bQeY1dorI/D+7O2m0Xqj8VxhaCHJSwP8GopE5AE7E/NsgkI2dhrz9PO/w1WaOuP8l2vp8aL60/owG8BRIUrz/hfyvZsRGwPw1Uxr/PuLA/m8k329yYrj/njCjtDb6wP7CsNCkF3a4//B2KAn0irz8AkX77OnCuP9qPFJFhFa8/SG3i5H6Hsj9pOjsZHCWvP6J/gosVNbA/cLGiBtMwrD9D/wQXK2qwPz0K16NwPbI/A30iT5KusT/7y+7Jw0KtP0gbR6zFp7A/dLUV+8vusT/zyB8MPPeuP/c7FAX6RK4/AOMZNPRPsD9F8L+V7NiwP2Svd3+8V60/Lc+Du7N2sz+CVmDI6lavP85wAz4/jLA/aTo7GRwlrz/vVSsTfqmvP7+36c9+pLA/yR8MPPcerj+JDKt4I/OwP43uIHam0LE/B1+YTBWMqj/uPVxy3CmtP7nH0ocuqK8/+wW7YduirD//BBcrajCtP08GR8mrc6w/+zpwzojSrj/RdHYyOEquPxyZR/5g4Kk/j+TyH9Jvrz8uOe6UDtavP4rNx7WhYqw/ucfShy6orz95I/PIHwysPy0+BcB4Bq0/UHCxogbTsD9vEoPAyqG1PzZ2ieqtga0/xebj2lAxrj8nMQisHFq0P8Fu2LYos7E/Jsed0sH6rz+Vmj3QCgyxPwTidf2C3bA/MZQT7SqkrD9CsoAJ3LqrP4qryr4rgq8/nuqQm+EGrD/GUE60q5CyPwCuZMdGIK4//pqsUQ/RsD9diqvKviuyP6Q2cXK/Q7E/7+GS407psD8IjzaOWIuvP2wE4nX9gq0/jgHZ690frz9xPQrXo3CtP1QAjGfQ0K8/xawXQznRrj8tQxzr4jayP+YivhOzXqw/MgOV8e8zrj9YObTIdr6vP33ogvqWOa0/5WGh1jTvsD8UrkfhehSuPwRz9Pi9Ta8/bXNjesISrz/VPh2PGaisPy7KbJBJRq4/l/+Qfvs6sD+CqPsApDaxPy7KbJBJRq4/QuxMofMaqz9DHOviNhqwP2d+NQcI5rA/bosyG2SSsT+q8dJNYhCwP2kdVU0Qda8/0LhwICQLsD8vF/GdmPWyP3ZxGw3gLbA/S6shcY+lrz8DYDyDhv6xPyR/MPDce7A/3bWEfNCzsT/RV5BmLJquP0NWt3pOeq8/is3HtaFirD8N/RNcrKixP8qmXOFdLrI/BJDaxMn9rj/aci7FVWWvP2whyEEJM60/VKnZA63AsD9W8UbmkT+wP/t0PGagMq4/CHdn7bYLrT99Ik+SrpmsP49TdCSX/7A/V7JjIxCvqz9TrvAuF/GtP0c9RKM7iK0/1edqK/aXrT/wp8ZLN4mxP9F0djI4Sq4/bcoV3uUirj+WBKipZWutP3nMQGX8+6w/k4ychT3tsD/uztptF5qrP+LkfoeiQK8/glZgyOpWrz+jdVQ1QdStPyECDqFKza4/GVbxRuaRrz8QBp57D5esP0oH6/8c5qs/fnTqymd5rj9OnNzvUBSwP2CwG7Ytyqw/4iNiSiTRqz+syr4rgv+tP5qUgm4vaaw/ZY16iEZ3sD/7OnDOiNKuP0P/BBcrarA/PtAKDFndsj8YJlMFo5KyP19GsdzSarA/XFoNiXssrT8tPgXAeAatPzLmriXkg64/jQsHQrKAsT8uymyQSUauP6MeotEdxK4/1VsDWyVYrD+H/gkuVtSwP/Qau0T11rA/n3HhQEgWsD8xlBPtKqSsP3QMyF7v/rA/eQH20akrrz/2fw7z5QWwP42XbhKDwLI/Qs9m1edqqz87AU2EDU+vPxfxnZj1YrA/3SQGgZVDqz+byTfb3JiuP2OXqN4a2Ko/IeUn1T4drz9+VwT/W8muP9rmxvSEJa4/BCFZwARurT9dxHdi1ouxP4asbvWc9K4/oijQJ/IksT8IclDCTNuvP/buj/eqlbE/LSY2H9eGsj+TjJyFPe2wP8B4Bg39E6w/iEZ3EDtTuD9QjZduEoO4P6DgYkUNprE/7GmHvyZrtD+fk943vvasP8RfkzXqIbI/IhrdQexMsT/E6/oFu2GrP42XbhKDwLI//yH99nXgrD+b5h2n6EiuP7BVgsXhzK8/JVgczvxqrj/Jjo1AvK6vP+GX+nlTkbI/v5oDBHP0sD8WpBmLprOzPxzTE5Z4QLE/6dSVz/I8sD8xthDkoISxP04LXvQVpLE/WVGDaRg+sj8knBa86CuwP811GmmpvK0/D39N1qiHsD8mcOtunuqwP4CaWrbWF7E/fJv+7EeKsD/BOSNKe4OvP+ZciqvKvqs/1uJTAIxnsD8bR6zFpwCwP+IeSx+6oK4/FNBE2PD0sj9Ke4MvTKayP/LqHAOy17M/scQDyqZcsT+yRj1EozuwP4Za07zjFK0/DHbDtkWZrT+sqME0DB+xP0+Srpl8s60/j8cMVMa/rz9y4UBIFjCxP86qz9VW7K8/UKp9Oh4zsD+jO4idKXSuPy7iOzHrxbA/XHfzVIfcrD+9jGK5pdWwP33ogvqWOa0/yatzDMherz+if4KLFTWwP0vl7QinBa8/DMhe7/54rz8Z4lgXt9GwPyodrP9zmK8/lnhA2ZQrrD8eigJ9Ik+yPwe2SrA4nLE/YLAbti3KrD8xsfm4NlSsP7STwVHy6qw/oMN8eQH2sT8ArmTHRiCuPw==",
          "dtype": "f8"
         },
         "y0": " ",
         "yaxis": "y"
        }
       ],
       "layout": {
        "boxmode": "group",
        "legend": {
         "tracegroupgap": 0
        },
        "margin": {
         "t": 60
        },
        "template": {
         "data": {
          "bar": [
           {
            "error_x": {
             "color": "#2a3f5f"
            },
            "error_y": {
             "color": "#2a3f5f"
            },
            "marker": {
             "line": {
              "color": "#E5ECF6",
              "width": 0.5
             },
             "pattern": {
              "fillmode": "overlay",
              "size": 10,
              "solidity": 0.2
             }
            },
            "type": "bar"
           }
          ],
          "barpolar": [
           {
            "marker": {
             "line": {
              "color": "#E5ECF6",
              "width": 0.5
             },
             "pattern": {
              "fillmode": "overlay",
              "size": 10,
              "solidity": 0.2
             }
            },
            "type": "barpolar"
           }
          ],
          "carpet": [
           {
            "aaxis": {
             "endlinecolor": "#2a3f5f",
             "gridcolor": "white",
             "linecolor": "white",
             "minorgridcolor": "white",
             "startlinecolor": "#2a3f5f"
            },
            "baxis": {
             "endlinecolor": "#2a3f5f",
             "gridcolor": "white",
             "linecolor": "white",
             "minorgridcolor": "white",
             "startlinecolor": "#2a3f5f"
            },
            "type": "carpet"
           }
          ],
          "choropleth": [
           {
            "colorbar": {
             "outlinewidth": 0,
             "ticks": ""
            },
            "type": "choropleth"
           }
          ],
          "contour": [
           {
            "colorbar": {
             "outlinewidth": 0,
             "ticks": ""
            },
            "colorscale": [
             [
              0,
              "#0d0887"
             ],
             [
              0.1111111111111111,
              "#46039f"
             ],
             [
              0.2222222222222222,
              "#7201a8"
             ],
             [
              0.3333333333333333,
              "#9c179e"
             ],
             [
              0.4444444444444444,
              "#bd3786"
             ],
             [
              0.5555555555555556,
              "#d8576b"
             ],
             [
              0.6666666666666666,
              "#ed7953"
             ],
             [
              0.7777777777777778,
              "#fb9f3a"
             ],
             [
              0.8888888888888888,
              "#fdca26"
             ],
             [
              1,
              "#f0f921"
             ]
            ],
            "type": "contour"
           }
          ],
          "contourcarpet": [
           {
            "colorbar": {
             "outlinewidth": 0,
             "ticks": ""
            },
            "type": "contourcarpet"
           }
          ],
          "heatmap": [
           {
            "colorbar": {
             "outlinewidth": 0,
             "ticks": ""
            },
            "colorscale": [
             [
              0,
              "#0d0887"
             ],
             [
              0.1111111111111111,
              "#46039f"
             ],
             [
              0.2222222222222222,
              "#7201a8"
             ],
             [
              0.3333333333333333,
              "#9c179e"
             ],
             [
              0.4444444444444444,
              "#bd3786"
             ],
             [
              0.5555555555555556,
              "#d8576b"
             ],
             [
              0.6666666666666666,
              "#ed7953"
             ],
             [
              0.7777777777777778,
              "#fb9f3a"
             ],
             [
              0.8888888888888888,
              "#fdca26"
             ],
             [
              1,
              "#f0f921"
             ]
            ],
            "type": "heatmap"
           }
          ],
          "histogram": [
           {
            "marker": {
             "pattern": {
              "fillmode": "overlay",
              "size": 10,
              "solidity": 0.2
             }
            },
            "type": "histogram"
           }
          ],
          "histogram2d": [
           {
            "colorbar": {
             "outlinewidth": 0,
             "ticks": ""
            },
            "colorscale": [
             [
              0,
              "#0d0887"
             ],
             [
              0.1111111111111111,
              "#46039f"
             ],
             [
              0.2222222222222222,
              "#7201a8"
             ],
             [
              0.3333333333333333,
              "#9c179e"
             ],
             [
              0.4444444444444444,
              "#bd3786"
             ],
             [
              0.5555555555555556,
              "#d8576b"
             ],
             [
              0.6666666666666666,
              "#ed7953"
             ],
             [
              0.7777777777777778,
              "#fb9f3a"
             ],
             [
              0.8888888888888888,
              "#fdca26"
             ],
             [
              1,
              "#f0f921"
             ]
            ],
            "type": "histogram2d"
           }
          ],
          "histogram2dcontour": [
           {
            "colorbar": {
             "outlinewidth": 0,
             "ticks": ""
            },
            "colorscale": [
             [
              0,
              "#0d0887"
             ],
             [
              0.1111111111111111,
              "#46039f"
             ],
             [
              0.2222222222222222,
              "#7201a8"
             ],
             [
              0.3333333333333333,
              "#9c179e"
             ],
             [
              0.4444444444444444,
              "#bd3786"
             ],
             [
              0.5555555555555556,
              "#d8576b"
             ],
             [
              0.6666666666666666,
              "#ed7953"
             ],
             [
              0.7777777777777778,
              "#fb9f3a"
             ],
             [
              0.8888888888888888,
              "#fdca26"
             ],
             [
              1,
              "#f0f921"
             ]
            ],
            "type": "histogram2dcontour"
           }
          ],
          "mesh3d": [
           {
            "colorbar": {
             "outlinewidth": 0,
             "ticks": ""
            },
            "type": "mesh3d"
           }
          ],
          "parcoords": [
           {
            "line": {
             "colorbar": {
              "outlinewidth": 0,
              "ticks": ""
             }
            },
            "type": "parcoords"
           }
          ],
          "pie": [
           {
            "automargin": true,
            "type": "pie"
           }
          ],
          "scatter": [
           {
            "fillpattern": {
             "fillmode": "overlay",
             "size": 10,
             "solidity": 0.2
            },
            "type": "scatter"
           }
          ],
          "scatter3d": [
           {
            "line": {
             "colorbar": {
              "outlinewidth": 0,
              "ticks": ""
             }
            },
            "marker": {
             "colorbar": {
              "outlinewidth": 0,
              "ticks": ""
             }
            },
            "type": "scatter3d"
           }
          ],
          "scattercarpet": [
           {
            "marker": {
             "colorbar": {
              "outlinewidth": 0,
              "ticks": ""
             }
            },
            "type": "scattercarpet"
           }
          ],
          "scattergeo": [
           {
            "marker": {
             "colorbar": {
              "outlinewidth": 0,
              "ticks": ""
             }
            },
            "type": "scattergeo"
           }
          ],
          "scattergl": [
           {
            "marker": {
             "colorbar": {
              "outlinewidth": 0,
              "ticks": ""
             }
            },
            "type": "scattergl"
           }
          ],
          "scattermap": [
           {
            "marker": {
             "colorbar": {
              "outlinewidth": 0,
              "ticks": ""
             }
            },
            "type": "scattermap"
           }
          ],
          "scattermapbox": [
           {
            "marker": {
             "colorbar": {
              "outlinewidth": 0,
              "ticks": ""
             }
            },
            "type": "scattermapbox"
           }
          ],
          "scatterpolar": [
           {
            "marker": {
             "colorbar": {
              "outlinewidth": 0,
              "ticks": ""
             }
            },
            "type": "scatterpolar"
           }
          ],
          "scatterpolargl": [
           {
            "marker": {
             "colorbar": {
              "outlinewidth": 0,
              "ticks": ""
             }
            },
            "type": "scatterpolargl"
           }
          ],
          "scatterternary": [
           {
            "marker": {
             "colorbar": {
              "outlinewidth": 0,
              "ticks": ""
             }
            },
            "type": "scatterternary"
           }
          ],
          "surface": [
           {
            "colorbar": {
             "outlinewidth": 0,
             "ticks": ""
            },
            "colorscale": [
             [
              0,
              "#0d0887"
             ],
             [
              0.1111111111111111,
              "#46039f"
             ],
             [
              0.2222222222222222,
              "#7201a8"
             ],
             [
              0.3333333333333333,
              "#9c179e"
             ],
             [
              0.4444444444444444,
              "#bd3786"
             ],
             [
              0.5555555555555556,
              "#d8576b"
             ],
             [
              0.6666666666666666,
              "#ed7953"
             ],
             [
              0.7777777777777778,
              "#fb9f3a"
             ],
             [
              0.8888888888888888,
              "#fdca26"
             ],
             [
              1,
              "#f0f921"
             ]
            ],
            "type": "surface"
           }
          ],
          "table": [
           {
            "cells": {
             "fill": {
              "color": "#EBF0F8"
             },
             "line": {
              "color": "white"
             }
            },
            "header": {
             "fill": {
              "color": "#C8D4E3"
             },
             "line": {
              "color": "white"
             }
            },
            "type": "table"
           }
          ]
         },
         "layout": {
          "annotationdefaults": {
           "arrowcolor": "#2a3f5f",
           "arrowhead": 0,
           "arrowwidth": 1
          },
          "autotypenumbers": "strict",
          "coloraxis": {
           "colorbar": {
            "outlinewidth": 0,
            "ticks": ""
           }
          },
          "colorscale": {
           "diverging": [
            [
             0,
             "#8e0152"
            ],
            [
             0.1,
             "#c51b7d"
            ],
            [
             0.2,
             "#de77ae"
            ],
            [
             0.3,
             "#f1b6da"
            ],
            [
             0.4,
             "#fde0ef"
            ],
            [
             0.5,
             "#f7f7f7"
            ],
            [
             0.6,
             "#e6f5d0"
            ],
            [
             0.7,
             "#b8e186"
            ],
            [
             0.8,
             "#7fbc41"
            ],
            [
             0.9,
             "#4d9221"
            ],
            [
             1,
             "#276419"
            ]
           ],
           "sequential": [
            [
             0,
             "#0d0887"
            ],
            [
             0.1111111111111111,
             "#46039f"
            ],
            [
             0.2222222222222222,
             "#7201a8"
            ],
            [
             0.3333333333333333,
             "#9c179e"
            ],
            [
             0.4444444444444444,
             "#bd3786"
            ],
            [
             0.5555555555555556,
             "#d8576b"
            ],
            [
             0.6666666666666666,
             "#ed7953"
            ],
            [
             0.7777777777777778,
             "#fb9f3a"
            ],
            [
             0.8888888888888888,
             "#fdca26"
            ],
            [
             1,
             "#f0f921"
            ]
           ],
           "sequentialminus": [
            [
             0,
             "#0d0887"
            ],
            [
             0.1111111111111111,
             "#46039f"
            ],
            [
             0.2222222222222222,
             "#7201a8"
            ],
            [
             0.3333333333333333,
             "#9c179e"
            ],
            [
             0.4444444444444444,
             "#bd3786"
            ],
            [
             0.5555555555555556,
             "#d8576b"
            ],
            [
             0.6666666666666666,
             "#ed7953"
            ],
            [
             0.7777777777777778,
             "#fb9f3a"
            ],
            [
             0.8888888888888888,
             "#fdca26"
            ],
            [
             1,
             "#f0f921"
            ]
           ]
          },
          "colorway": [
           "#636efa",
           "#EF553B",
           "#00cc96",
           "#ab63fa",
           "#FFA15A",
           "#19d3f3",
           "#FF6692",
           "#B6E880",
           "#FF97FF",
           "#FECB52"
          ],
          "font": {
           "color": "#2a3f5f"
          },
          "geo": {
           "bgcolor": "white",
           "lakecolor": "white",
           "landcolor": "#E5ECF6",
           "showlakes": true,
           "showland": true,
           "subunitcolor": "white"
          },
          "hoverlabel": {
           "align": "left"
          },
          "hovermode": "closest",
          "mapbox": {
           "style": "light"
          },
          "paper_bgcolor": "white",
          "plot_bgcolor": "#E5ECF6",
          "polar": {
           "angularaxis": {
            "gridcolor": "white",
            "linecolor": "white",
            "ticks": ""
           },
           "bgcolor": "#E5ECF6",
           "radialaxis": {
            "gridcolor": "white",
            "linecolor": "white",
            "ticks": ""
           }
          },
          "scene": {
           "xaxis": {
            "backgroundcolor": "#E5ECF6",
            "gridcolor": "white",
            "gridwidth": 2,
            "linecolor": "white",
            "showbackground": true,
            "ticks": "",
            "zerolinecolor": "white"
           },
           "yaxis": {
            "backgroundcolor": "#E5ECF6",
            "gridcolor": "white",
            "gridwidth": 2,
            "linecolor": "white",
            "showbackground": true,
            "ticks": "",
            "zerolinecolor": "white"
           },
           "zaxis": {
            "backgroundcolor": "#E5ECF6",
            "gridcolor": "white",
            "gridwidth": 2,
            "linecolor": "white",
            "showbackground": true,
            "ticks": "",
            "zerolinecolor": "white"
           }
          },
          "shapedefaults": {
           "line": {
            "color": "#2a3f5f"
           }
          },
          "ternary": {
           "aaxis": {
            "gridcolor": "white",
            "linecolor": "white",
            "ticks": ""
           },
           "baxis": {
            "gridcolor": "white",
            "linecolor": "white",
            "ticks": ""
           },
           "bgcolor": "#E5ECF6",
           "caxis": {
            "gridcolor": "white",
            "linecolor": "white",
            "ticks": ""
           }
          },
          "title": {
           "x": 0.05
          },
          "xaxis": {
           "automargin": true,
           "gridcolor": "white",
           "linecolor": "white",
           "ticks": "",
           "title": {
            "standoff": 15
           },
           "zerolinecolor": "white",
           "zerolinewidth": 2
          },
          "yaxis": {
           "automargin": true,
           "gridcolor": "white",
           "linecolor": "white",
           "ticks": "",
           "title": {
            "standoff": 15
           },
           "zerolinecolor": "white",
           "zerolinewidth": 2
          }
         }
        },
        "title": {
         "text": "Boxplot for fractal_dimension_mean - Cancer Dataset"
        },
        "xaxis": {
         "anchor": "y",
         "domain": [
          0,
          1
         ],
         "title": {
          "text": "Category"
         }
        },
        "yaxis": {
         "anchor": "x",
         "domain": [
          0,
          1
         ],
         "title": {
          "text": "fractal_dimension_mean"
         }
        }
       }
      }
     },
     "metadata": {},
     "output_type": "display_data"
    },
    {
     "data": {
      "application/vnd.plotly.v1+json": {
       "config": {
        "plotlyServerURL": "https://plot.ly"
       },
       "data": [
        {
         "alignmentgroup": "True",
         "hovertemplate": "radius_se=%{y}<extra></extra>",
         "legendgroup": "",
         "marker": {
          "color": "#636efa"
         },
         "name": "",
         "notched": false,
         "offsetgroup": "",
         "orientation": "v",
         "showlegend": false,
         "type": "box",
         "x0": " ",
         "xaxis": "x",
         "y": {
          "bdata": "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",
          "dtype": "f8"
         },
         "y0": " ",
         "yaxis": "y"
        }
       ],
       "layout": {
        "boxmode": "group",
        "legend": {
         "tracegroupgap": 0
        },
        "margin": {
         "t": 60
        },
        "template": {
         "data": {
          "bar": [
           {
            "error_x": {
             "color": "#2a3f5f"
            },
            "error_y": {
             "color": "#2a3f5f"
            },
            "marker": {
             "line": {
              "color": "#E5ECF6",
              "width": 0.5
             },
             "pattern": {
              "fillmode": "overlay",
              "size": 10,
              "solidity": 0.2
             }
            },
            "type": "bar"
           }
          ],
          "barpolar": [
           {
            "marker": {
             "line": {
              "color": "#E5ECF6",
              "width": 0.5
             },
             "pattern": {
              "fillmode": "overlay",
              "size": 10,
              "solidity": 0.2
             }
            },
            "type": "barpolar"
           }
          ],
          "carpet": [
           {
            "aaxis": {
             "endlinecolor": "#2a3f5f",
             "gridcolor": "white",
             "linecolor": "white",
             "minorgridcolor": "white",
             "startlinecolor": "#2a3f5f"
            },
            "baxis": {
             "endlinecolor": "#2a3f5f",
             "gridcolor": "white",
             "linecolor": "white",
             "minorgridcolor": "white",
             "startlinecolor": "#2a3f5f"
            },
            "type": "carpet"
           }
          ],
          "choropleth": [
           {
            "colorbar": {
             "outlinewidth": 0,
             "ticks": ""
            },
            "type": "choropleth"
           }
          ],
          "contour": [
           {
            "colorbar": {
             "outlinewidth": 0,
             "ticks": ""
            },
            "colorscale": [
             [
              0,
              "#0d0887"
             ],
             [
              0.1111111111111111,
              "#46039f"
             ],
             [
              0.2222222222222222,
              "#7201a8"
             ],
             [
              0.3333333333333333,
              "#9c179e"
             ],
             [
              0.4444444444444444,
              "#bd3786"
             ],
             [
              0.5555555555555556,
              "#d8576b"
             ],
             [
              0.6666666666666666,
              "#ed7953"
             ],
             [
              0.7777777777777778,
              "#fb9f3a"
             ],
             [
              0.8888888888888888,
              "#fdca26"
             ],
             [
              1,
              "#f0f921"
             ]
            ],
            "type": "contour"
           }
          ],
          "contourcarpet": [
           {
            "colorbar": {
             "outlinewidth": 0,
             "ticks": ""
            },
            "type": "contourcarpet"
           }
          ],
          "heatmap": [
           {
            "colorbar": {
             "outlinewidth": 0,
             "ticks": ""
            },
            "colorscale": [
             [
              0,
              "#0d0887"
             ],
             [
              0.1111111111111111,
              "#46039f"
             ],
             [
              0.2222222222222222,
              "#7201a8"
             ],
             [
              0.3333333333333333,
              "#9c179e"
             ],
             [
              0.4444444444444444,
              "#bd3786"
             ],
             [
              0.5555555555555556,
              "#d8576b"
             ],
             [
              0.6666666666666666,
              "#ed7953"
             ],
             [
              0.7777777777777778,
              "#fb9f3a"
             ],
             [
              0.8888888888888888,
              "#fdca26"
             ],
             [
              1,
              "#f0f921"
             ]
            ],
            "type": "heatmap"
           }
          ],
          "histogram": [
           {
            "marker": {
             "pattern": {
              "fillmode": "overlay",
              "size": 10,
              "solidity": 0.2
             }
            },
            "type": "histogram"
           }
          ],
          "histogram2d": [
           {
            "colorbar": {
             "outlinewidth": 0,
             "ticks": ""
            },
            "colorscale": [
             [
              0,
              "#0d0887"
             ],
             [
              0.1111111111111111,
              "#46039f"
             ],
             [
              0.2222222222222222,
              "#7201a8"
             ],
             [
              0.3333333333333333,
              "#9c179e"
             ],
             [
              0.4444444444444444,
              "#bd3786"
             ],
             [
              0.5555555555555556,
              "#d8576b"
             ],
             [
              0.6666666666666666,
              "#ed7953"
             ],
             [
              0.7777777777777778,
              "#fb9f3a"
             ],
             [
              0.8888888888888888,
              "#fdca26"
             ],
             [
              1,
              "#f0f921"
             ]
            ],
            "type": "histogram2d"
           }
          ],
          "histogram2dcontour": [
           {
            "colorbar": {
             "outlinewidth": 0,
             "ticks": ""
            },
            "colorscale": [
             [
              0,
              "#0d0887"
             ],
             [
              0.1111111111111111,
              "#46039f"
             ],
             [
              0.2222222222222222,
              "#7201a8"
             ],
             [
              0.3333333333333333,
              "#9c179e"
             ],
             [
              0.4444444444444444,
              "#bd3786"
             ],
             [
              0.5555555555555556,
              "#d8576b"
             ],
             [
              0.6666666666666666,
              "#ed7953"
             ],
             [
              0.7777777777777778,
              "#fb9f3a"
             ],
             [
              0.8888888888888888,
              "#fdca26"
             ],
             [
              1,
              "#f0f921"
             ]
            ],
            "type": "histogram2dcontour"
           }
          ],
          "mesh3d": [
           {
            "colorbar": {
             "outlinewidth": 0,
             "ticks": ""
            },
            "type": "mesh3d"
           }
          ],
          "parcoords": [
           {
            "line": {
             "colorbar": {
              "outlinewidth": 0,
              "ticks": ""
             }
            },
            "type": "parcoords"
           }
          ],
          "pie": [
           {
            "automargin": true,
            "type": "pie"
           }
          ],
          "scatter": [
           {
            "fillpattern": {
             "fillmode": "overlay",
             "size": 10,
             "solidity": 0.2
            },
            "type": "scatter"
           }
          ],
          "scatter3d": [
           {
            "line": {
             "colorbar": {
              "outlinewidth": 0,
              "ticks": ""
             }
            },
            "marker": {
             "colorbar": {
              "outlinewidth": 0,
              "ticks": ""
             }
            },
            "type": "scatter3d"
           }
          ],
          "scattercarpet": [
           {
            "marker": {
             "colorbar": {
              "outlinewidth": 0,
              "ticks": ""
             }
            },
            "type": "scattercarpet"
           }
          ],
          "scattergeo": [
           {
            "marker": {
             "colorbar": {
              "outlinewidth": 0,
              "ticks": ""
             }
            },
            "type": "scattergeo"
           }
          ],
          "scattergl": [
           {
            "marker": {
             "colorbar": {
              "outlinewidth": 0,
              "ticks": ""
             }
            },
            "type": "scattergl"
           }
          ],
          "scattermap": [
           {
            "marker": {
             "colorbar": {
              "outlinewidth": 0,
              "ticks": ""
             }
            },
            "type": "scattermap"
           }
          ],
          "scattermapbox": [
           {
            "marker": {
             "colorbar": {
              "outlinewidth": 0,
              "ticks": ""
             }
            },
            "type": "scattermapbox"
           }
          ],
          "scatterpolar": [
           {
            "marker": {
             "colorbar": {
              "outlinewidth": 0,
              "ticks": ""
             }
            },
            "type": "scatterpolar"
           }
          ],
          "scatterpolargl": [
           {
            "marker": {
             "colorbar": {
              "outlinewidth": 0,
              "ticks": ""
             }
            },
            "type": "scatterpolargl"
           }
          ],
          "scatterternary": [
           {
            "marker": {
             "colorbar": {
              "outlinewidth": 0,
              "ticks": ""
             }
            },
            "type": "scatterternary"
           }
          ],
          "surface": [
           {
            "colorbar": {
             "outlinewidth": 0,
             "ticks": ""
            },
            "colorscale": [
             [
              0,
              "#0d0887"
             ],
             [
              0.1111111111111111,
              "#46039f"
             ],
             [
              0.2222222222222222,
              "#7201a8"
             ],
             [
              0.3333333333333333,
              "#9c179e"
             ],
             [
              0.4444444444444444,
              "#bd3786"
             ],
             [
              0.5555555555555556,
              "#d8576b"
             ],
             [
              0.6666666666666666,
              "#ed7953"
             ],
             [
              0.7777777777777778,
              "#fb9f3a"
             ],
             [
              0.8888888888888888,
              "#fdca26"
             ],
             [
              1,
              "#f0f921"
             ]
            ],
            "type": "surface"
           }
          ],
          "table": [
           {
            "cells": {
             "fill": {
              "color": "#EBF0F8"
             },
             "line": {
              "color": "white"
             }
            },
            "header": {
             "fill": {
              "color": "#C8D4E3"
             },
             "line": {
              "color": "white"
             }
            },
            "type": "table"
           }
          ]
         },
         "layout": {
          "annotationdefaults": {
           "arrowcolor": "#2a3f5f",
           "arrowhead": 0,
           "arrowwidth": 1
          },
          "autotypenumbers": "strict",
          "coloraxis": {
           "colorbar": {
            "outlinewidth": 0,
            "ticks": ""
           }
          },
          "colorscale": {
           "diverging": [
            [
             0,
             "#8e0152"
            ],
            [
             0.1,
             "#c51b7d"
            ],
            [
             0.2,
             "#de77ae"
            ],
            [
             0.3,
             "#f1b6da"
            ],
            [
             0.4,
             "#fde0ef"
            ],
            [
             0.5,
             "#f7f7f7"
            ],
            [
             0.6,
             "#e6f5d0"
            ],
            [
             0.7,
             "#b8e186"
            ],
            [
             0.8,
             "#7fbc41"
            ],
            [
             0.9,
             "#4d9221"
            ],
            [
             1,
             "#276419"
            ]
           ],
           "sequential": [
            [
             0,
             "#0d0887"
            ],
            [
             0.1111111111111111,
             "#46039f"
            ],
            [
             0.2222222222222222,
             "#7201a8"
            ],
            [
             0.3333333333333333,
             "#9c179e"
            ],
            [
             0.4444444444444444,
             "#bd3786"
            ],
            [
             0.5555555555555556,
             "#d8576b"
            ],
            [
             0.6666666666666666,
             "#ed7953"
            ],
            [
             0.7777777777777778,
             "#fb9f3a"
            ],
            [
             0.8888888888888888,
             "#fdca26"
            ],
            [
             1,
             "#f0f921"
            ]
           ],
           "sequentialminus": [
            [
             0,
             "#0d0887"
            ],
            [
             0.1111111111111111,
             "#46039f"
            ],
            [
             0.2222222222222222,
             "#7201a8"
            ],
            [
             0.3333333333333333,
             "#9c179e"
            ],
            [
             0.4444444444444444,
             "#bd3786"
            ],
            [
             0.5555555555555556,
             "#d8576b"
            ],
            [
             0.6666666666666666,
             "#ed7953"
            ],
            [
             0.7777777777777778,
             "#fb9f3a"
            ],
            [
             0.8888888888888888,
             "#fdca26"
            ],
            [
             1,
             "#f0f921"
            ]
           ]
          },
          "colorway": [
           "#636efa",
           "#EF553B",
           "#00cc96",
           "#ab63fa",
           "#FFA15A",
           "#19d3f3",
           "#FF6692",
           "#B6E880",
           "#FF97FF",
           "#FECB52"
          ],
          "font": {
           "color": "#2a3f5f"
          },
          "geo": {
           "bgcolor": "white",
           "lakecolor": "white",
           "landcolor": "#E5ECF6",
           "showlakes": true,
           "showland": true,
           "subunitcolor": "white"
          },
          "hoverlabel": {
           "align": "left"
          },
          "hovermode": "closest",
          "mapbox": {
           "style": "light"
          },
          "paper_bgcolor": "white",
          "plot_bgcolor": "#E5ECF6",
          "polar": {
           "angularaxis": {
            "gridcolor": "white",
            "linecolor": "white",
            "ticks": ""
           },
           "bgcolor": "#E5ECF6",
           "radialaxis": {
            "gridcolor": "white",
            "linecolor": "white",
            "ticks": ""
           }
          },
          "scene": {
           "xaxis": {
            "backgroundcolor": "#E5ECF6",
            "gridcolor": "white",
            "gridwidth": 2,
            "linecolor": "white",
            "showbackground": true,
            "ticks": "",
            "zerolinecolor": "white"
           },
           "yaxis": {
            "backgroundcolor": "#E5ECF6",
            "gridcolor": "white",
            "gridwidth": 2,
            "linecolor": "white",
            "showbackground": true,
            "ticks": "",
            "zerolinecolor": "white"
           },
           "zaxis": {
            "backgroundcolor": "#E5ECF6",
            "gridcolor": "white",
            "gridwidth": 2,
            "linecolor": "white",
            "showbackground": true,
            "ticks": "",
            "zerolinecolor": "white"
           }
          },
          "shapedefaults": {
           "line": {
            "color": "#2a3f5f"
           }
          },
          "ternary": {
           "aaxis": {
            "gridcolor": "white",
            "linecolor": "white",
            "ticks": ""
           },
           "baxis": {
            "gridcolor": "white",
            "linecolor": "white",
            "ticks": ""
           },
           "bgcolor": "#E5ECF6",
           "caxis": {
            "gridcolor": "white",
            "linecolor": "white",
            "ticks": ""
           }
          },
          "title": {
           "x": 0.05
          },
          "xaxis": {
           "automargin": true,
           "gridcolor": "white",
           "linecolor": "white",
           "ticks": "",
           "title": {
            "standoff": 15
           },
           "zerolinecolor": "white",
           "zerolinewidth": 2
          },
          "yaxis": {
           "automargin": true,
           "gridcolor": "white",
           "linecolor": "white",
           "ticks": "",
           "title": {
            "standoff": 15
           },
           "zerolinecolor": "white",
           "zerolinewidth": 2
          }
         }
        },
        "title": {
         "text": "Boxplot for radius_se - Cancer Dataset"
        },
        "xaxis": {
         "anchor": "y",
         "domain": [
          0,
          1
         ],
         "title": {
          "text": "Category"
         }
        },
        "yaxis": {
         "anchor": "x",
         "domain": [
          0,
          1
         ],
         "title": {
          "text": "radius_se"
         }
        }
       }
      }
     },
     "metadata": {},
     "output_type": "display_data"
    },
    {
     "data": {
      "application/vnd.plotly.v1+json": {
       "config": {
        "plotlyServerURL": "https://plot.ly"
       },
       "data": [
        {
         "alignmentgroup": "True",
         "hovertemplate": "texture_se=%{y}<extra></extra>",
         "legendgroup": "",
         "marker": {
          "color": "#636efa"
         },
         "name": "",
         "notched": false,
         "offsetgroup": "",
         "orientation": "v",
         "showlegend": false,
         "type": "box",
         "x0": " ",
         "xaxis": "x",
         "y": {
          "bdata": "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",
          "dtype": "f8"
         },
         "y0": " ",
         "yaxis": "y"
        }
       ],
       "layout": {
        "boxmode": "group",
        "legend": {
         "tracegroupgap": 0
        },
        "margin": {
         "t": 60
        },
        "template": {
         "data": {
          "bar": [
           {
            "error_x": {
             "color": "#2a3f5f"
            },
            "error_y": {
             "color": "#2a3f5f"
            },
            "marker": {
             "line": {
              "color": "#E5ECF6",
              "width": 0.5
             },
             "pattern": {
              "fillmode": "overlay",
              "size": 10,
              "solidity": 0.2
             }
            },
            "type": "bar"
           }
          ],
          "barpolar": [
           {
            "marker": {
             "line": {
              "color": "#E5ECF6",
              "width": 0.5
             },
             "pattern": {
              "fillmode": "overlay",
              "size": 10,
              "solidity": 0.2
             }
            },
            "type": "barpolar"
           }
          ],
          "carpet": [
           {
            "aaxis": {
             "endlinecolor": "#2a3f5f",
             "gridcolor": "white",
             "linecolor": "white",
             "minorgridcolor": "white",
             "startlinecolor": "#2a3f5f"
            },
            "baxis": {
             "endlinecolor": "#2a3f5f",
             "gridcolor": "white",
             "linecolor": "white",
             "minorgridcolor": "white",
             "startlinecolor": "#2a3f5f"
            },
            "type": "carpet"
           }
          ],
          "choropleth": [
           {
            "colorbar": {
             "outlinewidth": 0,
             "ticks": ""
            },
            "type": "choropleth"
           }
          ],
          "contour": [
           {
            "colorbar": {
             "outlinewidth": 0,
             "ticks": ""
            },
            "colorscale": [
             [
              0,
              "#0d0887"
             ],
             [
              0.1111111111111111,
              "#46039f"
             ],
             [
              0.2222222222222222,
              "#7201a8"
             ],
             [
              0.3333333333333333,
              "#9c179e"
             ],
             [
              0.4444444444444444,
              "#bd3786"
             ],
             [
              0.5555555555555556,
              "#d8576b"
             ],
             [
              0.6666666666666666,
              "#ed7953"
             ],
             [
              0.7777777777777778,
              "#fb9f3a"
             ],
             [
              0.8888888888888888,
              "#fdca26"
             ],
             [
              1,
              "#f0f921"
             ]
            ],
            "type": "contour"
           }
          ],
          "contourcarpet": [
           {
            "colorbar": {
             "outlinewidth": 0,
             "ticks": ""
            },
            "type": "contourcarpet"
           }
          ],
          "heatmap": [
           {
            "colorbar": {
             "outlinewidth": 0,
             "ticks": ""
            },
            "colorscale": [
             [
              0,
              "#0d0887"
             ],
             [
              0.1111111111111111,
              "#46039f"
             ],
             [
              0.2222222222222222,
              "#7201a8"
             ],
             [
              0.3333333333333333,
              "#9c179e"
             ],
             [
              0.4444444444444444,
              "#bd3786"
             ],
             [
              0.5555555555555556,
              "#d8576b"
             ],
             [
              0.6666666666666666,
              "#ed7953"
             ],
             [
              0.7777777777777778,
              "#fb9f3a"
             ],
             [
              0.8888888888888888,
              "#fdca26"
             ],
             [
              1,
              "#f0f921"
             ]
            ],
            "type": "heatmap"
           }
          ],
          "histogram": [
           {
            "marker": {
             "pattern": {
              "fillmode": "overlay",
              "size": 10,
              "solidity": 0.2
             }
            },
            "type": "histogram"
           }
          ],
          "histogram2d": [
           {
            "colorbar": {
             "outlinewidth": 0,
             "ticks": ""
            },
            "colorscale": [
             [
              0,
              "#0d0887"
             ],
             [
              0.1111111111111111,
              "#46039f"
             ],
             [
              0.2222222222222222,
              "#7201a8"
             ],
             [
              0.3333333333333333,
              "#9c179e"
             ],
             [
              0.4444444444444444,
              "#bd3786"
             ],
             [
              0.5555555555555556,
              "#d8576b"
             ],
             [
              0.6666666666666666,
              "#ed7953"
             ],
             [
              0.7777777777777778,
              "#fb9f3a"
             ],
             [
              0.8888888888888888,
              "#fdca26"
             ],
             [
              1,
              "#f0f921"
             ]
            ],
            "type": "histogram2d"
           }
          ],
          "histogram2dcontour": [
           {
            "colorbar": {
             "outlinewidth": 0,
             "ticks": ""
            },
            "colorscale": [
             [
              0,
              "#0d0887"
             ],
             [
              0.1111111111111111,
              "#46039f"
             ],
             [
              0.2222222222222222,
              "#7201a8"
             ],
             [
              0.3333333333333333,
              "#9c179e"
             ],
             [
              0.4444444444444444,
              "#bd3786"
             ],
             [
              0.5555555555555556,
              "#d8576b"
             ],
             [
              0.6666666666666666,
              "#ed7953"
             ],
             [
              0.7777777777777778,
              "#fb9f3a"
             ],
             [
              0.8888888888888888,
              "#fdca26"
             ],
             [
              1,
              "#f0f921"
             ]
            ],
            "type": "histogram2dcontour"
           }
          ],
          "mesh3d": [
           {
            "colorbar": {
             "outlinewidth": 0,
             "ticks": ""
            },
            "type": "mesh3d"
           }
          ],
          "parcoords": [
           {
            "line": {
             "colorbar": {
              "outlinewidth": 0,
              "ticks": ""
             }
            },
            "type": "parcoords"
           }
          ],
          "pie": [
           {
            "automargin": true,
            "type": "pie"
           }
          ],
          "scatter": [
           {
            "fillpattern": {
             "fillmode": "overlay",
             "size": 10,
             "solidity": 0.2
            },
            "type": "scatter"
           }
          ],
          "scatter3d": [
           {
            "line": {
             "colorbar": {
              "outlinewidth": 0,
              "ticks": ""
             }
            },
            "marker": {
             "colorbar": {
              "outlinewidth": 0,
              "ticks": ""
             }
            },
            "type": "scatter3d"
           }
          ],
          "scattercarpet": [
           {
            "marker": {
             "colorbar": {
              "outlinewidth": 0,
              "ticks": ""
             }
            },
            "type": "scattercarpet"
           }
          ],
          "scattergeo": [
           {
            "marker": {
             "colorbar": {
              "outlinewidth": 0,
              "ticks": ""
             }
            },
            "type": "scattergeo"
           }
          ],
          "scattergl": [
           {
            "marker": {
             "colorbar": {
              "outlinewidth": 0,
              "ticks": ""
             }
            },
            "type": "scattergl"
           }
          ],
          "scattermap": [
           {
            "marker": {
             "colorbar": {
              "outlinewidth": 0,
              "ticks": ""
             }
            },
            "type": "scattermap"
           }
          ],
          "scattermapbox": [
           {
            "marker": {
             "colorbar": {
              "outlinewidth": 0,
              "ticks": ""
             }
            },
            "type": "scattermapbox"
           }
          ],
          "scatterpolar": [
           {
            "marker": {
             "colorbar": {
              "outlinewidth": 0,
              "ticks": ""
             }
            },
            "type": "scatterpolar"
           }
          ],
          "scatterpolargl": [
           {
            "marker": {
             "colorbar": {
              "outlinewidth": 0,
              "ticks": ""
             }
            },
            "type": "scatterpolargl"
           }
          ],
          "scatterternary": [
           {
            "marker": {
             "colorbar": {
              "outlinewidth": 0,
              "ticks": ""
             }
            },
            "type": "scatterternary"
           }
          ],
          "surface": [
           {
            "colorbar": {
             "outlinewidth": 0,
             "ticks": ""
            },
            "colorscale": [
             [
              0,
              "#0d0887"
             ],
             [
              0.1111111111111111,
              "#46039f"
             ],
             [
              0.2222222222222222,
              "#7201a8"
             ],
             [
              0.3333333333333333,
              "#9c179e"
             ],
             [
              0.4444444444444444,
              "#bd3786"
             ],
             [
              0.5555555555555556,
              "#d8576b"
             ],
             [
              0.6666666666666666,
              "#ed7953"
             ],
             [
              0.7777777777777778,
              "#fb9f3a"
             ],
             [
              0.8888888888888888,
              "#fdca26"
             ],
             [
              1,
              "#f0f921"
             ]
            ],
            "type": "surface"
           }
          ],
          "table": [
           {
            "cells": {
             "fill": {
              "color": "#EBF0F8"
             },
             "line": {
              "color": "white"
             }
            },
            "header": {
             "fill": {
              "color": "#C8D4E3"
             },
             "line": {
              "color": "white"
             }
            },
            "type": "table"
           }
          ]
         },
         "layout": {
          "annotationdefaults": {
           "arrowcolor": "#2a3f5f",
           "arrowhead": 0,
           "arrowwidth": 1
          },
          "autotypenumbers": "strict",
          "coloraxis": {
           "colorbar": {
            "outlinewidth": 0,
            "ticks": ""
           }
          },
          "colorscale": {
           "diverging": [
            [
             0,
             "#8e0152"
            ],
            [
             0.1,
             "#c51b7d"
            ],
            [
             0.2,
             "#de77ae"
            ],
            [
             0.3,
             "#f1b6da"
            ],
            [
             0.4,
             "#fde0ef"
            ],
            [
             0.5,
             "#f7f7f7"
            ],
            [
             0.6,
             "#e6f5d0"
            ],
            [
             0.7,
             "#b8e186"
            ],
            [
             0.8,
             "#7fbc41"
            ],
            [
             0.9,
             "#4d9221"
            ],
            [
             1,
             "#276419"
            ]
           ],
           "sequential": [
            [
             0,
             "#0d0887"
            ],
            [
             0.1111111111111111,
             "#46039f"
            ],
            [
             0.2222222222222222,
             "#7201a8"
            ],
            [
             0.3333333333333333,
             "#9c179e"
            ],
            [
             0.4444444444444444,
             "#bd3786"
            ],
            [
             0.5555555555555556,
             "#d8576b"
            ],
            [
             0.6666666666666666,
             "#ed7953"
            ],
            [
             0.7777777777777778,
             "#fb9f3a"
            ],
            [
             0.8888888888888888,
             "#fdca26"
            ],
            [
             1,
             "#f0f921"
            ]
           ],
           "sequentialminus": [
            [
             0,
             "#0d0887"
            ],
            [
             0.1111111111111111,
             "#46039f"
            ],
            [
             0.2222222222222222,
             "#7201a8"
            ],
            [
             0.3333333333333333,
             "#9c179e"
            ],
            [
             0.4444444444444444,
             "#bd3786"
            ],
            [
             0.5555555555555556,
             "#d8576b"
            ],
            [
             0.6666666666666666,
             "#ed7953"
            ],
            [
             0.7777777777777778,
             "#fb9f3a"
            ],
            [
             0.8888888888888888,
             "#fdca26"
            ],
            [
             1,
             "#f0f921"
            ]
           ]
          },
          "colorway": [
           "#636efa",
           "#EF553B",
           "#00cc96",
           "#ab63fa",
           "#FFA15A",
           "#19d3f3",
           "#FF6692",
           "#B6E880",
           "#FF97FF",
           "#FECB52"
          ],
          "font": {
           "color": "#2a3f5f"
          },
          "geo": {
           "bgcolor": "white",
           "lakecolor": "white",
           "landcolor": "#E5ECF6",
           "showlakes": true,
           "showland": true,
           "subunitcolor": "white"
          },
          "hoverlabel": {
           "align": "left"
          },
          "hovermode": "closest",
          "mapbox": {
           "style": "light"
          },
          "paper_bgcolor": "white",
          "plot_bgcolor": "#E5ECF6",
          "polar": {
           "angularaxis": {
            "gridcolor": "white",
            "linecolor": "white",
            "ticks": ""
           },
           "bgcolor": "#E5ECF6",
           "radialaxis": {
            "gridcolor": "white",
            "linecolor": "white",
            "ticks": ""
           }
          },
          "scene": {
           "xaxis": {
            "backgroundcolor": "#E5ECF6",
            "gridcolor": "white",
            "gridwidth": 2,
            "linecolor": "white",
            "showbackground": true,
            "ticks": "",
            "zerolinecolor": "white"
           },
           "yaxis": {
            "backgroundcolor": "#E5ECF6",
            "gridcolor": "white",
            "gridwidth": 2,
            "linecolor": "white",
            "showbackground": true,
            "ticks": "",
            "zerolinecolor": "white"
           },
           "zaxis": {
            "backgroundcolor": "#E5ECF6",
            "gridcolor": "white",
            "gridwidth": 2,
            "linecolor": "white",
            "showbackground": true,
            "ticks": "",
            "zerolinecolor": "white"
           }
          },
          "shapedefaults": {
           "line": {
            "color": "#2a3f5f"
           }
          },
          "ternary": {
           "aaxis": {
            "gridcolor": "white",
            "linecolor": "white",
            "ticks": ""
           },
           "baxis": {
            "gridcolor": "white",
            "linecolor": "white",
            "ticks": ""
           },
           "bgcolor": "#E5ECF6",
           "caxis": {
            "gridcolor": "white",
            "linecolor": "white",
            "ticks": ""
           }
          },
          "title": {
           "x": 0.05
          },
          "xaxis": {
           "automargin": true,
           "gridcolor": "white",
           "linecolor": "white",
           "ticks": "",
           "title": {
            "standoff": 15
           },
           "zerolinecolor": "white",
           "zerolinewidth": 2
          },
          "yaxis": {
           "automargin": true,
           "gridcolor": "white",
           "linecolor": "white",
           "ticks": "",
           "title": {
            "standoff": 15
           },
           "zerolinecolor": "white",
           "zerolinewidth": 2
          }
         }
        },
        "title": {
         "text": "Boxplot for texture_se - Cancer Dataset"
        },
        "xaxis": {
         "anchor": "y",
         "domain": [
          0,
          1
         ],
         "title": {
          "text": "Category"
         }
        },
        "yaxis": {
         "anchor": "x",
         "domain": [
          0,
          1
         ],
         "title": {
          "text": "texture_se"
         }
        }
       }
      }
     },
     "metadata": {},
     "output_type": "display_data"
    },
    {
     "data": {
      "application/vnd.plotly.v1+json": {
       "config": {
        "plotlyServerURL": "https://plot.ly"
       },
       "data": [
        {
         "alignmentgroup": "True",
         "hovertemplate": "perimeter_se=%{y}<extra></extra>",
         "legendgroup": "",
         "marker": {
          "color": "#636efa"
         },
         "name": "",
         "notched": false,
         "offsetgroup": "",
         "orientation": "v",
         "showlegend": false,
         "type": "box",
         "x0": " ",
         "xaxis": "x",
         "y": {
          "bdata": "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",
          "dtype": "f8"
         },
         "y0": " ",
         "yaxis": "y"
        }
       ],
       "layout": {
        "boxmode": "group",
        "legend": {
         "tracegroupgap": 0
        },
        "margin": {
         "t": 60
        },
        "template": {
         "data": {
          "bar": [
           {
            "error_x": {
             "color": "#2a3f5f"
            },
            "error_y": {
             "color": "#2a3f5f"
            },
            "marker": {
             "line": {
              "color": "#E5ECF6",
              "width": 0.5
             },
             "pattern": {
              "fillmode": "overlay",
              "size": 10,
              "solidity": 0.2
             }
            },
            "type": "bar"
           }
          ],
          "barpolar": [
           {
            "marker": {
             "line": {
              "color": "#E5ECF6",
              "width": 0.5
             },
             "pattern": {
              "fillmode": "overlay",
              "size": 10,
              "solidity": 0.2
             }
            },
            "type": "barpolar"
           }
          ],
          "carpet": [
           {
            "aaxis": {
             "endlinecolor": "#2a3f5f",
             "gridcolor": "white",
             "linecolor": "white",
             "minorgridcolor": "white",
             "startlinecolor": "#2a3f5f"
            },
            "baxis": {
             "endlinecolor": "#2a3f5f",
             "gridcolor": "white",
             "linecolor": "white",
             "minorgridcolor": "white",
             "startlinecolor": "#2a3f5f"
            },
            "type": "carpet"
           }
          ],
          "choropleth": [
           {
            "colorbar": {
             "outlinewidth": 0,
             "ticks": ""
            },
            "type": "choropleth"
           }
          ],
          "contour": [
           {
            "colorbar": {
             "outlinewidth": 0,
             "ticks": ""
            },
            "colorscale": [
             [
              0,
              "#0d0887"
             ],
             [
              0.1111111111111111,
              "#46039f"
             ],
             [
              0.2222222222222222,
              "#7201a8"
             ],
             [
              0.3333333333333333,
              "#9c179e"
             ],
             [
              0.4444444444444444,
              "#bd3786"
             ],
             [
              0.5555555555555556,
              "#d8576b"
             ],
             [
              0.6666666666666666,
              "#ed7953"
             ],
             [
              0.7777777777777778,
              "#fb9f3a"
             ],
             [
              0.8888888888888888,
              "#fdca26"
             ],
             [
              1,
              "#f0f921"
             ]
            ],
            "type": "contour"
           }
          ],
          "contourcarpet": [
           {
            "colorbar": {
             "outlinewidth": 0,
             "ticks": ""
            },
            "type": "contourcarpet"
           }
          ],
          "heatmap": [
           {
            "colorbar": {
             "outlinewidth": 0,
             "ticks": ""
            },
            "colorscale": [
             [
              0,
              "#0d0887"
             ],
             [
              0.1111111111111111,
              "#46039f"
             ],
             [
              0.2222222222222222,
              "#7201a8"
             ],
             [
              0.3333333333333333,
              "#9c179e"
             ],
             [
              0.4444444444444444,
              "#bd3786"
             ],
             [
              0.5555555555555556,
              "#d8576b"
             ],
             [
              0.6666666666666666,
              "#ed7953"
             ],
             [
              0.7777777777777778,
              "#fb9f3a"
             ],
             [
              0.8888888888888888,
              "#fdca26"
             ],
             [
              1,
              "#f0f921"
             ]
            ],
            "type": "heatmap"
           }
          ],
          "histogram": [
           {
            "marker": {
             "pattern": {
              "fillmode": "overlay",
              "size": 10,
              "solidity": 0.2
             }
            },
            "type": "histogram"
           }
          ],
          "histogram2d": [
           {
            "colorbar": {
             "outlinewidth": 0,
             "ticks": ""
            },
            "colorscale": [
             [
              0,
              "#0d0887"
             ],
             [
              0.1111111111111111,
              "#46039f"
             ],
             [
              0.2222222222222222,
              "#7201a8"
             ],
             [
              0.3333333333333333,
              "#9c179e"
             ],
             [
              0.4444444444444444,
              "#bd3786"
             ],
             [
              0.5555555555555556,
              "#d8576b"
             ],
             [
              0.6666666666666666,
              "#ed7953"
             ],
             [
              0.7777777777777778,
              "#fb9f3a"
             ],
             [
              0.8888888888888888,
              "#fdca26"
             ],
             [
              1,
              "#f0f921"
             ]
            ],
            "type": "histogram2d"
           }
          ],
          "histogram2dcontour": [
           {
            "colorbar": {
             "outlinewidth": 0,
             "ticks": ""
            },
            "colorscale": [
             [
              0,
              "#0d0887"
             ],
             [
              0.1111111111111111,
              "#46039f"
             ],
             [
              0.2222222222222222,
              "#7201a8"
             ],
             [
              0.3333333333333333,
              "#9c179e"
             ],
             [
              0.4444444444444444,
              "#bd3786"
             ],
             [
              0.5555555555555556,
              "#d8576b"
             ],
             [
              0.6666666666666666,
              "#ed7953"
             ],
             [
              0.7777777777777778,
              "#fb9f3a"
             ],
             [
              0.8888888888888888,
              "#fdca26"
             ],
             [
              1,
              "#f0f921"
             ]
            ],
            "type": "histogram2dcontour"
           }
          ],
          "mesh3d": [
           {
            "colorbar": {
             "outlinewidth": 0,
             "ticks": ""
            },
            "type": "mesh3d"
           }
          ],
          "parcoords": [
           {
            "line": {
             "colorbar": {
              "outlinewidth": 0,
              "ticks": ""
             }
            },
            "type": "parcoords"
           }
          ],
          "pie": [
           {
            "automargin": true,
            "type": "pie"
           }
          ],
          "scatter": [
           {
            "fillpattern": {
             "fillmode": "overlay",
             "size": 10,
             "solidity": 0.2
            },
            "type": "scatter"
           }
          ],
          "scatter3d": [
           {
            "line": {
             "colorbar": {
              "outlinewidth": 0,
              "ticks": ""
             }
            },
            "marker": {
             "colorbar": {
              "outlinewidth": 0,
              "ticks": ""
             }
            },
            "type": "scatter3d"
           }
          ],
          "scattercarpet": [
           {
            "marker": {
             "colorbar": {
              "outlinewidth": 0,
              "ticks": ""
             }
            },
            "type": "scattercarpet"
           }
          ],
          "scattergeo": [
           {
            "marker": {
             "colorbar": {
              "outlinewidth": 0,
              "ticks": ""
             }
            },
            "type": "scattergeo"
           }
          ],
          "scattergl": [
           {
            "marker": {
             "colorbar": {
              "outlinewidth": 0,
              "ticks": ""
             }
            },
            "type": "scattergl"
           }
          ],
          "scattermap": [
           {
            "marker": {
             "colorbar": {
              "outlinewidth": 0,
              "ticks": ""
             }
            },
            "type": "scattermap"
           }
          ],
          "scattermapbox": [
           {
            "marker": {
             "colorbar": {
              "outlinewidth": 0,
              "ticks": ""
             }
            },
            "type": "scattermapbox"
           }
          ],
          "scatterpolar": [
           {
            "marker": {
             "colorbar": {
              "outlinewidth": 0,
              "ticks": ""
             }
            },
            "type": "scatterpolar"
           }
          ],
          "scatterpolargl": [
           {
            "marker": {
             "colorbar": {
              "outlinewidth": 0,
              "ticks": ""
             }
            },
            "type": "scatterpolargl"
           }
          ],
          "scatterternary": [
           {
            "marker": {
             "colorbar": {
              "outlinewidth": 0,
              "ticks": ""
             }
            },
            "type": "scatterternary"
           }
          ],
          "surface": [
           {
            "colorbar": {
             "outlinewidth": 0,
             "ticks": ""
            },
            "colorscale": [
             [
              0,
              "#0d0887"
             ],
             [
              0.1111111111111111,
              "#46039f"
             ],
             [
              0.2222222222222222,
              "#7201a8"
             ],
             [
              0.3333333333333333,
              "#9c179e"
             ],
             [
              0.4444444444444444,
              "#bd3786"
             ],
             [
              0.5555555555555556,
              "#d8576b"
             ],
             [
              0.6666666666666666,
              "#ed7953"
             ],
             [
              0.7777777777777778,
              "#fb9f3a"
             ],
             [
              0.8888888888888888,
              "#fdca26"
             ],
             [
              1,
              "#f0f921"
             ]
            ],
            "type": "surface"
           }
          ],
          "table": [
           {
            "cells": {
             "fill": {
              "color": "#EBF0F8"
             },
             "line": {
              "color": "white"
             }
            },
            "header": {
             "fill": {
              "color": "#C8D4E3"
             },
             "line": {
              "color": "white"
             }
            },
            "type": "table"
           }
          ]
         },
         "layout": {
          "annotationdefaults": {
           "arrowcolor": "#2a3f5f",
           "arrowhead": 0,
           "arrowwidth": 1
          },
          "autotypenumbers": "strict",
          "coloraxis": {
           "colorbar": {
            "outlinewidth": 0,
            "ticks": ""
           }
          },
          "colorscale": {
           "diverging": [
            [
             0,
             "#8e0152"
            ],
            [
             0.1,
             "#c51b7d"
            ],
            [
             0.2,
             "#de77ae"
            ],
            [
             0.3,
             "#f1b6da"
            ],
            [
             0.4,
             "#fde0ef"
            ],
            [
             0.5,
             "#f7f7f7"
            ],
            [
             0.6,
             "#e6f5d0"
            ],
            [
             0.7,
             "#b8e186"
            ],
            [
             0.8,
             "#7fbc41"
            ],
            [
             0.9,
             "#4d9221"
            ],
            [
             1,
             "#276419"
            ]
           ],
           "sequential": [
            [
             0,
             "#0d0887"
            ],
            [
             0.1111111111111111,
             "#46039f"
            ],
            [
             0.2222222222222222,
             "#7201a8"
            ],
            [
             0.3333333333333333,
             "#9c179e"
            ],
            [
             0.4444444444444444,
             "#bd3786"
            ],
            [
             0.5555555555555556,
             "#d8576b"
            ],
            [
             0.6666666666666666,
             "#ed7953"
            ],
            [
             0.7777777777777778,
             "#fb9f3a"
            ],
            [
             0.8888888888888888,
             "#fdca26"
            ],
            [
             1,
             "#f0f921"
            ]
           ],
           "sequentialminus": [
            [
             0,
             "#0d0887"
            ],
            [
             0.1111111111111111,
             "#46039f"
            ],
            [
             0.2222222222222222,
             "#7201a8"
            ],
            [
             0.3333333333333333,
             "#9c179e"
            ],
            [
             0.4444444444444444,
             "#bd3786"
            ],
            [
             0.5555555555555556,
             "#d8576b"
            ],
            [
             0.6666666666666666,
             "#ed7953"
            ],
            [
             0.7777777777777778,
             "#fb9f3a"
            ],
            [
             0.8888888888888888,
             "#fdca26"
            ],
            [
             1,
             "#f0f921"
            ]
           ]
          },
          "colorway": [
           "#636efa",
           "#EF553B",
           "#00cc96",
           "#ab63fa",
           "#FFA15A",
           "#19d3f3",
           "#FF6692",
           "#B6E880",
           "#FF97FF",
           "#FECB52"
          ],
          "font": {
           "color": "#2a3f5f"
          },
          "geo": {
           "bgcolor": "white",
           "lakecolor": "white",
           "landcolor": "#E5ECF6",
           "showlakes": true,
           "showland": true,
           "subunitcolor": "white"
          },
          "hoverlabel": {
           "align": "left"
          },
          "hovermode": "closest",
          "mapbox": {
           "style": "light"
          },
          "paper_bgcolor": "white",
          "plot_bgcolor": "#E5ECF6",
          "polar": {
           "angularaxis": {
            "gridcolor": "white",
            "linecolor": "white",
            "ticks": ""
           },
           "bgcolor": "#E5ECF6",
           "radialaxis": {
            "gridcolor": "white",
            "linecolor": "white",
            "ticks": ""
           }
          },
          "scene": {
           "xaxis": {
            "backgroundcolor": "#E5ECF6",
            "gridcolor": "white",
            "gridwidth": 2,
            "linecolor": "white",
            "showbackground": true,
            "ticks": "",
            "zerolinecolor": "white"
           },
           "yaxis": {
            "backgroundcolor": "#E5ECF6",
            "gridcolor": "white",
            "gridwidth": 2,
            "linecolor": "white",
            "showbackground": true,
            "ticks": "",
            "zerolinecolor": "white"
           },
           "zaxis": {
            "backgroundcolor": "#E5ECF6",
            "gridcolor": "white",
            "gridwidth": 2,
            "linecolor": "white",
            "showbackground": true,
            "ticks": "",
            "zerolinecolor": "white"
           }
          },
          "shapedefaults": {
           "line": {
            "color": "#2a3f5f"
           }
          },
          "ternary": {
           "aaxis": {
            "gridcolor": "white",
            "linecolor": "white",
            "ticks": ""
           },
           "baxis": {
            "gridcolor": "white",
            "linecolor": "white",
            "ticks": ""
           },
           "bgcolor": "#E5ECF6",
           "caxis": {
            "gridcolor": "white",
            "linecolor": "white",
            "ticks": ""
           }
          },
          "title": {
           "x": 0.05
          },
          "xaxis": {
           "automargin": true,
           "gridcolor": "white",
           "linecolor": "white",
           "ticks": "",
           "title": {
            "standoff": 15
           },
           "zerolinecolor": "white",
           "zerolinewidth": 2
          },
          "yaxis": {
           "automargin": true,
           "gridcolor": "white",
           "linecolor": "white",
           "ticks": "",
           "title": {
            "standoff": 15
           },
           "zerolinecolor": "white",
           "zerolinewidth": 2
          }
         }
        },
        "title": {
         "text": "Boxplot for perimeter_se - Cancer Dataset"
        },
        "xaxis": {
         "anchor": "y",
         "domain": [
          0,
          1
         ],
         "title": {
          "text": "Category"
         }
        },
        "yaxis": {
         "anchor": "x",
         "domain": [
          0,
          1
         ],
         "title": {
          "text": "perimeter_se"
         }
        }
       }
      }
     },
     "metadata": {},
     "output_type": "display_data"
    },
    {
     "data": {
      "application/vnd.plotly.v1+json": {
       "config": {
        "plotlyServerURL": "https://plot.ly"
       },
       "data": [
        {
         "alignmentgroup": "True",
         "hovertemplate": "area_se=%{y}<extra></extra>",
         "legendgroup": "",
         "marker": {
          "color": "#636efa"
         },
         "name": "",
         "notched": false,
         "offsetgroup": "",
         "orientation": "v",
         "showlegend": false,
         "type": "box",
         "x0": " ",
         "xaxis": "x",
         "y": {
          "bdata": "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",
          "dtype": "f8"
         },
         "y0": " ",
         "yaxis": "y"
        }
       ],
       "layout": {
        "boxmode": "group",
        "legend": {
         "tracegroupgap": 0
        },
        "margin": {
         "t": 60
        },
        "template": {
         "data": {
          "bar": [
           {
            "error_x": {
             "color": "#2a3f5f"
            },
            "error_y": {
             "color": "#2a3f5f"
            },
            "marker": {
             "line": {
              "color": "#E5ECF6",
              "width": 0.5
             },
             "pattern": {
              "fillmode": "overlay",
              "size": 10,
              "solidity": 0.2
             }
            },
            "type": "bar"
           }
          ],
          "barpolar": [
           {
            "marker": {
             "line": {
              "color": "#E5ECF6",
              "width": 0.5
             },
             "pattern": {
              "fillmode": "overlay",
              "size": 10,
              "solidity": 0.2
             }
            },
            "type": "barpolar"
           }
          ],
          "carpet": [
           {
            "aaxis": {
             "endlinecolor": "#2a3f5f",
             "gridcolor": "white",
             "linecolor": "white",
             "minorgridcolor": "white",
             "startlinecolor": "#2a3f5f"
            },
            "baxis": {
             "endlinecolor": "#2a3f5f",
             "gridcolor": "white",
             "linecolor": "white",
             "minorgridcolor": "white",
             "startlinecolor": "#2a3f5f"
            },
            "type": "carpet"
           }
          ],
          "choropleth": [
           {
            "colorbar": {
             "outlinewidth": 0,
             "ticks": ""
            },
            "type": "choropleth"
           }
          ],
          "contour": [
           {
            "colorbar": {
             "outlinewidth": 0,
             "ticks": ""
            },
            "colorscale": [
             [
              0,
              "#0d0887"
             ],
             [
              0.1111111111111111,
              "#46039f"
             ],
             [
              0.2222222222222222,
              "#7201a8"
             ],
             [
              0.3333333333333333,
              "#9c179e"
             ],
             [
              0.4444444444444444,
              "#bd3786"
             ],
             [
              0.5555555555555556,
              "#d8576b"
             ],
             [
              0.6666666666666666,
              "#ed7953"
             ],
             [
              0.7777777777777778,
              "#fb9f3a"
             ],
             [
              0.8888888888888888,
              "#fdca26"
             ],
             [
              1,
              "#f0f921"
             ]
            ],
            "type": "contour"
           }
          ],
          "contourcarpet": [
           {
            "colorbar": {
             "outlinewidth": 0,
             "ticks": ""
            },
            "type": "contourcarpet"
           }
          ],
          "heatmap": [
           {
            "colorbar": {
             "outlinewidth": 0,
             "ticks": ""
            },
            "colorscale": [
             [
              0,
              "#0d0887"
             ],
             [
              0.1111111111111111,
              "#46039f"
             ],
             [
              0.2222222222222222,
              "#7201a8"
             ],
             [
              0.3333333333333333,
              "#9c179e"
             ],
             [
              0.4444444444444444,
              "#bd3786"
             ],
             [
              0.5555555555555556,
              "#d8576b"
             ],
             [
              0.6666666666666666,
              "#ed7953"
             ],
             [
              0.7777777777777778,
              "#fb9f3a"
             ],
             [
              0.8888888888888888,
              "#fdca26"
             ],
             [
              1,
              "#f0f921"
             ]
            ],
            "type": "heatmap"
           }
          ],
          "histogram": [
           {
            "marker": {
             "pattern": {
              "fillmode": "overlay",
              "size": 10,
              "solidity": 0.2
             }
            },
            "type": "histogram"
           }
          ],
          "histogram2d": [
           {
            "colorbar": {
             "outlinewidth": 0,
             "ticks": ""
            },
            "colorscale": [
             [
              0,
              "#0d0887"
             ],
             [
              0.1111111111111111,
              "#46039f"
             ],
             [
              0.2222222222222222,
              "#7201a8"
             ],
             [
              0.3333333333333333,
              "#9c179e"
             ],
             [
              0.4444444444444444,
              "#bd3786"
             ],
             [
              0.5555555555555556,
              "#d8576b"
             ],
             [
              0.6666666666666666,
              "#ed7953"
             ],
             [
              0.7777777777777778,
              "#fb9f3a"
             ],
             [
              0.8888888888888888,
              "#fdca26"
             ],
             [
              1,
              "#f0f921"
             ]
            ],
            "type": "histogram2d"
           }
          ],
          "histogram2dcontour": [
           {
            "colorbar": {
             "outlinewidth": 0,
             "ticks": ""
            },
            "colorscale": [
             [
              0,
              "#0d0887"
             ],
             [
              0.1111111111111111,
              "#46039f"
             ],
             [
              0.2222222222222222,
              "#7201a8"
             ],
             [
              0.3333333333333333,
              "#9c179e"
             ],
             [
              0.4444444444444444,
              "#bd3786"
             ],
             [
              0.5555555555555556,
              "#d8576b"
             ],
             [
              0.6666666666666666,
              "#ed7953"
             ],
             [
              0.7777777777777778,
              "#fb9f3a"
             ],
             [
              0.8888888888888888,
              "#fdca26"
             ],
             [
              1,
              "#f0f921"
             ]
            ],
            "type": "histogram2dcontour"
           }
          ],
          "mesh3d": [
           {
            "colorbar": {
             "outlinewidth": 0,
             "ticks": ""
            },
            "type": "mesh3d"
           }
          ],
          "parcoords": [
           {
            "line": {
             "colorbar": {
              "outlinewidth": 0,
              "ticks": ""
             }
            },
            "type": "parcoords"
           }
          ],
          "pie": [
           {
            "automargin": true,
            "type": "pie"
           }
          ],
          "scatter": [
           {
            "fillpattern": {
             "fillmode": "overlay",
             "size": 10,
             "solidity": 0.2
            },
            "type": "scatter"
           }
          ],
          "scatter3d": [
           {
            "line": {
             "colorbar": {
              "outlinewidth": 0,
              "ticks": ""
             }
            },
            "marker": {
             "colorbar": {
              "outlinewidth": 0,
              "ticks": ""
             }
            },
            "type": "scatter3d"
           }
          ],
          "scattercarpet": [
           {
            "marker": {
             "colorbar": {
              "outlinewidth": 0,
              "ticks": ""
             }
            },
            "type": "scattercarpet"
           }
          ],
          "scattergeo": [
           {
            "marker": {
             "colorbar": {
              "outlinewidth": 0,
              "ticks": ""
             }
            },
            "type": "scattergeo"
           }
          ],
          "scattergl": [
           {
            "marker": {
             "colorbar": {
              "outlinewidth": 0,
              "ticks": ""
             }
            },
            "type": "scattergl"
           }
          ],
          "scattermap": [
           {
            "marker": {
             "colorbar": {
              "outlinewidth": 0,
              "ticks": ""
             }
            },
            "type": "scattermap"
           }
          ],
          "scattermapbox": [
           {
            "marker": {
             "colorbar": {
              "outlinewidth": 0,
              "ticks": ""
             }
            },
            "type": "scattermapbox"
           }
          ],
          "scatterpolar": [
           {
            "marker": {
             "colorbar": {
              "outlinewidth": 0,
              "ticks": ""
             }
            },
            "type": "scatterpolar"
           }
          ],
          "scatterpolargl": [
           {
            "marker": {
             "colorbar": {
              "outlinewidth": 0,
              "ticks": ""
             }
            },
            "type": "scatterpolargl"
           }
          ],
          "scatterternary": [
           {
            "marker": {
             "colorbar": {
              "outlinewidth": 0,
              "ticks": ""
             }
            },
            "type": "scatterternary"
           }
          ],
          "surface": [
           {
            "colorbar": {
             "outlinewidth": 0,
             "ticks": ""
            },
            "colorscale": [
             [
              0,
              "#0d0887"
             ],
             [
              0.1111111111111111,
              "#46039f"
             ],
             [
              0.2222222222222222,
              "#7201a8"
             ],
             [
              0.3333333333333333,
              "#9c179e"
             ],
             [
              0.4444444444444444,
              "#bd3786"
             ],
             [
              0.5555555555555556,
              "#d8576b"
             ],
             [
              0.6666666666666666,
              "#ed7953"
             ],
             [
              0.7777777777777778,
              "#fb9f3a"
             ],
             [
              0.8888888888888888,
              "#fdca26"
             ],
             [
              1,
              "#f0f921"
             ]
            ],
            "type": "surface"
           }
          ],
          "table": [
           {
            "cells": {
             "fill": {
              "color": "#EBF0F8"
             },
             "line": {
              "color": "white"
             }
            },
            "header": {
             "fill": {
              "color": "#C8D4E3"
             },
             "line": {
              "color": "white"
             }
            },
            "type": "table"
           }
          ]
         },
         "layout": {
          "annotationdefaults": {
           "arrowcolor": "#2a3f5f",
           "arrowhead": 0,
           "arrowwidth": 1
          },
          "autotypenumbers": "strict",
          "coloraxis": {
           "colorbar": {
            "outlinewidth": 0,
            "ticks": ""
           }
          },
          "colorscale": {
           "diverging": [
            [
             0,
             "#8e0152"
            ],
            [
             0.1,
             "#c51b7d"
            ],
            [
             0.2,
             "#de77ae"
            ],
            [
             0.3,
             "#f1b6da"
            ],
            [
             0.4,
             "#fde0ef"
            ],
            [
             0.5,
             "#f7f7f7"
            ],
            [
             0.6,
             "#e6f5d0"
            ],
            [
             0.7,
             "#b8e186"
            ],
            [
             0.8,
             "#7fbc41"
            ],
            [
             0.9,
             "#4d9221"
            ],
            [
             1,
             "#276419"
            ]
           ],
           "sequential": [
            [
             0,
             "#0d0887"
            ],
            [
             0.1111111111111111,
             "#46039f"
            ],
            [
             0.2222222222222222,
             "#7201a8"
            ],
            [
             0.3333333333333333,
             "#9c179e"
            ],
            [
             0.4444444444444444,
             "#bd3786"
            ],
            [
             0.5555555555555556,
             "#d8576b"
            ],
            [
             0.6666666666666666,
             "#ed7953"
            ],
            [
             0.7777777777777778,
             "#fb9f3a"
            ],
            [
             0.8888888888888888,
             "#fdca26"
            ],
            [
             1,
             "#f0f921"
            ]
           ],
           "sequentialminus": [
            [
             0,
             "#0d0887"
            ],
            [
             0.1111111111111111,
             "#46039f"
            ],
            [
             0.2222222222222222,
             "#7201a8"
            ],
            [
             0.3333333333333333,
             "#9c179e"
            ],
            [
             0.4444444444444444,
             "#bd3786"
            ],
            [
             0.5555555555555556,
             "#d8576b"
            ],
            [
             0.6666666666666666,
             "#ed7953"
            ],
            [
             0.7777777777777778,
             "#fb9f3a"
            ],
            [
             0.8888888888888888,
             "#fdca26"
            ],
            [
             1,
             "#f0f921"
            ]
           ]
          },
          "colorway": [
           "#636efa",
           "#EF553B",
           "#00cc96",
           "#ab63fa",
           "#FFA15A",
           "#19d3f3",
           "#FF6692",
           "#B6E880",
           "#FF97FF",
           "#FECB52"
          ],
          "font": {
           "color": "#2a3f5f"
          },
          "geo": {
           "bgcolor": "white",
           "lakecolor": "white",
           "landcolor": "#E5ECF6",
           "showlakes": true,
           "showland": true,
           "subunitcolor": "white"
          },
          "hoverlabel": {
           "align": "left"
          },
          "hovermode": "closest",
          "mapbox": {
           "style": "light"
          },
          "paper_bgcolor": "white",
          "plot_bgcolor": "#E5ECF6",
          "polar": {
           "angularaxis": {
            "gridcolor": "white",
            "linecolor": "white",
            "ticks": ""
           },
           "bgcolor": "#E5ECF6",
           "radialaxis": {
            "gridcolor": "white",
            "linecolor": "white",
            "ticks": ""
           }
          },
          "scene": {
           "xaxis": {
            "backgroundcolor": "#E5ECF6",
            "gridcolor": "white",
            "gridwidth": 2,
            "linecolor": "white",
            "showbackground": true,
            "ticks": "",
            "zerolinecolor": "white"
           },
           "yaxis": {
            "backgroundcolor": "#E5ECF6",
            "gridcolor": "white",
            "gridwidth": 2,
            "linecolor": "white",
            "showbackground": true,
            "ticks": "",
            "zerolinecolor": "white"
           },
           "zaxis": {
            "backgroundcolor": "#E5ECF6",
            "gridcolor": "white",
            "gridwidth": 2,
            "linecolor": "white",
            "showbackground": true,
            "ticks": "",
            "zerolinecolor": "white"
           }
          },
          "shapedefaults": {
           "line": {
            "color": "#2a3f5f"
           }
          },
          "ternary": {
           "aaxis": {
            "gridcolor": "white",
            "linecolor": "white",
            "ticks": ""
           },
           "baxis": {
            "gridcolor": "white",
            "linecolor": "white",
            "ticks": ""
           },
           "bgcolor": "#E5ECF6",
           "caxis": {
            "gridcolor": "white",
            "linecolor": "white",
            "ticks": ""
           }
          },
          "title": {
           "x": 0.05
          },
          "xaxis": {
           "automargin": true,
           "gridcolor": "white",
           "linecolor": "white",
           "ticks": "",
           "title": {
            "standoff": 15
           },
           "zerolinecolor": "white",
           "zerolinewidth": 2
          },
          "yaxis": {
           "automargin": true,
           "gridcolor": "white",
           "linecolor": "white",
           "ticks": "",
           "title": {
            "standoff": 15
           },
           "zerolinecolor": "white",
           "zerolinewidth": 2
          }
         }
        },
        "title": {
         "text": "Boxplot for area_se - Cancer Dataset"
        },
        "xaxis": {
         "anchor": "y",
         "domain": [
          0,
          1
         ],
         "title": {
          "text": "Category"
         }
        },
        "yaxis": {
         "anchor": "x",
         "domain": [
          0,
          1
         ],
         "title": {
          "text": "area_se"
         }
        }
       }
      }
     },
     "metadata": {},
     "output_type": "display_data"
    },
    {
     "data": {
      "application/vnd.plotly.v1+json": {
       "config": {
        "plotlyServerURL": "https://plot.ly"
       },
       "data": [
        {
         "alignmentgroup": "True",
         "hovertemplate": "smoothness_se=%{y}<extra></extra>",
         "legendgroup": "",
         "marker": {
          "color": "#636efa"
         },
         "name": "",
         "notched": false,
         "offsetgroup": "",
         "orientation": "v",
         "showlegend": false,
         "type": "box",
         "x0": " ",
         "xaxis": "x",
         "y": {
          "bdata": "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",
          "dtype": "f8"
         },
         "y0": " ",
         "yaxis": "y"
        }
       ],
       "layout": {
        "boxmode": "group",
        "legend": {
         "tracegroupgap": 0
        },
        "margin": {
         "t": 60
        },
        "template": {
         "data": {
          "bar": [
           {
            "error_x": {
             "color": "#2a3f5f"
            },
            "error_y": {
             "color": "#2a3f5f"
            },
            "marker": {
             "line": {
              "color": "#E5ECF6",
              "width": 0.5
             },
             "pattern": {
              "fillmode": "overlay",
              "size": 10,
              "solidity": 0.2
             }
            },
            "type": "bar"
           }
          ],
          "barpolar": [
           {
            "marker": {
             "line": {
              "color": "#E5ECF6",
              "width": 0.5
             },
             "pattern": {
              "fillmode": "overlay",
              "size": 10,
              "solidity": 0.2
             }
            },
            "type": "barpolar"
           }
          ],
          "carpet": [
           {
            "aaxis": {
             "endlinecolor": "#2a3f5f",
             "gridcolor": "white",
             "linecolor": "white",
             "minorgridcolor": "white",
             "startlinecolor": "#2a3f5f"
            },
            "baxis": {
             "endlinecolor": "#2a3f5f",
             "gridcolor": "white",
             "linecolor": "white",
             "minorgridcolor": "white",
             "startlinecolor": "#2a3f5f"
            },
            "type": "carpet"
           }
          ],
          "choropleth": [
           {
            "colorbar": {
             "outlinewidth": 0,
             "ticks": ""
            },
            "type": "choropleth"
           }
          ],
          "contour": [
           {
            "colorbar": {
             "outlinewidth": 0,
             "ticks": ""
            },
            "colorscale": [
             [
              0,
              "#0d0887"
             ],
             [
              0.1111111111111111,
              "#46039f"
             ],
             [
              0.2222222222222222,
              "#7201a8"
             ],
             [
              0.3333333333333333,
              "#9c179e"
             ],
             [
              0.4444444444444444,
              "#bd3786"
             ],
             [
              0.5555555555555556,
              "#d8576b"
             ],
             [
              0.6666666666666666,
              "#ed7953"
             ],
             [
              0.7777777777777778,
              "#fb9f3a"
             ],
             [
              0.8888888888888888,
              "#fdca26"
             ],
             [
              1,
              "#f0f921"
             ]
            ],
            "type": "contour"
           }
          ],
          "contourcarpet": [
           {
            "colorbar": {
             "outlinewidth": 0,
             "ticks": ""
            },
            "type": "contourcarpet"
           }
          ],
          "heatmap": [
           {
            "colorbar": {
             "outlinewidth": 0,
             "ticks": ""
            },
            "colorscale": [
             [
              0,
              "#0d0887"
             ],
             [
              0.1111111111111111,
              "#46039f"
             ],
             [
              0.2222222222222222,
              "#7201a8"
             ],
             [
              0.3333333333333333,
              "#9c179e"
             ],
             [
              0.4444444444444444,
              "#bd3786"
             ],
             [
              0.5555555555555556,
              "#d8576b"
             ],
             [
              0.6666666666666666,
              "#ed7953"
             ],
             [
              0.7777777777777778,
              "#fb9f3a"
             ],
             [
              0.8888888888888888,
              "#fdca26"
             ],
             [
              1,
              "#f0f921"
             ]
            ],
            "type": "heatmap"
           }
          ],
          "histogram": [
           {
            "marker": {
             "pattern": {
              "fillmode": "overlay",
              "size": 10,
              "solidity": 0.2
             }
            },
            "type": "histogram"
           }
          ],
          "histogram2d": [
           {
            "colorbar": {
             "outlinewidth": 0,
             "ticks": ""
            },
            "colorscale": [
             [
              0,
              "#0d0887"
             ],
             [
              0.1111111111111111,
              "#46039f"
             ],
             [
              0.2222222222222222,
              "#7201a8"
             ],
             [
              0.3333333333333333,
              "#9c179e"
             ],
             [
              0.4444444444444444,
              "#bd3786"
             ],
             [
              0.5555555555555556,
              "#d8576b"
             ],
             [
              0.6666666666666666,
              "#ed7953"
             ],
             [
              0.7777777777777778,
              "#fb9f3a"
             ],
             [
              0.8888888888888888,
              "#fdca26"
             ],
             [
              1,
              "#f0f921"
             ]
            ],
            "type": "histogram2d"
           }
          ],
          "histogram2dcontour": [
           {
            "colorbar": {
             "outlinewidth": 0,
             "ticks": ""
            },
            "colorscale": [
             [
              0,
              "#0d0887"
             ],
             [
              0.1111111111111111,
              "#46039f"
             ],
             [
              0.2222222222222222,
              "#7201a8"
             ],
             [
              0.3333333333333333,
              "#9c179e"
             ],
             [
              0.4444444444444444,
              "#bd3786"
             ],
             [
              0.5555555555555556,
              "#d8576b"
             ],
             [
              0.6666666666666666,
              "#ed7953"
             ],
             [
              0.7777777777777778,
              "#fb9f3a"
             ],
             [
              0.8888888888888888,
              "#fdca26"
             ],
             [
              1,
              "#f0f921"
             ]
            ],
            "type": "histogram2dcontour"
           }
          ],
          "mesh3d": [
           {
            "colorbar": {
             "outlinewidth": 0,
             "ticks": ""
            },
            "type": "mesh3d"
           }
          ],
          "parcoords": [
           {
            "line": {
             "colorbar": {
              "outlinewidth": 0,
              "ticks": ""
             }
            },
            "type": "parcoords"
           }
          ],
          "pie": [
           {
            "automargin": true,
            "type": "pie"
           }
          ],
          "scatter": [
           {
            "fillpattern": {
             "fillmode": "overlay",
             "size": 10,
             "solidity": 0.2
            },
            "type": "scatter"
           }
          ],
          "scatter3d": [
           {
            "line": {
             "colorbar": {
              "outlinewidth": 0,
              "ticks": ""
             }
            },
            "marker": {
             "colorbar": {
              "outlinewidth": 0,
              "ticks": ""
             }
            },
            "type": "scatter3d"
           }
          ],
          "scattercarpet": [
           {
            "marker": {
             "colorbar": {
              "outlinewidth": 0,
              "ticks": ""
             }
            },
            "type": "scattercarpet"
           }
          ],
          "scattergeo": [
           {
            "marker": {
             "colorbar": {
              "outlinewidth": 0,
              "ticks": ""
             }
            },
            "type": "scattergeo"
           }
          ],
          "scattergl": [
           {
            "marker": {
             "colorbar": {
              "outlinewidth": 0,
              "ticks": ""
             }
            },
            "type": "scattergl"
           }
          ],
          "scattermap": [
           {
            "marker": {
             "colorbar": {
              "outlinewidth": 0,
              "ticks": ""
             }
            },
            "type": "scattermap"
           }
          ],
          "scattermapbox": [
           {
            "marker": {
             "colorbar": {
              "outlinewidth": 0,
              "ticks": ""
             }
            },
            "type": "scattermapbox"
           }
          ],
          "scatterpolar": [
           {
            "marker": {
             "colorbar": {
              "outlinewidth": 0,
              "ticks": ""
             }
            },
            "type": "scatterpolar"
           }
          ],
          "scatterpolargl": [
           {
            "marker": {
             "colorbar": {
              "outlinewidth": 0,
              "ticks": ""
             }
            },
            "type": "scatterpolargl"
           }
          ],
          "scatterternary": [
           {
            "marker": {
             "colorbar": {
              "outlinewidth": 0,
              "ticks": ""
             }
            },
            "type": "scatterternary"
           }
          ],
          "surface": [
           {
            "colorbar": {
             "outlinewidth": 0,
             "ticks": ""
            },
            "colorscale": [
             [
              0,
              "#0d0887"
             ],
             [
              0.1111111111111111,
              "#46039f"
             ],
             [
              0.2222222222222222,
              "#7201a8"
             ],
             [
              0.3333333333333333,
              "#9c179e"
             ],
             [
              0.4444444444444444,
              "#bd3786"
             ],
             [
              0.5555555555555556,
              "#d8576b"
             ],
             [
              0.6666666666666666,
              "#ed7953"
             ],
             [
              0.7777777777777778,
              "#fb9f3a"
             ],
             [
              0.8888888888888888,
              "#fdca26"
             ],
             [
              1,
              "#f0f921"
             ]
            ],
            "type": "surface"
           }
          ],
          "table": [
           {
            "cells": {
             "fill": {
              "color": "#EBF0F8"
             },
             "line": {
              "color": "white"
             }
            },
            "header": {
             "fill": {
              "color": "#C8D4E3"
             },
             "line": {
              "color": "white"
             }
            },
            "type": "table"
           }
          ]
         },
         "layout": {
          "annotationdefaults": {
           "arrowcolor": "#2a3f5f",
           "arrowhead": 0,
           "arrowwidth": 1
          },
          "autotypenumbers": "strict",
          "coloraxis": {
           "colorbar": {
            "outlinewidth": 0,
            "ticks": ""
           }
          },
          "colorscale": {
           "diverging": [
            [
             0,
             "#8e0152"
            ],
            [
             0.1,
             "#c51b7d"
            ],
            [
             0.2,
             "#de77ae"
            ],
            [
             0.3,
             "#f1b6da"
            ],
            [
             0.4,
             "#fde0ef"
            ],
            [
             0.5,
             "#f7f7f7"
            ],
            [
             0.6,
             "#e6f5d0"
            ],
            [
             0.7,
             "#b8e186"
            ],
            [
             0.8,
             "#7fbc41"
            ],
            [
             0.9,
             "#4d9221"
            ],
            [
             1,
             "#276419"
            ]
           ],
           "sequential": [
            [
             0,
             "#0d0887"
            ],
            [
             0.1111111111111111,
             "#46039f"
            ],
            [
             0.2222222222222222,
             "#7201a8"
            ],
            [
             0.3333333333333333,
             "#9c179e"
            ],
            [
             0.4444444444444444,
             "#bd3786"
            ],
            [
             0.5555555555555556,
             "#d8576b"
            ],
            [
             0.6666666666666666,
             "#ed7953"
            ],
            [
             0.7777777777777778,
             "#fb9f3a"
            ],
            [
             0.8888888888888888,
             "#fdca26"
            ],
            [
             1,
             "#f0f921"
            ]
           ],
           "sequentialminus": [
            [
             0,
             "#0d0887"
            ],
            [
             0.1111111111111111,
             "#46039f"
            ],
            [
             0.2222222222222222,
             "#7201a8"
            ],
            [
             0.3333333333333333,
             "#9c179e"
            ],
            [
             0.4444444444444444,
             "#bd3786"
            ],
            [
             0.5555555555555556,
             "#d8576b"
            ],
            [
             0.6666666666666666,
             "#ed7953"
            ],
            [
             0.7777777777777778,
             "#fb9f3a"
            ],
            [
             0.8888888888888888,
             "#fdca26"
            ],
            [
             1,
             "#f0f921"
            ]
           ]
          },
          "colorway": [
           "#636efa",
           "#EF553B",
           "#00cc96",
           "#ab63fa",
           "#FFA15A",
           "#19d3f3",
           "#FF6692",
           "#B6E880",
           "#FF97FF",
           "#FECB52"
          ],
          "font": {
           "color": "#2a3f5f"
          },
          "geo": {
           "bgcolor": "white",
           "lakecolor": "white",
           "landcolor": "#E5ECF6",
           "showlakes": true,
           "showland": true,
           "subunitcolor": "white"
          },
          "hoverlabel": {
           "align": "left"
          },
          "hovermode": "closest",
          "mapbox": {
           "style": "light"
          },
          "paper_bgcolor": "white",
          "plot_bgcolor": "#E5ECF6",
          "polar": {
           "angularaxis": {
            "gridcolor": "white",
            "linecolor": "white",
            "ticks": ""
           },
           "bgcolor": "#E5ECF6",
           "radialaxis": {
            "gridcolor": "white",
            "linecolor": "white",
            "ticks": ""
           }
          },
          "scene": {
           "xaxis": {
            "backgroundcolor": "#E5ECF6",
            "gridcolor": "white",
            "gridwidth": 2,
            "linecolor": "white",
            "showbackground": true,
            "ticks": "",
            "zerolinecolor": "white"
           },
           "yaxis": {
            "backgroundcolor": "#E5ECF6",
            "gridcolor": "white",
            "gridwidth": 2,
            "linecolor": "white",
            "showbackground": true,
            "ticks": "",
            "zerolinecolor": "white"
           },
           "zaxis": {
            "backgroundcolor": "#E5ECF6",
            "gridcolor": "white",
            "gridwidth": 2,
            "linecolor": "white",
            "showbackground": true,
            "ticks": "",
            "zerolinecolor": "white"
           }
          },
          "shapedefaults": {
           "line": {
            "color": "#2a3f5f"
           }
          },
          "ternary": {
           "aaxis": {
            "gridcolor": "white",
            "linecolor": "white",
            "ticks": ""
           },
           "baxis": {
            "gridcolor": "white",
            "linecolor": "white",
            "ticks": ""
           },
           "bgcolor": "#E5ECF6",
           "caxis": {
            "gridcolor": "white",
            "linecolor": "white",
            "ticks": ""
           }
          },
          "title": {
           "x": 0.05
          },
          "xaxis": {
           "automargin": true,
           "gridcolor": "white",
           "linecolor": "white",
           "ticks": "",
           "title": {
            "standoff": 15
           },
           "zerolinecolor": "white",
           "zerolinewidth": 2
          },
          "yaxis": {
           "automargin": true,
           "gridcolor": "white",
           "linecolor": "white",
           "ticks": "",
           "title": {
            "standoff": 15
           },
           "zerolinecolor": "white",
           "zerolinewidth": 2
          }
         }
        },
        "title": {
         "text": "Boxplot for smoothness_se - Cancer Dataset"
        },
        "xaxis": {
         "anchor": "y",
         "domain": [
          0,
          1
         ],
         "title": {
          "text": "Category"
         }
        },
        "yaxis": {
         "anchor": "x",
         "domain": [
          0,
          1
         ],
         "title": {
          "text": "smoothness_se"
         }
        }
       }
      }
     },
     "metadata": {},
     "output_type": "display_data"
    },
    {
     "data": {
      "application/vnd.plotly.v1+json": {
       "config": {
        "plotlyServerURL": "https://plot.ly"
       },
       "data": [
        {
         "alignmentgroup": "True",
         "hovertemplate": "compactness_se=%{y}<extra></extra>",
         "legendgroup": "",
         "marker": {
          "color": "#636efa"
         },
         "name": "",
         "notched": false,
         "offsetgroup": "",
         "orientation": "v",
         "showlegend": false,
         "type": "box",
         "x0": " ",
         "xaxis": "x",
         "y": {
          "bdata": "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",
          "dtype": "f8"
         },
         "y0": " ",
         "yaxis": "y"
        }
       ],
       "layout": {
        "boxmode": "group",
        "legend": {
         "tracegroupgap": 0
        },
        "margin": {
         "t": 60
        },
        "template": {
         "data": {
          "bar": [
           {
            "error_x": {
             "color": "#2a3f5f"
            },
            "error_y": {
             "color": "#2a3f5f"
            },
            "marker": {
             "line": {
              "color": "#E5ECF6",
              "width": 0.5
             },
             "pattern": {
              "fillmode": "overlay",
              "size": 10,
              "solidity": 0.2
             }
            },
            "type": "bar"
           }
          ],
          "barpolar": [
           {
            "marker": {
             "line": {
              "color": "#E5ECF6",
              "width": 0.5
             },
             "pattern": {
              "fillmode": "overlay",
              "size": 10,
              "solidity": 0.2
             }
            },
            "type": "barpolar"
           }
          ],
          "carpet": [
           {
            "aaxis": {
             "endlinecolor": "#2a3f5f",
             "gridcolor": "white",
             "linecolor": "white",
             "minorgridcolor": "white",
             "startlinecolor": "#2a3f5f"
            },
            "baxis": {
             "endlinecolor": "#2a3f5f",
             "gridcolor": "white",
             "linecolor": "white",
             "minorgridcolor": "white",
             "startlinecolor": "#2a3f5f"
            },
            "type": "carpet"
           }
          ],
          "choropleth": [
           {
            "colorbar": {
             "outlinewidth": 0,
             "ticks": ""
            },
            "type": "choropleth"
           }
          ],
          "contour": [
           {
            "colorbar": {
             "outlinewidth": 0,
             "ticks": ""
            },
            "colorscale": [
             [
              0,
              "#0d0887"
             ],
             [
              0.1111111111111111,
              "#46039f"
             ],
             [
              0.2222222222222222,
              "#7201a8"
             ],
             [
              0.3333333333333333,
              "#9c179e"
             ],
             [
              0.4444444444444444,
              "#bd3786"
             ],
             [
              0.5555555555555556,
              "#d8576b"
             ],
             [
              0.6666666666666666,
              "#ed7953"
             ],
             [
              0.7777777777777778,
              "#fb9f3a"
             ],
             [
              0.8888888888888888,
              "#fdca26"
             ],
             [
              1,
              "#f0f921"
             ]
            ],
            "type": "contour"
           }
          ],
          "contourcarpet": [
           {
            "colorbar": {
             "outlinewidth": 0,
             "ticks": ""
            },
            "type": "contourcarpet"
           }
          ],
          "heatmap": [
           {
            "colorbar": {
             "outlinewidth": 0,
             "ticks": ""
            },
            "colorscale": [
             [
              0,
              "#0d0887"
             ],
             [
              0.1111111111111111,
              "#46039f"
             ],
             [
              0.2222222222222222,
              "#7201a8"
             ],
             [
              0.3333333333333333,
              "#9c179e"
             ],
             [
              0.4444444444444444,
              "#bd3786"
             ],
             [
              0.5555555555555556,
              "#d8576b"
             ],
             [
              0.6666666666666666,
              "#ed7953"
             ],
             [
              0.7777777777777778,
              "#fb9f3a"
             ],
             [
              0.8888888888888888,
              "#fdca26"
             ],
             [
              1,
              "#f0f921"
             ]
            ],
            "type": "heatmap"
           }
          ],
          "histogram": [
           {
            "marker": {
             "pattern": {
              "fillmode": "overlay",
              "size": 10,
              "solidity": 0.2
             }
            },
            "type": "histogram"
           }
          ],
          "histogram2d": [
           {
            "colorbar": {
             "outlinewidth": 0,
             "ticks": ""
            },
            "colorscale": [
             [
              0,
              "#0d0887"
             ],
             [
              0.1111111111111111,
              "#46039f"
             ],
             [
              0.2222222222222222,
              "#7201a8"
             ],
             [
              0.3333333333333333,
              "#9c179e"
             ],
             [
              0.4444444444444444,
              "#bd3786"
             ],
             [
              0.5555555555555556,
              "#d8576b"
             ],
             [
              0.6666666666666666,
              "#ed7953"
             ],
             [
              0.7777777777777778,
              "#fb9f3a"
             ],
             [
              0.8888888888888888,
              "#fdca26"
             ],
             [
              1,
              "#f0f921"
             ]
            ],
            "type": "histogram2d"
           }
          ],
          "histogram2dcontour": [
           {
            "colorbar": {
             "outlinewidth": 0,
             "ticks": ""
            },
            "colorscale": [
             [
              0,
              "#0d0887"
             ],
             [
              0.1111111111111111,
              "#46039f"
             ],
             [
              0.2222222222222222,
              "#7201a8"
             ],
             [
              0.3333333333333333,
              "#9c179e"
             ],
             [
              0.4444444444444444,
              "#bd3786"
             ],
             [
              0.5555555555555556,
              "#d8576b"
             ],
             [
              0.6666666666666666,
              "#ed7953"
             ],
             [
              0.7777777777777778,
              "#fb9f3a"
             ],
             [
              0.8888888888888888,
              "#fdca26"
             ],
             [
              1,
              "#f0f921"
             ]
            ],
            "type": "histogram2dcontour"
           }
          ],
          "mesh3d": [
           {
            "colorbar": {
             "outlinewidth": 0,
             "ticks": ""
            },
            "type": "mesh3d"
           }
          ],
          "parcoords": [
           {
            "line": {
             "colorbar": {
              "outlinewidth": 0,
              "ticks": ""
             }
            },
            "type": "parcoords"
           }
          ],
          "pie": [
           {
            "automargin": true,
            "type": "pie"
           }
          ],
          "scatter": [
           {
            "fillpattern": {
             "fillmode": "overlay",
             "size": 10,
             "solidity": 0.2
            },
            "type": "scatter"
           }
          ],
          "scatter3d": [
           {
            "line": {
             "colorbar": {
              "outlinewidth": 0,
              "ticks": ""
             }
            },
            "marker": {
             "colorbar": {
              "outlinewidth": 0,
              "ticks": ""
             }
            },
            "type": "scatter3d"
           }
          ],
          "scattercarpet": [
           {
            "marker": {
             "colorbar": {
              "outlinewidth": 0,
              "ticks": ""
             }
            },
            "type": "scattercarpet"
           }
          ],
          "scattergeo": [
           {
            "marker": {
             "colorbar": {
              "outlinewidth": 0,
              "ticks": ""
             }
            },
            "type": "scattergeo"
           }
          ],
          "scattergl": [
           {
            "marker": {
             "colorbar": {
              "outlinewidth": 0,
              "ticks": ""
             }
            },
            "type": "scattergl"
           }
          ],
          "scattermap": [
           {
            "marker": {
             "colorbar": {
              "outlinewidth": 0,
              "ticks": ""
             }
            },
            "type": "scattermap"
           }
          ],
          "scattermapbox": [
           {
            "marker": {
             "colorbar": {
              "outlinewidth": 0,
              "ticks": ""
             }
            },
            "type": "scattermapbox"
           }
          ],
          "scatterpolar": [
           {
            "marker": {
             "colorbar": {
              "outlinewidth": 0,
              "ticks": ""
             }
            },
            "type": "scatterpolar"
           }
          ],
          "scatterpolargl": [
           {
            "marker": {
             "colorbar": {
              "outlinewidth": 0,
              "ticks": ""
             }
            },
            "type": "scatterpolargl"
           }
          ],
          "scatterternary": [
           {
            "marker": {
             "colorbar": {
              "outlinewidth": 0,
              "ticks": ""
             }
            },
            "type": "scatterternary"
           }
          ],
          "surface": [
           {
            "colorbar": {
             "outlinewidth": 0,
             "ticks": ""
            },
            "colorscale": [
             [
              0,
              "#0d0887"
             ],
             [
              0.1111111111111111,
              "#46039f"
             ],
             [
              0.2222222222222222,
              "#7201a8"
             ],
             [
              0.3333333333333333,
              "#9c179e"
             ],
             [
              0.4444444444444444,
              "#bd3786"
             ],
             [
              0.5555555555555556,
              "#d8576b"
             ],
             [
              0.6666666666666666,
              "#ed7953"
             ],
             [
              0.7777777777777778,
              "#fb9f3a"
             ],
             [
              0.8888888888888888,
              "#fdca26"
             ],
             [
              1,
              "#f0f921"
             ]
            ],
            "type": "surface"
           }
          ],
          "table": [
           {
            "cells": {
             "fill": {
              "color": "#EBF0F8"
             },
             "line": {
              "color": "white"
             }
            },
            "header": {
             "fill": {
              "color": "#C8D4E3"
             },
             "line": {
              "color": "white"
             }
            },
            "type": "table"
           }
          ]
         },
         "layout": {
          "annotationdefaults": {
           "arrowcolor": "#2a3f5f",
           "arrowhead": 0,
           "arrowwidth": 1
          },
          "autotypenumbers": "strict",
          "coloraxis": {
           "colorbar": {
            "outlinewidth": 0,
            "ticks": ""
           }
          },
          "colorscale": {
           "diverging": [
            [
             0,
             "#8e0152"
            ],
            [
             0.1,
             "#c51b7d"
            ],
            [
             0.2,
             "#de77ae"
            ],
            [
             0.3,
             "#f1b6da"
            ],
            [
             0.4,
             "#fde0ef"
            ],
            [
             0.5,
             "#f7f7f7"
            ],
            [
             0.6,
             "#e6f5d0"
            ],
            [
             0.7,
             "#b8e186"
            ],
            [
             0.8,
             "#7fbc41"
            ],
            [
             0.9,
             "#4d9221"
            ],
            [
             1,
             "#276419"
            ]
           ],
           "sequential": [
            [
             0,
             "#0d0887"
            ],
            [
             0.1111111111111111,
             "#46039f"
            ],
            [
             0.2222222222222222,
             "#7201a8"
            ],
            [
             0.3333333333333333,
             "#9c179e"
            ],
            [
             0.4444444444444444,
             "#bd3786"
            ],
            [
             0.5555555555555556,
             "#d8576b"
            ],
            [
             0.6666666666666666,
             "#ed7953"
            ],
            [
             0.7777777777777778,
             "#fb9f3a"
            ],
            [
             0.8888888888888888,
             "#fdca26"
            ],
            [
             1,
             "#f0f921"
            ]
           ],
           "sequentialminus": [
            [
             0,
             "#0d0887"
            ],
            [
             0.1111111111111111,
             "#46039f"
            ],
            [
             0.2222222222222222,
             "#7201a8"
            ],
            [
             0.3333333333333333,
             "#9c179e"
            ],
            [
             0.4444444444444444,
             "#bd3786"
            ],
            [
             0.5555555555555556,
             "#d8576b"
            ],
            [
             0.6666666666666666,
             "#ed7953"
            ],
            [
             0.7777777777777778,
             "#fb9f3a"
            ],
            [
             0.8888888888888888,
             "#fdca26"
            ],
            [
             1,
             "#f0f921"
            ]
           ]
          },
          "colorway": [
           "#636efa",
           "#EF553B",
           "#00cc96",
           "#ab63fa",
           "#FFA15A",
           "#19d3f3",
           "#FF6692",
           "#B6E880",
           "#FF97FF",
           "#FECB52"
          ],
          "font": {
           "color": "#2a3f5f"
          },
          "geo": {
           "bgcolor": "white",
           "lakecolor": "white",
           "landcolor": "#E5ECF6",
           "showlakes": true,
           "showland": true,
           "subunitcolor": "white"
          },
          "hoverlabel": {
           "align": "left"
          },
          "hovermode": "closest",
          "mapbox": {
           "style": "light"
          },
          "paper_bgcolor": "white",
          "plot_bgcolor": "#E5ECF6",
          "polar": {
           "angularaxis": {
            "gridcolor": "white",
            "linecolor": "white",
            "ticks": ""
           },
           "bgcolor": "#E5ECF6",
           "radialaxis": {
            "gridcolor": "white",
            "linecolor": "white",
            "ticks": ""
           }
          },
          "scene": {
           "xaxis": {
            "backgroundcolor": "#E5ECF6",
            "gridcolor": "white",
            "gridwidth": 2,
            "linecolor": "white",
            "showbackground": true,
            "ticks": "",
            "zerolinecolor": "white"
           },
           "yaxis": {
            "backgroundcolor": "#E5ECF6",
            "gridcolor": "white",
            "gridwidth": 2,
            "linecolor": "white",
            "showbackground": true,
            "ticks": "",
            "zerolinecolor": "white"
           },
           "zaxis": {
            "backgroundcolor": "#E5ECF6",
            "gridcolor": "white",
            "gridwidth": 2,
            "linecolor": "white",
            "showbackground": true,
            "ticks": "",
            "zerolinecolor": "white"
           }
          },
          "shapedefaults": {
           "line": {
            "color": "#2a3f5f"
           }
          },
          "ternary": {
           "aaxis": {
            "gridcolor": "white",
            "linecolor": "white",
            "ticks": ""
           },
           "baxis": {
            "gridcolor": "white",
            "linecolor": "white",
            "ticks": ""
           },
           "bgcolor": "#E5ECF6",
           "caxis": {
            "gridcolor": "white",
            "linecolor": "white",
            "ticks": ""
           }
          },
          "title": {
           "x": 0.05
          },
          "xaxis": {
           "automargin": true,
           "gridcolor": "white",
           "linecolor": "white",
           "ticks": "",
           "title": {
            "standoff": 15
           },
           "zerolinecolor": "white",
           "zerolinewidth": 2
          },
          "yaxis": {
           "automargin": true,
           "gridcolor": "white",
           "linecolor": "white",
           "ticks": "",
           "title": {
            "standoff": 15
           },
           "zerolinecolor": "white",
           "zerolinewidth": 2
          }
         }
        },
        "title": {
         "text": "Boxplot for compactness_se - Cancer Dataset"
        },
        "xaxis": {
         "anchor": "y",
         "domain": [
          0,
          1
         ],
         "title": {
          "text": "Category"
         }
        },
        "yaxis": {
         "anchor": "x",
         "domain": [
          0,
          1
         ],
         "title": {
          "text": "compactness_se"
         }
        }
       }
      }
     },
     "metadata": {},
     "output_type": "display_data"
    },
    {
     "data": {
      "application/vnd.plotly.v1+json": {
       "config": {
        "plotlyServerURL": "https://plot.ly"
       },
       "data": [
        {
         "alignmentgroup": "True",
         "hovertemplate": "concavity_se=%{y}<extra></extra>",
         "legendgroup": "",
         "marker": {
          "color": "#636efa"
         },
         "name": "",
         "notched": false,
         "offsetgroup": "",
         "orientation": "v",
         "showlegend": false,
         "type": "box",
         "x0": " ",
         "xaxis": "x",
         "y": {
          "bdata": "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",
          "dtype": "f8"
         },
         "y0": " ",
         "yaxis": "y"
        }
       ],
       "layout": {
        "boxmode": "group",
        "legend": {
         "tracegroupgap": 0
        },
        "margin": {
         "t": 60
        },
        "template": {
         "data": {
          "bar": [
           {
            "error_x": {
             "color": "#2a3f5f"
            },
            "error_y": {
             "color": "#2a3f5f"
            },
            "marker": {
             "line": {
              "color": "#E5ECF6",
              "width": 0.5
             },
             "pattern": {
              "fillmode": "overlay",
              "size": 10,
              "solidity": 0.2
             }
            },
            "type": "bar"
           }
          ],
          "barpolar": [
           {
            "marker": {
             "line": {
              "color": "#E5ECF6",
              "width": 0.5
             },
             "pattern": {
              "fillmode": "overlay",
              "size": 10,
              "solidity": 0.2
             }
            },
            "type": "barpolar"
           }
          ],
          "carpet": [
           {
            "aaxis": {
             "endlinecolor": "#2a3f5f",
             "gridcolor": "white",
             "linecolor": "white",
             "minorgridcolor": "white",
             "startlinecolor": "#2a3f5f"
            },
            "baxis": {
             "endlinecolor": "#2a3f5f",
             "gridcolor": "white",
             "linecolor": "white",
             "minorgridcolor": "white",
             "startlinecolor": "#2a3f5f"
            },
            "type": "carpet"
           }
          ],
          "choropleth": [
           {
            "colorbar": {
             "outlinewidth": 0,
             "ticks": ""
            },
            "type": "choropleth"
           }
          ],
          "contour": [
           {
            "colorbar": {
             "outlinewidth": 0,
             "ticks": ""
            },
            "colorscale": [
             [
              0,
              "#0d0887"
             ],
             [
              0.1111111111111111,
              "#46039f"
             ],
             [
              0.2222222222222222,
              "#7201a8"
             ],
             [
              0.3333333333333333,
              "#9c179e"
             ],
             [
              0.4444444444444444,
              "#bd3786"
             ],
             [
              0.5555555555555556,
              "#d8576b"
             ],
             [
              0.6666666666666666,
              "#ed7953"
             ],
             [
              0.7777777777777778,
              "#fb9f3a"
             ],
             [
              0.8888888888888888,
              "#fdca26"
             ],
             [
              1,
              "#f0f921"
             ]
            ],
            "type": "contour"
           }
          ],
          "contourcarpet": [
           {
            "colorbar": {
             "outlinewidth": 0,
             "ticks": ""
            },
            "type": "contourcarpet"
           }
          ],
          "heatmap": [
           {
            "colorbar": {
             "outlinewidth": 0,
             "ticks": ""
            },
            "colorscale": [
             [
              0,
              "#0d0887"
             ],
             [
              0.1111111111111111,
              "#46039f"
             ],
             [
              0.2222222222222222,
              "#7201a8"
             ],
             [
              0.3333333333333333,
              "#9c179e"
             ],
             [
              0.4444444444444444,
              "#bd3786"
             ],
             [
              0.5555555555555556,
              "#d8576b"
             ],
             [
              0.6666666666666666,
              "#ed7953"
             ],
             [
              0.7777777777777778,
              "#fb9f3a"
             ],
             [
              0.8888888888888888,
              "#fdca26"
             ],
             [
              1,
              "#f0f921"
             ]
            ],
            "type": "heatmap"
           }
          ],
          "histogram": [
           {
            "marker": {
             "pattern": {
              "fillmode": "overlay",
              "size": 10,
              "solidity": 0.2
             }
            },
            "type": "histogram"
           }
          ],
          "histogram2d": [
           {
            "colorbar": {
             "outlinewidth": 0,
             "ticks": ""
            },
            "colorscale": [
             [
              0,
              "#0d0887"
             ],
             [
              0.1111111111111111,
              "#46039f"
             ],
             [
              0.2222222222222222,
              "#7201a8"
             ],
             [
              0.3333333333333333,
              "#9c179e"
             ],
             [
              0.4444444444444444,
              "#bd3786"
             ],
             [
              0.5555555555555556,
              "#d8576b"
             ],
             [
              0.6666666666666666,
              "#ed7953"
             ],
             [
              0.7777777777777778,
              "#fb9f3a"
             ],
             [
              0.8888888888888888,
              "#fdca26"
             ],
             [
              1,
              "#f0f921"
             ]
            ],
            "type": "histogram2d"
           }
          ],
          "histogram2dcontour": [
           {
            "colorbar": {
             "outlinewidth": 0,
             "ticks": ""
            },
            "colorscale": [
             [
              0,
              "#0d0887"
             ],
             [
              0.1111111111111111,
              "#46039f"
             ],
             [
              0.2222222222222222,
              "#7201a8"
             ],
             [
              0.3333333333333333,
              "#9c179e"
             ],
             [
              0.4444444444444444,
              "#bd3786"
             ],
             [
              0.5555555555555556,
              "#d8576b"
             ],
             [
              0.6666666666666666,
              "#ed7953"
             ],
             [
              0.7777777777777778,
              "#fb9f3a"
             ],
             [
              0.8888888888888888,
              "#fdca26"
             ],
             [
              1,
              "#f0f921"
             ]
            ],
            "type": "histogram2dcontour"
           }
          ],
          "mesh3d": [
           {
            "colorbar": {
             "outlinewidth": 0,
             "ticks": ""
            },
            "type": "mesh3d"
           }
          ],
          "parcoords": [
           {
            "line": {
             "colorbar": {
              "outlinewidth": 0,
              "ticks": ""
             }
            },
            "type": "parcoords"
           }
          ],
          "pie": [
           {
            "automargin": true,
            "type": "pie"
           }
          ],
          "scatter": [
           {
            "fillpattern": {
             "fillmode": "overlay",
             "size": 10,
             "solidity": 0.2
            },
            "type": "scatter"
           }
          ],
          "scatter3d": [
           {
            "line": {
             "colorbar": {
              "outlinewidth": 0,
              "ticks": ""
             }
            },
            "marker": {
             "colorbar": {
              "outlinewidth": 0,
              "ticks": ""
             }
            },
            "type": "scatter3d"
           }
          ],
          "scattercarpet": [
           {
            "marker": {
             "colorbar": {
              "outlinewidth": 0,
              "ticks": ""
             }
            },
            "type": "scattercarpet"
           }
          ],
          "scattergeo": [
           {
            "marker": {
             "colorbar": {
              "outlinewidth": 0,
              "ticks": ""
             }
            },
            "type": "scattergeo"
           }
          ],
          "scattergl": [
           {
            "marker": {
             "colorbar": {
              "outlinewidth": 0,
              "ticks": ""
             }
            },
            "type": "scattergl"
           }
          ],
          "scattermap": [
           {
            "marker": {
             "colorbar": {
              "outlinewidth": 0,
              "ticks": ""
             }
            },
            "type": "scattermap"
           }
          ],
          "scattermapbox": [
           {
            "marker": {
             "colorbar": {
              "outlinewidth": 0,
              "ticks": ""
             }
            },
            "type": "scattermapbox"
           }
          ],
          "scatterpolar": [
           {
            "marker": {
             "colorbar": {
              "outlinewidth": 0,
              "ticks": ""
             }
            },
            "type": "scatterpolar"
           }
          ],
          "scatterpolargl": [
           {
            "marker": {
             "colorbar": {
              "outlinewidth": 0,
              "ticks": ""
             }
            },
            "type": "scatterpolargl"
           }
          ],
          "scatterternary": [
           {
            "marker": {
             "colorbar": {
              "outlinewidth": 0,
              "ticks": ""
             }
            },
            "type": "scatterternary"
           }
          ],
          "surface": [
           {
            "colorbar": {
             "outlinewidth": 0,
             "ticks": ""
            },
            "colorscale": [
             [
              0,
              "#0d0887"
             ],
             [
              0.1111111111111111,
              "#46039f"
             ],
             [
              0.2222222222222222,
              "#7201a8"
             ],
             [
              0.3333333333333333,
              "#9c179e"
             ],
             [
              0.4444444444444444,
              "#bd3786"
             ],
             [
              0.5555555555555556,
              "#d8576b"
             ],
             [
              0.6666666666666666,
              "#ed7953"
             ],
             [
              0.7777777777777778,
              "#fb9f3a"
             ],
             [
              0.8888888888888888,
              "#fdca26"
             ],
             [
              1,
              "#f0f921"
             ]
            ],
            "type": "surface"
           }
          ],
          "table": [
           {
            "cells": {
             "fill": {
              "color": "#EBF0F8"
             },
             "line": {
              "color": "white"
             }
            },
            "header": {
             "fill": {
              "color": "#C8D4E3"
             },
             "line": {
              "color": "white"
             }
            },
            "type": "table"
           }
          ]
         },
         "layout": {
          "annotationdefaults": {
           "arrowcolor": "#2a3f5f",
           "arrowhead": 0,
           "arrowwidth": 1
          },
          "autotypenumbers": "strict",
          "coloraxis": {
           "colorbar": {
            "outlinewidth": 0,
            "ticks": ""
           }
          },
          "colorscale": {
           "diverging": [
            [
             0,
             "#8e0152"
            ],
            [
             0.1,
             "#c51b7d"
            ],
            [
             0.2,
             "#de77ae"
            ],
            [
             0.3,
             "#f1b6da"
            ],
            [
             0.4,
             "#fde0ef"
            ],
            [
             0.5,
             "#f7f7f7"
            ],
            [
             0.6,
             "#e6f5d0"
            ],
            [
             0.7,
             "#b8e186"
            ],
            [
             0.8,
             "#7fbc41"
            ],
            [
             0.9,
             "#4d9221"
            ],
            [
             1,
             "#276419"
            ]
           ],
           "sequential": [
            [
             0,
             "#0d0887"
            ],
            [
             0.1111111111111111,
             "#46039f"
            ],
            [
             0.2222222222222222,
             "#7201a8"
            ],
            [
             0.3333333333333333,
             "#9c179e"
            ],
            [
             0.4444444444444444,
             "#bd3786"
            ],
            [
             0.5555555555555556,
             "#d8576b"
            ],
            [
             0.6666666666666666,
             "#ed7953"
            ],
            [
             0.7777777777777778,
             "#fb9f3a"
            ],
            [
             0.8888888888888888,
             "#fdca26"
            ],
            [
             1,
             "#f0f921"
            ]
           ],
           "sequentialminus": [
            [
             0,
             "#0d0887"
            ],
            [
             0.1111111111111111,
             "#46039f"
            ],
            [
             0.2222222222222222,
             "#7201a8"
            ],
            [
             0.3333333333333333,
             "#9c179e"
            ],
            [
             0.4444444444444444,
             "#bd3786"
            ],
            [
             0.5555555555555556,
             "#d8576b"
            ],
            [
             0.6666666666666666,
             "#ed7953"
            ],
            [
             0.7777777777777778,
             "#fb9f3a"
            ],
            [
             0.8888888888888888,
             "#fdca26"
            ],
            [
             1,
             "#f0f921"
            ]
           ]
          },
          "colorway": [
           "#636efa",
           "#EF553B",
           "#00cc96",
           "#ab63fa",
           "#FFA15A",
           "#19d3f3",
           "#FF6692",
           "#B6E880",
           "#FF97FF",
           "#FECB52"
          ],
          "font": {
           "color": "#2a3f5f"
          },
          "geo": {
           "bgcolor": "white",
           "lakecolor": "white",
           "landcolor": "#E5ECF6",
           "showlakes": true,
           "showland": true,
           "subunitcolor": "white"
          },
          "hoverlabel": {
           "align": "left"
          },
          "hovermode": "closest",
          "mapbox": {
           "style": "light"
          },
          "paper_bgcolor": "white",
          "plot_bgcolor": "#E5ECF6",
          "polar": {
           "angularaxis": {
            "gridcolor": "white",
            "linecolor": "white",
            "ticks": ""
           },
           "bgcolor": "#E5ECF6",
           "radialaxis": {
            "gridcolor": "white",
            "linecolor": "white",
            "ticks": ""
           }
          },
          "scene": {
           "xaxis": {
            "backgroundcolor": "#E5ECF6",
            "gridcolor": "white",
            "gridwidth": 2,
            "linecolor": "white",
            "showbackground": true,
            "ticks": "",
            "zerolinecolor": "white"
           },
           "yaxis": {
            "backgroundcolor": "#E5ECF6",
            "gridcolor": "white",
            "gridwidth": 2,
            "linecolor": "white",
            "showbackground": true,
            "ticks": "",
            "zerolinecolor": "white"
           },
           "zaxis": {
            "backgroundcolor": "#E5ECF6",
            "gridcolor": "white",
            "gridwidth": 2,
            "linecolor": "white",
            "showbackground": true,
            "ticks": "",
            "zerolinecolor": "white"
           }
          },
          "shapedefaults": {
           "line": {
            "color": "#2a3f5f"
           }
          },
          "ternary": {
           "aaxis": {
            "gridcolor": "white",
            "linecolor": "white",
            "ticks": ""
           },
           "baxis": {
            "gridcolor": "white",
            "linecolor": "white",
            "ticks": ""
           },
           "bgcolor": "#E5ECF6",
           "caxis": {
            "gridcolor": "white",
            "linecolor": "white",
            "ticks": ""
           }
          },
          "title": {
           "x": 0.05
          },
          "xaxis": {
           "automargin": true,
           "gridcolor": "white",
           "linecolor": "white",
           "ticks": "",
           "title": {
            "standoff": 15
           },
           "zerolinecolor": "white",
           "zerolinewidth": 2
          },
          "yaxis": {
           "automargin": true,
           "gridcolor": "white",
           "linecolor": "white",
           "ticks": "",
           "title": {
            "standoff": 15
           },
           "zerolinecolor": "white",
           "zerolinewidth": 2
          }
         }
        },
        "title": {
         "text": "Boxplot for concavity_se - Cancer Dataset"
        },
        "xaxis": {
         "anchor": "y",
         "domain": [
          0,
          1
         ],
         "title": {
          "text": "Category"
         }
        },
        "yaxis": {
         "anchor": "x",
         "domain": [
          0,
          1
         ],
         "title": {
          "text": "concavity_se"
         }
        }
       }
      }
     },
     "metadata": {},
     "output_type": "display_data"
    },
    {
     "data": {
      "application/vnd.plotly.v1+json": {
       "config": {
        "plotlyServerURL": "https://plot.ly"
       },
       "data": [
        {
         "alignmentgroup": "True",
         "hovertemplate": "concave_points_se=%{y}<extra></extra>",
         "legendgroup": "",
         "marker": {
          "color": "#636efa"
         },
         "name": "",
         "notched": false,
         "offsetgroup": "",
         "orientation": "v",
         "showlegend": false,
         "type": "box",
         "x0": " ",
         "xaxis": "x",
         "y": {
          "bdata": "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",
          "dtype": "f8"
         },
         "y0": " ",
         "yaxis": "y"
        }
       ],
       "layout": {
        "boxmode": "group",
        "legend": {
         "tracegroupgap": 0
        },
        "margin": {
         "t": 60
        },
        "template": {
         "data": {
          "bar": [
           {
            "error_x": {
             "color": "#2a3f5f"
            },
            "error_y": {
             "color": "#2a3f5f"
            },
            "marker": {
             "line": {
              "color": "#E5ECF6",
              "width": 0.5
             },
             "pattern": {
              "fillmode": "overlay",
              "size": 10,
              "solidity": 0.2
             }
            },
            "type": "bar"
           }
          ],
          "barpolar": [
           {
            "marker": {
             "line": {
              "color": "#E5ECF6",
              "width": 0.5
             },
             "pattern": {
              "fillmode": "overlay",
              "size": 10,
              "solidity": 0.2
             }
            },
            "type": "barpolar"
           }
          ],
          "carpet": [
           {
            "aaxis": {
             "endlinecolor": "#2a3f5f",
             "gridcolor": "white",
             "linecolor": "white",
             "minorgridcolor": "white",
             "startlinecolor": "#2a3f5f"
            },
            "baxis": {
             "endlinecolor": "#2a3f5f",
             "gridcolor": "white",
             "linecolor": "white",
             "minorgridcolor": "white",
             "startlinecolor": "#2a3f5f"
            },
            "type": "carpet"
           }
          ],
          "choropleth": [
           {
            "colorbar": {
             "outlinewidth": 0,
             "ticks": ""
            },
            "type": "choropleth"
           }
          ],
          "contour": [
           {
            "colorbar": {
             "outlinewidth": 0,
             "ticks": ""
            },
            "colorscale": [
             [
              0,
              "#0d0887"
             ],
             [
              0.1111111111111111,
              "#46039f"
             ],
             [
              0.2222222222222222,
              "#7201a8"
             ],
             [
              0.3333333333333333,
              "#9c179e"
             ],
             [
              0.4444444444444444,
              "#bd3786"
             ],
             [
              0.5555555555555556,
              "#d8576b"
             ],
             [
              0.6666666666666666,
              "#ed7953"
             ],
             [
              0.7777777777777778,
              "#fb9f3a"
             ],
             [
              0.8888888888888888,
              "#fdca26"
             ],
             [
              1,
              "#f0f921"
             ]
            ],
            "type": "contour"
           }
          ],
          "contourcarpet": [
           {
            "colorbar": {
             "outlinewidth": 0,
             "ticks": ""
            },
            "type": "contourcarpet"
           }
          ],
          "heatmap": [
           {
            "colorbar": {
             "outlinewidth": 0,
             "ticks": ""
            },
            "colorscale": [
             [
              0,
              "#0d0887"
             ],
             [
              0.1111111111111111,
              "#46039f"
             ],
             [
              0.2222222222222222,
              "#7201a8"
             ],
             [
              0.3333333333333333,
              "#9c179e"
             ],
             [
              0.4444444444444444,
              "#bd3786"
             ],
             [
              0.5555555555555556,
              "#d8576b"
             ],
             [
              0.6666666666666666,
              "#ed7953"
             ],
             [
              0.7777777777777778,
              "#fb9f3a"
             ],
             [
              0.8888888888888888,
              "#fdca26"
             ],
             [
              1,
              "#f0f921"
             ]
            ],
            "type": "heatmap"
           }
          ],
          "histogram": [
           {
            "marker": {
             "pattern": {
              "fillmode": "overlay",
              "size": 10,
              "solidity": 0.2
             }
            },
            "type": "histogram"
           }
          ],
          "histogram2d": [
           {
            "colorbar": {
             "outlinewidth": 0,
             "ticks": ""
            },
            "colorscale": [
             [
              0,
              "#0d0887"
             ],
             [
              0.1111111111111111,
              "#46039f"
             ],
             [
              0.2222222222222222,
              "#7201a8"
             ],
             [
              0.3333333333333333,
              "#9c179e"
             ],
             [
              0.4444444444444444,
              "#bd3786"
             ],
             [
              0.5555555555555556,
              "#d8576b"
             ],
             [
              0.6666666666666666,
              "#ed7953"
             ],
             [
              0.7777777777777778,
              "#fb9f3a"
             ],
             [
              0.8888888888888888,
              "#fdca26"
             ],
             [
              1,
              "#f0f921"
             ]
            ],
            "type": "histogram2d"
           }
          ],
          "histogram2dcontour": [
           {
            "colorbar": {
             "outlinewidth": 0,
             "ticks": ""
            },
            "colorscale": [
             [
              0,
              "#0d0887"
             ],
             [
              0.1111111111111111,
              "#46039f"
             ],
             [
              0.2222222222222222,
              "#7201a8"
             ],
             [
              0.3333333333333333,
              "#9c179e"
             ],
             [
              0.4444444444444444,
              "#bd3786"
             ],
             [
              0.5555555555555556,
              "#d8576b"
             ],
             [
              0.6666666666666666,
              "#ed7953"
             ],
             [
              0.7777777777777778,
              "#fb9f3a"
             ],
             [
              0.8888888888888888,
              "#fdca26"
             ],
             [
              1,
              "#f0f921"
             ]
            ],
            "type": "histogram2dcontour"
           }
          ],
          "mesh3d": [
           {
            "colorbar": {
             "outlinewidth": 0,
             "ticks": ""
            },
            "type": "mesh3d"
           }
          ],
          "parcoords": [
           {
            "line": {
             "colorbar": {
              "outlinewidth": 0,
              "ticks": ""
             }
            },
            "type": "parcoords"
           }
          ],
          "pie": [
           {
            "automargin": true,
            "type": "pie"
           }
          ],
          "scatter": [
           {
            "fillpattern": {
             "fillmode": "overlay",
             "size": 10,
             "solidity": 0.2
            },
            "type": "scatter"
           }
          ],
          "scatter3d": [
           {
            "line": {
             "colorbar": {
              "outlinewidth": 0,
              "ticks": ""
             }
            },
            "marker": {
             "colorbar": {
              "outlinewidth": 0,
              "ticks": ""
             }
            },
            "type": "scatter3d"
           }
          ],
          "scattercarpet": [
           {
            "marker": {
             "colorbar": {
              "outlinewidth": 0,
              "ticks": ""
             }
            },
            "type": "scattercarpet"
           }
          ],
          "scattergeo": [
           {
            "marker": {
             "colorbar": {
              "outlinewidth": 0,
              "ticks": ""
             }
            },
            "type": "scattergeo"
           }
          ],
          "scattergl": [
           {
            "marker": {
             "colorbar": {
              "outlinewidth": 0,
              "ticks": ""
             }
            },
            "type": "scattergl"
           }
          ],
          "scattermap": [
           {
            "marker": {
             "colorbar": {
              "outlinewidth": 0,
              "ticks": ""
             }
            },
            "type": "scattermap"
           }
          ],
          "scattermapbox": [
           {
            "marker": {
             "colorbar": {
              "outlinewidth": 0,
              "ticks": ""
             }
            },
            "type": "scattermapbox"
           }
          ],
          "scatterpolar": [
           {
            "marker": {
             "colorbar": {
              "outlinewidth": 0,
              "ticks": ""
             }
            },
            "type": "scatterpolar"
           }
          ],
          "scatterpolargl": [
           {
            "marker": {
             "colorbar": {
              "outlinewidth": 0,
              "ticks": ""
             }
            },
            "type": "scatterpolargl"
           }
          ],
          "scatterternary": [
           {
            "marker": {
             "colorbar": {
              "outlinewidth": 0,
              "ticks": ""
             }
            },
            "type": "scatterternary"
           }
          ],
          "surface": [
           {
            "colorbar": {
             "outlinewidth": 0,
             "ticks": ""
            },
            "colorscale": [
             [
              0,
              "#0d0887"
             ],
             [
              0.1111111111111111,
              "#46039f"
             ],
             [
              0.2222222222222222,
              "#7201a8"
             ],
             [
              0.3333333333333333,
              "#9c179e"
             ],
             [
              0.4444444444444444,
              "#bd3786"
             ],
             [
              0.5555555555555556,
              "#d8576b"
             ],
             [
              0.6666666666666666,
              "#ed7953"
             ],
             [
              0.7777777777777778,
              "#fb9f3a"
             ],
             [
              0.8888888888888888,
              "#fdca26"
             ],
             [
              1,
              "#f0f921"
             ]
            ],
            "type": "surface"
           }
          ],
          "table": [
           {
            "cells": {
             "fill": {
              "color": "#EBF0F8"
             },
             "line": {
              "color": "white"
             }
            },
            "header": {
             "fill": {
              "color": "#C8D4E3"
             },
             "line": {
              "color": "white"
             }
            },
            "type": "table"
           }
          ]
         },
         "layout": {
          "annotationdefaults": {
           "arrowcolor": "#2a3f5f",
           "arrowhead": 0,
           "arrowwidth": 1
          },
          "autotypenumbers": "strict",
          "coloraxis": {
           "colorbar": {
            "outlinewidth": 0,
            "ticks": ""
           }
          },
          "colorscale": {
           "diverging": [
            [
             0,
             "#8e0152"
            ],
            [
             0.1,
             "#c51b7d"
            ],
            [
             0.2,
             "#de77ae"
            ],
            [
             0.3,
             "#f1b6da"
            ],
            [
             0.4,
             "#fde0ef"
            ],
            [
             0.5,
             "#f7f7f7"
            ],
            [
             0.6,
             "#e6f5d0"
            ],
            [
             0.7,
             "#b8e186"
            ],
            [
             0.8,
             "#7fbc41"
            ],
            [
             0.9,
             "#4d9221"
            ],
            [
             1,
             "#276419"
            ]
           ],
           "sequential": [
            [
             0,
             "#0d0887"
            ],
            [
             0.1111111111111111,
             "#46039f"
            ],
            [
             0.2222222222222222,
             "#7201a8"
            ],
            [
             0.3333333333333333,
             "#9c179e"
            ],
            [
             0.4444444444444444,
             "#bd3786"
            ],
            [
             0.5555555555555556,
             "#d8576b"
            ],
            [
             0.6666666666666666,
             "#ed7953"
            ],
            [
             0.7777777777777778,
             "#fb9f3a"
            ],
            [
             0.8888888888888888,
             "#fdca26"
            ],
            [
             1,
             "#f0f921"
            ]
           ],
           "sequentialminus": [
            [
             0,
             "#0d0887"
            ],
            [
             0.1111111111111111,
             "#46039f"
            ],
            [
             0.2222222222222222,
             "#7201a8"
            ],
            [
             0.3333333333333333,
             "#9c179e"
            ],
            [
             0.4444444444444444,
             "#bd3786"
            ],
            [
             0.5555555555555556,
             "#d8576b"
            ],
            [
             0.6666666666666666,
             "#ed7953"
            ],
            [
             0.7777777777777778,
             "#fb9f3a"
            ],
            [
             0.8888888888888888,
             "#fdca26"
            ],
            [
             1,
             "#f0f921"
            ]
           ]
          },
          "colorway": [
           "#636efa",
           "#EF553B",
           "#00cc96",
           "#ab63fa",
           "#FFA15A",
           "#19d3f3",
           "#FF6692",
           "#B6E880",
           "#FF97FF",
           "#FECB52"
          ],
          "font": {
           "color": "#2a3f5f"
          },
          "geo": {
           "bgcolor": "white",
           "lakecolor": "white",
           "landcolor": "#E5ECF6",
           "showlakes": true,
           "showland": true,
           "subunitcolor": "white"
          },
          "hoverlabel": {
           "align": "left"
          },
          "hovermode": "closest",
          "mapbox": {
           "style": "light"
          },
          "paper_bgcolor": "white",
          "plot_bgcolor": "#E5ECF6",
          "polar": {
           "angularaxis": {
            "gridcolor": "white",
            "linecolor": "white",
            "ticks": ""
           },
           "bgcolor": "#E5ECF6",
           "radialaxis": {
            "gridcolor": "white",
            "linecolor": "white",
            "ticks": ""
           }
          },
          "scene": {
           "xaxis": {
            "backgroundcolor": "#E5ECF6",
            "gridcolor": "white",
            "gridwidth": 2,
            "linecolor": "white",
            "showbackground": true,
            "ticks": "",
            "zerolinecolor": "white"
           },
           "yaxis": {
            "backgroundcolor": "#E5ECF6",
            "gridcolor": "white",
            "gridwidth": 2,
            "linecolor": "white",
            "showbackground": true,
            "ticks": "",
            "zerolinecolor": "white"
           },
           "zaxis": {
            "backgroundcolor": "#E5ECF6",
            "gridcolor": "white",
            "gridwidth": 2,
            "linecolor": "white",
            "showbackground": true,
            "ticks": "",
            "zerolinecolor": "white"
           }
          },
          "shapedefaults": {
           "line": {
            "color": "#2a3f5f"
           }
          },
          "ternary": {
           "aaxis": {
            "gridcolor": "white",
            "linecolor": "white",
            "ticks": ""
           },
           "baxis": {
            "gridcolor": "white",
            "linecolor": "white",
            "ticks": ""
           },
           "bgcolor": "#E5ECF6",
           "caxis": {
            "gridcolor": "white",
            "linecolor": "white",
            "ticks": ""
           }
          },
          "title": {
           "x": 0.05
          },
          "xaxis": {
           "automargin": true,
           "gridcolor": "white",
           "linecolor": "white",
           "ticks": "",
           "title": {
            "standoff": 15
           },
           "zerolinecolor": "white",
           "zerolinewidth": 2
          },
          "yaxis": {
           "automargin": true,
           "gridcolor": "white",
           "linecolor": "white",
           "ticks": "",
           "title": {
            "standoff": 15
           },
           "zerolinecolor": "white",
           "zerolinewidth": 2
          }
         }
        },
        "title": {
         "text": "Boxplot for concave_points_se - Cancer Dataset"
        },
        "xaxis": {
         "anchor": "y",
         "domain": [
          0,
          1
         ],
         "title": {
          "text": "Category"
         }
        },
        "yaxis": {
         "anchor": "x",
         "domain": [
          0,
          1
         ],
         "title": {
          "text": "concave_points_se"
         }
        }
       }
      }
     },
     "metadata": {},
     "output_type": "display_data"
    },
    {
     "data": {
      "application/vnd.plotly.v1+json": {
       "config": {
        "plotlyServerURL": "https://plot.ly"
       },
       "data": [
        {
         "alignmentgroup": "True",
         "hovertemplate": "symmetry_se=%{y}<extra></extra>",
         "legendgroup": "",
         "marker": {
          "color": "#636efa"
         },
         "name": "",
         "notched": false,
         "offsetgroup": "",
         "orientation": "v",
         "showlegend": false,
         "type": "box",
         "x0": " ",
         "xaxis": "x",
         "y": {
          "bdata": "AHSYLy/Anj8YeO49XHKMPwrXo3A9Cpc/1pC4x9KHrj96/N6mP/uRP89m1edqK5Y/DAdCsoAJjD/JAiZw626OP2/1nPS+8ZU/i6azk8FRkj+fPCzUmuaNP+T3Nv3Zj5Q/ofMau0T1pj+fAmA8g4aeP9u/stKkFJQ/hzO/mgMEkz//If32deCMP+uLhLacS5E/9iNFZFjFiz/129eBc0aUPztT6LzGLpE//RNcrKjBlD+U3je+9syiPzyDhv4JLoY/cQM+P4wQjj/DR8SUSKKXP4Ln3sMlx40/Xp1jQPZ6lz+YUSy3tBqSP4PAyqFFtpM/d9uF5jqNlD/YZI16iEaXP/VnP1JEhpU/YKsEi8OZjz/jGTT0T3CRP8mwijcyj5w/ajANw0fElD99lufB3VmbPyAL0SFwJIA/3c1THXIzjD9seHqlLEOMP9Fcp5GWyos/kpbK2xFOqz+14EVfQZqRP88sCVBTy4Y/6ZrJN9vcmD8k0csolluaP/CK4H8r2ZE/VyHlJ9U+jT92N091yM2QP4kpkUQvo5g/iUFg5dAiiz/GounsZHCUP8Tr+gW7YZs/dy0hH/Rshj/SqSuf5XmgP2WlSSno9pI/esISDyibkj93LSEf9GyWP9cS8kHPZpU/e737471qpT9y4UBIFjChP5zEILByaJE/Zr0Yyol2pT/njCjtDb6QP9v5fmq8dJM/Zw+0AkNWlz97ZkmAmlqWP3eE04IXfaU/v0hoy7kUlz+Kzce1oWKMPxMn9zsUBZo/vR3htOBFjz8H8BZIUPyIP4rNx7WhYow/WDm0yHa+jz9KmGn7V1aaP2O0jqomiJo/S+oENBE2tD8RGVbxRuaRPw2mYfiImJI/mfViKCfalT/kg57Nqs+FP5dWQ+IeS58/jPhOzHoxlD8wKqkT0ESYP6Z+3lSkwpg/IxXGFoIclD+Uap+OxwyUP3x+GCE82pg/toR80LNZlT89YYkHlE2ZP01nJ4Oj5IU/CTNt/8pKkz8ErcCQ1a2OP4UIOIQqNZs/QYLix5i7lj+p+wCkNnGSP7lTOlj/55A/U67wLhfxjT/iWBe30QCOP19BmrFoOps/ilkvhnKijT/SqSuf5XmQPxzr4jYawJs/yY6NQLyujz8Rx7q4jQaQP3TS+8bXnok/dY4B2evdnz9YHM78ag6QPz+p9ul4zKA/3BFOC170lT+77UJznUaaP9DyPLg7a5c/BaipZWt9kT940VeQZiyKPyi4WFGDaZg/1uJTAIxnkD91ApoIG56OP5VgcTjzq6k/vHmqQ26Giz+pE9BE2PCUPw7z5QXYR6c/HhZqTfOOkz/MRXwnZr2IPwvvchHfiYk/1c+bilQYiz9EaW/whcmUP/FG5pE/GJg/mzi536EokD+nlq31RUKbP+o+AKlNnIw/j+TyH9Jvjz9lU67wLheRP+ZXc4Bgjo4/BOJ1/YLdkD+FzmvsEtWLP5NX5xiQvY4/Z+22C811qj92cRsN4C2QP4zWUdUEUZc/MzMzMzMzkz+uZMdGIF6XP8+goX+Ci5U/P4wQHm0ckT9tHLEWnwKgP3B31m670Kw/O1PovMYuoT+C597DJceNP/Ik6ZrJN4s/1q2ek943nj8wZHWr56SXP7nfoSjQJ6I/3CkdrP9zmD9CeLRxxFqcP87Cnnb4a5I/220Xmus0kj/FjzF3LSGPP+JYF7fRAI4/wcWKGkzDkD/4GRcOhGShP5s4ud+hKKA/pDZxcr9DkT/opPeNrz2TP7oxPWGJB5Q/FqQZi6azkz8DfSJPkq6JP0Uvo1huaZU/F0hQ/Bhzhz/ZzvdT46WLPxakGYums5M/xY8xdy0hjz/S+8bXnlmSP6w5QDBHj58/1sVtNIC3oD+JB5RNucKbP+hqK/aX3aM/8MSsF0M5kT+GG/D5YYSQP+SDns2qz4U/VOOlm8QgkD9hpu1fWWmSP8mOjUC8ro8/z2bV52orlj8bR6zFpwCIP8zR4/c2/Zk/TWcng6PkhT+UpGsm32yTP/zG155ZEqA/I9v5fmq8lD+vX7Abti2qP9vEyf0ORaE/pWsm32xzoz97iEZ3EDuTP8iYu5aQD5o/08H6P4f5kj8plltaDYmbPyegibDh6ZU/Qj7o2az6jD95AfbRqSuPP0fJq3MMyI4/bf/KSpNSkD8Sg8DKoUWWP6HbSxqjdZQ/j9/b9Gc/kj9UOlj/5zCPP/5l9+RhoZY/y7kUV5V9lz+RJ0nXTL6ZP5XXSuguiYM/3lSkwthCoD/OcAM+P4yQP1oNiXssfag/EoPAyqFFlj/USEvl7QinP3tOet/42pM/fSJPkq6ZnD8tQxzr4jaaP5SkaybfbJM/gc8PI4RHiz/AeAYN/ROMPyKJXkax3JI//89hvrwAmz9Mw/ARMSWSP2AfnbryWY4/3J212y40lz9tkElGzsKOP83pspjYfIw/oyO5/If0iz8VjErqBDSRP15jl6jeGog/Q1a3ek56jz+twJDVrZ6TP4VCBBxClYo/u5unOuRmmD+vfJbnwd2JP7mNBvAWSJA/Lc+Du7N2iz8wKqkT0ESIPyRFZFjFG4k/AcEcPX5vkz8i/fZ14JyRP1mGONbFbZQ/X3tmSYCamj/Du1zEd2KWP878ag4QzKE/SNxj6UMXlD89J71vfO2JP9Of/UgRGZY/zjY3picskT9nmxvTE5aYP/GAsilXeJc/l8rbEU4Ljj9blNkgk4yMP6MjufyH9Is/6PaSxmgdlT8z+WabG9OTPwkzbf/KSpM/H4DUJk7ulz8p54u9F1+EP+G04EVfQYo/2VpfJLTljD/iBnx+GCGcP5D3qpUJv4Q/PQ/uztpthz9XlX1XBP+LP8aKGkzD8KE/RGlv8IXJlD8+7fDXZI2aP8jqVs9J75s/aR1VTRB1jz8z4Zf6eVORPxakGYums5M/YabtX1lpkj+rIXGPpQ+NP3ldv2A3bJs/E9VbA1slmD+lTkATYcOTP7x5qkNuhos/l1ZD4h5Ljz9Pr5RliGONPwxZ3eo56Z0/yjfb3JiekD8+P4wQHm2MP3uIRncQO5M/3Xu45LhTmj/s3R/vVSuTPxXGFoIclJA/csRafAqAoT8FqKlla32hP+TaUDHO36Q/eQH20akrjz/hehSuR+GaP9L7xteeWZI/TyMtlbcjjD8fLjnulA6WP5KRs7CnHZ4/VOOlm8QgkD9J9DKK5ZaGPz9SRIZVvKE/CTNt/8pKkz/mP6Tfvg6cPzHO34RCBJw/Zd8Vwf9Wkj9MT1jiAWWTP7VU3o5wWqA/vHmqQ26Giz9G66hqgqibP6yt2F92T44/OsyXF2AfjT891SE3ww2YP5vJN9vcmI4/0jWTb7a5kT8fotEdxM6UP9Y5BmSvd68/gVt381SHjD+thsQ9lj6UP+kmMQisHIo/AFKbOLnfoT+kGYums5OhP/LqHAOy15s/v4I0Y9F0lj+u8C4X8Z2IP9VbA1slWJw/WwhyUMJMiz/HaB1VTRCVPx13Sgfr/4w/vJF55A8Gjj9pHVVNEHWPPytNSkG3l6Q/l8rbEU4Ljj+WeEDZlCucP0USvYxiuaU/nMQgsHJokT97Tnrf+NqTP5gXYB+dupI/m/7sR4rIkD8XvOgrSDOWPxsv3SQGgZU/0XR2MjhKjj9Z+tAF9S2TP+xRuB6F65E/0LhwICQLmD97iEZ3EDujP3LcKR2s/5M/N4lBYOXQoj/PFDqvsUuUP/Utc7osJpY/DeAtkKD4kT9XlX1XBP+bP4wQHm0csZY/Uz9vKlJhrD9FR3L5D+mXP6Fns+pztZU/MnIW9rTDnz/ZCMTr+gWbPwyTqYJRSZ0/O+RmuAGfjz8+BcB4Bg2dP8KjjSPW4pM/z9ptF5rrlD+YF2AfnbqSP7H5uDZUjJM/DRr6J7hYkT+NtFTejnCKP9Xnaiv2l40/rfpcbcX+oj8OMsnIWdiTP698lufB3Yk/ER5tHLEWjz9Y/+cwX16gPwTidf2C3ZA/9P3UeOkmkT/EX5M16iGKPy/APjp15ZM/WcAEbt3Nkz87jbRU3o6QP0c9RKM7iI0/6N7DJcedkj/O/GoOEMyRP4QSZtr+lZU/VcGopE5Akz/QRNjw9EqZP24Xmus00pI/eXWOAdnrjT+oNc07TtGRP89OBkfJq5M/BOJ1/YLdkD8st7QaEveIP9VbA1slWJw/DjLJyFnYkz/wFkhQ/BiTP2WlSSno9pI/qRPQRNjwlD/gvg6cM6KUP7XgRV9BmpE/AwmKH2Puij+kiAyreCOTP05/9iNFZIg/HQOy17s/jj8mqrcGtkqQP1Fmg0wycoY/3UHsTKHzmj8Spb3BFyaTP+/Jw0KtaZ4/J9pVSPlJlT+4HoXrUbiOP6JdhZSfVJs/aAWGrG71jD/ZQpCDEmaaPy3Pg7uzdos/SMSUSKKXkT+Yo8fvbfqTP2qkpfJ2hJM/i3H+JhQioD9zuiwmNh+XP3kB9tGpK58/JxQi4BCqlD8mNh/XhoqRP0ok0csolps/N2xblNkgkz/RlnMpriqbP7Ezhc5r7JI/443MI38wkD9YObTIdr6fP9Xnaiv2l40/G/UQje4glj/9wcBz7+GSP1EU6BN5kpQ/6Gor9pfdkz/e5SK+E7OOPzDYDdsWZZY/tyizQSYZmT+7m6c65GaYPzJyFva0w48/lZo90AoMiT+I1/ULdsOWP5yiI7n8h5Q/c6JdhZSflD9BDkqYafuHP1ysqME0DI8/bf/KSpNSkD/+fcaFAyGJP9un4zEDlZE/9pfdk4eFij+MhLacS3GVP4W2nEtxVYk/v0hoy7kUlz9blNkgk4yMPzSFzmvsEoU/XmOXqN4amD92N091yM2QP8rDQq1p3pE/thDkoISZlj9ljXqIRneQP6SqCaLuA5A/8tJNYhBYmT9KJNHLKJaLP8PTK2UZ4og/58b0hCUekD+pE9BE2PCUP1RvDWyVYJE/aAWGrG71jD9V2XdF8L+VP8O7XMR3YoY/4uR+h6JAjz+5quy7IviPP90HILWJk5s/GcVyS6shkT83pics8YCSP26jAbwFEpQ/g0wychb2lD+m8naE04KHP2njiLX4FKA/NSkF3V7SiD9pxqLp7GSQPz/G3LWEfJA/3UHsTKHzij+PpQ9dUN+SP/fpeMxAZZw/gufewyXHjT9V2XdF8L+FP8GLvoI0Y5E/cF8HzhlRij+q8dJNYhCIP85wAz4/jKA/A30iT5KuiT/bp+MxA5WRP0X11sBWCZY/27+y0qQUlD9ljXqIRneQP+4ljdE6qoo/0a5Cyk+qnT/ikuNO6WCdPyOhLedSXJU/AYdQpWYPlD/CUfLqHAOSP2kdVU0QdY8/O420VN6OkD84EJIFTOCGP15LyAc9m4U/eEXwv5XsmD/mBdhHp66cPydmvRjKiZY/gUOoUrMHmj/dQexMofOaP0YldQKaCIs/QYLix5i7lj+8eapDboaLPzy9UpYhjpU/TfOOU3Qklz92cRsN4C2QP71SliGOdZE/98d71cqEjz8P1v85zJeHP3hF8L+V7Jg/BDkoYabtjz8SvYxiuaWFPw2mYfiImJI/XW3F/rJ7kj/XaaSl8nakP+ik942vPZM/ozuInSl0jj8Spb3BFyaTP3aJ6q2BrZI/k8ZoHVVNkD9CsoAJ3LqLP3O6LCY2H4c/AG+BBMWPkT9I3GPpQxeUPyfChqdXypI/Psvz4O6sjT+EEmba/pWFP0uwOJz51Zw/+5Y5XRYTiz9RTrSrkPKTP/M8uDtrt40/3nGKjuTyjz9sBOJ1/YKdPzy9UpYhjpU/SFD8GHPXkj93oblOIy2VPxKlvcEXJpM/1m670FynkT8y5q4l5IOOP5C93v3xXpU/3nGKjuTyjz+M1lHVBFGXPwKfH0YIj5Y/HNMTlnhAmT9tkElGzsKePzZZox6i0Z0/lKRrJt9skz8eM1AZ/z6jP3o2qz5XW5E/j6UPXVDfkj9KmGn7V1aaP22QSUbOwp4/LuI7MevFkD9+dOrKZ3mOP5T2Bl+YTJU/y9sRTgtelD/gSnZsBOKVP8doHVVNEJU/qmVrfZHQhj8BwRw9fm+TP5KzsKcd/oo/lQ7W/znMlz+eJF0z+WabPw==",
          "dtype": "f8"
         },
         "y0": " ",
         "yaxis": "y"
        }
       ],
       "layout": {
        "boxmode": "group",
        "legend": {
         "tracegroupgap": 0
        },
        "margin": {
         "t": 60
        },
        "template": {
         "data": {
          "bar": [
           {
            "error_x": {
             "color": "#2a3f5f"
            },
            "error_y": {
             "color": "#2a3f5f"
            },
            "marker": {
             "line": {
              "color": "#E5ECF6",
              "width": 0.5
             },
             "pattern": {
              "fillmode": "overlay",
              "size": 10,
              "solidity": 0.2
             }
            },
            "type": "bar"
           }
          ],
          "barpolar": [
           {
            "marker": {
             "line": {
              "color": "#E5ECF6",
              "width": 0.5
             },
             "pattern": {
              "fillmode": "overlay",
              "size": 10,
              "solidity": 0.2
             }
            },
            "type": "barpolar"
           }
          ],
          "carpet": [
           {
            "aaxis": {
             "endlinecolor": "#2a3f5f",
             "gridcolor": "white",
             "linecolor": "white",
             "minorgridcolor": "white",
             "startlinecolor": "#2a3f5f"
            },
            "baxis": {
             "endlinecolor": "#2a3f5f",
             "gridcolor": "white",
             "linecolor": "white",
             "minorgridcolor": "white",
             "startlinecolor": "#2a3f5f"
            },
            "type": "carpet"
           }
          ],
          "choropleth": [
           {
            "colorbar": {
             "outlinewidth": 0,
             "ticks": ""
            },
            "type": "choropleth"
           }
          ],
          "contour": [
           {
            "colorbar": {
             "outlinewidth": 0,
             "ticks": ""
            },
            "colorscale": [
             [
              0,
              "#0d0887"
             ],
             [
              0.1111111111111111,
              "#46039f"
             ],
             [
              0.2222222222222222,
              "#7201a8"
             ],
             [
              0.3333333333333333,
              "#9c179e"
             ],
             [
              0.4444444444444444,
              "#bd3786"
             ],
             [
              0.5555555555555556,
              "#d8576b"
             ],
             [
              0.6666666666666666,
              "#ed7953"
             ],
             [
              0.7777777777777778,
              "#fb9f3a"
             ],
             [
              0.8888888888888888,
              "#fdca26"
             ],
             [
              1,
              "#f0f921"
             ]
            ],
            "type": "contour"
           }
          ],
          "contourcarpet": [
           {
            "colorbar": {
             "outlinewidth": 0,
             "ticks": ""
            },
            "type": "contourcarpet"
           }
          ],
          "heatmap": [
           {
            "colorbar": {
             "outlinewidth": 0,
             "ticks": ""
            },
            "colorscale": [
             [
              0,
              "#0d0887"
             ],
             [
              0.1111111111111111,
              "#46039f"
             ],
             [
              0.2222222222222222,
              "#7201a8"
             ],
             [
              0.3333333333333333,
              "#9c179e"
             ],
             [
              0.4444444444444444,
              "#bd3786"
             ],
             [
              0.5555555555555556,
              "#d8576b"
             ],
             [
              0.6666666666666666,
              "#ed7953"
             ],
             [
              0.7777777777777778,
              "#fb9f3a"
             ],
             [
              0.8888888888888888,
              "#fdca26"
             ],
             [
              1,
              "#f0f921"
             ]
            ],
            "type": "heatmap"
           }
          ],
          "histogram": [
           {
            "marker": {
             "pattern": {
              "fillmode": "overlay",
              "size": 10,
              "solidity": 0.2
             }
            },
            "type": "histogram"
           }
          ],
          "histogram2d": [
           {
            "colorbar": {
             "outlinewidth": 0,
             "ticks": ""
            },
            "colorscale": [
             [
              0,
              "#0d0887"
             ],
             [
              0.1111111111111111,
              "#46039f"
             ],
             [
              0.2222222222222222,
              "#7201a8"
             ],
             [
              0.3333333333333333,
              "#9c179e"
             ],
             [
              0.4444444444444444,
              "#bd3786"
             ],
             [
              0.5555555555555556,
              "#d8576b"
             ],
             [
              0.6666666666666666,
              "#ed7953"
             ],
             [
              0.7777777777777778,
              "#fb9f3a"
             ],
             [
              0.8888888888888888,
              "#fdca26"
             ],
             [
              1,
              "#f0f921"
             ]
            ],
            "type": "histogram2d"
           }
          ],
          "histogram2dcontour": [
           {
            "colorbar": {
             "outlinewidth": 0,
             "ticks": ""
            },
            "colorscale": [
             [
              0,
              "#0d0887"
             ],
             [
              0.1111111111111111,
              "#46039f"
             ],
             [
              0.2222222222222222,
              "#7201a8"
             ],
             [
              0.3333333333333333,
              "#9c179e"
             ],
             [
              0.4444444444444444,
              "#bd3786"
             ],
             [
              0.5555555555555556,
              "#d8576b"
             ],
             [
              0.6666666666666666,
              "#ed7953"
             ],
             [
              0.7777777777777778,
              "#fb9f3a"
             ],
             [
              0.8888888888888888,
              "#fdca26"
             ],
             [
              1,
              "#f0f921"
             ]
            ],
            "type": "histogram2dcontour"
           }
          ],
          "mesh3d": [
           {
            "colorbar": {
             "outlinewidth": 0,
             "ticks": ""
            },
            "type": "mesh3d"
           }
          ],
          "parcoords": [
           {
            "line": {
             "colorbar": {
              "outlinewidth": 0,
              "ticks": ""
             }
            },
            "type": "parcoords"
           }
          ],
          "pie": [
           {
            "automargin": true,
            "type": "pie"
           }
          ],
          "scatter": [
           {
            "fillpattern": {
             "fillmode": "overlay",
             "size": 10,
             "solidity": 0.2
            },
            "type": "scatter"
           }
          ],
          "scatter3d": [
           {
            "line": {
             "colorbar": {
              "outlinewidth": 0,
              "ticks": ""
             }
            },
            "marker": {
             "colorbar": {
              "outlinewidth": 0,
              "ticks": ""
             }
            },
            "type": "scatter3d"
           }
          ],
          "scattercarpet": [
           {
            "marker": {
             "colorbar": {
              "outlinewidth": 0,
              "ticks": ""
             }
            },
            "type": "scattercarpet"
           }
          ],
          "scattergeo": [
           {
            "marker": {
             "colorbar": {
              "outlinewidth": 0,
              "ticks": ""
             }
            },
            "type": "scattergeo"
           }
          ],
          "scattergl": [
           {
            "marker": {
             "colorbar": {
              "outlinewidth": 0,
              "ticks": ""
             }
            },
            "type": "scattergl"
           }
          ],
          "scattermap": [
           {
            "marker": {
             "colorbar": {
              "outlinewidth": 0,
              "ticks": ""
             }
            },
            "type": "scattermap"
           }
          ],
          "scattermapbox": [
           {
            "marker": {
             "colorbar": {
              "outlinewidth": 0,
              "ticks": ""
             }
            },
            "type": "scattermapbox"
           }
          ],
          "scatterpolar": [
           {
            "marker": {
             "colorbar": {
              "outlinewidth": 0,
              "ticks": ""
             }
            },
            "type": "scatterpolar"
           }
          ],
          "scatterpolargl": [
           {
            "marker": {
             "colorbar": {
              "outlinewidth": 0,
              "ticks": ""
             }
            },
            "type": "scatterpolargl"
           }
          ],
          "scatterternary": [
           {
            "marker": {
             "colorbar": {
              "outlinewidth": 0,
              "ticks": ""
             }
            },
            "type": "scatterternary"
           }
          ],
          "surface": [
           {
            "colorbar": {
             "outlinewidth": 0,
             "ticks": ""
            },
            "colorscale": [
             [
              0,
              "#0d0887"
             ],
             [
              0.1111111111111111,
              "#46039f"
             ],
             [
              0.2222222222222222,
              "#7201a8"
             ],
             [
              0.3333333333333333,
              "#9c179e"
             ],
             [
              0.4444444444444444,
              "#bd3786"
             ],
             [
              0.5555555555555556,
              "#d8576b"
             ],
             [
              0.6666666666666666,
              "#ed7953"
             ],
             [
              0.7777777777777778,
              "#fb9f3a"
             ],
             [
              0.8888888888888888,
              "#fdca26"
             ],
             [
              1,
              "#f0f921"
             ]
            ],
            "type": "surface"
           }
          ],
          "table": [
           {
            "cells": {
             "fill": {
              "color": "#EBF0F8"
             },
             "line": {
              "color": "white"
             }
            },
            "header": {
             "fill": {
              "color": "#C8D4E3"
             },
             "line": {
              "color": "white"
             }
            },
            "type": "table"
           }
          ]
         },
         "layout": {
          "annotationdefaults": {
           "arrowcolor": "#2a3f5f",
           "arrowhead": 0,
           "arrowwidth": 1
          },
          "autotypenumbers": "strict",
          "coloraxis": {
           "colorbar": {
            "outlinewidth": 0,
            "ticks": ""
           }
          },
          "colorscale": {
           "diverging": [
            [
             0,
             "#8e0152"
            ],
            [
             0.1,
             "#c51b7d"
            ],
            [
             0.2,
             "#de77ae"
            ],
            [
             0.3,
             "#f1b6da"
            ],
            [
             0.4,
             "#fde0ef"
            ],
            [
             0.5,
             "#f7f7f7"
            ],
            [
             0.6,
             "#e6f5d0"
            ],
            [
             0.7,
             "#b8e186"
            ],
            [
             0.8,
             "#7fbc41"
            ],
            [
             0.9,
             "#4d9221"
            ],
            [
             1,
             "#276419"
            ]
           ],
           "sequential": [
            [
             0,
             "#0d0887"
            ],
            [
             0.1111111111111111,
             "#46039f"
            ],
            [
             0.2222222222222222,
             "#7201a8"
            ],
            [
             0.3333333333333333,
             "#9c179e"
            ],
            [
             0.4444444444444444,
             "#bd3786"
            ],
            [
             0.5555555555555556,
             "#d8576b"
            ],
            [
             0.6666666666666666,
             "#ed7953"
            ],
            [
             0.7777777777777778,
             "#fb9f3a"
            ],
            [
             0.8888888888888888,
             "#fdca26"
            ],
            [
             1,
             "#f0f921"
            ]
           ],
           "sequentialminus": [
            [
             0,
             "#0d0887"
            ],
            [
             0.1111111111111111,
             "#46039f"
            ],
            [
             0.2222222222222222,
             "#7201a8"
            ],
            [
             0.3333333333333333,
             "#9c179e"
            ],
            [
             0.4444444444444444,
             "#bd3786"
            ],
            [
             0.5555555555555556,
             "#d8576b"
            ],
            [
             0.6666666666666666,
             "#ed7953"
            ],
            [
             0.7777777777777778,
             "#fb9f3a"
            ],
            [
             0.8888888888888888,
             "#fdca26"
            ],
            [
             1,
             "#f0f921"
            ]
           ]
          },
          "colorway": [
           "#636efa",
           "#EF553B",
           "#00cc96",
           "#ab63fa",
           "#FFA15A",
           "#19d3f3",
           "#FF6692",
           "#B6E880",
           "#FF97FF",
           "#FECB52"
          ],
          "font": {
           "color": "#2a3f5f"
          },
          "geo": {
           "bgcolor": "white",
           "lakecolor": "white",
           "landcolor": "#E5ECF6",
           "showlakes": true,
           "showland": true,
           "subunitcolor": "white"
          },
          "hoverlabel": {
           "align": "left"
          },
          "hovermode": "closest",
          "mapbox": {
           "style": "light"
          },
          "paper_bgcolor": "white",
          "plot_bgcolor": "#E5ECF6",
          "polar": {
           "angularaxis": {
            "gridcolor": "white",
            "linecolor": "white",
            "ticks": ""
           },
           "bgcolor": "#E5ECF6",
           "radialaxis": {
            "gridcolor": "white",
            "linecolor": "white",
            "ticks": ""
           }
          },
          "scene": {
           "xaxis": {
            "backgroundcolor": "#E5ECF6",
            "gridcolor": "white",
            "gridwidth": 2,
            "linecolor": "white",
            "showbackground": true,
            "ticks": "",
            "zerolinecolor": "white"
           },
           "yaxis": {
            "backgroundcolor": "#E5ECF6",
            "gridcolor": "white",
            "gridwidth": 2,
            "linecolor": "white",
            "showbackground": true,
            "ticks": "",
            "zerolinecolor": "white"
           },
           "zaxis": {
            "backgroundcolor": "#E5ECF6",
            "gridcolor": "white",
            "gridwidth": 2,
            "linecolor": "white",
            "showbackground": true,
            "ticks": "",
            "zerolinecolor": "white"
           }
          },
          "shapedefaults": {
           "line": {
            "color": "#2a3f5f"
           }
          },
          "ternary": {
           "aaxis": {
            "gridcolor": "white",
            "linecolor": "white",
            "ticks": ""
           },
           "baxis": {
            "gridcolor": "white",
            "linecolor": "white",
            "ticks": ""
           },
           "bgcolor": "#E5ECF6",
           "caxis": {
            "gridcolor": "white",
            "linecolor": "white",
            "ticks": ""
           }
          },
          "title": {
           "x": 0.05
          },
          "xaxis": {
           "automargin": true,
           "gridcolor": "white",
           "linecolor": "white",
           "ticks": "",
           "title": {
            "standoff": 15
           },
           "zerolinecolor": "white",
           "zerolinewidth": 2
          },
          "yaxis": {
           "automargin": true,
           "gridcolor": "white",
           "linecolor": "white",
           "ticks": "",
           "title": {
            "standoff": 15
           },
           "zerolinecolor": "white",
           "zerolinewidth": 2
          }
         }
        },
        "title": {
         "text": "Boxplot for symmetry_se - Cancer Dataset"
        },
        "xaxis": {
         "anchor": "y",
         "domain": [
          0,
          1
         ],
         "title": {
          "text": "Category"
         }
        },
        "yaxis": {
         "anchor": "x",
         "domain": [
          0,
          1
         ],
         "title": {
          "text": "symmetry_se"
         }
        }
       }
      }
     },
     "metadata": {},
     "output_type": "display_data"
    },
    {
     "data": {
      "application/vnd.plotly.v1+json": {
       "config": {
        "plotlyServerURL": "https://plot.ly"
       },
       "data": [
        {
         "alignmentgroup": "True",
         "hovertemplate": "fractal_dimension_se=%{y}<extra></extra>",
         "legendgroup": "",
         "marker": {
          "color": "#636efa"
         },
         "name": "",
         "notched": false,
         "offsetgroup": "",
         "orientation": "v",
         "showlegend": false,
         "type": "box",
         "x0": " ",
         "xaxis": "x",
         "y": {
          "bdata": "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",
          "dtype": "f8"
         },
         "y0": " ",
         "yaxis": "y"
        }
       ],
       "layout": {
        "boxmode": "group",
        "legend": {
         "tracegroupgap": 0
        },
        "margin": {
         "t": 60
        },
        "template": {
         "data": {
          "bar": [
           {
            "error_x": {
             "color": "#2a3f5f"
            },
            "error_y": {
             "color": "#2a3f5f"
            },
            "marker": {
             "line": {
              "color": "#E5ECF6",
              "width": 0.5
             },
             "pattern": {
              "fillmode": "overlay",
              "size": 10,
              "solidity": 0.2
             }
            },
            "type": "bar"
           }
          ],
          "barpolar": [
           {
            "marker": {
             "line": {
              "color": "#E5ECF6",
              "width": 0.5
             },
             "pattern": {
              "fillmode": "overlay",
              "size": 10,
              "solidity": 0.2
             }
            },
            "type": "barpolar"
           }
          ],
          "carpet": [
           {
            "aaxis": {
             "endlinecolor": "#2a3f5f",
             "gridcolor": "white",
             "linecolor": "white",
             "minorgridcolor": "white",
             "startlinecolor": "#2a3f5f"
            },
            "baxis": {
             "endlinecolor": "#2a3f5f",
             "gridcolor": "white",
             "linecolor": "white",
             "minorgridcolor": "white",
             "startlinecolor": "#2a3f5f"
            },
            "type": "carpet"
           }
          ],
          "choropleth": [
           {
            "colorbar": {
             "outlinewidth": 0,
             "ticks": ""
            },
            "type": "choropleth"
           }
          ],
          "contour": [
           {
            "colorbar": {
             "outlinewidth": 0,
             "ticks": ""
            },
            "colorscale": [
             [
              0,
              "#0d0887"
             ],
             [
              0.1111111111111111,
              "#46039f"
             ],
             [
              0.2222222222222222,
              "#7201a8"
             ],
             [
              0.3333333333333333,
              "#9c179e"
             ],
             [
              0.4444444444444444,
              "#bd3786"
             ],
             [
              0.5555555555555556,
              "#d8576b"
             ],
             [
              0.6666666666666666,
              "#ed7953"
             ],
             [
              0.7777777777777778,
              "#fb9f3a"
             ],
             [
              0.8888888888888888,
              "#fdca26"
             ],
             [
              1,
              "#f0f921"
             ]
            ],
            "type": "contour"
           }
          ],
          "contourcarpet": [
           {
            "colorbar": {
             "outlinewidth": 0,
             "ticks": ""
            },
            "type": "contourcarpet"
           }
          ],
          "heatmap": [
           {
            "colorbar": {
             "outlinewidth": 0,
             "ticks": ""
            },
            "colorscale": [
             [
              0,
              "#0d0887"
             ],
             [
              0.1111111111111111,
              "#46039f"
             ],
             [
              0.2222222222222222,
              "#7201a8"
             ],
             [
              0.3333333333333333,
              "#9c179e"
             ],
             [
              0.4444444444444444,
              "#bd3786"
             ],
             [
              0.5555555555555556,
              "#d8576b"
             ],
             [
              0.6666666666666666,
              "#ed7953"
             ],
             [
              0.7777777777777778,
              "#fb9f3a"
             ],
             [
              0.8888888888888888,
              "#fdca26"
             ],
             [
              1,
              "#f0f921"
             ]
            ],
            "type": "heatmap"
           }
          ],
          "histogram": [
           {
            "marker": {
             "pattern": {
              "fillmode": "overlay",
              "size": 10,
              "solidity": 0.2
             }
            },
            "type": "histogram"
           }
          ],
          "histogram2d": [
           {
            "colorbar": {
             "outlinewidth": 0,
             "ticks": ""
            },
            "colorscale": [
             [
              0,
              "#0d0887"
             ],
             [
              0.1111111111111111,
              "#46039f"
             ],
             [
              0.2222222222222222,
              "#7201a8"
             ],
             [
              0.3333333333333333,
              "#9c179e"
             ],
             [
              0.4444444444444444,
              "#bd3786"
             ],
             [
              0.5555555555555556,
              "#d8576b"
             ],
             [
              0.6666666666666666,
              "#ed7953"
             ],
             [
              0.7777777777777778,
              "#fb9f3a"
             ],
             [
              0.8888888888888888,
              "#fdca26"
             ],
             [
              1,
              "#f0f921"
             ]
            ],
            "type": "histogram2d"
           }
          ],
          "histogram2dcontour": [
           {
            "colorbar": {
             "outlinewidth": 0,
             "ticks": ""
            },
            "colorscale": [
             [
              0,
              "#0d0887"
             ],
             [
              0.1111111111111111,
              "#46039f"
             ],
             [
              0.2222222222222222,
              "#7201a8"
             ],
             [
              0.3333333333333333,
              "#9c179e"
             ],
             [
              0.4444444444444444,
              "#bd3786"
             ],
             [
              0.5555555555555556,
              "#d8576b"
             ],
             [
              0.6666666666666666,
              "#ed7953"
             ],
             [
              0.7777777777777778,
              "#fb9f3a"
             ],
             [
              0.8888888888888888,
              "#fdca26"
             ],
             [
              1,
              "#f0f921"
             ]
            ],
            "type": "histogram2dcontour"
           }
          ],
          "mesh3d": [
           {
            "colorbar": {
             "outlinewidth": 0,
             "ticks": ""
            },
            "type": "mesh3d"
           }
          ],
          "parcoords": [
           {
            "line": {
             "colorbar": {
              "outlinewidth": 0,
              "ticks": ""
             }
            },
            "type": "parcoords"
           }
          ],
          "pie": [
           {
            "automargin": true,
            "type": "pie"
           }
          ],
          "scatter": [
           {
            "fillpattern": {
             "fillmode": "overlay",
             "size": 10,
             "solidity": 0.2
            },
            "type": "scatter"
           }
          ],
          "scatter3d": [
           {
            "line": {
             "colorbar": {
              "outlinewidth": 0,
              "ticks": ""
             }
            },
            "marker": {
             "colorbar": {
              "outlinewidth": 0,
              "ticks": ""
             }
            },
            "type": "scatter3d"
           }
          ],
          "scattercarpet": [
           {
            "marker": {
             "colorbar": {
              "outlinewidth": 0,
              "ticks": ""
             }
            },
            "type": "scattercarpet"
           }
          ],
          "scattergeo": [
           {
            "marker": {
             "colorbar": {
              "outlinewidth": 0,
              "ticks": ""
             }
            },
            "type": "scattergeo"
           }
          ],
          "scattergl": [
           {
            "marker": {
             "colorbar": {
              "outlinewidth": 0,
              "ticks": ""
             }
            },
            "type": "scattergl"
           }
          ],
          "scattermap": [
           {
            "marker": {
             "colorbar": {
              "outlinewidth": 0,
              "ticks": ""
             }
            },
            "type": "scattermap"
           }
          ],
          "scattermapbox": [
           {
            "marker": {
             "colorbar": {
              "outlinewidth": 0,
              "ticks": ""
             }
            },
            "type": "scattermapbox"
           }
          ],
          "scatterpolar": [
           {
            "marker": {
             "colorbar": {
              "outlinewidth": 0,
              "ticks": ""
             }
            },
            "type": "scatterpolar"
           }
          ],
          "scatterpolargl": [
           {
            "marker": {
             "colorbar": {
              "outlinewidth": 0,
              "ticks": ""
             }
            },
            "type": "scatterpolargl"
           }
          ],
          "scatterternary": [
           {
            "marker": {
             "colorbar": {
              "outlinewidth": 0,
              "ticks": ""
             }
            },
            "type": "scatterternary"
           }
          ],
          "surface": [
           {
            "colorbar": {
             "outlinewidth": 0,
             "ticks": ""
            },
            "colorscale": [
             [
              0,
              "#0d0887"
             ],
             [
              0.1111111111111111,
              "#46039f"
             ],
             [
              0.2222222222222222,
              "#7201a8"
             ],
             [
              0.3333333333333333,
              "#9c179e"
             ],
             [
              0.4444444444444444,
              "#bd3786"
             ],
             [
              0.5555555555555556,
              "#d8576b"
             ],
             [
              0.6666666666666666,
              "#ed7953"
             ],
             [
              0.7777777777777778,
              "#fb9f3a"
             ],
             [
              0.8888888888888888,
              "#fdca26"
             ],
             [
              1,
              "#f0f921"
             ]
            ],
            "type": "surface"
           }
          ],
          "table": [
           {
            "cells": {
             "fill": {
              "color": "#EBF0F8"
             },
             "line": {
              "color": "white"
             }
            },
            "header": {
             "fill": {
              "color": "#C8D4E3"
             },
             "line": {
              "color": "white"
             }
            },
            "type": "table"
           }
          ]
         },
         "layout": {
          "annotationdefaults": {
           "arrowcolor": "#2a3f5f",
           "arrowhead": 0,
           "arrowwidth": 1
          },
          "autotypenumbers": "strict",
          "coloraxis": {
           "colorbar": {
            "outlinewidth": 0,
            "ticks": ""
           }
          },
          "colorscale": {
           "diverging": [
            [
             0,
             "#8e0152"
            ],
            [
             0.1,
             "#c51b7d"
            ],
            [
             0.2,
             "#de77ae"
            ],
            [
             0.3,
             "#f1b6da"
            ],
            [
             0.4,
             "#fde0ef"
            ],
            [
             0.5,
             "#f7f7f7"
            ],
            [
             0.6,
             "#e6f5d0"
            ],
            [
             0.7,
             "#b8e186"
            ],
            [
             0.8,
             "#7fbc41"
            ],
            [
             0.9,
             "#4d9221"
            ],
            [
             1,
             "#276419"
            ]
           ],
           "sequential": [
            [
             0,
             "#0d0887"
            ],
            [
             0.1111111111111111,
             "#46039f"
            ],
            [
             0.2222222222222222,
             "#7201a8"
            ],
            [
             0.3333333333333333,
             "#9c179e"
            ],
            [
             0.4444444444444444,
             "#bd3786"
            ],
            [
             0.5555555555555556,
             "#d8576b"
            ],
            [
             0.6666666666666666,
             "#ed7953"
            ],
            [
             0.7777777777777778,
             "#fb9f3a"
            ],
            [
             0.8888888888888888,
             "#fdca26"
            ],
            [
             1,
             "#f0f921"
            ]
           ],
           "sequentialminus": [
            [
             0,
             "#0d0887"
            ],
            [
             0.1111111111111111,
             "#46039f"
            ],
            [
             0.2222222222222222,
             "#7201a8"
            ],
            [
             0.3333333333333333,
             "#9c179e"
            ],
            [
             0.4444444444444444,
             "#bd3786"
            ],
            [
             0.5555555555555556,
             "#d8576b"
            ],
            [
             0.6666666666666666,
             "#ed7953"
            ],
            [
             0.7777777777777778,
             "#fb9f3a"
            ],
            [
             0.8888888888888888,
             "#fdca26"
            ],
            [
             1,
             "#f0f921"
            ]
           ]
          },
          "colorway": [
           "#636efa",
           "#EF553B",
           "#00cc96",
           "#ab63fa",
           "#FFA15A",
           "#19d3f3",
           "#FF6692",
           "#B6E880",
           "#FF97FF",
           "#FECB52"
          ],
          "font": {
           "color": "#2a3f5f"
          },
          "geo": {
           "bgcolor": "white",
           "lakecolor": "white",
           "landcolor": "#E5ECF6",
           "showlakes": true,
           "showland": true,
           "subunitcolor": "white"
          },
          "hoverlabel": {
           "align": "left"
          },
          "hovermode": "closest",
          "mapbox": {
           "style": "light"
          },
          "paper_bgcolor": "white",
          "plot_bgcolor": "#E5ECF6",
          "polar": {
           "angularaxis": {
            "gridcolor": "white",
            "linecolor": "white",
            "ticks": ""
           },
           "bgcolor": "#E5ECF6",
           "radialaxis": {
            "gridcolor": "white",
            "linecolor": "white",
            "ticks": ""
           }
          },
          "scene": {
           "xaxis": {
            "backgroundcolor": "#E5ECF6",
            "gridcolor": "white",
            "gridwidth": 2,
            "linecolor": "white",
            "showbackground": true,
            "ticks": "",
            "zerolinecolor": "white"
           },
           "yaxis": {
            "backgroundcolor": "#E5ECF6",
            "gridcolor": "white",
            "gridwidth": 2,
            "linecolor": "white",
            "showbackground": true,
            "ticks": "",
            "zerolinecolor": "white"
           },
           "zaxis": {
            "backgroundcolor": "#E5ECF6",
            "gridcolor": "white",
            "gridwidth": 2,
            "linecolor": "white",
            "showbackground": true,
            "ticks": "",
            "zerolinecolor": "white"
           }
          },
          "shapedefaults": {
           "line": {
            "color": "#2a3f5f"
           }
          },
          "ternary": {
           "aaxis": {
            "gridcolor": "white",
            "linecolor": "white",
            "ticks": ""
           },
           "baxis": {
            "gridcolor": "white",
            "linecolor": "white",
            "ticks": ""
           },
           "bgcolor": "#E5ECF6",
           "caxis": {
            "gridcolor": "white",
            "linecolor": "white",
            "ticks": ""
           }
          },
          "title": {
           "x": 0.05
          },
          "xaxis": {
           "automargin": true,
           "gridcolor": "white",
           "linecolor": "white",
           "ticks": "",
           "title": {
            "standoff": 15
           },
           "zerolinecolor": "white",
           "zerolinewidth": 2
          },
          "yaxis": {
           "automargin": true,
           "gridcolor": "white",
           "linecolor": "white",
           "ticks": "",
           "title": {
            "standoff": 15
           },
           "zerolinecolor": "white",
           "zerolinewidth": 2
          }
         }
        },
        "title": {
         "text": "Boxplot for fractal_dimension_se - Cancer Dataset"
        },
        "xaxis": {
         "anchor": "y",
         "domain": [
          0,
          1
         ],
         "title": {
          "text": "Category"
         }
        },
        "yaxis": {
         "anchor": "x",
         "domain": [
          0,
          1
         ],
         "title": {
          "text": "fractal_dimension_se"
         }
        }
       }
      }
     },
     "metadata": {},
     "output_type": "display_data"
    },
    {
     "data": {
      "application/vnd.plotly.v1+json": {
       "config": {
        "plotlyServerURL": "https://plot.ly"
       },
       "data": [
        {
         "alignmentgroup": "True",
         "hovertemplate": "radius_worst=%{y}<extra></extra>",
         "legendgroup": "",
         "marker": {
          "color": "#636efa"
         },
         "name": "",
         "notched": false,
         "offsetgroup": "",
         "orientation": "v",
         "showlegend": false,
         "type": "box",
         "x0": " ",
         "xaxis": "x",
         "y": {
          "bdata": "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",
          "dtype": "f8"
         },
         "y0": " ",
         "yaxis": "y"
        }
       ],
       "layout": {
        "boxmode": "group",
        "legend": {
         "tracegroupgap": 0
        },
        "margin": {
         "t": 60
        },
        "template": {
         "data": {
          "bar": [
           {
            "error_x": {
             "color": "#2a3f5f"
            },
            "error_y": {
             "color": "#2a3f5f"
            },
            "marker": {
             "line": {
              "color": "#E5ECF6",
              "width": 0.5
             },
             "pattern": {
              "fillmode": "overlay",
              "size": 10,
              "solidity": 0.2
             }
            },
            "type": "bar"
           }
          ],
          "barpolar": [
           {
            "marker": {
             "line": {
              "color": "#E5ECF6",
              "width": 0.5
             },
             "pattern": {
              "fillmode": "overlay",
              "size": 10,
              "solidity": 0.2
             }
            },
            "type": "barpolar"
           }
          ],
          "carpet": [
           {
            "aaxis": {
             "endlinecolor": "#2a3f5f",
             "gridcolor": "white",
             "linecolor": "white",
             "minorgridcolor": "white",
             "startlinecolor": "#2a3f5f"
            },
            "baxis": {
             "endlinecolor": "#2a3f5f",
             "gridcolor": "white",
             "linecolor": "white",
             "minorgridcolor": "white",
             "startlinecolor": "#2a3f5f"
            },
            "type": "carpet"
           }
          ],
          "choropleth": [
           {
            "colorbar": {
             "outlinewidth": 0,
             "ticks": ""
            },
            "type": "choropleth"
           }
          ],
          "contour": [
           {
            "colorbar": {
             "outlinewidth": 0,
             "ticks": ""
            },
            "colorscale": [
             [
              0,
              "#0d0887"
             ],
             [
              0.1111111111111111,
              "#46039f"
             ],
             [
              0.2222222222222222,
              "#7201a8"
             ],
             [
              0.3333333333333333,
              "#9c179e"
             ],
             [
              0.4444444444444444,
              "#bd3786"
             ],
             [
              0.5555555555555556,
              "#d8576b"
             ],
             [
              0.6666666666666666,
              "#ed7953"
             ],
             [
              0.7777777777777778,
              "#fb9f3a"
             ],
             [
              0.8888888888888888,
              "#fdca26"
             ],
             [
              1,
              "#f0f921"
             ]
            ],
            "type": "contour"
           }
          ],
          "contourcarpet": [
           {
            "colorbar": {
             "outlinewidth": 0,
             "ticks": ""
            },
            "type": "contourcarpet"
           }
          ],
          "heatmap": [
           {
            "colorbar": {
             "outlinewidth": 0,
             "ticks": ""
            },
            "colorscale": [
             [
              0,
              "#0d0887"
             ],
             [
              0.1111111111111111,
              "#46039f"
             ],
             [
              0.2222222222222222,
              "#7201a8"
             ],
             [
              0.3333333333333333,
              "#9c179e"
             ],
             [
              0.4444444444444444,
              "#bd3786"
             ],
             [
              0.5555555555555556,
              "#d8576b"
             ],
             [
              0.6666666666666666,
              "#ed7953"
             ],
             [
              0.7777777777777778,
              "#fb9f3a"
             ],
             [
              0.8888888888888888,
              "#fdca26"
             ],
             [
              1,
              "#f0f921"
             ]
            ],
            "type": "heatmap"
           }
          ],
          "histogram": [
           {
            "marker": {
             "pattern": {
              "fillmode": "overlay",
              "size": 10,
              "solidity": 0.2
             }
            },
            "type": "histogram"
           }
          ],
          "histogram2d": [
           {
            "colorbar": {
             "outlinewidth": 0,
             "ticks": ""
            },
            "colorscale": [
             [
              0,
              "#0d0887"
             ],
             [
              0.1111111111111111,
              "#46039f"
             ],
             [
              0.2222222222222222,
              "#7201a8"
             ],
             [
              0.3333333333333333,
              "#9c179e"
             ],
             [
              0.4444444444444444,
              "#bd3786"
             ],
             [
              0.5555555555555556,
              "#d8576b"
             ],
             [
              0.6666666666666666,
              "#ed7953"
             ],
             [
              0.7777777777777778,
              "#fb9f3a"
             ],
             [
              0.8888888888888888,
              "#fdca26"
             ],
             [
              1,
              "#f0f921"
             ]
            ],
            "type": "histogram2d"
           }
          ],
          "histogram2dcontour": [
           {
            "colorbar": {
             "outlinewidth": 0,
             "ticks": ""
            },
            "colorscale": [
             [
              0,
              "#0d0887"
             ],
             [
              0.1111111111111111,
              "#46039f"
             ],
             [
              0.2222222222222222,
              "#7201a8"
             ],
             [
              0.3333333333333333,
              "#9c179e"
             ],
             [
              0.4444444444444444,
              "#bd3786"
             ],
             [
              0.5555555555555556,
              "#d8576b"
             ],
             [
              0.6666666666666666,
              "#ed7953"
             ],
             [
              0.7777777777777778,
              "#fb9f3a"
             ],
             [
              0.8888888888888888,
              "#fdca26"
             ],
             [
              1,
              "#f0f921"
             ]
            ],
            "type": "histogram2dcontour"
           }
          ],
          "mesh3d": [
           {
            "colorbar": {
             "outlinewidth": 0,
             "ticks": ""
            },
            "type": "mesh3d"
           }
          ],
          "parcoords": [
           {
            "line": {
             "colorbar": {
              "outlinewidth": 0,
              "ticks": ""
             }
            },
            "type": "parcoords"
           }
          ],
          "pie": [
           {
            "automargin": true,
            "type": "pie"
           }
          ],
          "scatter": [
           {
            "fillpattern": {
             "fillmode": "overlay",
             "size": 10,
             "solidity": 0.2
            },
            "type": "scatter"
           }
          ],
          "scatter3d": [
           {
            "line": {
             "colorbar": {
              "outlinewidth": 0,
              "ticks": ""
             }
            },
            "marker": {
             "colorbar": {
              "outlinewidth": 0,
              "ticks": ""
             }
            },
            "type": "scatter3d"
           }
          ],
          "scattercarpet": [
           {
            "marker": {
             "colorbar": {
              "outlinewidth": 0,
              "ticks": ""
             }
            },
            "type": "scattercarpet"
           }
          ],
          "scattergeo": [
           {
            "marker": {
             "colorbar": {
              "outlinewidth": 0,
              "ticks": ""
             }
            },
            "type": "scattergeo"
           }
          ],
          "scattergl": [
           {
            "marker": {
             "colorbar": {
              "outlinewidth": 0,
              "ticks": ""
             }
            },
            "type": "scattergl"
           }
          ],
          "scattermap": [
           {
            "marker": {
             "colorbar": {
              "outlinewidth": 0,
              "ticks": ""
             }
            },
            "type": "scattermap"
           }
          ],
          "scattermapbox": [
           {
            "marker": {
             "colorbar": {
              "outlinewidth": 0,
              "ticks": ""
             }
            },
            "type": "scattermapbox"
           }
          ],
          "scatterpolar": [
           {
            "marker": {
             "colorbar": {
              "outlinewidth": 0,
              "ticks": ""
             }
            },
            "type": "scatterpolar"
           }
          ],
          "scatterpolargl": [
           {
            "marker": {
             "colorbar": {
              "outlinewidth": 0,
              "ticks": ""
             }
            },
            "type": "scatterpolargl"
           }
          ],
          "scatterternary": [
           {
            "marker": {
             "colorbar": {
              "outlinewidth": 0,
              "ticks": ""
             }
            },
            "type": "scatterternary"
           }
          ],
          "surface": [
           {
            "colorbar": {
             "outlinewidth": 0,
             "ticks": ""
            },
            "colorscale": [
             [
              0,
              "#0d0887"
             ],
             [
              0.1111111111111111,
              "#46039f"
             ],
             [
              0.2222222222222222,
              "#7201a8"
             ],
             [
              0.3333333333333333,
              "#9c179e"
             ],
             [
              0.4444444444444444,
              "#bd3786"
             ],
             [
              0.5555555555555556,
              "#d8576b"
             ],
             [
              0.6666666666666666,
              "#ed7953"
             ],
             [
              0.7777777777777778,
              "#fb9f3a"
             ],
             [
              0.8888888888888888,
              "#fdca26"
             ],
             [
              1,
              "#f0f921"
             ]
            ],
            "type": "surface"
           }
          ],
          "table": [
           {
            "cells": {
             "fill": {
              "color": "#EBF0F8"
             },
             "line": {
              "color": "white"
             }
            },
            "header": {
             "fill": {
              "color": "#C8D4E3"
             },
             "line": {
              "color": "white"
             }
            },
            "type": "table"
           }
          ]
         },
         "layout": {
          "annotationdefaults": {
           "arrowcolor": "#2a3f5f",
           "arrowhead": 0,
           "arrowwidth": 1
          },
          "autotypenumbers": "strict",
          "coloraxis": {
           "colorbar": {
            "outlinewidth": 0,
            "ticks": ""
           }
          },
          "colorscale": {
           "diverging": [
            [
             0,
             "#8e0152"
            ],
            [
             0.1,
             "#c51b7d"
            ],
            [
             0.2,
             "#de77ae"
            ],
            [
             0.3,
             "#f1b6da"
            ],
            [
             0.4,
             "#fde0ef"
            ],
            [
             0.5,
             "#f7f7f7"
            ],
            [
             0.6,
             "#e6f5d0"
            ],
            [
             0.7,
             "#b8e186"
            ],
            [
             0.8,
             "#7fbc41"
            ],
            [
             0.9,
             "#4d9221"
            ],
            [
             1,
             "#276419"
            ]
           ],
           "sequential": [
            [
             0,
             "#0d0887"
            ],
            [
             0.1111111111111111,
             "#46039f"
            ],
            [
             0.2222222222222222,
             "#7201a8"
            ],
            [
             0.3333333333333333,
             "#9c179e"
            ],
            [
             0.4444444444444444,
             "#bd3786"
            ],
            [
             0.5555555555555556,
             "#d8576b"
            ],
            [
             0.6666666666666666,
             "#ed7953"
            ],
            [
             0.7777777777777778,
             "#fb9f3a"
            ],
            [
             0.8888888888888888,
             "#fdca26"
            ],
            [
             1,
             "#f0f921"
            ]
           ],
           "sequentialminus": [
            [
             0,
             "#0d0887"
            ],
            [
             0.1111111111111111,
             "#46039f"
            ],
            [
             0.2222222222222222,
             "#7201a8"
            ],
            [
             0.3333333333333333,
             "#9c179e"
            ],
            [
             0.4444444444444444,
             "#bd3786"
            ],
            [
             0.5555555555555556,
             "#d8576b"
            ],
            [
             0.6666666666666666,
             "#ed7953"
            ],
            [
             0.7777777777777778,
             "#fb9f3a"
            ],
            [
             0.8888888888888888,
             "#fdca26"
            ],
            [
             1,
             "#f0f921"
            ]
           ]
          },
          "colorway": [
           "#636efa",
           "#EF553B",
           "#00cc96",
           "#ab63fa",
           "#FFA15A",
           "#19d3f3",
           "#FF6692",
           "#B6E880",
           "#FF97FF",
           "#FECB52"
          ],
          "font": {
           "color": "#2a3f5f"
          },
          "geo": {
           "bgcolor": "white",
           "lakecolor": "white",
           "landcolor": "#E5ECF6",
           "showlakes": true,
           "showland": true,
           "subunitcolor": "white"
          },
          "hoverlabel": {
           "align": "left"
          },
          "hovermode": "closest",
          "mapbox": {
           "style": "light"
          },
          "paper_bgcolor": "white",
          "plot_bgcolor": "#E5ECF6",
          "polar": {
           "angularaxis": {
            "gridcolor": "white",
            "linecolor": "white",
            "ticks": ""
           },
           "bgcolor": "#E5ECF6",
           "radialaxis": {
            "gridcolor": "white",
            "linecolor": "white",
            "ticks": ""
           }
          },
          "scene": {
           "xaxis": {
            "backgroundcolor": "#E5ECF6",
            "gridcolor": "white",
            "gridwidth": 2,
            "linecolor": "white",
            "showbackground": true,
            "ticks": "",
            "zerolinecolor": "white"
           },
           "yaxis": {
            "backgroundcolor": "#E5ECF6",
            "gridcolor": "white",
            "gridwidth": 2,
            "linecolor": "white",
            "showbackground": true,
            "ticks": "",
            "zerolinecolor": "white"
           },
           "zaxis": {
            "backgroundcolor": "#E5ECF6",
            "gridcolor": "white",
            "gridwidth": 2,
            "linecolor": "white",
            "showbackground": true,
            "ticks": "",
            "zerolinecolor": "white"
           }
          },
          "shapedefaults": {
           "line": {
            "color": "#2a3f5f"
           }
          },
          "ternary": {
           "aaxis": {
            "gridcolor": "white",
            "linecolor": "white",
            "ticks": ""
           },
           "baxis": {
            "gridcolor": "white",
            "linecolor": "white",
            "ticks": ""
           },
           "bgcolor": "#E5ECF6",
           "caxis": {
            "gridcolor": "white",
            "linecolor": "white",
            "ticks": ""
           }
          },
          "title": {
           "x": 0.05
          },
          "xaxis": {
           "automargin": true,
           "gridcolor": "white",
           "linecolor": "white",
           "ticks": "",
           "title": {
            "standoff": 15
           },
           "zerolinecolor": "white",
           "zerolinewidth": 2
          },
          "yaxis": {
           "automargin": true,
           "gridcolor": "white",
           "linecolor": "white",
           "ticks": "",
           "title": {
            "standoff": 15
           },
           "zerolinecolor": "white",
           "zerolinewidth": 2
          }
         }
        },
        "title": {
         "text": "Boxplot for radius_worst - Cancer Dataset"
        },
        "xaxis": {
         "anchor": "y",
         "domain": [
          0,
          1
         ],
         "title": {
          "text": "Category"
         }
        },
        "yaxis": {
         "anchor": "x",
         "domain": [
          0,
          1
         ],
         "title": {
          "text": "radius_worst"
         }
        }
       }
      }
     },
     "metadata": {},
     "output_type": "display_data"
    },
    {
     "data": {
      "application/vnd.plotly.v1+json": {
       "config": {
        "plotlyServerURL": "https://plot.ly"
       },
       "data": [
        {
         "alignmentgroup": "True",
         "hovertemplate": "texture_worst=%{y}<extra></extra>",
         "legendgroup": "",
         "marker": {
          "color": "#636efa"
         },
         "name": "",
         "notched": false,
         "offsetgroup": "",
         "orientation": "v",
         "showlegend": false,
         "type": "box",
         "x0": " ",
         "xaxis": "x",
         "y": {
          "bdata": "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",
          "dtype": "f8"
         },
         "y0": " ",
         "yaxis": "y"
        }
       ],
       "layout": {
        "boxmode": "group",
        "legend": {
         "tracegroupgap": 0
        },
        "margin": {
         "t": 60
        },
        "template": {
         "data": {
          "bar": [
           {
            "error_x": {
             "color": "#2a3f5f"
            },
            "error_y": {
             "color": "#2a3f5f"
            },
            "marker": {
             "line": {
              "color": "#E5ECF6",
              "width": 0.5
             },
             "pattern": {
              "fillmode": "overlay",
              "size": 10,
              "solidity": 0.2
             }
            },
            "type": "bar"
           }
          ],
          "barpolar": [
           {
            "marker": {
             "line": {
              "color": "#E5ECF6",
              "width": 0.5
             },
             "pattern": {
              "fillmode": "overlay",
              "size": 10,
              "solidity": 0.2
             }
            },
            "type": "barpolar"
           }
          ],
          "carpet": [
           {
            "aaxis": {
             "endlinecolor": "#2a3f5f",
             "gridcolor": "white",
             "linecolor": "white",
             "minorgridcolor": "white",
             "startlinecolor": "#2a3f5f"
            },
            "baxis": {
             "endlinecolor": "#2a3f5f",
             "gridcolor": "white",
             "linecolor": "white",
             "minorgridcolor": "white",
             "startlinecolor": "#2a3f5f"
            },
            "type": "carpet"
           }
          ],
          "choropleth": [
           {
            "colorbar": {
             "outlinewidth": 0,
             "ticks": ""
            },
            "type": "choropleth"
           }
          ],
          "contour": [
           {
            "colorbar": {
             "outlinewidth": 0,
             "ticks": ""
            },
            "colorscale": [
             [
              0,
              "#0d0887"
             ],
             [
              0.1111111111111111,
              "#46039f"
             ],
             [
              0.2222222222222222,
              "#7201a8"
             ],
             [
              0.3333333333333333,
              "#9c179e"
             ],
             [
              0.4444444444444444,
              "#bd3786"
             ],
             [
              0.5555555555555556,
              "#d8576b"
             ],
             [
              0.6666666666666666,
              "#ed7953"
             ],
             [
              0.7777777777777778,
              "#fb9f3a"
             ],
             [
              0.8888888888888888,
              "#fdca26"
             ],
             [
              1,
              "#f0f921"
             ]
            ],
            "type": "contour"
           }
          ],
          "contourcarpet": [
           {
            "colorbar": {
             "outlinewidth": 0,
             "ticks": ""
            },
            "type": "contourcarpet"
           }
          ],
          "heatmap": [
           {
            "colorbar": {
             "outlinewidth": 0,
             "ticks": ""
            },
            "colorscale": [
             [
              0,
              "#0d0887"
             ],
             [
              0.1111111111111111,
              "#46039f"
             ],
             [
              0.2222222222222222,
              "#7201a8"
             ],
             [
              0.3333333333333333,
              "#9c179e"
             ],
             [
              0.4444444444444444,
              "#bd3786"
             ],
             [
              0.5555555555555556,
              "#d8576b"
             ],
             [
              0.6666666666666666,
              "#ed7953"
             ],
             [
              0.7777777777777778,
              "#fb9f3a"
             ],
             [
              0.8888888888888888,
              "#fdca26"
             ],
             [
              1,
              "#f0f921"
             ]
            ],
            "type": "heatmap"
           }
          ],
          "histogram": [
           {
            "marker": {
             "pattern": {
              "fillmode": "overlay",
              "size": 10,
              "solidity": 0.2
             }
            },
            "type": "histogram"
           }
          ],
          "histogram2d": [
           {
            "colorbar": {
             "outlinewidth": 0,
             "ticks": ""
            },
            "colorscale": [
             [
              0,
              "#0d0887"
             ],
             [
              0.1111111111111111,
              "#46039f"
             ],
             [
              0.2222222222222222,
              "#7201a8"
             ],
             [
              0.3333333333333333,
              "#9c179e"
             ],
             [
              0.4444444444444444,
              "#bd3786"
             ],
             [
              0.5555555555555556,
              "#d8576b"
             ],
             [
              0.6666666666666666,
              "#ed7953"
             ],
             [
              0.7777777777777778,
              "#fb9f3a"
             ],
             [
              0.8888888888888888,
              "#fdca26"
             ],
             [
              1,
              "#f0f921"
             ]
            ],
            "type": "histogram2d"
           }
          ],
          "histogram2dcontour": [
           {
            "colorbar": {
             "outlinewidth": 0,
             "ticks": ""
            },
            "colorscale": [
             [
              0,
              "#0d0887"
             ],
             [
              0.1111111111111111,
              "#46039f"
             ],
             [
              0.2222222222222222,
              "#7201a8"
             ],
             [
              0.3333333333333333,
              "#9c179e"
             ],
             [
              0.4444444444444444,
              "#bd3786"
             ],
             [
              0.5555555555555556,
              "#d8576b"
             ],
             [
              0.6666666666666666,
              "#ed7953"
             ],
             [
              0.7777777777777778,
              "#fb9f3a"
             ],
             [
              0.8888888888888888,
              "#fdca26"
             ],
             [
              1,
              "#f0f921"
             ]
            ],
            "type": "histogram2dcontour"
           }
          ],
          "mesh3d": [
           {
            "colorbar": {
             "outlinewidth": 0,
             "ticks": ""
            },
            "type": "mesh3d"
           }
          ],
          "parcoords": [
           {
            "line": {
             "colorbar": {
              "outlinewidth": 0,
              "ticks": ""
             }
            },
            "type": "parcoords"
           }
          ],
          "pie": [
           {
            "automargin": true,
            "type": "pie"
           }
          ],
          "scatter": [
           {
            "fillpattern": {
             "fillmode": "overlay",
             "size": 10,
             "solidity": 0.2
            },
            "type": "scatter"
           }
          ],
          "scatter3d": [
           {
            "line": {
             "colorbar": {
              "outlinewidth": 0,
              "ticks": ""
             }
            },
            "marker": {
             "colorbar": {
              "outlinewidth": 0,
              "ticks": ""
             }
            },
            "type": "scatter3d"
           }
          ],
          "scattercarpet": [
           {
            "marker": {
             "colorbar": {
              "outlinewidth": 0,
              "ticks": ""
             }
            },
            "type": "scattercarpet"
           }
          ],
          "scattergeo": [
           {
            "marker": {
             "colorbar": {
              "outlinewidth": 0,
              "ticks": ""
             }
            },
            "type": "scattergeo"
           }
          ],
          "scattergl": [
           {
            "marker": {
             "colorbar": {
              "outlinewidth": 0,
              "ticks": ""
             }
            },
            "type": "scattergl"
           }
          ],
          "scattermap": [
           {
            "marker": {
             "colorbar": {
              "outlinewidth": 0,
              "ticks": ""
             }
            },
            "type": "scattermap"
           }
          ],
          "scattermapbox": [
           {
            "marker": {
             "colorbar": {
              "outlinewidth": 0,
              "ticks": ""
             }
            },
            "type": "scattermapbox"
           }
          ],
          "scatterpolar": [
           {
            "marker": {
             "colorbar": {
              "outlinewidth": 0,
              "ticks": ""
             }
            },
            "type": "scatterpolar"
           }
          ],
          "scatterpolargl": [
           {
            "marker": {
             "colorbar": {
              "outlinewidth": 0,
              "ticks": ""
             }
            },
            "type": "scatterpolargl"
           }
          ],
          "scatterternary": [
           {
            "marker": {
             "colorbar": {
              "outlinewidth": 0,
              "ticks": ""
             }
            },
            "type": "scatterternary"
           }
          ],
          "surface": [
           {
            "colorbar": {
             "outlinewidth": 0,
             "ticks": ""
            },
            "colorscale": [
             [
              0,
              "#0d0887"
             ],
             [
              0.1111111111111111,
              "#46039f"
             ],
             [
              0.2222222222222222,
              "#7201a8"
             ],
             [
              0.3333333333333333,
              "#9c179e"
             ],
             [
              0.4444444444444444,
              "#bd3786"
             ],
             [
              0.5555555555555556,
              "#d8576b"
             ],
             [
              0.6666666666666666,
              "#ed7953"
             ],
             [
              0.7777777777777778,
              "#fb9f3a"
             ],
             [
              0.8888888888888888,
              "#fdca26"
             ],
             [
              1,
              "#f0f921"
             ]
            ],
            "type": "surface"
           }
          ],
          "table": [
           {
            "cells": {
             "fill": {
              "color": "#EBF0F8"
             },
             "line": {
              "color": "white"
             }
            },
            "header": {
             "fill": {
              "color": "#C8D4E3"
             },
             "line": {
              "color": "white"
             }
            },
            "type": "table"
           }
          ]
         },
         "layout": {
          "annotationdefaults": {
           "arrowcolor": "#2a3f5f",
           "arrowhead": 0,
           "arrowwidth": 1
          },
          "autotypenumbers": "strict",
          "coloraxis": {
           "colorbar": {
            "outlinewidth": 0,
            "ticks": ""
           }
          },
          "colorscale": {
           "diverging": [
            [
             0,
             "#8e0152"
            ],
            [
             0.1,
             "#c51b7d"
            ],
            [
             0.2,
             "#de77ae"
            ],
            [
             0.3,
             "#f1b6da"
            ],
            [
             0.4,
             "#fde0ef"
            ],
            [
             0.5,
             "#f7f7f7"
            ],
            [
             0.6,
             "#e6f5d0"
            ],
            [
             0.7,
             "#b8e186"
            ],
            [
             0.8,
             "#7fbc41"
            ],
            [
             0.9,
             "#4d9221"
            ],
            [
             1,
             "#276419"
            ]
           ],
           "sequential": [
            [
             0,
             "#0d0887"
            ],
            [
             0.1111111111111111,
             "#46039f"
            ],
            [
             0.2222222222222222,
             "#7201a8"
            ],
            [
             0.3333333333333333,
             "#9c179e"
            ],
            [
             0.4444444444444444,
             "#bd3786"
            ],
            [
             0.5555555555555556,
             "#d8576b"
            ],
            [
             0.6666666666666666,
             "#ed7953"
            ],
            [
             0.7777777777777778,
             "#fb9f3a"
            ],
            [
             0.8888888888888888,
             "#fdca26"
            ],
            [
             1,
             "#f0f921"
            ]
           ],
           "sequentialminus": [
            [
             0,
             "#0d0887"
            ],
            [
             0.1111111111111111,
             "#46039f"
            ],
            [
             0.2222222222222222,
             "#7201a8"
            ],
            [
             0.3333333333333333,
             "#9c179e"
            ],
            [
             0.4444444444444444,
             "#bd3786"
            ],
            [
             0.5555555555555556,
             "#d8576b"
            ],
            [
             0.6666666666666666,
             "#ed7953"
            ],
            [
             0.7777777777777778,
             "#fb9f3a"
            ],
            [
             0.8888888888888888,
             "#fdca26"
            ],
            [
             1,
             "#f0f921"
            ]
           ]
          },
          "colorway": [
           "#636efa",
           "#EF553B",
           "#00cc96",
           "#ab63fa",
           "#FFA15A",
           "#19d3f3",
           "#FF6692",
           "#B6E880",
           "#FF97FF",
           "#FECB52"
          ],
          "font": {
           "color": "#2a3f5f"
          },
          "geo": {
           "bgcolor": "white",
           "lakecolor": "white",
           "landcolor": "#E5ECF6",
           "showlakes": true,
           "showland": true,
           "subunitcolor": "white"
          },
          "hoverlabel": {
           "align": "left"
          },
          "hovermode": "closest",
          "mapbox": {
           "style": "light"
          },
          "paper_bgcolor": "white",
          "plot_bgcolor": "#E5ECF6",
          "polar": {
           "angularaxis": {
            "gridcolor": "white",
            "linecolor": "white",
            "ticks": ""
           },
           "bgcolor": "#E5ECF6",
           "radialaxis": {
            "gridcolor": "white",
            "linecolor": "white",
            "ticks": ""
           }
          },
          "scene": {
           "xaxis": {
            "backgroundcolor": "#E5ECF6",
            "gridcolor": "white",
            "gridwidth": 2,
            "linecolor": "white",
            "showbackground": true,
            "ticks": "",
            "zerolinecolor": "white"
           },
           "yaxis": {
            "backgroundcolor": "#E5ECF6",
            "gridcolor": "white",
            "gridwidth": 2,
            "linecolor": "white",
            "showbackground": true,
            "ticks": "",
            "zerolinecolor": "white"
           },
           "zaxis": {
            "backgroundcolor": "#E5ECF6",
            "gridcolor": "white",
            "gridwidth": 2,
            "linecolor": "white",
            "showbackground": true,
            "ticks": "",
            "zerolinecolor": "white"
           }
          },
          "shapedefaults": {
           "line": {
            "color": "#2a3f5f"
           }
          },
          "ternary": {
           "aaxis": {
            "gridcolor": "white",
            "linecolor": "white",
            "ticks": ""
           },
           "baxis": {
            "gridcolor": "white",
            "linecolor": "white",
            "ticks": ""
           },
           "bgcolor": "#E5ECF6",
           "caxis": {
            "gridcolor": "white",
            "linecolor": "white",
            "ticks": ""
           }
          },
          "title": {
           "x": 0.05
          },
          "xaxis": {
           "automargin": true,
           "gridcolor": "white",
           "linecolor": "white",
           "ticks": "",
           "title": {
            "standoff": 15
           },
           "zerolinecolor": "white",
           "zerolinewidth": 2
          },
          "yaxis": {
           "automargin": true,
           "gridcolor": "white",
           "linecolor": "white",
           "ticks": "",
           "title": {
            "standoff": 15
           },
           "zerolinecolor": "white",
           "zerolinewidth": 2
          }
         }
        },
        "title": {
         "text": "Boxplot for texture_worst - Cancer Dataset"
        },
        "xaxis": {
         "anchor": "y",
         "domain": [
          0,
          1
         ],
         "title": {
          "text": "Category"
         }
        },
        "yaxis": {
         "anchor": "x",
         "domain": [
          0,
          1
         ],
         "title": {
          "text": "texture_worst"
         }
        }
       }
      }
     },
     "metadata": {},
     "output_type": "display_data"
    },
    {
     "data": {
      "application/vnd.plotly.v1+json": {
       "config": {
        "plotlyServerURL": "https://plot.ly"
       },
       "data": [
        {
         "alignmentgroup": "True",
         "hovertemplate": "perimeter_worst=%{y}<extra></extra>",
         "legendgroup": "",
         "marker": {
          "color": "#636efa"
         },
         "name": "",
         "notched": false,
         "offsetgroup": "",
         "orientation": "v",
         "showlegend": false,
         "type": "box",
         "x0": " ",
         "xaxis": "x",
         "y": {
          "bdata": "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",
          "dtype": "f8"
         },
         "y0": " ",
         "yaxis": "y"
        }
       ],
       "layout": {
        "boxmode": "group",
        "legend": {
         "tracegroupgap": 0
        },
        "margin": {
         "t": 60
        },
        "template": {
         "data": {
          "bar": [
           {
            "error_x": {
             "color": "#2a3f5f"
            },
            "error_y": {
             "color": "#2a3f5f"
            },
            "marker": {
             "line": {
              "color": "#E5ECF6",
              "width": 0.5
             },
             "pattern": {
              "fillmode": "overlay",
              "size": 10,
              "solidity": 0.2
             }
            },
            "type": "bar"
           }
          ],
          "barpolar": [
           {
            "marker": {
             "line": {
              "color": "#E5ECF6",
              "width": 0.5
             },
             "pattern": {
              "fillmode": "overlay",
              "size": 10,
              "solidity": 0.2
             }
            },
            "type": "barpolar"
           }
          ],
          "carpet": [
           {
            "aaxis": {
             "endlinecolor": "#2a3f5f",
             "gridcolor": "white",
             "linecolor": "white",
             "minorgridcolor": "white",
             "startlinecolor": "#2a3f5f"
            },
            "baxis": {
             "endlinecolor": "#2a3f5f",
             "gridcolor": "white",
             "linecolor": "white",
             "minorgridcolor": "white",
             "startlinecolor": "#2a3f5f"
            },
            "type": "carpet"
           }
          ],
          "choropleth": [
           {
            "colorbar": {
             "outlinewidth": 0,
             "ticks": ""
            },
            "type": "choropleth"
           }
          ],
          "contour": [
           {
            "colorbar": {
             "outlinewidth": 0,
             "ticks": ""
            },
            "colorscale": [
             [
              0,
              "#0d0887"
             ],
             [
              0.1111111111111111,
              "#46039f"
             ],
             [
              0.2222222222222222,
              "#7201a8"
             ],
             [
              0.3333333333333333,
              "#9c179e"
             ],
             [
              0.4444444444444444,
              "#bd3786"
             ],
             [
              0.5555555555555556,
              "#d8576b"
             ],
             [
              0.6666666666666666,
              "#ed7953"
             ],
             [
              0.7777777777777778,
              "#fb9f3a"
             ],
             [
              0.8888888888888888,
              "#fdca26"
             ],
             [
              1,
              "#f0f921"
             ]
            ],
            "type": "contour"
           }
          ],
          "contourcarpet": [
           {
            "colorbar": {
             "outlinewidth": 0,
             "ticks": ""
            },
            "type": "contourcarpet"
           }
          ],
          "heatmap": [
           {
            "colorbar": {
             "outlinewidth": 0,
             "ticks": ""
            },
            "colorscale": [
             [
              0,
              "#0d0887"
             ],
             [
              0.1111111111111111,
              "#46039f"
             ],
             [
              0.2222222222222222,
              "#7201a8"
             ],
             [
              0.3333333333333333,
              "#9c179e"
             ],
             [
              0.4444444444444444,
              "#bd3786"
             ],
             [
              0.5555555555555556,
              "#d8576b"
             ],
             [
              0.6666666666666666,
              "#ed7953"
             ],
             [
              0.7777777777777778,
              "#fb9f3a"
             ],
             [
              0.8888888888888888,
              "#fdca26"
             ],
             [
              1,
              "#f0f921"
             ]
            ],
            "type": "heatmap"
           }
          ],
          "histogram": [
           {
            "marker": {
             "pattern": {
              "fillmode": "overlay",
              "size": 10,
              "solidity": 0.2
             }
            },
            "type": "histogram"
           }
          ],
          "histogram2d": [
           {
            "colorbar": {
             "outlinewidth": 0,
             "ticks": ""
            },
            "colorscale": [
             [
              0,
              "#0d0887"
             ],
             [
              0.1111111111111111,
              "#46039f"
             ],
             [
              0.2222222222222222,
              "#7201a8"
             ],
             [
              0.3333333333333333,
              "#9c179e"
             ],
             [
              0.4444444444444444,
              "#bd3786"
             ],
             [
              0.5555555555555556,
              "#d8576b"
             ],
             [
              0.6666666666666666,
              "#ed7953"
             ],
             [
              0.7777777777777778,
              "#fb9f3a"
             ],
             [
              0.8888888888888888,
              "#fdca26"
             ],
             [
              1,
              "#f0f921"
             ]
            ],
            "type": "histogram2d"
           }
          ],
          "histogram2dcontour": [
           {
            "colorbar": {
             "outlinewidth": 0,
             "ticks": ""
            },
            "colorscale": [
             [
              0,
              "#0d0887"
             ],
             [
              0.1111111111111111,
              "#46039f"
             ],
             [
              0.2222222222222222,
              "#7201a8"
             ],
             [
              0.3333333333333333,
              "#9c179e"
             ],
             [
              0.4444444444444444,
              "#bd3786"
             ],
             [
              0.5555555555555556,
              "#d8576b"
             ],
             [
              0.6666666666666666,
              "#ed7953"
             ],
             [
              0.7777777777777778,
              "#fb9f3a"
             ],
             [
              0.8888888888888888,
              "#fdca26"
             ],
             [
              1,
              "#f0f921"
             ]
            ],
            "type": "histogram2dcontour"
           }
          ],
          "mesh3d": [
           {
            "colorbar": {
             "outlinewidth": 0,
             "ticks": ""
            },
            "type": "mesh3d"
           }
          ],
          "parcoords": [
           {
            "line": {
             "colorbar": {
              "outlinewidth": 0,
              "ticks": ""
             }
            },
            "type": "parcoords"
           }
          ],
          "pie": [
           {
            "automargin": true,
            "type": "pie"
           }
          ],
          "scatter": [
           {
            "fillpattern": {
             "fillmode": "overlay",
             "size": 10,
             "solidity": 0.2
            },
            "type": "scatter"
           }
          ],
          "scatter3d": [
           {
            "line": {
             "colorbar": {
              "outlinewidth": 0,
              "ticks": ""
             }
            },
            "marker": {
             "colorbar": {
              "outlinewidth": 0,
              "ticks": ""
             }
            },
            "type": "scatter3d"
           }
          ],
          "scattercarpet": [
           {
            "marker": {
             "colorbar": {
              "outlinewidth": 0,
              "ticks": ""
             }
            },
            "type": "scattercarpet"
           }
          ],
          "scattergeo": [
           {
            "marker": {
             "colorbar": {
              "outlinewidth": 0,
              "ticks": ""
             }
            },
            "type": "scattergeo"
           }
          ],
          "scattergl": [
           {
            "marker": {
             "colorbar": {
              "outlinewidth": 0,
              "ticks": ""
             }
            },
            "type": "scattergl"
           }
          ],
          "scattermap": [
           {
            "marker": {
             "colorbar": {
              "outlinewidth": 0,
              "ticks": ""
             }
            },
            "type": "scattermap"
           }
          ],
          "scattermapbox": [
           {
            "marker": {
             "colorbar": {
              "outlinewidth": 0,
              "ticks": ""
             }
            },
            "type": "scattermapbox"
           }
          ],
          "scatterpolar": [
           {
            "marker": {
             "colorbar": {
              "outlinewidth": 0,
              "ticks": ""
             }
            },
            "type": "scatterpolar"
           }
          ],
          "scatterpolargl": [
           {
            "marker": {
             "colorbar": {
              "outlinewidth": 0,
              "ticks": ""
             }
            },
            "type": "scatterpolargl"
           }
          ],
          "scatterternary": [
           {
            "marker": {
             "colorbar": {
              "outlinewidth": 0,
              "ticks": ""
             }
            },
            "type": "scatterternary"
           }
          ],
          "surface": [
           {
            "colorbar": {
             "outlinewidth": 0,
             "ticks": ""
            },
            "colorscale": [
             [
              0,
              "#0d0887"
             ],
             [
              0.1111111111111111,
              "#46039f"
             ],
             [
              0.2222222222222222,
              "#7201a8"
             ],
             [
              0.3333333333333333,
              "#9c179e"
             ],
             [
              0.4444444444444444,
              "#bd3786"
             ],
             [
              0.5555555555555556,
              "#d8576b"
             ],
             [
              0.6666666666666666,
              "#ed7953"
             ],
             [
              0.7777777777777778,
              "#fb9f3a"
             ],
             [
              0.8888888888888888,
              "#fdca26"
             ],
             [
              1,
              "#f0f921"
             ]
            ],
            "type": "surface"
           }
          ],
          "table": [
           {
            "cells": {
             "fill": {
              "color": "#EBF0F8"
             },
             "line": {
              "color": "white"
             }
            },
            "header": {
             "fill": {
              "color": "#C8D4E3"
             },
             "line": {
              "color": "white"
             }
            },
            "type": "table"
           }
          ]
         },
         "layout": {
          "annotationdefaults": {
           "arrowcolor": "#2a3f5f",
           "arrowhead": 0,
           "arrowwidth": 1
          },
          "autotypenumbers": "strict",
          "coloraxis": {
           "colorbar": {
            "outlinewidth": 0,
            "ticks": ""
           }
          },
          "colorscale": {
           "diverging": [
            [
             0,
             "#8e0152"
            ],
            [
             0.1,
             "#c51b7d"
            ],
            [
             0.2,
             "#de77ae"
            ],
            [
             0.3,
             "#f1b6da"
            ],
            [
             0.4,
             "#fde0ef"
            ],
            [
             0.5,
             "#f7f7f7"
            ],
            [
             0.6,
             "#e6f5d0"
            ],
            [
             0.7,
             "#b8e186"
            ],
            [
             0.8,
             "#7fbc41"
            ],
            [
             0.9,
             "#4d9221"
            ],
            [
             1,
             "#276419"
            ]
           ],
           "sequential": [
            [
             0,
             "#0d0887"
            ],
            [
             0.1111111111111111,
             "#46039f"
            ],
            [
             0.2222222222222222,
             "#7201a8"
            ],
            [
             0.3333333333333333,
             "#9c179e"
            ],
            [
             0.4444444444444444,
             "#bd3786"
            ],
            [
             0.5555555555555556,
             "#d8576b"
            ],
            [
             0.6666666666666666,
             "#ed7953"
            ],
            [
             0.7777777777777778,
             "#fb9f3a"
            ],
            [
             0.8888888888888888,
             "#fdca26"
            ],
            [
             1,
             "#f0f921"
            ]
           ],
           "sequentialminus": [
            [
             0,
             "#0d0887"
            ],
            [
             0.1111111111111111,
             "#46039f"
            ],
            [
             0.2222222222222222,
             "#7201a8"
            ],
            [
             0.3333333333333333,
             "#9c179e"
            ],
            [
             0.4444444444444444,
             "#bd3786"
            ],
            [
             0.5555555555555556,
             "#d8576b"
            ],
            [
             0.6666666666666666,
             "#ed7953"
            ],
            [
             0.7777777777777778,
             "#fb9f3a"
            ],
            [
             0.8888888888888888,
             "#fdca26"
            ],
            [
             1,
             "#f0f921"
            ]
           ]
          },
          "colorway": [
           "#636efa",
           "#EF553B",
           "#00cc96",
           "#ab63fa",
           "#FFA15A",
           "#19d3f3",
           "#FF6692",
           "#B6E880",
           "#FF97FF",
           "#FECB52"
          ],
          "font": {
           "color": "#2a3f5f"
          },
          "geo": {
           "bgcolor": "white",
           "lakecolor": "white",
           "landcolor": "#E5ECF6",
           "showlakes": true,
           "showland": true,
           "subunitcolor": "white"
          },
          "hoverlabel": {
           "align": "left"
          },
          "hovermode": "closest",
          "mapbox": {
           "style": "light"
          },
          "paper_bgcolor": "white",
          "plot_bgcolor": "#E5ECF6",
          "polar": {
           "angularaxis": {
            "gridcolor": "white",
            "linecolor": "white",
            "ticks": ""
           },
           "bgcolor": "#E5ECF6",
           "radialaxis": {
            "gridcolor": "white",
            "linecolor": "white",
            "ticks": ""
           }
          },
          "scene": {
           "xaxis": {
            "backgroundcolor": "#E5ECF6",
            "gridcolor": "white",
            "gridwidth": 2,
            "linecolor": "white",
            "showbackground": true,
            "ticks": "",
            "zerolinecolor": "white"
           },
           "yaxis": {
            "backgroundcolor": "#E5ECF6",
            "gridcolor": "white",
            "gridwidth": 2,
            "linecolor": "white",
            "showbackground": true,
            "ticks": "",
            "zerolinecolor": "white"
           },
           "zaxis": {
            "backgroundcolor": "#E5ECF6",
            "gridcolor": "white",
            "gridwidth": 2,
            "linecolor": "white",
            "showbackground": true,
            "ticks": "",
            "zerolinecolor": "white"
           }
          },
          "shapedefaults": {
           "line": {
            "color": "#2a3f5f"
           }
          },
          "ternary": {
           "aaxis": {
            "gridcolor": "white",
            "linecolor": "white",
            "ticks": ""
           },
           "baxis": {
            "gridcolor": "white",
            "linecolor": "white",
            "ticks": ""
           },
           "bgcolor": "#E5ECF6",
           "caxis": {
            "gridcolor": "white",
            "linecolor": "white",
            "ticks": ""
           }
          },
          "title": {
           "x": 0.05
          },
          "xaxis": {
           "automargin": true,
           "gridcolor": "white",
           "linecolor": "white",
           "ticks": "",
           "title": {
            "standoff": 15
           },
           "zerolinecolor": "white",
           "zerolinewidth": 2
          },
          "yaxis": {
           "automargin": true,
           "gridcolor": "white",
           "linecolor": "white",
           "ticks": "",
           "title": {
            "standoff": 15
           },
           "zerolinecolor": "white",
           "zerolinewidth": 2
          }
         }
        },
        "title": {
         "text": "Boxplot for perimeter_worst - Cancer Dataset"
        },
        "xaxis": {
         "anchor": "y",
         "domain": [
          0,
          1
         ],
         "title": {
          "text": "Category"
         }
        },
        "yaxis": {
         "anchor": "x",
         "domain": [
          0,
          1
         ],
         "title": {
          "text": "perimeter_worst"
         }
        }
       }
      }
     },
     "metadata": {},
     "output_type": "display_data"
    },
    {
     "data": {
      "application/vnd.plotly.v1+json": {
       "config": {
        "plotlyServerURL": "https://plot.ly"
       },
       "data": [
        {
         "alignmentgroup": "True",
         "hovertemplate": "area_worst=%{y}<extra></extra>",
         "legendgroup": "",
         "marker": {
          "color": "#636efa"
         },
         "name": "",
         "notched": false,
         "offsetgroup": "",
         "orientation": "v",
         "showlegend": false,
         "type": "box",
         "x0": " ",
         "xaxis": "x",
         "y": {
          "bdata": "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",
          "dtype": "f8"
         },
         "y0": " ",
         "yaxis": "y"
        }
       ],
       "layout": {
        "boxmode": "group",
        "legend": {
         "tracegroupgap": 0
        },
        "margin": {
         "t": 60
        },
        "template": {
         "data": {
          "bar": [
           {
            "error_x": {
             "color": "#2a3f5f"
            },
            "error_y": {
             "color": "#2a3f5f"
            },
            "marker": {
             "line": {
              "color": "#E5ECF6",
              "width": 0.5
             },
             "pattern": {
              "fillmode": "overlay",
              "size": 10,
              "solidity": 0.2
             }
            },
            "type": "bar"
           }
          ],
          "barpolar": [
           {
            "marker": {
             "line": {
              "color": "#E5ECF6",
              "width": 0.5
             },
             "pattern": {
              "fillmode": "overlay",
              "size": 10,
              "solidity": 0.2
             }
            },
            "type": "barpolar"
           }
          ],
          "carpet": [
           {
            "aaxis": {
             "endlinecolor": "#2a3f5f",
             "gridcolor": "white",
             "linecolor": "white",
             "minorgridcolor": "white",
             "startlinecolor": "#2a3f5f"
            },
            "baxis": {
             "endlinecolor": "#2a3f5f",
             "gridcolor": "white",
             "linecolor": "white",
             "minorgridcolor": "white",
             "startlinecolor": "#2a3f5f"
            },
            "type": "carpet"
           }
          ],
          "choropleth": [
           {
            "colorbar": {
             "outlinewidth": 0,
             "ticks": ""
            },
            "type": "choropleth"
           }
          ],
          "contour": [
           {
            "colorbar": {
             "outlinewidth": 0,
             "ticks": ""
            },
            "colorscale": [
             [
              0,
              "#0d0887"
             ],
             [
              0.1111111111111111,
              "#46039f"
             ],
             [
              0.2222222222222222,
              "#7201a8"
             ],
             [
              0.3333333333333333,
              "#9c179e"
             ],
             [
              0.4444444444444444,
              "#bd3786"
             ],
             [
              0.5555555555555556,
              "#d8576b"
             ],
             [
              0.6666666666666666,
              "#ed7953"
             ],
             [
              0.7777777777777778,
              "#fb9f3a"
             ],
             [
              0.8888888888888888,
              "#fdca26"
             ],
             [
              1,
              "#f0f921"
             ]
            ],
            "type": "contour"
           }
          ],
          "contourcarpet": [
           {
            "colorbar": {
             "outlinewidth": 0,
             "ticks": ""
            },
            "type": "contourcarpet"
           }
          ],
          "heatmap": [
           {
            "colorbar": {
             "outlinewidth": 0,
             "ticks": ""
            },
            "colorscale": [
             [
              0,
              "#0d0887"
             ],
             [
              0.1111111111111111,
              "#46039f"
             ],
             [
              0.2222222222222222,
              "#7201a8"
             ],
             [
              0.3333333333333333,
              "#9c179e"
             ],
             [
              0.4444444444444444,
              "#bd3786"
             ],
             [
              0.5555555555555556,
              "#d8576b"
             ],
             [
              0.6666666666666666,
              "#ed7953"
             ],
             [
              0.7777777777777778,
              "#fb9f3a"
             ],
             [
              0.8888888888888888,
              "#fdca26"
             ],
             [
              1,
              "#f0f921"
             ]
            ],
            "type": "heatmap"
           }
          ],
          "histogram": [
           {
            "marker": {
             "pattern": {
              "fillmode": "overlay",
              "size": 10,
              "solidity": 0.2
             }
            },
            "type": "histogram"
           }
          ],
          "histogram2d": [
           {
            "colorbar": {
             "outlinewidth": 0,
             "ticks": ""
            },
            "colorscale": [
             [
              0,
              "#0d0887"
             ],
             [
              0.1111111111111111,
              "#46039f"
             ],
             [
              0.2222222222222222,
              "#7201a8"
             ],
             [
              0.3333333333333333,
              "#9c179e"
             ],
             [
              0.4444444444444444,
              "#bd3786"
             ],
             [
              0.5555555555555556,
              "#d8576b"
             ],
             [
              0.6666666666666666,
              "#ed7953"
             ],
             [
              0.7777777777777778,
              "#fb9f3a"
             ],
             [
              0.8888888888888888,
              "#fdca26"
             ],
             [
              1,
              "#f0f921"
             ]
            ],
            "type": "histogram2d"
           }
          ],
          "histogram2dcontour": [
           {
            "colorbar": {
             "outlinewidth": 0,
             "ticks": ""
            },
            "colorscale": [
             [
              0,
              "#0d0887"
             ],
             [
              0.1111111111111111,
              "#46039f"
             ],
             [
              0.2222222222222222,
              "#7201a8"
             ],
             [
              0.3333333333333333,
              "#9c179e"
             ],
             [
              0.4444444444444444,
              "#bd3786"
             ],
             [
              0.5555555555555556,
              "#d8576b"
             ],
             [
              0.6666666666666666,
              "#ed7953"
             ],
             [
              0.7777777777777778,
              "#fb9f3a"
             ],
             [
              0.8888888888888888,
              "#fdca26"
             ],
             [
              1,
              "#f0f921"
             ]
            ],
            "type": "histogram2dcontour"
           }
          ],
          "mesh3d": [
           {
            "colorbar": {
             "outlinewidth": 0,
             "ticks": ""
            },
            "type": "mesh3d"
           }
          ],
          "parcoords": [
           {
            "line": {
             "colorbar": {
              "outlinewidth": 0,
              "ticks": ""
             }
            },
            "type": "parcoords"
           }
          ],
          "pie": [
           {
            "automargin": true,
            "type": "pie"
           }
          ],
          "scatter": [
           {
            "fillpattern": {
             "fillmode": "overlay",
             "size": 10,
             "solidity": 0.2
            },
            "type": "scatter"
           }
          ],
          "scatter3d": [
           {
            "line": {
             "colorbar": {
              "outlinewidth": 0,
              "ticks": ""
             }
            },
            "marker": {
             "colorbar": {
              "outlinewidth": 0,
              "ticks": ""
             }
            },
            "type": "scatter3d"
           }
          ],
          "scattercarpet": [
           {
            "marker": {
             "colorbar": {
              "outlinewidth": 0,
              "ticks": ""
             }
            },
            "type": "scattercarpet"
           }
          ],
          "scattergeo": [
           {
            "marker": {
             "colorbar": {
              "outlinewidth": 0,
              "ticks": ""
             }
            },
            "type": "scattergeo"
           }
          ],
          "scattergl": [
           {
            "marker": {
             "colorbar": {
              "outlinewidth": 0,
              "ticks": ""
             }
            },
            "type": "scattergl"
           }
          ],
          "scattermap": [
           {
            "marker": {
             "colorbar": {
              "outlinewidth": 0,
              "ticks": ""
             }
            },
            "type": "scattermap"
           }
          ],
          "scattermapbox": [
           {
            "marker": {
             "colorbar": {
              "outlinewidth": 0,
              "ticks": ""
             }
            },
            "type": "scattermapbox"
           }
          ],
          "scatterpolar": [
           {
            "marker": {
             "colorbar": {
              "outlinewidth": 0,
              "ticks": ""
             }
            },
            "type": "scatterpolar"
           }
          ],
          "scatterpolargl": [
           {
            "marker": {
             "colorbar": {
              "outlinewidth": 0,
              "ticks": ""
             }
            },
            "type": "scatterpolargl"
           }
          ],
          "scatterternary": [
           {
            "marker": {
             "colorbar": {
              "outlinewidth": 0,
              "ticks": ""
             }
            },
            "type": "scatterternary"
           }
          ],
          "surface": [
           {
            "colorbar": {
             "outlinewidth": 0,
             "ticks": ""
            },
            "colorscale": [
             [
              0,
              "#0d0887"
             ],
             [
              0.1111111111111111,
              "#46039f"
             ],
             [
              0.2222222222222222,
              "#7201a8"
             ],
             [
              0.3333333333333333,
              "#9c179e"
             ],
             [
              0.4444444444444444,
              "#bd3786"
             ],
             [
              0.5555555555555556,
              "#d8576b"
             ],
             [
              0.6666666666666666,
              "#ed7953"
             ],
             [
              0.7777777777777778,
              "#fb9f3a"
             ],
             [
              0.8888888888888888,
              "#fdca26"
             ],
             [
              1,
              "#f0f921"
             ]
            ],
            "type": "surface"
           }
          ],
          "table": [
           {
            "cells": {
             "fill": {
              "color": "#EBF0F8"
             },
             "line": {
              "color": "white"
             }
            },
            "header": {
             "fill": {
              "color": "#C8D4E3"
             },
             "line": {
              "color": "white"
             }
            },
            "type": "table"
           }
          ]
         },
         "layout": {
          "annotationdefaults": {
           "arrowcolor": "#2a3f5f",
           "arrowhead": 0,
           "arrowwidth": 1
          },
          "autotypenumbers": "strict",
          "coloraxis": {
           "colorbar": {
            "outlinewidth": 0,
            "ticks": ""
           }
          },
          "colorscale": {
           "diverging": [
            [
             0,
             "#8e0152"
            ],
            [
             0.1,
             "#c51b7d"
            ],
            [
             0.2,
             "#de77ae"
            ],
            [
             0.3,
             "#f1b6da"
            ],
            [
             0.4,
             "#fde0ef"
            ],
            [
             0.5,
             "#f7f7f7"
            ],
            [
             0.6,
             "#e6f5d0"
            ],
            [
             0.7,
             "#b8e186"
            ],
            [
             0.8,
             "#7fbc41"
            ],
            [
             0.9,
             "#4d9221"
            ],
            [
             1,
             "#276419"
            ]
           ],
           "sequential": [
            [
             0,
             "#0d0887"
            ],
            [
             0.1111111111111111,
             "#46039f"
            ],
            [
             0.2222222222222222,
             "#7201a8"
            ],
            [
             0.3333333333333333,
             "#9c179e"
            ],
            [
             0.4444444444444444,
             "#bd3786"
            ],
            [
             0.5555555555555556,
             "#d8576b"
            ],
            [
             0.6666666666666666,
             "#ed7953"
            ],
            [
             0.7777777777777778,
             "#fb9f3a"
            ],
            [
             0.8888888888888888,
             "#fdca26"
            ],
            [
             1,
             "#f0f921"
            ]
           ],
           "sequentialminus": [
            [
             0,
             "#0d0887"
            ],
            [
             0.1111111111111111,
             "#46039f"
            ],
            [
             0.2222222222222222,
             "#7201a8"
            ],
            [
             0.3333333333333333,
             "#9c179e"
            ],
            [
             0.4444444444444444,
             "#bd3786"
            ],
            [
             0.5555555555555556,
             "#d8576b"
            ],
            [
             0.6666666666666666,
             "#ed7953"
            ],
            [
             0.7777777777777778,
             "#fb9f3a"
            ],
            [
             0.8888888888888888,
             "#fdca26"
            ],
            [
             1,
             "#f0f921"
            ]
           ]
          },
          "colorway": [
           "#636efa",
           "#EF553B",
           "#00cc96",
           "#ab63fa",
           "#FFA15A",
           "#19d3f3",
           "#FF6692",
           "#B6E880",
           "#FF97FF",
           "#FECB52"
          ],
          "font": {
           "color": "#2a3f5f"
          },
          "geo": {
           "bgcolor": "white",
           "lakecolor": "white",
           "landcolor": "#E5ECF6",
           "showlakes": true,
           "showland": true,
           "subunitcolor": "white"
          },
          "hoverlabel": {
           "align": "left"
          },
          "hovermode": "closest",
          "mapbox": {
           "style": "light"
          },
          "paper_bgcolor": "white",
          "plot_bgcolor": "#E5ECF6",
          "polar": {
           "angularaxis": {
            "gridcolor": "white",
            "linecolor": "white",
            "ticks": ""
           },
           "bgcolor": "#E5ECF6",
           "radialaxis": {
            "gridcolor": "white",
            "linecolor": "white",
            "ticks": ""
           }
          },
          "scene": {
           "xaxis": {
            "backgroundcolor": "#E5ECF6",
            "gridcolor": "white",
            "gridwidth": 2,
            "linecolor": "white",
            "showbackground": true,
            "ticks": "",
            "zerolinecolor": "white"
           },
           "yaxis": {
            "backgroundcolor": "#E5ECF6",
            "gridcolor": "white",
            "gridwidth": 2,
            "linecolor": "white",
            "showbackground": true,
            "ticks": "",
            "zerolinecolor": "white"
           },
           "zaxis": {
            "backgroundcolor": "#E5ECF6",
            "gridcolor": "white",
            "gridwidth": 2,
            "linecolor": "white",
            "showbackground": true,
            "ticks": "",
            "zerolinecolor": "white"
           }
          },
          "shapedefaults": {
           "line": {
            "color": "#2a3f5f"
           }
          },
          "ternary": {
           "aaxis": {
            "gridcolor": "white",
            "linecolor": "white",
            "ticks": ""
           },
           "baxis": {
            "gridcolor": "white",
            "linecolor": "white",
            "ticks": ""
           },
           "bgcolor": "#E5ECF6",
           "caxis": {
            "gridcolor": "white",
            "linecolor": "white",
            "ticks": ""
           }
          },
          "title": {
           "x": 0.05
          },
          "xaxis": {
           "automargin": true,
           "gridcolor": "white",
           "linecolor": "white",
           "ticks": "",
           "title": {
            "standoff": 15
           },
           "zerolinecolor": "white",
           "zerolinewidth": 2
          },
          "yaxis": {
           "automargin": true,
           "gridcolor": "white",
           "linecolor": "white",
           "ticks": "",
           "title": {
            "standoff": 15
           },
           "zerolinecolor": "white",
           "zerolinewidth": 2
          }
         }
        },
        "title": {
         "text": "Boxplot for area_worst - Cancer Dataset"
        },
        "xaxis": {
         "anchor": "y",
         "domain": [
          0,
          1
         ],
         "title": {
          "text": "Category"
         }
        },
        "yaxis": {
         "anchor": "x",
         "domain": [
          0,
          1
         ],
         "title": {
          "text": "area_worst"
         }
        }
       }
      }
     },
     "metadata": {},
     "output_type": "display_data"
    },
    {
     "data": {
      "application/vnd.plotly.v1+json": {
       "config": {
        "plotlyServerURL": "https://plot.ly"
       },
       "data": [
        {
         "alignmentgroup": "True",
         "hovertemplate": "smoothness_worst=%{y}<extra></extra>",
         "legendgroup": "",
         "marker": {
          "color": "#636efa"
         },
         "name": "",
         "notched": false,
         "offsetgroup": "",
         "orientation": "v",
         "showlegend": false,
         "type": "box",
         "x0": " ",
         "xaxis": "x",
         "y": {
          "bdata": "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",
          "dtype": "f8"
         },
         "y0": " ",
         "yaxis": "y"
        }
       ],
       "layout": {
        "boxmode": "group",
        "legend": {
         "tracegroupgap": 0
        },
        "margin": {
         "t": 60
        },
        "template": {
         "data": {
          "bar": [
           {
            "error_x": {
             "color": "#2a3f5f"
            },
            "error_y": {
             "color": "#2a3f5f"
            },
            "marker": {
             "line": {
              "color": "#E5ECF6",
              "width": 0.5
             },
             "pattern": {
              "fillmode": "overlay",
              "size": 10,
              "solidity": 0.2
             }
            },
            "type": "bar"
           }
          ],
          "barpolar": [
           {
            "marker": {
             "line": {
              "color": "#E5ECF6",
              "width": 0.5
             },
             "pattern": {
              "fillmode": "overlay",
              "size": 10,
              "solidity": 0.2
             }
            },
            "type": "barpolar"
           }
          ],
          "carpet": [
           {
            "aaxis": {
             "endlinecolor": "#2a3f5f",
             "gridcolor": "white",
             "linecolor": "white",
             "minorgridcolor": "white",
             "startlinecolor": "#2a3f5f"
            },
            "baxis": {
             "endlinecolor": "#2a3f5f",
             "gridcolor": "white",
             "linecolor": "white",
             "minorgridcolor": "white",
             "startlinecolor": "#2a3f5f"
            },
            "type": "carpet"
           }
          ],
          "choropleth": [
           {
            "colorbar": {
             "outlinewidth": 0,
             "ticks": ""
            },
            "type": "choropleth"
           }
          ],
          "contour": [
           {
            "colorbar": {
             "outlinewidth": 0,
             "ticks": ""
            },
            "colorscale": [
             [
              0,
              "#0d0887"
             ],
             [
              0.1111111111111111,
              "#46039f"
             ],
             [
              0.2222222222222222,
              "#7201a8"
             ],
             [
              0.3333333333333333,
              "#9c179e"
             ],
             [
              0.4444444444444444,
              "#bd3786"
             ],
             [
              0.5555555555555556,
              "#d8576b"
             ],
             [
              0.6666666666666666,
              "#ed7953"
             ],
             [
              0.7777777777777778,
              "#fb9f3a"
             ],
             [
              0.8888888888888888,
              "#fdca26"
             ],
             [
              1,
              "#f0f921"
             ]
            ],
            "type": "contour"
           }
          ],
          "contourcarpet": [
           {
            "colorbar": {
             "outlinewidth": 0,
             "ticks": ""
            },
            "type": "contourcarpet"
           }
          ],
          "heatmap": [
           {
            "colorbar": {
             "outlinewidth": 0,
             "ticks": ""
            },
            "colorscale": [
             [
              0,
              "#0d0887"
             ],
             [
              0.1111111111111111,
              "#46039f"
             ],
             [
              0.2222222222222222,
              "#7201a8"
             ],
             [
              0.3333333333333333,
              "#9c179e"
             ],
             [
              0.4444444444444444,
              "#bd3786"
             ],
             [
              0.5555555555555556,
              "#d8576b"
             ],
             [
              0.6666666666666666,
              "#ed7953"
             ],
             [
              0.7777777777777778,
              "#fb9f3a"
             ],
             [
              0.8888888888888888,
              "#fdca26"
             ],
             [
              1,
              "#f0f921"
             ]
            ],
            "type": "heatmap"
           }
          ],
          "histogram": [
           {
            "marker": {
             "pattern": {
              "fillmode": "overlay",
              "size": 10,
              "solidity": 0.2
             }
            },
            "type": "histogram"
           }
          ],
          "histogram2d": [
           {
            "colorbar": {
             "outlinewidth": 0,
             "ticks": ""
            },
            "colorscale": [
             [
              0,
              "#0d0887"
             ],
             [
              0.1111111111111111,
              "#46039f"
             ],
             [
              0.2222222222222222,
              "#7201a8"
             ],
             [
              0.3333333333333333,
              "#9c179e"
             ],
             [
              0.4444444444444444,
              "#bd3786"
             ],
             [
              0.5555555555555556,
              "#d8576b"
             ],
             [
              0.6666666666666666,
              "#ed7953"
             ],
             [
              0.7777777777777778,
              "#fb9f3a"
             ],
             [
              0.8888888888888888,
              "#fdca26"
             ],
             [
              1,
              "#f0f921"
             ]
            ],
            "type": "histogram2d"
           }
          ],
          "histogram2dcontour": [
           {
            "colorbar": {
             "outlinewidth": 0,
             "ticks": ""
            },
            "colorscale": [
             [
              0,
              "#0d0887"
             ],
             [
              0.1111111111111111,
              "#46039f"
             ],
             [
              0.2222222222222222,
              "#7201a8"
             ],
             [
              0.3333333333333333,
              "#9c179e"
             ],
             [
              0.4444444444444444,
              "#bd3786"
             ],
             [
              0.5555555555555556,
              "#d8576b"
             ],
             [
              0.6666666666666666,
              "#ed7953"
             ],
             [
              0.7777777777777778,
              "#fb9f3a"
             ],
             [
              0.8888888888888888,
              "#fdca26"
             ],
             [
              1,
              "#f0f921"
             ]
            ],
            "type": "histogram2dcontour"
           }
          ],
          "mesh3d": [
           {
            "colorbar": {
             "outlinewidth": 0,
             "ticks": ""
            },
            "type": "mesh3d"
           }
          ],
          "parcoords": [
           {
            "line": {
             "colorbar": {
              "outlinewidth": 0,
              "ticks": ""
             }
            },
            "type": "parcoords"
           }
          ],
          "pie": [
           {
            "automargin": true,
            "type": "pie"
           }
          ],
          "scatter": [
           {
            "fillpattern": {
             "fillmode": "overlay",
             "size": 10,
             "solidity": 0.2
            },
            "type": "scatter"
           }
          ],
          "scatter3d": [
           {
            "line": {
             "colorbar": {
              "outlinewidth": 0,
              "ticks": ""
             }
            },
            "marker": {
             "colorbar": {
              "outlinewidth": 0,
              "ticks": ""
             }
            },
            "type": "scatter3d"
           }
          ],
          "scattercarpet": [
           {
            "marker": {
             "colorbar": {
              "outlinewidth": 0,
              "ticks": ""
             }
            },
            "type": "scattercarpet"
           }
          ],
          "scattergeo": [
           {
            "marker": {
             "colorbar": {
              "outlinewidth": 0,
              "ticks": ""
             }
            },
            "type": "scattergeo"
           }
          ],
          "scattergl": [
           {
            "marker": {
             "colorbar": {
              "outlinewidth": 0,
              "ticks": ""
             }
            },
            "type": "scattergl"
           }
          ],
          "scattermap": [
           {
            "marker": {
             "colorbar": {
              "outlinewidth": 0,
              "ticks": ""
             }
            },
            "type": "scattermap"
           }
          ],
          "scattermapbox": [
           {
            "marker": {
             "colorbar": {
              "outlinewidth": 0,
              "ticks": ""
             }
            },
            "type": "scattermapbox"
           }
          ],
          "scatterpolar": [
           {
            "marker": {
             "colorbar": {
              "outlinewidth": 0,
              "ticks": ""
             }
            },
            "type": "scatterpolar"
           }
          ],
          "scatterpolargl": [
           {
            "marker": {
             "colorbar": {
              "outlinewidth": 0,
              "ticks": ""
             }
            },
            "type": "scatterpolargl"
           }
          ],
          "scatterternary": [
           {
            "marker": {
             "colorbar": {
              "outlinewidth": 0,
              "ticks": ""
             }
            },
            "type": "scatterternary"
           }
          ],
          "surface": [
           {
            "colorbar": {
             "outlinewidth": 0,
             "ticks": ""
            },
            "colorscale": [
             [
              0,
              "#0d0887"
             ],
             [
              0.1111111111111111,
              "#46039f"
             ],
             [
              0.2222222222222222,
              "#7201a8"
             ],
             [
              0.3333333333333333,
              "#9c179e"
             ],
             [
              0.4444444444444444,
              "#bd3786"
             ],
             [
              0.5555555555555556,
              "#d8576b"
             ],
             [
              0.6666666666666666,
              "#ed7953"
             ],
             [
              0.7777777777777778,
              "#fb9f3a"
             ],
             [
              0.8888888888888888,
              "#fdca26"
             ],
             [
              1,
              "#f0f921"
             ]
            ],
            "type": "surface"
           }
          ],
          "table": [
           {
            "cells": {
             "fill": {
              "color": "#EBF0F8"
             },
             "line": {
              "color": "white"
             }
            },
            "header": {
             "fill": {
              "color": "#C8D4E3"
             },
             "line": {
              "color": "white"
             }
            },
            "type": "table"
           }
          ]
         },
         "layout": {
          "annotationdefaults": {
           "arrowcolor": "#2a3f5f",
           "arrowhead": 0,
           "arrowwidth": 1
          },
          "autotypenumbers": "strict",
          "coloraxis": {
           "colorbar": {
            "outlinewidth": 0,
            "ticks": ""
           }
          },
          "colorscale": {
           "diverging": [
            [
             0,
             "#8e0152"
            ],
            [
             0.1,
             "#c51b7d"
            ],
            [
             0.2,
             "#de77ae"
            ],
            [
             0.3,
             "#f1b6da"
            ],
            [
             0.4,
             "#fde0ef"
            ],
            [
             0.5,
             "#f7f7f7"
            ],
            [
             0.6,
             "#e6f5d0"
            ],
            [
             0.7,
             "#b8e186"
            ],
            [
             0.8,
             "#7fbc41"
            ],
            [
             0.9,
             "#4d9221"
            ],
            [
             1,
             "#276419"
            ]
           ],
           "sequential": [
            [
             0,
             "#0d0887"
            ],
            [
             0.1111111111111111,
             "#46039f"
            ],
            [
             0.2222222222222222,
             "#7201a8"
            ],
            [
             0.3333333333333333,
             "#9c179e"
            ],
            [
             0.4444444444444444,
             "#bd3786"
            ],
            [
             0.5555555555555556,
             "#d8576b"
            ],
            [
             0.6666666666666666,
             "#ed7953"
            ],
            [
             0.7777777777777778,
             "#fb9f3a"
            ],
            [
             0.8888888888888888,
             "#fdca26"
            ],
            [
             1,
             "#f0f921"
            ]
           ],
           "sequentialminus": [
            [
             0,
             "#0d0887"
            ],
            [
             0.1111111111111111,
             "#46039f"
            ],
            [
             0.2222222222222222,
             "#7201a8"
            ],
            [
             0.3333333333333333,
             "#9c179e"
            ],
            [
             0.4444444444444444,
             "#bd3786"
            ],
            [
             0.5555555555555556,
             "#d8576b"
            ],
            [
             0.6666666666666666,
             "#ed7953"
            ],
            [
             0.7777777777777778,
             "#fb9f3a"
            ],
            [
             0.8888888888888888,
             "#fdca26"
            ],
            [
             1,
             "#f0f921"
            ]
           ]
          },
          "colorway": [
           "#636efa",
           "#EF553B",
           "#00cc96",
           "#ab63fa",
           "#FFA15A",
           "#19d3f3",
           "#FF6692",
           "#B6E880",
           "#FF97FF",
           "#FECB52"
          ],
          "font": {
           "color": "#2a3f5f"
          },
          "geo": {
           "bgcolor": "white",
           "lakecolor": "white",
           "landcolor": "#E5ECF6",
           "showlakes": true,
           "showland": true,
           "subunitcolor": "white"
          },
          "hoverlabel": {
           "align": "left"
          },
          "hovermode": "closest",
          "mapbox": {
           "style": "light"
          },
          "paper_bgcolor": "white",
          "plot_bgcolor": "#E5ECF6",
          "polar": {
           "angularaxis": {
            "gridcolor": "white",
            "linecolor": "white",
            "ticks": ""
           },
           "bgcolor": "#E5ECF6",
           "radialaxis": {
            "gridcolor": "white",
            "linecolor": "white",
            "ticks": ""
           }
          },
          "scene": {
           "xaxis": {
            "backgroundcolor": "#E5ECF6",
            "gridcolor": "white",
            "gridwidth": 2,
            "linecolor": "white",
            "showbackground": true,
            "ticks": "",
            "zerolinecolor": "white"
           },
           "yaxis": {
            "backgroundcolor": "#E5ECF6",
            "gridcolor": "white",
            "gridwidth": 2,
            "linecolor": "white",
            "showbackground": true,
            "ticks": "",
            "zerolinecolor": "white"
           },
           "zaxis": {
            "backgroundcolor": "#E5ECF6",
            "gridcolor": "white",
            "gridwidth": 2,
            "linecolor": "white",
            "showbackground": true,
            "ticks": "",
            "zerolinecolor": "white"
           }
          },
          "shapedefaults": {
           "line": {
            "color": "#2a3f5f"
           }
          },
          "ternary": {
           "aaxis": {
            "gridcolor": "white",
            "linecolor": "white",
            "ticks": ""
           },
           "baxis": {
            "gridcolor": "white",
            "linecolor": "white",
            "ticks": ""
           },
           "bgcolor": "#E5ECF6",
           "caxis": {
            "gridcolor": "white",
            "linecolor": "white",
            "ticks": ""
           }
          },
          "title": {
           "x": 0.05
          },
          "xaxis": {
           "automargin": true,
           "gridcolor": "white",
           "linecolor": "white",
           "ticks": "",
           "title": {
            "standoff": 15
           },
           "zerolinecolor": "white",
           "zerolinewidth": 2
          },
          "yaxis": {
           "automargin": true,
           "gridcolor": "white",
           "linecolor": "white",
           "ticks": "",
           "title": {
            "standoff": 15
           },
           "zerolinecolor": "white",
           "zerolinewidth": 2
          }
         }
        },
        "title": {
         "text": "Boxplot for smoothness_worst - Cancer Dataset"
        },
        "xaxis": {
         "anchor": "y",
         "domain": [
          0,
          1
         ],
         "title": {
          "text": "Category"
         }
        },
        "yaxis": {
         "anchor": "x",
         "domain": [
          0,
          1
         ],
         "title": {
          "text": "smoothness_worst"
         }
        }
       }
      }
     },
     "metadata": {},
     "output_type": "display_data"
    },
    {
     "data": {
      "application/vnd.plotly.v1+json": {
       "config": {
        "plotlyServerURL": "https://plot.ly"
       },
       "data": [
        {
         "alignmentgroup": "True",
         "hovertemplate": "compactness_worst=%{y}<extra></extra>",
         "legendgroup": "",
         "marker": {
          "color": "#636efa"
         },
         "name": "",
         "notched": false,
         "offsetgroup": "",
         "orientation": "v",
         "showlegend": false,
         "type": "box",
         "x0": " ",
         "xaxis": "x",
         "y": {
          "bdata": "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",
          "dtype": "f8"
         },
         "y0": " ",
         "yaxis": "y"
        }
       ],
       "layout": {
        "boxmode": "group",
        "legend": {
         "tracegroupgap": 0
        },
        "margin": {
         "t": 60
        },
        "template": {
         "data": {
          "bar": [
           {
            "error_x": {
             "color": "#2a3f5f"
            },
            "error_y": {
             "color": "#2a3f5f"
            },
            "marker": {
             "line": {
              "color": "#E5ECF6",
              "width": 0.5
             },
             "pattern": {
              "fillmode": "overlay",
              "size": 10,
              "solidity": 0.2
             }
            },
            "type": "bar"
           }
          ],
          "barpolar": [
           {
            "marker": {
             "line": {
              "color": "#E5ECF6",
              "width": 0.5
             },
             "pattern": {
              "fillmode": "overlay",
              "size": 10,
              "solidity": 0.2
             }
            },
            "type": "barpolar"
           }
          ],
          "carpet": [
           {
            "aaxis": {
             "endlinecolor": "#2a3f5f",
             "gridcolor": "white",
             "linecolor": "white",
             "minorgridcolor": "white",
             "startlinecolor": "#2a3f5f"
            },
            "baxis": {
             "endlinecolor": "#2a3f5f",
             "gridcolor": "white",
             "linecolor": "white",
             "minorgridcolor": "white",
             "startlinecolor": "#2a3f5f"
            },
            "type": "carpet"
           }
          ],
          "choropleth": [
           {
            "colorbar": {
             "outlinewidth": 0,
             "ticks": ""
            },
            "type": "choropleth"
           }
          ],
          "contour": [
           {
            "colorbar": {
             "outlinewidth": 0,
             "ticks": ""
            },
            "colorscale": [
             [
              0,
              "#0d0887"
             ],
             [
              0.1111111111111111,
              "#46039f"
             ],
             [
              0.2222222222222222,
              "#7201a8"
             ],
             [
              0.3333333333333333,
              "#9c179e"
             ],
             [
              0.4444444444444444,
              "#bd3786"
             ],
             [
              0.5555555555555556,
              "#d8576b"
             ],
             [
              0.6666666666666666,
              "#ed7953"
             ],
             [
              0.7777777777777778,
              "#fb9f3a"
             ],
             [
              0.8888888888888888,
              "#fdca26"
             ],
             [
              1,
              "#f0f921"
             ]
            ],
            "type": "contour"
           }
          ],
          "contourcarpet": [
           {
            "colorbar": {
             "outlinewidth": 0,
             "ticks": ""
            },
            "type": "contourcarpet"
           }
          ],
          "heatmap": [
           {
            "colorbar": {
             "outlinewidth": 0,
             "ticks": ""
            },
            "colorscale": [
             [
              0,
              "#0d0887"
             ],
             [
              0.1111111111111111,
              "#46039f"
             ],
             [
              0.2222222222222222,
              "#7201a8"
             ],
             [
              0.3333333333333333,
              "#9c179e"
             ],
             [
              0.4444444444444444,
              "#bd3786"
             ],
             [
              0.5555555555555556,
              "#d8576b"
             ],
             [
              0.6666666666666666,
              "#ed7953"
             ],
             [
              0.7777777777777778,
              "#fb9f3a"
             ],
             [
              0.8888888888888888,
              "#fdca26"
             ],
             [
              1,
              "#f0f921"
             ]
            ],
            "type": "heatmap"
           }
          ],
          "histogram": [
           {
            "marker": {
             "pattern": {
              "fillmode": "overlay",
              "size": 10,
              "solidity": 0.2
             }
            },
            "type": "histogram"
           }
          ],
          "histogram2d": [
           {
            "colorbar": {
             "outlinewidth": 0,
             "ticks": ""
            },
            "colorscale": [
             [
              0,
              "#0d0887"
             ],
             [
              0.1111111111111111,
              "#46039f"
             ],
             [
              0.2222222222222222,
              "#7201a8"
             ],
             [
              0.3333333333333333,
              "#9c179e"
             ],
             [
              0.4444444444444444,
              "#bd3786"
             ],
             [
              0.5555555555555556,
              "#d8576b"
             ],
             [
              0.6666666666666666,
              "#ed7953"
             ],
             [
              0.7777777777777778,
              "#fb9f3a"
             ],
             [
              0.8888888888888888,
              "#fdca26"
             ],
             [
              1,
              "#f0f921"
             ]
            ],
            "type": "histogram2d"
           }
          ],
          "histogram2dcontour": [
           {
            "colorbar": {
             "outlinewidth": 0,
             "ticks": ""
            },
            "colorscale": [
             [
              0,
              "#0d0887"
             ],
             [
              0.1111111111111111,
              "#46039f"
             ],
             [
              0.2222222222222222,
              "#7201a8"
             ],
             [
              0.3333333333333333,
              "#9c179e"
             ],
             [
              0.4444444444444444,
              "#bd3786"
             ],
             [
              0.5555555555555556,
              "#d8576b"
             ],
             [
              0.6666666666666666,
              "#ed7953"
             ],
             [
              0.7777777777777778,
              "#fb9f3a"
             ],
             [
              0.8888888888888888,
              "#fdca26"
             ],
             [
              1,
              "#f0f921"
             ]
            ],
            "type": "histogram2dcontour"
           }
          ],
          "mesh3d": [
           {
            "colorbar": {
             "outlinewidth": 0,
             "ticks": ""
            },
            "type": "mesh3d"
           }
          ],
          "parcoords": [
           {
            "line": {
             "colorbar": {
              "outlinewidth": 0,
              "ticks": ""
             }
            },
            "type": "parcoords"
           }
          ],
          "pie": [
           {
            "automargin": true,
            "type": "pie"
           }
          ],
          "scatter": [
           {
            "fillpattern": {
             "fillmode": "overlay",
             "size": 10,
             "solidity": 0.2
            },
            "type": "scatter"
           }
          ],
          "scatter3d": [
           {
            "line": {
             "colorbar": {
              "outlinewidth": 0,
              "ticks": ""
             }
            },
            "marker": {
             "colorbar": {
              "outlinewidth": 0,
              "ticks": ""
             }
            },
            "type": "scatter3d"
           }
          ],
          "scattercarpet": [
           {
            "marker": {
             "colorbar": {
              "outlinewidth": 0,
              "ticks": ""
             }
            },
            "type": "scattercarpet"
           }
          ],
          "scattergeo": [
           {
            "marker": {
             "colorbar": {
              "outlinewidth": 0,
              "ticks": ""
             }
            },
            "type": "scattergeo"
           }
          ],
          "scattergl": [
           {
            "marker": {
             "colorbar": {
              "outlinewidth": 0,
              "ticks": ""
             }
            },
            "type": "scattergl"
           }
          ],
          "scattermap": [
           {
            "marker": {
             "colorbar": {
              "outlinewidth": 0,
              "ticks": ""
             }
            },
            "type": "scattermap"
           }
          ],
          "scattermapbox": [
           {
            "marker": {
             "colorbar": {
              "outlinewidth": 0,
              "ticks": ""
             }
            },
            "type": "scattermapbox"
           }
          ],
          "scatterpolar": [
           {
            "marker": {
             "colorbar": {
              "outlinewidth": 0,
              "ticks": ""
             }
            },
            "type": "scatterpolar"
           }
          ],
          "scatterpolargl": [
           {
            "marker": {
             "colorbar": {
              "outlinewidth": 0,
              "ticks": ""
             }
            },
            "type": "scatterpolargl"
           }
          ],
          "scatterternary": [
           {
            "marker": {
             "colorbar": {
              "outlinewidth": 0,
              "ticks": ""
             }
            },
            "type": "scatterternary"
           }
          ],
          "surface": [
           {
            "colorbar": {
             "outlinewidth": 0,
             "ticks": ""
            },
            "colorscale": [
             [
              0,
              "#0d0887"
             ],
             [
              0.1111111111111111,
              "#46039f"
             ],
             [
              0.2222222222222222,
              "#7201a8"
             ],
             [
              0.3333333333333333,
              "#9c179e"
             ],
             [
              0.4444444444444444,
              "#bd3786"
             ],
             [
              0.5555555555555556,
              "#d8576b"
             ],
             [
              0.6666666666666666,
              "#ed7953"
             ],
             [
              0.7777777777777778,
              "#fb9f3a"
             ],
             [
              0.8888888888888888,
              "#fdca26"
             ],
             [
              1,
              "#f0f921"
             ]
            ],
            "type": "surface"
           }
          ],
          "table": [
           {
            "cells": {
             "fill": {
              "color": "#EBF0F8"
             },
             "line": {
              "color": "white"
             }
            },
            "header": {
             "fill": {
              "color": "#C8D4E3"
             },
             "line": {
              "color": "white"
             }
            },
            "type": "table"
           }
          ]
         },
         "layout": {
          "annotationdefaults": {
           "arrowcolor": "#2a3f5f",
           "arrowhead": 0,
           "arrowwidth": 1
          },
          "autotypenumbers": "strict",
          "coloraxis": {
           "colorbar": {
            "outlinewidth": 0,
            "ticks": ""
           }
          },
          "colorscale": {
           "diverging": [
            [
             0,
             "#8e0152"
            ],
            [
             0.1,
             "#c51b7d"
            ],
            [
             0.2,
             "#de77ae"
            ],
            [
             0.3,
             "#f1b6da"
            ],
            [
             0.4,
             "#fde0ef"
            ],
            [
             0.5,
             "#f7f7f7"
            ],
            [
             0.6,
             "#e6f5d0"
            ],
            [
             0.7,
             "#b8e186"
            ],
            [
             0.8,
             "#7fbc41"
            ],
            [
             0.9,
             "#4d9221"
            ],
            [
             1,
             "#276419"
            ]
           ],
           "sequential": [
            [
             0,
             "#0d0887"
            ],
            [
             0.1111111111111111,
             "#46039f"
            ],
            [
             0.2222222222222222,
             "#7201a8"
            ],
            [
             0.3333333333333333,
             "#9c179e"
            ],
            [
             0.4444444444444444,
             "#bd3786"
            ],
            [
             0.5555555555555556,
             "#d8576b"
            ],
            [
             0.6666666666666666,
             "#ed7953"
            ],
            [
             0.7777777777777778,
             "#fb9f3a"
            ],
            [
             0.8888888888888888,
             "#fdca26"
            ],
            [
             1,
             "#f0f921"
            ]
           ],
           "sequentialminus": [
            [
             0,
             "#0d0887"
            ],
            [
             0.1111111111111111,
             "#46039f"
            ],
            [
             0.2222222222222222,
             "#7201a8"
            ],
            [
             0.3333333333333333,
             "#9c179e"
            ],
            [
             0.4444444444444444,
             "#bd3786"
            ],
            [
             0.5555555555555556,
             "#d8576b"
            ],
            [
             0.6666666666666666,
             "#ed7953"
            ],
            [
             0.7777777777777778,
             "#fb9f3a"
            ],
            [
             0.8888888888888888,
             "#fdca26"
            ],
            [
             1,
             "#f0f921"
            ]
           ]
          },
          "colorway": [
           "#636efa",
           "#EF553B",
           "#00cc96",
           "#ab63fa",
           "#FFA15A",
           "#19d3f3",
           "#FF6692",
           "#B6E880",
           "#FF97FF",
           "#FECB52"
          ],
          "font": {
           "color": "#2a3f5f"
          },
          "geo": {
           "bgcolor": "white",
           "lakecolor": "white",
           "landcolor": "#E5ECF6",
           "showlakes": true,
           "showland": true,
           "subunitcolor": "white"
          },
          "hoverlabel": {
           "align": "left"
          },
          "hovermode": "closest",
          "mapbox": {
           "style": "light"
          },
          "paper_bgcolor": "white",
          "plot_bgcolor": "#E5ECF6",
          "polar": {
           "angularaxis": {
            "gridcolor": "white",
            "linecolor": "white",
            "ticks": ""
           },
           "bgcolor": "#E5ECF6",
           "radialaxis": {
            "gridcolor": "white",
            "linecolor": "white",
            "ticks": ""
           }
          },
          "scene": {
           "xaxis": {
            "backgroundcolor": "#E5ECF6",
            "gridcolor": "white",
            "gridwidth": 2,
            "linecolor": "white",
            "showbackground": true,
            "ticks": "",
            "zerolinecolor": "white"
           },
           "yaxis": {
            "backgroundcolor": "#E5ECF6",
            "gridcolor": "white",
            "gridwidth": 2,
            "linecolor": "white",
            "showbackground": true,
            "ticks": "",
            "zerolinecolor": "white"
           },
           "zaxis": {
            "backgroundcolor": "#E5ECF6",
            "gridcolor": "white",
            "gridwidth": 2,
            "linecolor": "white",
            "showbackground": true,
            "ticks": "",
            "zerolinecolor": "white"
           }
          },
          "shapedefaults": {
           "line": {
            "color": "#2a3f5f"
           }
          },
          "ternary": {
           "aaxis": {
            "gridcolor": "white",
            "linecolor": "white",
            "ticks": ""
           },
           "baxis": {
            "gridcolor": "white",
            "linecolor": "white",
            "ticks": ""
           },
           "bgcolor": "#E5ECF6",
           "caxis": {
            "gridcolor": "white",
            "linecolor": "white",
            "ticks": ""
           }
          },
          "title": {
           "x": 0.05
          },
          "xaxis": {
           "automargin": true,
           "gridcolor": "white",
           "linecolor": "white",
           "ticks": "",
           "title": {
            "standoff": 15
           },
           "zerolinecolor": "white",
           "zerolinewidth": 2
          },
          "yaxis": {
           "automargin": true,
           "gridcolor": "white",
           "linecolor": "white",
           "ticks": "",
           "title": {
            "standoff": 15
           },
           "zerolinecolor": "white",
           "zerolinewidth": 2
          }
         }
        },
        "title": {
         "text": "Boxplot for compactness_worst - Cancer Dataset"
        },
        "xaxis": {
         "anchor": "y",
         "domain": [
          0,
          1
         ],
         "title": {
          "text": "Category"
         }
        },
        "yaxis": {
         "anchor": "x",
         "domain": [
          0,
          1
         ],
         "title": {
          "text": "compactness_worst"
         }
        }
       }
      }
     },
     "metadata": {},
     "output_type": "display_data"
    },
    {
     "data": {
      "application/vnd.plotly.v1+json": {
       "config": {
        "plotlyServerURL": "https://plot.ly"
       },
       "data": [
        {
         "alignmentgroup": "True",
         "hovertemplate": "concavity_worst=%{y}<extra></extra>",
         "legendgroup": "",
         "marker": {
          "color": "#636efa"
         },
         "name": "",
         "notched": false,
         "offsetgroup": "",
         "orientation": "v",
         "showlegend": false,
         "type": "box",
         "x0": " ",
         "xaxis": "x",
         "y": {
          "bdata": "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",
          "dtype": "f8"
         },
         "y0": " ",
         "yaxis": "y"
        }
       ],
       "layout": {
        "boxmode": "group",
        "legend": {
         "tracegroupgap": 0
        },
        "margin": {
         "t": 60
        },
        "template": {
         "data": {
          "bar": [
           {
            "error_x": {
             "color": "#2a3f5f"
            },
            "error_y": {
             "color": "#2a3f5f"
            },
            "marker": {
             "line": {
              "color": "#E5ECF6",
              "width": 0.5
             },
             "pattern": {
              "fillmode": "overlay",
              "size": 10,
              "solidity": 0.2
             }
            },
            "type": "bar"
           }
          ],
          "barpolar": [
           {
            "marker": {
             "line": {
              "color": "#E5ECF6",
              "width": 0.5
             },
             "pattern": {
              "fillmode": "overlay",
              "size": 10,
              "solidity": 0.2
             }
            },
            "type": "barpolar"
           }
          ],
          "carpet": [
           {
            "aaxis": {
             "endlinecolor": "#2a3f5f",
             "gridcolor": "white",
             "linecolor": "white",
             "minorgridcolor": "white",
             "startlinecolor": "#2a3f5f"
            },
            "baxis": {
             "endlinecolor": "#2a3f5f",
             "gridcolor": "white",
             "linecolor": "white",
             "minorgridcolor": "white",
             "startlinecolor": "#2a3f5f"
            },
            "type": "carpet"
           }
          ],
          "choropleth": [
           {
            "colorbar": {
             "outlinewidth": 0,
             "ticks": ""
            },
            "type": "choropleth"
           }
          ],
          "contour": [
           {
            "colorbar": {
             "outlinewidth": 0,
             "ticks": ""
            },
            "colorscale": [
             [
              0,
              "#0d0887"
             ],
             [
              0.1111111111111111,
              "#46039f"
             ],
             [
              0.2222222222222222,
              "#7201a8"
             ],
             [
              0.3333333333333333,
              "#9c179e"
             ],
             [
              0.4444444444444444,
              "#bd3786"
             ],
             [
              0.5555555555555556,
              "#d8576b"
             ],
             [
              0.6666666666666666,
              "#ed7953"
             ],
             [
              0.7777777777777778,
              "#fb9f3a"
             ],
             [
              0.8888888888888888,
              "#fdca26"
             ],
             [
              1,
              "#f0f921"
             ]
            ],
            "type": "contour"
           }
          ],
          "contourcarpet": [
           {
            "colorbar": {
             "outlinewidth": 0,
             "ticks": ""
            },
            "type": "contourcarpet"
           }
          ],
          "heatmap": [
           {
            "colorbar": {
             "outlinewidth": 0,
             "ticks": ""
            },
            "colorscale": [
             [
              0,
              "#0d0887"
             ],
             [
              0.1111111111111111,
              "#46039f"
             ],
             [
              0.2222222222222222,
              "#7201a8"
             ],
             [
              0.3333333333333333,
              "#9c179e"
             ],
             [
              0.4444444444444444,
              "#bd3786"
             ],
             [
              0.5555555555555556,
              "#d8576b"
             ],
             [
              0.6666666666666666,
              "#ed7953"
             ],
             [
              0.7777777777777778,
              "#fb9f3a"
             ],
             [
              0.8888888888888888,
              "#fdca26"
             ],
             [
              1,
              "#f0f921"
             ]
            ],
            "type": "heatmap"
           }
          ],
          "histogram": [
           {
            "marker": {
             "pattern": {
              "fillmode": "overlay",
              "size": 10,
              "solidity": 0.2
             }
            },
            "type": "histogram"
           }
          ],
          "histogram2d": [
           {
            "colorbar": {
             "outlinewidth": 0,
             "ticks": ""
            },
            "colorscale": [
             [
              0,
              "#0d0887"
             ],
             [
              0.1111111111111111,
              "#46039f"
             ],
             [
              0.2222222222222222,
              "#7201a8"
             ],
             [
              0.3333333333333333,
              "#9c179e"
             ],
             [
              0.4444444444444444,
              "#bd3786"
             ],
             [
              0.5555555555555556,
              "#d8576b"
             ],
             [
              0.6666666666666666,
              "#ed7953"
             ],
             [
              0.7777777777777778,
              "#fb9f3a"
             ],
             [
              0.8888888888888888,
              "#fdca26"
             ],
             [
              1,
              "#f0f921"
             ]
            ],
            "type": "histogram2d"
           }
          ],
          "histogram2dcontour": [
           {
            "colorbar": {
             "outlinewidth": 0,
             "ticks": ""
            },
            "colorscale": [
             [
              0,
              "#0d0887"
             ],
             [
              0.1111111111111111,
              "#46039f"
             ],
             [
              0.2222222222222222,
              "#7201a8"
             ],
             [
              0.3333333333333333,
              "#9c179e"
             ],
             [
              0.4444444444444444,
              "#bd3786"
             ],
             [
              0.5555555555555556,
              "#d8576b"
             ],
             [
              0.6666666666666666,
              "#ed7953"
             ],
             [
              0.7777777777777778,
              "#fb9f3a"
             ],
             [
              0.8888888888888888,
              "#fdca26"
             ],
             [
              1,
              "#f0f921"
             ]
            ],
            "type": "histogram2dcontour"
           }
          ],
          "mesh3d": [
           {
            "colorbar": {
             "outlinewidth": 0,
             "ticks": ""
            },
            "type": "mesh3d"
           }
          ],
          "parcoords": [
           {
            "line": {
             "colorbar": {
              "outlinewidth": 0,
              "ticks": ""
             }
            },
            "type": "parcoords"
           }
          ],
          "pie": [
           {
            "automargin": true,
            "type": "pie"
           }
          ],
          "scatter": [
           {
            "fillpattern": {
             "fillmode": "overlay",
             "size": 10,
             "solidity": 0.2
            },
            "type": "scatter"
           }
          ],
          "scatter3d": [
           {
            "line": {
             "colorbar": {
              "outlinewidth": 0,
              "ticks": ""
             }
            },
            "marker": {
             "colorbar": {
              "outlinewidth": 0,
              "ticks": ""
             }
            },
            "type": "scatter3d"
           }
          ],
          "scattercarpet": [
           {
            "marker": {
             "colorbar": {
              "outlinewidth": 0,
              "ticks": ""
             }
            },
            "type": "scattercarpet"
           }
          ],
          "scattergeo": [
           {
            "marker": {
             "colorbar": {
              "outlinewidth": 0,
              "ticks": ""
             }
            },
            "type": "scattergeo"
           }
          ],
          "scattergl": [
           {
            "marker": {
             "colorbar": {
              "outlinewidth": 0,
              "ticks": ""
             }
            },
            "type": "scattergl"
           }
          ],
          "scattermap": [
           {
            "marker": {
             "colorbar": {
              "outlinewidth": 0,
              "ticks": ""
             }
            },
            "type": "scattermap"
           }
          ],
          "scattermapbox": [
           {
            "marker": {
             "colorbar": {
              "outlinewidth": 0,
              "ticks": ""
             }
            },
            "type": "scattermapbox"
           }
          ],
          "scatterpolar": [
           {
            "marker": {
             "colorbar": {
              "outlinewidth": 0,
              "ticks": ""
             }
            },
            "type": "scatterpolar"
           }
          ],
          "scatterpolargl": [
           {
            "marker": {
             "colorbar": {
              "outlinewidth": 0,
              "ticks": ""
             }
            },
            "type": "scatterpolargl"
           }
          ],
          "scatterternary": [
           {
            "marker": {
             "colorbar": {
              "outlinewidth": 0,
              "ticks": ""
             }
            },
            "type": "scatterternary"
           }
          ],
          "surface": [
           {
            "colorbar": {
             "outlinewidth": 0,
             "ticks": ""
            },
            "colorscale": [
             [
              0,
              "#0d0887"
             ],
             [
              0.1111111111111111,
              "#46039f"
             ],
             [
              0.2222222222222222,
              "#7201a8"
             ],
             [
              0.3333333333333333,
              "#9c179e"
             ],
             [
              0.4444444444444444,
              "#bd3786"
             ],
             [
              0.5555555555555556,
              "#d8576b"
             ],
             [
              0.6666666666666666,
              "#ed7953"
             ],
             [
              0.7777777777777778,
              "#fb9f3a"
             ],
             [
              0.8888888888888888,
              "#fdca26"
             ],
             [
              1,
              "#f0f921"
             ]
            ],
            "type": "surface"
           }
          ],
          "table": [
           {
            "cells": {
             "fill": {
              "color": "#EBF0F8"
             },
             "line": {
              "color": "white"
             }
            },
            "header": {
             "fill": {
              "color": "#C8D4E3"
             },
             "line": {
              "color": "white"
             }
            },
            "type": "table"
           }
          ]
         },
         "layout": {
          "annotationdefaults": {
           "arrowcolor": "#2a3f5f",
           "arrowhead": 0,
           "arrowwidth": 1
          },
          "autotypenumbers": "strict",
          "coloraxis": {
           "colorbar": {
            "outlinewidth": 0,
            "ticks": ""
           }
          },
          "colorscale": {
           "diverging": [
            [
             0,
             "#8e0152"
            ],
            [
             0.1,
             "#c51b7d"
            ],
            [
             0.2,
             "#de77ae"
            ],
            [
             0.3,
             "#f1b6da"
            ],
            [
             0.4,
             "#fde0ef"
            ],
            [
             0.5,
             "#f7f7f7"
            ],
            [
             0.6,
             "#e6f5d0"
            ],
            [
             0.7,
             "#b8e186"
            ],
            [
             0.8,
             "#7fbc41"
            ],
            [
             0.9,
             "#4d9221"
            ],
            [
             1,
             "#276419"
            ]
           ],
           "sequential": [
            [
             0,
             "#0d0887"
            ],
            [
             0.1111111111111111,
             "#46039f"
            ],
            [
             0.2222222222222222,
             "#7201a8"
            ],
            [
             0.3333333333333333,
             "#9c179e"
            ],
            [
             0.4444444444444444,
             "#bd3786"
            ],
            [
             0.5555555555555556,
             "#d8576b"
            ],
            [
             0.6666666666666666,
             "#ed7953"
            ],
            [
             0.7777777777777778,
             "#fb9f3a"
            ],
            [
             0.8888888888888888,
             "#fdca26"
            ],
            [
             1,
             "#f0f921"
            ]
           ],
           "sequentialminus": [
            [
             0,
             "#0d0887"
            ],
            [
             0.1111111111111111,
             "#46039f"
            ],
            [
             0.2222222222222222,
             "#7201a8"
            ],
            [
             0.3333333333333333,
             "#9c179e"
            ],
            [
             0.4444444444444444,
             "#bd3786"
            ],
            [
             0.5555555555555556,
             "#d8576b"
            ],
            [
             0.6666666666666666,
             "#ed7953"
            ],
            [
             0.7777777777777778,
             "#fb9f3a"
            ],
            [
             0.8888888888888888,
             "#fdca26"
            ],
            [
             1,
             "#f0f921"
            ]
           ]
          },
          "colorway": [
           "#636efa",
           "#EF553B",
           "#00cc96",
           "#ab63fa",
           "#FFA15A",
           "#19d3f3",
           "#FF6692",
           "#B6E880",
           "#FF97FF",
           "#FECB52"
          ],
          "font": {
           "color": "#2a3f5f"
          },
          "geo": {
           "bgcolor": "white",
           "lakecolor": "white",
           "landcolor": "#E5ECF6",
           "showlakes": true,
           "showland": true,
           "subunitcolor": "white"
          },
          "hoverlabel": {
           "align": "left"
          },
          "hovermode": "closest",
          "mapbox": {
           "style": "light"
          },
          "paper_bgcolor": "white",
          "plot_bgcolor": "#E5ECF6",
          "polar": {
           "angularaxis": {
            "gridcolor": "white",
            "linecolor": "white",
            "ticks": ""
           },
           "bgcolor": "#E5ECF6",
           "radialaxis": {
            "gridcolor": "white",
            "linecolor": "white",
            "ticks": ""
           }
          },
          "scene": {
           "xaxis": {
            "backgroundcolor": "#E5ECF6",
            "gridcolor": "white",
            "gridwidth": 2,
            "linecolor": "white",
            "showbackground": true,
            "ticks": "",
            "zerolinecolor": "white"
           },
           "yaxis": {
            "backgroundcolor": "#E5ECF6",
            "gridcolor": "white",
            "gridwidth": 2,
            "linecolor": "white",
            "showbackground": true,
            "ticks": "",
            "zerolinecolor": "white"
           },
           "zaxis": {
            "backgroundcolor": "#E5ECF6",
            "gridcolor": "white",
            "gridwidth": 2,
            "linecolor": "white",
            "showbackground": true,
            "ticks": "",
            "zerolinecolor": "white"
           }
          },
          "shapedefaults": {
           "line": {
            "color": "#2a3f5f"
           }
          },
          "ternary": {
           "aaxis": {
            "gridcolor": "white",
            "linecolor": "white",
            "ticks": ""
           },
           "baxis": {
            "gridcolor": "white",
            "linecolor": "white",
            "ticks": ""
           },
           "bgcolor": "#E5ECF6",
           "caxis": {
            "gridcolor": "white",
            "linecolor": "white",
            "ticks": ""
           }
          },
          "title": {
           "x": 0.05
          },
          "xaxis": {
           "automargin": true,
           "gridcolor": "white",
           "linecolor": "white",
           "ticks": "",
           "title": {
            "standoff": 15
           },
           "zerolinecolor": "white",
           "zerolinewidth": 2
          },
          "yaxis": {
           "automargin": true,
           "gridcolor": "white",
           "linecolor": "white",
           "ticks": "",
           "title": {
            "standoff": 15
           },
           "zerolinecolor": "white",
           "zerolinewidth": 2
          }
         }
        },
        "title": {
         "text": "Boxplot for concavity_worst - Cancer Dataset"
        },
        "xaxis": {
         "anchor": "y",
         "domain": [
          0,
          1
         ],
         "title": {
          "text": "Category"
         }
        },
        "yaxis": {
         "anchor": "x",
         "domain": [
          0,
          1
         ],
         "title": {
          "text": "concavity_worst"
         }
        }
       }
      }
     },
     "metadata": {},
     "output_type": "display_data"
    },
    {
     "data": {
      "application/vnd.plotly.v1+json": {
       "config": {
        "plotlyServerURL": "https://plot.ly"
       },
       "data": [
        {
         "alignmentgroup": "True",
         "hovertemplate": "concave_points_worst=%{y}<extra></extra>",
         "legendgroup": "",
         "marker": {
          "color": "#636efa"
         },
         "name": "",
         "notched": false,
         "offsetgroup": "",
         "orientation": "v",
         "showlegend": false,
         "type": "box",
         "x0": " ",
         "xaxis": "x",
         "y": {
          "bdata": "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",
          "dtype": "f8"
         },
         "y0": " ",
         "yaxis": "y"
        }
       ],
       "layout": {
        "boxmode": "group",
        "legend": {
         "tracegroupgap": 0
        },
        "margin": {
         "t": 60
        },
        "template": {
         "data": {
          "bar": [
           {
            "error_x": {
             "color": "#2a3f5f"
            },
            "error_y": {
             "color": "#2a3f5f"
            },
            "marker": {
             "line": {
              "color": "#E5ECF6",
              "width": 0.5
             },
             "pattern": {
              "fillmode": "overlay",
              "size": 10,
              "solidity": 0.2
             }
            },
            "type": "bar"
           }
          ],
          "barpolar": [
           {
            "marker": {
             "line": {
              "color": "#E5ECF6",
              "width": 0.5
             },
             "pattern": {
              "fillmode": "overlay",
              "size": 10,
              "solidity": 0.2
             }
            },
            "type": "barpolar"
           }
          ],
          "carpet": [
           {
            "aaxis": {
             "endlinecolor": "#2a3f5f",
             "gridcolor": "white",
             "linecolor": "white",
             "minorgridcolor": "white",
             "startlinecolor": "#2a3f5f"
            },
            "baxis": {
             "endlinecolor": "#2a3f5f",
             "gridcolor": "white",
             "linecolor": "white",
             "minorgridcolor": "white",
             "startlinecolor": "#2a3f5f"
            },
            "type": "carpet"
           }
          ],
          "choropleth": [
           {
            "colorbar": {
             "outlinewidth": 0,
             "ticks": ""
            },
            "type": "choropleth"
           }
          ],
          "contour": [
           {
            "colorbar": {
             "outlinewidth": 0,
             "ticks": ""
            },
            "colorscale": [
             [
              0,
              "#0d0887"
             ],
             [
              0.1111111111111111,
              "#46039f"
             ],
             [
              0.2222222222222222,
              "#7201a8"
             ],
             [
              0.3333333333333333,
              "#9c179e"
             ],
             [
              0.4444444444444444,
              "#bd3786"
             ],
             [
              0.5555555555555556,
              "#d8576b"
             ],
             [
              0.6666666666666666,
              "#ed7953"
             ],
             [
              0.7777777777777778,
              "#fb9f3a"
             ],
             [
              0.8888888888888888,
              "#fdca26"
             ],
             [
              1,
              "#f0f921"
             ]
            ],
            "type": "contour"
           }
          ],
          "contourcarpet": [
           {
            "colorbar": {
             "outlinewidth": 0,
             "ticks": ""
            },
            "type": "contourcarpet"
           }
          ],
          "heatmap": [
           {
            "colorbar": {
             "outlinewidth": 0,
             "ticks": ""
            },
            "colorscale": [
             [
              0,
              "#0d0887"
             ],
             [
              0.1111111111111111,
              "#46039f"
             ],
             [
              0.2222222222222222,
              "#7201a8"
             ],
             [
              0.3333333333333333,
              "#9c179e"
             ],
             [
              0.4444444444444444,
              "#bd3786"
             ],
             [
              0.5555555555555556,
              "#d8576b"
             ],
             [
              0.6666666666666666,
              "#ed7953"
             ],
             [
              0.7777777777777778,
              "#fb9f3a"
             ],
             [
              0.8888888888888888,
              "#fdca26"
             ],
             [
              1,
              "#f0f921"
             ]
            ],
            "type": "heatmap"
           }
          ],
          "histogram": [
           {
            "marker": {
             "pattern": {
              "fillmode": "overlay",
              "size": 10,
              "solidity": 0.2
             }
            },
            "type": "histogram"
           }
          ],
          "histogram2d": [
           {
            "colorbar": {
             "outlinewidth": 0,
             "ticks": ""
            },
            "colorscale": [
             [
              0,
              "#0d0887"
             ],
             [
              0.1111111111111111,
              "#46039f"
             ],
             [
              0.2222222222222222,
              "#7201a8"
             ],
             [
              0.3333333333333333,
              "#9c179e"
             ],
             [
              0.4444444444444444,
              "#bd3786"
             ],
             [
              0.5555555555555556,
              "#d8576b"
             ],
             [
              0.6666666666666666,
              "#ed7953"
             ],
             [
              0.7777777777777778,
              "#fb9f3a"
             ],
             [
              0.8888888888888888,
              "#fdca26"
             ],
             [
              1,
              "#f0f921"
             ]
            ],
            "type": "histogram2d"
           }
          ],
          "histogram2dcontour": [
           {
            "colorbar": {
             "outlinewidth": 0,
             "ticks": ""
            },
            "colorscale": [
             [
              0,
              "#0d0887"
             ],
             [
              0.1111111111111111,
              "#46039f"
             ],
             [
              0.2222222222222222,
              "#7201a8"
             ],
             [
              0.3333333333333333,
              "#9c179e"
             ],
             [
              0.4444444444444444,
              "#bd3786"
             ],
             [
              0.5555555555555556,
              "#d8576b"
             ],
             [
              0.6666666666666666,
              "#ed7953"
             ],
             [
              0.7777777777777778,
              "#fb9f3a"
             ],
             [
              0.8888888888888888,
              "#fdca26"
             ],
             [
              1,
              "#f0f921"
             ]
            ],
            "type": "histogram2dcontour"
           }
          ],
          "mesh3d": [
           {
            "colorbar": {
             "outlinewidth": 0,
             "ticks": ""
            },
            "type": "mesh3d"
           }
          ],
          "parcoords": [
           {
            "line": {
             "colorbar": {
              "outlinewidth": 0,
              "ticks": ""
             }
            },
            "type": "parcoords"
           }
          ],
          "pie": [
           {
            "automargin": true,
            "type": "pie"
           }
          ],
          "scatter": [
           {
            "fillpattern": {
             "fillmode": "overlay",
             "size": 10,
             "solidity": 0.2
            },
            "type": "scatter"
           }
          ],
          "scatter3d": [
           {
            "line": {
             "colorbar": {
              "outlinewidth": 0,
              "ticks": ""
             }
            },
            "marker": {
             "colorbar": {
              "outlinewidth": 0,
              "ticks": ""
             }
            },
            "type": "scatter3d"
           }
          ],
          "scattercarpet": [
           {
            "marker": {
             "colorbar": {
              "outlinewidth": 0,
              "ticks": ""
             }
            },
            "type": "scattercarpet"
           }
          ],
          "scattergeo": [
           {
            "marker": {
             "colorbar": {
              "outlinewidth": 0,
              "ticks": ""
             }
            },
            "type": "scattergeo"
           }
          ],
          "scattergl": [
           {
            "marker": {
             "colorbar": {
              "outlinewidth": 0,
              "ticks": ""
             }
            },
            "type": "scattergl"
           }
          ],
          "scattermap": [
           {
            "marker": {
             "colorbar": {
              "outlinewidth": 0,
              "ticks": ""
             }
            },
            "type": "scattermap"
           }
          ],
          "scattermapbox": [
           {
            "marker": {
             "colorbar": {
              "outlinewidth": 0,
              "ticks": ""
             }
            },
            "type": "scattermapbox"
           }
          ],
          "scatterpolar": [
           {
            "marker": {
             "colorbar": {
              "outlinewidth": 0,
              "ticks": ""
             }
            },
            "type": "scatterpolar"
           }
          ],
          "scatterpolargl": [
           {
            "marker": {
             "colorbar": {
              "outlinewidth": 0,
              "ticks": ""
             }
            },
            "type": "scatterpolargl"
           }
          ],
          "scatterternary": [
           {
            "marker": {
             "colorbar": {
              "outlinewidth": 0,
              "ticks": ""
             }
            },
            "type": "scatterternary"
           }
          ],
          "surface": [
           {
            "colorbar": {
             "outlinewidth": 0,
             "ticks": ""
            },
            "colorscale": [
             [
              0,
              "#0d0887"
             ],
             [
              0.1111111111111111,
              "#46039f"
             ],
             [
              0.2222222222222222,
              "#7201a8"
             ],
             [
              0.3333333333333333,
              "#9c179e"
             ],
             [
              0.4444444444444444,
              "#bd3786"
             ],
             [
              0.5555555555555556,
              "#d8576b"
             ],
             [
              0.6666666666666666,
              "#ed7953"
             ],
             [
              0.7777777777777778,
              "#fb9f3a"
             ],
             [
              0.8888888888888888,
              "#fdca26"
             ],
             [
              1,
              "#f0f921"
             ]
            ],
            "type": "surface"
           }
          ],
          "table": [
           {
            "cells": {
             "fill": {
              "color": "#EBF0F8"
             },
             "line": {
              "color": "white"
             }
            },
            "header": {
             "fill": {
              "color": "#C8D4E3"
             },
             "line": {
              "color": "white"
             }
            },
            "type": "table"
           }
          ]
         },
         "layout": {
          "annotationdefaults": {
           "arrowcolor": "#2a3f5f",
           "arrowhead": 0,
           "arrowwidth": 1
          },
          "autotypenumbers": "strict",
          "coloraxis": {
           "colorbar": {
            "outlinewidth": 0,
            "ticks": ""
           }
          },
          "colorscale": {
           "diverging": [
            [
             0,
             "#8e0152"
            ],
            [
             0.1,
             "#c51b7d"
            ],
            [
             0.2,
             "#de77ae"
            ],
            [
             0.3,
             "#f1b6da"
            ],
            [
             0.4,
             "#fde0ef"
            ],
            [
             0.5,
             "#f7f7f7"
            ],
            [
             0.6,
             "#e6f5d0"
            ],
            [
             0.7,
             "#b8e186"
            ],
            [
             0.8,
             "#7fbc41"
            ],
            [
             0.9,
             "#4d9221"
            ],
            [
             1,
             "#276419"
            ]
           ],
           "sequential": [
            [
             0,
             "#0d0887"
            ],
            [
             0.1111111111111111,
             "#46039f"
            ],
            [
             0.2222222222222222,
             "#7201a8"
            ],
            [
             0.3333333333333333,
             "#9c179e"
            ],
            [
             0.4444444444444444,
             "#bd3786"
            ],
            [
             0.5555555555555556,
             "#d8576b"
            ],
            [
             0.6666666666666666,
             "#ed7953"
            ],
            [
             0.7777777777777778,
             "#fb9f3a"
            ],
            [
             0.8888888888888888,
             "#fdca26"
            ],
            [
             1,
             "#f0f921"
            ]
           ],
           "sequentialminus": [
            [
             0,
             "#0d0887"
            ],
            [
             0.1111111111111111,
             "#46039f"
            ],
            [
             0.2222222222222222,
             "#7201a8"
            ],
            [
             0.3333333333333333,
             "#9c179e"
            ],
            [
             0.4444444444444444,
             "#bd3786"
            ],
            [
             0.5555555555555556,
             "#d8576b"
            ],
            [
             0.6666666666666666,
             "#ed7953"
            ],
            [
             0.7777777777777778,
             "#fb9f3a"
            ],
            [
             0.8888888888888888,
             "#fdca26"
            ],
            [
             1,
             "#f0f921"
            ]
           ]
          },
          "colorway": [
           "#636efa",
           "#EF553B",
           "#00cc96",
           "#ab63fa",
           "#FFA15A",
           "#19d3f3",
           "#FF6692",
           "#B6E880",
           "#FF97FF",
           "#FECB52"
          ],
          "font": {
           "color": "#2a3f5f"
          },
          "geo": {
           "bgcolor": "white",
           "lakecolor": "white",
           "landcolor": "#E5ECF6",
           "showlakes": true,
           "showland": true,
           "subunitcolor": "white"
          },
          "hoverlabel": {
           "align": "left"
          },
          "hovermode": "closest",
          "mapbox": {
           "style": "light"
          },
          "paper_bgcolor": "white",
          "plot_bgcolor": "#E5ECF6",
          "polar": {
           "angularaxis": {
            "gridcolor": "white",
            "linecolor": "white",
            "ticks": ""
           },
           "bgcolor": "#E5ECF6",
           "radialaxis": {
            "gridcolor": "white",
            "linecolor": "white",
            "ticks": ""
           }
          },
          "scene": {
           "xaxis": {
            "backgroundcolor": "#E5ECF6",
            "gridcolor": "white",
            "gridwidth": 2,
            "linecolor": "white",
            "showbackground": true,
            "ticks": "",
            "zerolinecolor": "white"
           },
           "yaxis": {
            "backgroundcolor": "#E5ECF6",
            "gridcolor": "white",
            "gridwidth": 2,
            "linecolor": "white",
            "showbackground": true,
            "ticks": "",
            "zerolinecolor": "white"
           },
           "zaxis": {
            "backgroundcolor": "#E5ECF6",
            "gridcolor": "white",
            "gridwidth": 2,
            "linecolor": "white",
            "showbackground": true,
            "ticks": "",
            "zerolinecolor": "white"
           }
          },
          "shapedefaults": {
           "line": {
            "color": "#2a3f5f"
           }
          },
          "ternary": {
           "aaxis": {
            "gridcolor": "white",
            "linecolor": "white",
            "ticks": ""
           },
           "baxis": {
            "gridcolor": "white",
            "linecolor": "white",
            "ticks": ""
           },
           "bgcolor": "#E5ECF6",
           "caxis": {
            "gridcolor": "white",
            "linecolor": "white",
            "ticks": ""
           }
          },
          "title": {
           "x": 0.05
          },
          "xaxis": {
           "automargin": true,
           "gridcolor": "white",
           "linecolor": "white",
           "ticks": "",
           "title": {
            "standoff": 15
           },
           "zerolinecolor": "white",
           "zerolinewidth": 2
          },
          "yaxis": {
           "automargin": true,
           "gridcolor": "white",
           "linecolor": "white",
           "ticks": "",
           "title": {
            "standoff": 15
           },
           "zerolinecolor": "white",
           "zerolinewidth": 2
          }
         }
        },
        "title": {
         "text": "Boxplot for concave_points_worst - Cancer Dataset"
        },
        "xaxis": {
         "anchor": "y",
         "domain": [
          0,
          1
         ],
         "title": {
          "text": "Category"
         }
        },
        "yaxis": {
         "anchor": "x",
         "domain": [
          0,
          1
         ],
         "title": {
          "text": "concave_points_worst"
         }
        }
       }
      }
     },
     "metadata": {},
     "output_type": "display_data"
    },
    {
     "data": {
      "application/vnd.plotly.v1+json": {
       "config": {
        "plotlyServerURL": "https://plot.ly"
       },
       "data": [
        {
         "alignmentgroup": "True",
         "hovertemplate": "symmetry_worst=%{y}<extra></extra>",
         "legendgroup": "",
         "marker": {
          "color": "#636efa"
         },
         "name": "",
         "notched": false,
         "offsetgroup": "",
         "orientation": "v",
         "showlegend": false,
         "type": "box",
         "x0": " ",
         "xaxis": "x",
         "y": {
          "bdata": "Ne84RUdy3T+amZmZmZnRPwHeAgmKH9c/rrZif9k95T+KH2PuWkLOPxsv3SQGgdk/fPKwUGua0z9qTfOOU3TUP00VjErqBNw/GsBbIEHx2z9ZF7fRAN7SPzAqqRPQRNg/FmpN845T1D/RkVz+Q/rRP/kP6bevA9c/rfpcbcX+2j9tVn2utmLTP0dy+Q/pt9c/ZRniWBe30T+TOgFNhA3TPzj4wmSqYNQ/XI/C9Shczz/Kw0Ktad7dP8iYu5aQD9I/Ad4CCYof1z8vbqMBvAXaP+7rwDkjSts/SS7/If32zT9LWYY41sXZPzPEsS5uo9E/e4MvTKYK1j/VCWgibHjeP2Q730+Nl9Y/OdbFbTSA1z+HFtnO91PbPwHeAgmKH98/JJf/kH771j+si9toAG/JP9V46SYxCMQ/SS7/If320T+aCBueXinTP5wzorQ3+NI/F9nO91Pj3T+SXP5D+u3XP1Frmnecotc/jgbwFkhQ2D+sHFpkO9/TP/YoXI/C9dg/TYQNT6+U0T9Wn6ut2F/SP03zjlN0JM8/8x/Sb18Hzj9t5/up8dLRP0vIBz2bVdM/H4XrUbge0T+4rwPnjCjVP8IXJlMFo9Y/JuSDns2q1z+ASL99HTjPP8/3U+Olm9Q/FvvL7snD1j++wRcmUwXTP6Tfvg6cM9I/UwWjkjoB1T+7Jw8LtabVPzcawFsgQdU/s3vysFBr0j+4HoXrUbjOP1fsL7snD9s/qoJRSZ2Azj8Wak3zjlPQP+5aQj7o2cw/FYxK6gQ01T82zTtO0ZHQP2/whclUwdA/9ihcj8L10D/y0k1iEFjRP8SxLm6jAdg/nMQgsHJo4T/TvOMUHcnRP8zuycNCrdE/GCZTBaOS1j++nxov3STOP02EDU+vlM0/qmBUUieg1T/ZzvdT46XXP4cW2c73U9M/4QuTqYJR2T++wRcmUwXTP+0NvjCZKtQ/3EYDeAsk0D/r4jYawFvQP/wYc9cS8sk/a5p3nKIj0T/67evAOSPSP0Ck374OnNc/jNtoAG+BzD9v8IXJVMHIP3bgnBGlvdE/E2HD0ytl0T+62or9ZffQPxb7y+7Jw9I/rrZif9k90T+At0CC4sfQP9lfdk8eFtI/3EYDeAsk1D+FfNCzWfXRPyxlGeJYF9M/wcqhRbbz2T8ldQKaCBvSP0vqBDQRNtA/A3gLJCh+zD+oV8oyxLHOP6qCUUmdgM4/fdCzWfW50j/35GGh1jTPPzBMpgpGJcU/i2zn+6nx1j8ydy0hH/TUP5EPejarPt8/dk8eFmpN0z/2l92Th4XSP1dbsb/sntQ/IR/0bFZ90j8tQxzr4jbKP4ofY+5aQs4/aJHtfD811j9YyjLEsS7SP/p+arx0k9A/9P3UeOkm1T+k374OnDPWP0cDeAskKNI/EoPAyqFF1j/o2az6XG3RP73jFB3J5dM/JXUCmggb0j8noImw4enFP+M2GsBbINE/fa62Yn/Z1T/yQc9m1efKP6wcWmQ739M/ysNCrWne0T9hVFInoInQP/RsVn2uttY/cT0K16NwzT/5oGez6nPRP5m7lpAPeuI/xm00gLdA0j9iodY07zjRPxSuR+F6FM4/ak3zjlN01D/7y+7Jw0LVP/kx5q4l5NM/I0p7gy9M0j/gvg6cM6LYP86qz9VW7NM/SZ2AJsKGzz+xv+yePCzQP7u4jQbwFtA/Z0Rpb/CF0T/129eBc0bUP6HWNO84Rc8//7J78rBQ1z9kzF1LyAfNP5wzorQ3+NY/5WGh1jTv0D+Nl24Sg8DKP5ZDi2zn+9E/2c73U+Olyz/arPpcbcXOP50Rpb3BF9I/TKYKRiV10j++MJkqGJXUP2N/2T15WMg/8tJNYhBY0T+C4seYu5bQP18pyxDHutA/lrIMcayL0z/HSzeJQWDNP/s6cM6I0sY/1zTvOEVH0j+1pnnHKTraPx6n6Egu/9U/5x2n6Eguxz9SuB6F61HUP9qs+lxtxdI/FD/G3LWE1D8u/yH99nXQP3sUrkfhetQ/aQBvgQTFzz+coiO5/IfgP/kx5q4l5Ms/HThnRGlvyD/6fmq8dJPUPzMzMzMzM9M/mN2Th4Va0z+DwMqhRbbTPzQRNjy9Us4/HThnRGlv1D+ze/KwUGveP8GopE5AE9E/BTQRNjy90j/ysFBrmnfUP6+UZYhjXdw/7uvAOSNK0z9CYOXQItvVP8WPMXctIdM/9ihcj8L11D+ze/KwUGvaPxkEVg4tss0/dQKaCBue0j/TTWIQWDnQPw6+MJkqGMU/FD/G3LWExD95WKg1zTvePwisHFpkO9c/duCcEaW91T8Jih9j7lrSP9nO91PjpdM/PujZrPpc0T8QWDm0yHbOPwRWDi2yndM/WmQ730+N0z88vVKWIY7ZP5kqGJXUCdA/uECC4seY0z8j2/l+arzQP/JBz2bV59I/2V92Tx4W0j8g0m9fB87VP73jFB3J5dM/eVioNc070j/+ZffkYaHSP2+BBMWPMc8/93XgnBGl0T8DeAskKH7MPyS5/If029M/aCJseHqlzD/+1HjpJjHIP4ofY+5aQtI//tR46SYx0D9UdCSX/5DSP0ATYcPTK9U/7C+7Jw8L0T/jpZvEILDSP4j029eBc9I/oWez6nO10T+IhVrTvOPQP6g1zTtO0dU/seHplbIM0T/EsS5uowHUP/Cnxks3idE/1edqK/aX0T/3Bl+YTBXUP6pgVFInoNU/UWuad5yi0z+30QDeAgnSP+5aQj7o2dQ/foy5awn51D+Zu5aQD3rWP+0NvjCZKtQ/bVZ9rrZizz+MuWsJ+aDTP0ATYcPTK9E/vjCZKhiV1D8Jih9j7lrSPzeJQWDl0NI/OwFNhA1Pzz8bnl4pyxDXP3npJjEIrNA/n6ut2F92zz+Sy39Iv33RPzY8vVKWIdI/WMoyxLEu0j8Rx7q4jQbQP9Ei2/l+asw/uycPC7Wm0T9ZhjjWxW3QPxfZzvdT480/tvP91Hjp0j/uWkI+6NnUP5tVn6ut2NM/YOXQItv51j/ufD81XrrRPxE2PL1Slsk/1XjpJjEI0D9aZDvfT43PPzy9UpYhjs0/tvP91Hjp0j/UmuYdp+jUP4Za07zjFM0/FNBE2PD00j9vEoPAyqHVP5tVn6ut2NM/NBE2PL1Szj+MSuoENBHSP8oyxLEubss/4QuTqYJRyT87cM6I0t7QP4zbaABvgcw/rfpcbcX+0j/Jdr6fGi/RP4Za07zjFNU/FmpN845TzD9seHqlLEPMPzSitDf4wtQ/utqK/WX30D9N845TdCTTP9xoAG+BBM0/nDOitDf4yj9wXwfOGVHWP/7UeOkmMdA/DXGsi9to0D8ZBFYOLbLVPwfOGVHaG9Q/YVRSJ6CJyD+2hHzQs1nNPx6n6Egu/9E/qvHSTWIQ1D/aG3xhMlXIP8X+snvysNA/WmQ730+N0z8hH/RsVn3OP9O84xQdyeE/ZMxdS8gH0T8VjErqBDTRP+F6FK5H4co/tRX7y+7Jyz8kufyH9NvTP9/gC5OpgtE/w2SqYFRS0z/5D+m3rwPXP/32deCcEdU/arx0kxgE0j9jf9k9eVjQP0Rpb/CFydA/xY8xdy0hzz+WsgxxrIvXP/aX3ZOHhdI/RpT2Bl+Y0D/SAN4CCYrTP2iz6nO1FdM/4zYawFsg1T8X2c73U+PZPxkEVg4tstE/1lbsL7snzz8730+Nl27SP73jFB3J5dM/ArwFEhQ/0j88TtGRXP7TPwpoImx4etE/XrpJDAIr2z8EVg4tsp3XPwfwFkhQ/NA/P8bctYR80D8Spb3BFybLP86qz9VW7NM/eVioNc07zj/WVuwvuyfPP34dOGdEac8/vjCZKhiVzD//If32deDQPwBvgQTFj9E/hslUwaikzj+0WfW52orRP4qw4emVstA/5WGh1jTv1D9GlPYGX5jUP6rx0k1iENA/tFn1udqK0T8dyeU/pN/ePxPyQc9m1c8/Rrbz/dR40T/ZPXlYqDXRP799HThnRNU/dnEbDeAt1D9XW7G/7J7QP662Yn/ZPdE/zO7Jw0Kt1T+gibDh6ZXaPxNhw9MrZdU/A3gLJCh+1D9d3EYDeAvMP3uDL0ymCtI/3+ALk6mC0T+/DpwzorTPP6foSC7/IdE/MCqpE9BE0D9ApN++DpzLPz/G3LWEfNA/63O1FfvL0j+yne+nxkvPP4QNT6+UZdQ/xyk6kst/2D/BOSNKe4PTP6H4MeauJdA/OUVHcvkP0T817zhFR3LJP/p+arx0k9A/07zjFB3J0T/4U+Olm8TUP7ByaJHtfM8/2PD0SlmG1D/Sb18HzhnVP2B2Tx4Was0/VTAqqRPQzD8PC7WmecfRP5tVn6ut2M8/L90kBoGV0z/pJjEIrBzWP4JzRpT2BtM/q8/VVuwv0z/vycNCrWnOPyBj7lpCPtQ/xf6ye/Kw1D+uR+F6FK7TPxpR2ht8YdI/gEi/fR040z/D9Shcj8LRP86I0t7gC9M/BoGVQ4ts0z+dEaW9wRfSP/VKWYY41tE/AG+BBMWP0T9qTfOOU3TUP4xK6gQ0Ec4/hxbZzvdT0z9g5dAi2/nSP6qCUUmdgM4/g8DKoUW2yz+BJsKGp1fSP+viNhrAW9A/umsJ+aBn0z+RD3o2qz7TPylcj8L1KNA/Y3/ZPXlY1D8VjErqBDTVP3E9CtejcNE/9wZfmEwV0D8QejarPlfLP6jGSzeJQdA/AAAAAAAA0D96xyk6ksvHP4MvTKYKRtE/HHxhMlUw0j/gvg6cM6LQP77BFyZTBdM/CtejcD0K1z+MuWsJ+aDPP2TMXUvIB80/Gy/dJAaBzT+2hHzQs1nNP8NkqmBUUs8/PZtVn6ut0D8hsHJoke3UPwfOGVHaG8w/TKYKRiV10j8qOpLLf0jPP6OSOgFNhM0/oWez6nO1zT/dJAaBlUPTPxDpt68D59A/arx0kxgEzj8lBoGVQ4vUP8/3U+Olm8w/aJHtfD810j9Iv30dOGfQP+PHmLuWkNM/+aBns+pzzT+gGi/dJAbRP44G8BZIUNQ/2qz6XG3Fzj8VjErqBDTRP4SezarP1c4/FD/G3LWE0D/MXUvIBz3TPw+cM6K0N9A/MEymCkYl0T/7OnDOiNLSP+oENBE2PNU/63O1FfvLzj9HA3gLJCjOPyzUmuYdp9Q/zH9Iv30d0D+vlGWIY13QPz2bVZ+rrdQ/BoGVQ4tszz8Q6bevA+fUP/wYc9cS8tE/dLUV+8vu3T/Xo3A9CtfTP/s6cM6I0sY/kX77OnDO1D/Jdr6fGi/NP1HaG3xhMtE/NBE2PL1Szj956SYxCKzUPwaBlUOLbNM/qvHSTWIQ0D9YObTIdr7PP+hqK/aX3cs/IEHxY8xd1z/+1HjpJjHUP7FQa5p3nNI/U5YhjnVx0z+1pnnHKTrSPy0hH/RsVtE/mG4Sg8DK0T9xPQrXo3DNPyo6kst/SNM/tTf4wmSq0D+OdXEbDeDNP4ts5/up8dY/kX77OnDO0D/ZPXlYqDXNPy/dJAaBldM/6pWyDHGs0z+OBvAWSFDQP9jw9EpZhtA/nYAmwoan0z8eFmpN847XP4Y41sVtNNQ/r5RliGNd0D95WKg1zTvSP4hjXdxGA9A/LGUZ4lgX0z8y5q4l5IPWP4GVQ4ts59M/2c73U+Olyz9cIEHxY8zRP0dy+Q/pt88/FD/G3LWE1D+FfNCzWfXRP8/3U+Olm9Q/lPYGX5hMzT82qz5XW7HTP799HThnRNE/OGdEaW/w0T+neccpOpLTP0Jg5dAi29E/5IOezarPzT+EDU+vlGXUPyQofoy5a9E/nYAmwoanzz9EaW/whcnMP9Sa5h2n6NA/uK8D54wo0T9iodY07zjRP9obfGEyVdA/ayv2l92T0z+fq63YX3bPP7mNBvAWSNQ/c9cS8kHPzj9eukkMAivPP807TtGRXM4/A3gLJCh+zD8ydy0hH/TMP65H4XoUrs8/EOm3rwPnzD9GJXUCmgjLP83MzMzMzMw/XdxGA3gLxD/PZtXnaivaP8nlP6TfvtI/ke18PzVeyj8u/yH99nXQP8BbIEHxY8w/RwN4CyQo2j9Wn6ut2F/SPw==",
          "dtype": "f8"
         },
         "y0": " ",
         "yaxis": "y"
        }
       ],
       "layout": {
        "boxmode": "group",
        "legend": {
         "tracegroupgap": 0
        },
        "margin": {
         "t": 60
        },
        "template": {
         "data": {
          "bar": [
           {
            "error_x": {
             "color": "#2a3f5f"
            },
            "error_y": {
             "color": "#2a3f5f"
            },
            "marker": {
             "line": {
              "color": "#E5ECF6",
              "width": 0.5
             },
             "pattern": {
              "fillmode": "overlay",
              "size": 10,
              "solidity": 0.2
             }
            },
            "type": "bar"
           }
          ],
          "barpolar": [
           {
            "marker": {
             "line": {
              "color": "#E5ECF6",
              "width": 0.5
             },
             "pattern": {
              "fillmode": "overlay",
              "size": 10,
              "solidity": 0.2
             }
            },
            "type": "barpolar"
           }
          ],
          "carpet": [
           {
            "aaxis": {
             "endlinecolor": "#2a3f5f",
             "gridcolor": "white",
             "linecolor": "white",
             "minorgridcolor": "white",
             "startlinecolor": "#2a3f5f"
            },
            "baxis": {
             "endlinecolor": "#2a3f5f",
             "gridcolor": "white",
             "linecolor": "white",
             "minorgridcolor": "white",
             "startlinecolor": "#2a3f5f"
            },
            "type": "carpet"
           }
          ],
          "choropleth": [
           {
            "colorbar": {
             "outlinewidth": 0,
             "ticks": ""
            },
            "type": "choropleth"
           }
          ],
          "contour": [
           {
            "colorbar": {
             "outlinewidth": 0,
             "ticks": ""
            },
            "colorscale": [
             [
              0,
              "#0d0887"
             ],
             [
              0.1111111111111111,
              "#46039f"
             ],
             [
              0.2222222222222222,
              "#7201a8"
             ],
             [
              0.3333333333333333,
              "#9c179e"
             ],
             [
              0.4444444444444444,
              "#bd3786"
             ],
             [
              0.5555555555555556,
              "#d8576b"
             ],
             [
              0.6666666666666666,
              "#ed7953"
             ],
             [
              0.7777777777777778,
              "#fb9f3a"
             ],
             [
              0.8888888888888888,
              "#fdca26"
             ],
             [
              1,
              "#f0f921"
             ]
            ],
            "type": "contour"
           }
          ],
          "contourcarpet": [
           {
            "colorbar": {
             "outlinewidth": 0,
             "ticks": ""
            },
            "type": "contourcarpet"
           }
          ],
          "heatmap": [
           {
            "colorbar": {
             "outlinewidth": 0,
             "ticks": ""
            },
            "colorscale": [
             [
              0,
              "#0d0887"
             ],
             [
              0.1111111111111111,
              "#46039f"
             ],
             [
              0.2222222222222222,
              "#7201a8"
             ],
             [
              0.3333333333333333,
              "#9c179e"
             ],
             [
              0.4444444444444444,
              "#bd3786"
             ],
             [
              0.5555555555555556,
              "#d8576b"
             ],
             [
              0.6666666666666666,
              "#ed7953"
             ],
             [
              0.7777777777777778,
              "#fb9f3a"
             ],
             [
              0.8888888888888888,
              "#fdca26"
             ],
             [
              1,
              "#f0f921"
             ]
            ],
            "type": "heatmap"
           }
          ],
          "histogram": [
           {
            "marker": {
             "pattern": {
              "fillmode": "overlay",
              "size": 10,
              "solidity": 0.2
             }
            },
            "type": "histogram"
           }
          ],
          "histogram2d": [
           {
            "colorbar": {
             "outlinewidth": 0,
             "ticks": ""
            },
            "colorscale": [
             [
              0,
              "#0d0887"
             ],
             [
              0.1111111111111111,
              "#46039f"
             ],
             [
              0.2222222222222222,
              "#7201a8"
             ],
             [
              0.3333333333333333,
              "#9c179e"
             ],
             [
              0.4444444444444444,
              "#bd3786"
             ],
             [
              0.5555555555555556,
              "#d8576b"
             ],
             [
              0.6666666666666666,
              "#ed7953"
             ],
             [
              0.7777777777777778,
              "#fb9f3a"
             ],
             [
              0.8888888888888888,
              "#fdca26"
             ],
             [
              1,
              "#f0f921"
             ]
            ],
            "type": "histogram2d"
           }
          ],
          "histogram2dcontour": [
           {
            "colorbar": {
             "outlinewidth": 0,
             "ticks": ""
            },
            "colorscale": [
             [
              0,
              "#0d0887"
             ],
             [
              0.1111111111111111,
              "#46039f"
             ],
             [
              0.2222222222222222,
              "#7201a8"
             ],
             [
              0.3333333333333333,
              "#9c179e"
             ],
             [
              0.4444444444444444,
              "#bd3786"
             ],
             [
              0.5555555555555556,
              "#d8576b"
             ],
             [
              0.6666666666666666,
              "#ed7953"
             ],
             [
              0.7777777777777778,
              "#fb9f3a"
             ],
             [
              0.8888888888888888,
              "#fdca26"
             ],
             [
              1,
              "#f0f921"
             ]
            ],
            "type": "histogram2dcontour"
           }
          ],
          "mesh3d": [
           {
            "colorbar": {
             "outlinewidth": 0,
             "ticks": ""
            },
            "type": "mesh3d"
           }
          ],
          "parcoords": [
           {
            "line": {
             "colorbar": {
              "outlinewidth": 0,
              "ticks": ""
             }
            },
            "type": "parcoords"
           }
          ],
          "pie": [
           {
            "automargin": true,
            "type": "pie"
           }
          ],
          "scatter": [
           {
            "fillpattern": {
             "fillmode": "overlay",
             "size": 10,
             "solidity": 0.2
            },
            "type": "scatter"
           }
          ],
          "scatter3d": [
           {
            "line": {
             "colorbar": {
              "outlinewidth": 0,
              "ticks": ""
             }
            },
            "marker": {
             "colorbar": {
              "outlinewidth": 0,
              "ticks": ""
             }
            },
            "type": "scatter3d"
           }
          ],
          "scattercarpet": [
           {
            "marker": {
             "colorbar": {
              "outlinewidth": 0,
              "ticks": ""
             }
            },
            "type": "scattercarpet"
           }
          ],
          "scattergeo": [
           {
            "marker": {
             "colorbar": {
              "outlinewidth": 0,
              "ticks": ""
             }
            },
            "type": "scattergeo"
           }
          ],
          "scattergl": [
           {
            "marker": {
             "colorbar": {
              "outlinewidth": 0,
              "ticks": ""
             }
            },
            "type": "scattergl"
           }
          ],
          "scattermap": [
           {
            "marker": {
             "colorbar": {
              "outlinewidth": 0,
              "ticks": ""
             }
            },
            "type": "scattermap"
           }
          ],
          "scattermapbox": [
           {
            "marker": {
             "colorbar": {
              "outlinewidth": 0,
              "ticks": ""
             }
            },
            "type": "scattermapbox"
           }
          ],
          "scatterpolar": [
           {
            "marker": {
             "colorbar": {
              "outlinewidth": 0,
              "ticks": ""
             }
            },
            "type": "scatterpolar"
           }
          ],
          "scatterpolargl": [
           {
            "marker": {
             "colorbar": {
              "outlinewidth": 0,
              "ticks": ""
             }
            },
            "type": "scatterpolargl"
           }
          ],
          "scatterternary": [
           {
            "marker": {
             "colorbar": {
              "outlinewidth": 0,
              "ticks": ""
             }
            },
            "type": "scatterternary"
           }
          ],
          "surface": [
           {
            "colorbar": {
             "outlinewidth": 0,
             "ticks": ""
            },
            "colorscale": [
             [
              0,
              "#0d0887"
             ],
             [
              0.1111111111111111,
              "#46039f"
             ],
             [
              0.2222222222222222,
              "#7201a8"
             ],
             [
              0.3333333333333333,
              "#9c179e"
             ],
             [
              0.4444444444444444,
              "#bd3786"
             ],
             [
              0.5555555555555556,
              "#d8576b"
             ],
             [
              0.6666666666666666,
              "#ed7953"
             ],
             [
              0.7777777777777778,
              "#fb9f3a"
             ],
             [
              0.8888888888888888,
              "#fdca26"
             ],
             [
              1,
              "#f0f921"
             ]
            ],
            "type": "surface"
           }
          ],
          "table": [
           {
            "cells": {
             "fill": {
              "color": "#EBF0F8"
             },
             "line": {
              "color": "white"
             }
            },
            "header": {
             "fill": {
              "color": "#C8D4E3"
             },
             "line": {
              "color": "white"
             }
            },
            "type": "table"
           }
          ]
         },
         "layout": {
          "annotationdefaults": {
           "arrowcolor": "#2a3f5f",
           "arrowhead": 0,
           "arrowwidth": 1
          },
          "autotypenumbers": "strict",
          "coloraxis": {
           "colorbar": {
            "outlinewidth": 0,
            "ticks": ""
           }
          },
          "colorscale": {
           "diverging": [
            [
             0,
             "#8e0152"
            ],
            [
             0.1,
             "#c51b7d"
            ],
            [
             0.2,
             "#de77ae"
            ],
            [
             0.3,
             "#f1b6da"
            ],
            [
             0.4,
             "#fde0ef"
            ],
            [
             0.5,
             "#f7f7f7"
            ],
            [
             0.6,
             "#e6f5d0"
            ],
            [
             0.7,
             "#b8e186"
            ],
            [
             0.8,
             "#7fbc41"
            ],
            [
             0.9,
             "#4d9221"
            ],
            [
             1,
             "#276419"
            ]
           ],
           "sequential": [
            [
             0,
             "#0d0887"
            ],
            [
             0.1111111111111111,
             "#46039f"
            ],
            [
             0.2222222222222222,
             "#7201a8"
            ],
            [
             0.3333333333333333,
             "#9c179e"
            ],
            [
             0.4444444444444444,
             "#bd3786"
            ],
            [
             0.5555555555555556,
             "#d8576b"
            ],
            [
             0.6666666666666666,
             "#ed7953"
            ],
            [
             0.7777777777777778,
             "#fb9f3a"
            ],
            [
             0.8888888888888888,
             "#fdca26"
            ],
            [
             1,
             "#f0f921"
            ]
           ],
           "sequentialminus": [
            [
             0,
             "#0d0887"
            ],
            [
             0.1111111111111111,
             "#46039f"
            ],
            [
             0.2222222222222222,
             "#7201a8"
            ],
            [
             0.3333333333333333,
             "#9c179e"
            ],
            [
             0.4444444444444444,
             "#bd3786"
            ],
            [
             0.5555555555555556,
             "#d8576b"
            ],
            [
             0.6666666666666666,
             "#ed7953"
            ],
            [
             0.7777777777777778,
             "#fb9f3a"
            ],
            [
             0.8888888888888888,
             "#fdca26"
            ],
            [
             1,
             "#f0f921"
            ]
           ]
          },
          "colorway": [
           "#636efa",
           "#EF553B",
           "#00cc96",
           "#ab63fa",
           "#FFA15A",
           "#19d3f3",
           "#FF6692",
           "#B6E880",
           "#FF97FF",
           "#FECB52"
          ],
          "font": {
           "color": "#2a3f5f"
          },
          "geo": {
           "bgcolor": "white",
           "lakecolor": "white",
           "landcolor": "#E5ECF6",
           "showlakes": true,
           "showland": true,
           "subunitcolor": "white"
          },
          "hoverlabel": {
           "align": "left"
          },
          "hovermode": "closest",
          "mapbox": {
           "style": "light"
          },
          "paper_bgcolor": "white",
          "plot_bgcolor": "#E5ECF6",
          "polar": {
           "angularaxis": {
            "gridcolor": "white",
            "linecolor": "white",
            "ticks": ""
           },
           "bgcolor": "#E5ECF6",
           "radialaxis": {
            "gridcolor": "white",
            "linecolor": "white",
            "ticks": ""
           }
          },
          "scene": {
           "xaxis": {
            "backgroundcolor": "#E5ECF6",
            "gridcolor": "white",
            "gridwidth": 2,
            "linecolor": "white",
            "showbackground": true,
            "ticks": "",
            "zerolinecolor": "white"
           },
           "yaxis": {
            "backgroundcolor": "#E5ECF6",
            "gridcolor": "white",
            "gridwidth": 2,
            "linecolor": "white",
            "showbackground": true,
            "ticks": "",
            "zerolinecolor": "white"
           },
           "zaxis": {
            "backgroundcolor": "#E5ECF6",
            "gridcolor": "white",
            "gridwidth": 2,
            "linecolor": "white",
            "showbackground": true,
            "ticks": "",
            "zerolinecolor": "white"
           }
          },
          "shapedefaults": {
           "line": {
            "color": "#2a3f5f"
           }
          },
          "ternary": {
           "aaxis": {
            "gridcolor": "white",
            "linecolor": "white",
            "ticks": ""
           },
           "baxis": {
            "gridcolor": "white",
            "linecolor": "white",
            "ticks": ""
           },
           "bgcolor": "#E5ECF6",
           "caxis": {
            "gridcolor": "white",
            "linecolor": "white",
            "ticks": ""
           }
          },
          "title": {
           "x": 0.05
          },
          "xaxis": {
           "automargin": true,
           "gridcolor": "white",
           "linecolor": "white",
           "ticks": "",
           "title": {
            "standoff": 15
           },
           "zerolinecolor": "white",
           "zerolinewidth": 2
          },
          "yaxis": {
           "automargin": true,
           "gridcolor": "white",
           "linecolor": "white",
           "ticks": "",
           "title": {
            "standoff": 15
           },
           "zerolinecolor": "white",
           "zerolinewidth": 2
          }
         }
        },
        "title": {
         "text": "Boxplot for symmetry_worst - Cancer Dataset"
        },
        "xaxis": {
         "anchor": "y",
         "domain": [
          0,
          1
         ],
         "title": {
          "text": "Category"
         }
        },
        "yaxis": {
         "anchor": "x",
         "domain": [
          0,
          1
         ],
         "title": {
          "text": "symmetry_worst"
         }
        }
       }
      }
     },
     "metadata": {},
     "output_type": "display_data"
    },
    {
     "data": {
      "application/vnd.plotly.v1+json": {
       "config": {
        "plotlyServerURL": "https://plot.ly"
       },
       "data": [
        {
         "alignmentgroup": "True",
         "hovertemplate": "fractal_dimension_worst=%{y}<extra></extra>",
         "legendgroup": "",
         "marker": {
          "color": "#636efa"
         },
         "name": "",
         "notched": false,
         "offsetgroup": "",
         "orientation": "v",
         "showlegend": false,
         "type": "box",
         "x0": " ",
         "xaxis": "x",
         "y": {
          "bdata": "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",
          "dtype": "f8"
         },
         "y0": " ",
         "yaxis": "y"
        }
       ],
       "layout": {
        "boxmode": "group",
        "legend": {
         "tracegroupgap": 0
        },
        "margin": {
         "t": 60
        },
        "template": {
         "data": {
          "bar": [
           {
            "error_x": {
             "color": "#2a3f5f"
            },
            "error_y": {
             "color": "#2a3f5f"
            },
            "marker": {
             "line": {
              "color": "#E5ECF6",
              "width": 0.5
             },
             "pattern": {
              "fillmode": "overlay",
              "size": 10,
              "solidity": 0.2
             }
            },
            "type": "bar"
           }
          ],
          "barpolar": [
           {
            "marker": {
             "line": {
              "color": "#E5ECF6",
              "width": 0.5
             },
             "pattern": {
              "fillmode": "overlay",
              "size": 10,
              "solidity": 0.2
             }
            },
            "type": "barpolar"
           }
          ],
          "carpet": [
           {
            "aaxis": {
             "endlinecolor": "#2a3f5f",
             "gridcolor": "white",
             "linecolor": "white",
             "minorgridcolor": "white",
             "startlinecolor": "#2a3f5f"
            },
            "baxis": {
             "endlinecolor": "#2a3f5f",
             "gridcolor": "white",
             "linecolor": "white",
             "minorgridcolor": "white",
             "startlinecolor": "#2a3f5f"
            },
            "type": "carpet"
           }
          ],
          "choropleth": [
           {
            "colorbar": {
             "outlinewidth": 0,
             "ticks": ""
            },
            "type": "choropleth"
           }
          ],
          "contour": [
           {
            "colorbar": {
             "outlinewidth": 0,
             "ticks": ""
            },
            "colorscale": [
             [
              0,
              "#0d0887"
             ],
             [
              0.1111111111111111,
              "#46039f"
             ],
             [
              0.2222222222222222,
              "#7201a8"
             ],
             [
              0.3333333333333333,
              "#9c179e"
             ],
             [
              0.4444444444444444,
              "#bd3786"
             ],
             [
              0.5555555555555556,
              "#d8576b"
             ],
             [
              0.6666666666666666,
              "#ed7953"
             ],
             [
              0.7777777777777778,
              "#fb9f3a"
             ],
             [
              0.8888888888888888,
              "#fdca26"
             ],
             [
              1,
              "#f0f921"
             ]
            ],
            "type": "contour"
           }
          ],
          "contourcarpet": [
           {
            "colorbar": {
             "outlinewidth": 0,
             "ticks": ""
            },
            "type": "contourcarpet"
           }
          ],
          "heatmap": [
           {
            "colorbar": {
             "outlinewidth": 0,
             "ticks": ""
            },
            "colorscale": [
             [
              0,
              "#0d0887"
             ],
             [
              0.1111111111111111,
              "#46039f"
             ],
             [
              0.2222222222222222,
              "#7201a8"
             ],
             [
              0.3333333333333333,
              "#9c179e"
             ],
             [
              0.4444444444444444,
              "#bd3786"
             ],
             [
              0.5555555555555556,
              "#d8576b"
             ],
             [
              0.6666666666666666,
              "#ed7953"
             ],
             [
              0.7777777777777778,
              "#fb9f3a"
             ],
             [
              0.8888888888888888,
              "#fdca26"
             ],
             [
              1,
              "#f0f921"
             ]
            ],
            "type": "heatmap"
           }
          ],
          "histogram": [
           {
            "marker": {
             "pattern": {
              "fillmode": "overlay",
              "size": 10,
              "solidity": 0.2
             }
            },
            "type": "histogram"
           }
          ],
          "histogram2d": [
           {
            "colorbar": {
             "outlinewidth": 0,
             "ticks": ""
            },
            "colorscale": [
             [
              0,
              "#0d0887"
             ],
             [
              0.1111111111111111,
              "#46039f"
             ],
             [
              0.2222222222222222,
              "#7201a8"
             ],
             [
              0.3333333333333333,
              "#9c179e"
             ],
             [
              0.4444444444444444,
              "#bd3786"
             ],
             [
              0.5555555555555556,
              "#d8576b"
             ],
             [
              0.6666666666666666,
              "#ed7953"
             ],
             [
              0.7777777777777778,
              "#fb9f3a"
             ],
             [
              0.8888888888888888,
              "#fdca26"
             ],
             [
              1,
              "#f0f921"
             ]
            ],
            "type": "histogram2d"
           }
          ],
          "histogram2dcontour": [
           {
            "colorbar": {
             "outlinewidth": 0,
             "ticks": ""
            },
            "colorscale": [
             [
              0,
              "#0d0887"
             ],
             [
              0.1111111111111111,
              "#46039f"
             ],
             [
              0.2222222222222222,
              "#7201a8"
             ],
             [
              0.3333333333333333,
              "#9c179e"
             ],
             [
              0.4444444444444444,
              "#bd3786"
             ],
             [
              0.5555555555555556,
              "#d8576b"
             ],
             [
              0.6666666666666666,
              "#ed7953"
             ],
             [
              0.7777777777777778,
              "#fb9f3a"
             ],
             [
              0.8888888888888888,
              "#fdca26"
             ],
             [
              1,
              "#f0f921"
             ]
            ],
            "type": "histogram2dcontour"
           }
          ],
          "mesh3d": [
           {
            "colorbar": {
             "outlinewidth": 0,
             "ticks": ""
            },
            "type": "mesh3d"
           }
          ],
          "parcoords": [
           {
            "line": {
             "colorbar": {
              "outlinewidth": 0,
              "ticks": ""
             }
            },
            "type": "parcoords"
           }
          ],
          "pie": [
           {
            "automargin": true,
            "type": "pie"
           }
          ],
          "scatter": [
           {
            "fillpattern": {
             "fillmode": "overlay",
             "size": 10,
             "solidity": 0.2
            },
            "type": "scatter"
           }
          ],
          "scatter3d": [
           {
            "line": {
             "colorbar": {
              "outlinewidth": 0,
              "ticks": ""
             }
            },
            "marker": {
             "colorbar": {
              "outlinewidth": 0,
              "ticks": ""
             }
            },
            "type": "scatter3d"
           }
          ],
          "scattercarpet": [
           {
            "marker": {
             "colorbar": {
              "outlinewidth": 0,
              "ticks": ""
             }
            },
            "type": "scattercarpet"
           }
          ],
          "scattergeo": [
           {
            "marker": {
             "colorbar": {
              "outlinewidth": 0,
              "ticks": ""
             }
            },
            "type": "scattergeo"
           }
          ],
          "scattergl": [
           {
            "marker": {
             "colorbar": {
              "outlinewidth": 0,
              "ticks": ""
             }
            },
            "type": "scattergl"
           }
          ],
          "scattermap": [
           {
            "marker": {
             "colorbar": {
              "outlinewidth": 0,
              "ticks": ""
             }
            },
            "type": "scattermap"
           }
          ],
          "scattermapbox": [
           {
            "marker": {
             "colorbar": {
              "outlinewidth": 0,
              "ticks": ""
             }
            },
            "type": "scattermapbox"
           }
          ],
          "scatterpolar": [
           {
            "marker": {
             "colorbar": {
              "outlinewidth": 0,
              "ticks": ""
             }
            },
            "type": "scatterpolar"
           }
          ],
          "scatterpolargl": [
           {
            "marker": {
             "colorbar": {
              "outlinewidth": 0,
              "ticks": ""
             }
            },
            "type": "scatterpolargl"
           }
          ],
          "scatterternary": [
           {
            "marker": {
             "colorbar": {
              "outlinewidth": 0,
              "ticks": ""
             }
            },
            "type": "scatterternary"
           }
          ],
          "surface": [
           {
            "colorbar": {
             "outlinewidth": 0,
             "ticks": ""
            },
            "colorscale": [
             [
              0,
              "#0d0887"
             ],
             [
              0.1111111111111111,
              "#46039f"
             ],
             [
              0.2222222222222222,
              "#7201a8"
             ],
             [
              0.3333333333333333,
              "#9c179e"
             ],
             [
              0.4444444444444444,
              "#bd3786"
             ],
             [
              0.5555555555555556,
              "#d8576b"
             ],
             [
              0.6666666666666666,
              "#ed7953"
             ],
             [
              0.7777777777777778,
              "#fb9f3a"
             ],
             [
              0.8888888888888888,
              "#fdca26"
             ],
             [
              1,
              "#f0f921"
             ]
            ],
            "type": "surface"
           }
          ],
          "table": [
           {
            "cells": {
             "fill": {
              "color": "#EBF0F8"
             },
             "line": {
              "color": "white"
             }
            },
            "header": {
             "fill": {
              "color": "#C8D4E3"
             },
             "line": {
              "color": "white"
             }
            },
            "type": "table"
           }
          ]
         },
         "layout": {
          "annotationdefaults": {
           "arrowcolor": "#2a3f5f",
           "arrowhead": 0,
           "arrowwidth": 1
          },
          "autotypenumbers": "strict",
          "coloraxis": {
           "colorbar": {
            "outlinewidth": 0,
            "ticks": ""
           }
          },
          "colorscale": {
           "diverging": [
            [
             0,
             "#8e0152"
            ],
            [
             0.1,
             "#c51b7d"
            ],
            [
             0.2,
             "#de77ae"
            ],
            [
             0.3,
             "#f1b6da"
            ],
            [
             0.4,
             "#fde0ef"
            ],
            [
             0.5,
             "#f7f7f7"
            ],
            [
             0.6,
             "#e6f5d0"
            ],
            [
             0.7,
             "#b8e186"
            ],
            [
             0.8,
             "#7fbc41"
            ],
            [
             0.9,
             "#4d9221"
            ],
            [
             1,
             "#276419"
            ]
           ],
           "sequential": [
            [
             0,
             "#0d0887"
            ],
            [
             0.1111111111111111,
             "#46039f"
            ],
            [
             0.2222222222222222,
             "#7201a8"
            ],
            [
             0.3333333333333333,
             "#9c179e"
            ],
            [
             0.4444444444444444,
             "#bd3786"
            ],
            [
             0.5555555555555556,
             "#d8576b"
            ],
            [
             0.6666666666666666,
             "#ed7953"
            ],
            [
             0.7777777777777778,
             "#fb9f3a"
            ],
            [
             0.8888888888888888,
             "#fdca26"
            ],
            [
             1,
             "#f0f921"
            ]
           ],
           "sequentialminus": [
            [
             0,
             "#0d0887"
            ],
            [
             0.1111111111111111,
             "#46039f"
            ],
            [
             0.2222222222222222,
             "#7201a8"
            ],
            [
             0.3333333333333333,
             "#9c179e"
            ],
            [
             0.4444444444444444,
             "#bd3786"
            ],
            [
             0.5555555555555556,
             "#d8576b"
            ],
            [
             0.6666666666666666,
             "#ed7953"
            ],
            [
             0.7777777777777778,
             "#fb9f3a"
            ],
            [
             0.8888888888888888,
             "#fdca26"
            ],
            [
             1,
             "#f0f921"
            ]
           ]
          },
          "colorway": [
           "#636efa",
           "#EF553B",
           "#00cc96",
           "#ab63fa",
           "#FFA15A",
           "#19d3f3",
           "#FF6692",
           "#B6E880",
           "#FF97FF",
           "#FECB52"
          ],
          "font": {
           "color": "#2a3f5f"
          },
          "geo": {
           "bgcolor": "white",
           "lakecolor": "white",
           "landcolor": "#E5ECF6",
           "showlakes": true,
           "showland": true,
           "subunitcolor": "white"
          },
          "hoverlabel": {
           "align": "left"
          },
          "hovermode": "closest",
          "mapbox": {
           "style": "light"
          },
          "paper_bgcolor": "white",
          "plot_bgcolor": "#E5ECF6",
          "polar": {
           "angularaxis": {
            "gridcolor": "white",
            "linecolor": "white",
            "ticks": ""
           },
           "bgcolor": "#E5ECF6",
           "radialaxis": {
            "gridcolor": "white",
            "linecolor": "white",
            "ticks": ""
           }
          },
          "scene": {
           "xaxis": {
            "backgroundcolor": "#E5ECF6",
            "gridcolor": "white",
            "gridwidth": 2,
            "linecolor": "white",
            "showbackground": true,
            "ticks": "",
            "zerolinecolor": "white"
           },
           "yaxis": {
            "backgroundcolor": "#E5ECF6",
            "gridcolor": "white",
            "gridwidth": 2,
            "linecolor": "white",
            "showbackground": true,
            "ticks": "",
            "zerolinecolor": "white"
           },
           "zaxis": {
            "backgroundcolor": "#E5ECF6",
            "gridcolor": "white",
            "gridwidth": 2,
            "linecolor": "white",
            "showbackground": true,
            "ticks": "",
            "zerolinecolor": "white"
           }
          },
          "shapedefaults": {
           "line": {
            "color": "#2a3f5f"
           }
          },
          "ternary": {
           "aaxis": {
            "gridcolor": "white",
            "linecolor": "white",
            "ticks": ""
           },
           "baxis": {
            "gridcolor": "white",
            "linecolor": "white",
            "ticks": ""
           },
           "bgcolor": "#E5ECF6",
           "caxis": {
            "gridcolor": "white",
            "linecolor": "white",
            "ticks": ""
           }
          },
          "title": {
           "x": 0.05
          },
          "xaxis": {
           "automargin": true,
           "gridcolor": "white",
           "linecolor": "white",
           "ticks": "",
           "title": {
            "standoff": 15
           },
           "zerolinecolor": "white",
           "zerolinewidth": 2
          },
          "yaxis": {
           "automargin": true,
           "gridcolor": "white",
           "linecolor": "white",
           "ticks": "",
           "title": {
            "standoff": 15
           },
           "zerolinecolor": "white",
           "zerolinewidth": 2
          }
         }
        },
        "title": {
         "text": "Boxplot for fractal_dimension_worst - Cancer Dataset"
        },
        "xaxis": {
         "anchor": "y",
         "domain": [
          0,
          1
         ],
         "title": {
          "text": "Category"
         }
        },
        "yaxis": {
         "anchor": "x",
         "domain": [
          0,
          1
         ],
         "title": {
          "text": "fractal_dimension_worst"
         }
        }
       }
      }
     },
     "metadata": {},
     "output_type": "display_data"
    },
    {
     "name": "stdout",
     "output_type": "stream",
     "text": [
      "\n",
      "Creating boxplots for Iris dataset:\n"
     ]
    },
    {
     "data": {
      "application/vnd.plotly.v1+json": {
       "config": {
        "plotlyServerURL": "https://plot.ly"
       },
       "data": [
        {
         "alignmentgroup": "True",
         "hovertemplate": "sepal_length=%{y}<extra></extra>",
         "legendgroup": "",
         "marker": {
          "color": "#636efa"
         },
         "name": "",
         "notched": false,
         "offsetgroup": "",
         "orientation": "v",
         "showlegend": false,
         "type": "box",
         "x0": " ",
         "xaxis": "x",
         "y": {
          "bdata": "ZmZmZmZmFECamZmZmZkTQM3MzMzMzBJAZmZmZmZmEkAAAAAAAAAUQJqZmZmZmRVAZmZmZmZmEkAAAAAAAAAUQJqZmZmZmRFAmpmZmZmZE0CamZmZmZkVQDMzMzMzMxNAMzMzMzMzE0AzMzMzMzMRQDMzMzMzMxdAzczMzMzMFkCamZmZmZkVQGZmZmZmZhRAzczMzMzMFkBmZmZmZmYUQJqZmZmZmRVAZmZmZmZmFEBmZmZmZmYSQGZmZmZmZhRAMzMzMzMzE0AAAAAAAAAUQAAAAAAAABRAzczMzMzMFEDNzMzMzMwUQM3MzMzMzBJAMzMzMzMzE0CamZmZmZkVQM3MzMzMzBRAAAAAAAAAFkCamZmZmZkTQAAAAAAAABRAAAAAAAAAFkCamZmZmZkTQJqZmZmZmRFAZmZmZmZmFEAAAAAAAAAUQAAAAAAAABJAmpmZmZmZEUAAAAAAAAAUQGZmZmZmZhRAMzMzMzMzE0BmZmZmZmYUQGZmZmZmZhJAMzMzMzMzFUAAAAAAAAAUQAAAAAAAABxAmpmZmZmZGUCamZmZmZkbQAAAAAAAABZAAAAAAAAAGkDNzMzMzMwWQDMzMzMzMxlAmpmZmZmZE0BmZmZmZmYaQM3MzMzMzBRAAAAAAAAAFECamZmZmZkXQAAAAAAAABhAZmZmZmZmGEBmZmZmZmYWQM3MzMzMzBpAZmZmZmZmFkAzMzMzMzMXQM3MzMzMzBhAZmZmZmZmFkCamZmZmZkXQGZmZmZmZhhAMzMzMzMzGUBmZmZmZmYYQJqZmZmZmRlAZmZmZmZmGkAzMzMzMzMbQM3MzMzMzBpAAAAAAAAAGEDNzMzMzMwWQAAAAAAAABZAAAAAAAAAFkAzMzMzMzMXQAAAAAAAABhAmpmZmZmZFUAAAAAAAAAYQM3MzMzMzBpAMzMzMzMzGUBmZmZmZmYWQAAAAAAAABZAAAAAAAAAFkBmZmZmZmYYQDMzMzMzMxdAAAAAAAAAFEBmZmZmZmYWQM3MzMzMzBZAzczMzMzMFkDNzMzMzMwYQGZmZmZmZhRAzczMzMzMFkAzMzMzMzMZQDMzMzMzMxdAZmZmZmZmHEAzMzMzMzMZQAAAAAAAABpAZmZmZmZmHkCamZmZmZkTQDMzMzMzMx1AzczMzMzMGkDNzMzMzMwcQAAAAAAAABpAmpmZmZmZGUAzMzMzMzMbQM3MzMzMzBZAMzMzMzMzF0CamZmZmZkZQAAAAAAAABpAzczMzMzMHkDNzMzMzMweQAAAAAAAABhAmpmZmZmZG0BmZmZmZmYWQM3MzMzMzB5AMzMzMzMzGUDNzMzMzMwaQM3MzMzMzBxAzczMzMzMGEBmZmZmZmYYQJqZmZmZmRlAzczMzMzMHECamZmZmZkdQJqZmZmZmR9AmpmZmZmZGUAzMzMzMzMZQGZmZmZmZhhAzczMzMzMHkAzMzMzMzMZQJqZmZmZmRlAAAAAAAAAGECamZmZmZkbQM3MzMzMzBpAmpmZmZmZG0AzMzMzMzMXQDMzMzMzMxtAzczMzMzMGkDNzMzMzMwaQDMzMzMzMxlAAAAAAAAAGkDNzMzMzMwYQJqZmZmZmRdA",
          "dtype": "f8"
         },
         "y0": " ",
         "yaxis": "y"
        }
       ],
       "layout": {
        "boxmode": "group",
        "legend": {
         "tracegroupgap": 0
        },
        "margin": {
         "t": 60
        },
        "template": {
         "data": {
          "bar": [
           {
            "error_x": {
             "color": "#2a3f5f"
            },
            "error_y": {
             "color": "#2a3f5f"
            },
            "marker": {
             "line": {
              "color": "#E5ECF6",
              "width": 0.5
             },
             "pattern": {
              "fillmode": "overlay",
              "size": 10,
              "solidity": 0.2
             }
            },
            "type": "bar"
           }
          ],
          "barpolar": [
           {
            "marker": {
             "line": {
              "color": "#E5ECF6",
              "width": 0.5
             },
             "pattern": {
              "fillmode": "overlay",
              "size": 10,
              "solidity": 0.2
             }
            },
            "type": "barpolar"
           }
          ],
          "carpet": [
           {
            "aaxis": {
             "endlinecolor": "#2a3f5f",
             "gridcolor": "white",
             "linecolor": "white",
             "minorgridcolor": "white",
             "startlinecolor": "#2a3f5f"
            },
            "baxis": {
             "endlinecolor": "#2a3f5f",
             "gridcolor": "white",
             "linecolor": "white",
             "minorgridcolor": "white",
             "startlinecolor": "#2a3f5f"
            },
            "type": "carpet"
           }
          ],
          "choropleth": [
           {
            "colorbar": {
             "outlinewidth": 0,
             "ticks": ""
            },
            "type": "choropleth"
           }
          ],
          "contour": [
           {
            "colorbar": {
             "outlinewidth": 0,
             "ticks": ""
            },
            "colorscale": [
             [
              0,
              "#0d0887"
             ],
             [
              0.1111111111111111,
              "#46039f"
             ],
             [
              0.2222222222222222,
              "#7201a8"
             ],
             [
              0.3333333333333333,
              "#9c179e"
             ],
             [
              0.4444444444444444,
              "#bd3786"
             ],
             [
              0.5555555555555556,
              "#d8576b"
             ],
             [
              0.6666666666666666,
              "#ed7953"
             ],
             [
              0.7777777777777778,
              "#fb9f3a"
             ],
             [
              0.8888888888888888,
              "#fdca26"
             ],
             [
              1,
              "#f0f921"
             ]
            ],
            "type": "contour"
           }
          ],
          "contourcarpet": [
           {
            "colorbar": {
             "outlinewidth": 0,
             "ticks": ""
            },
            "type": "contourcarpet"
           }
          ],
          "heatmap": [
           {
            "colorbar": {
             "outlinewidth": 0,
             "ticks": ""
            },
            "colorscale": [
             [
              0,
              "#0d0887"
             ],
             [
              0.1111111111111111,
              "#46039f"
             ],
             [
              0.2222222222222222,
              "#7201a8"
             ],
             [
              0.3333333333333333,
              "#9c179e"
             ],
             [
              0.4444444444444444,
              "#bd3786"
             ],
             [
              0.5555555555555556,
              "#d8576b"
             ],
             [
              0.6666666666666666,
              "#ed7953"
             ],
             [
              0.7777777777777778,
              "#fb9f3a"
             ],
             [
              0.8888888888888888,
              "#fdca26"
             ],
             [
              1,
              "#f0f921"
             ]
            ],
            "type": "heatmap"
           }
          ],
          "histogram": [
           {
            "marker": {
             "pattern": {
              "fillmode": "overlay",
              "size": 10,
              "solidity": 0.2
             }
            },
            "type": "histogram"
           }
          ],
          "histogram2d": [
           {
            "colorbar": {
             "outlinewidth": 0,
             "ticks": ""
            },
            "colorscale": [
             [
              0,
              "#0d0887"
             ],
             [
              0.1111111111111111,
              "#46039f"
             ],
             [
              0.2222222222222222,
              "#7201a8"
             ],
             [
              0.3333333333333333,
              "#9c179e"
             ],
             [
              0.4444444444444444,
              "#bd3786"
             ],
             [
              0.5555555555555556,
              "#d8576b"
             ],
             [
              0.6666666666666666,
              "#ed7953"
             ],
             [
              0.7777777777777778,
              "#fb9f3a"
             ],
             [
              0.8888888888888888,
              "#fdca26"
             ],
             [
              1,
              "#f0f921"
             ]
            ],
            "type": "histogram2d"
           }
          ],
          "histogram2dcontour": [
           {
            "colorbar": {
             "outlinewidth": 0,
             "ticks": ""
            },
            "colorscale": [
             [
              0,
              "#0d0887"
             ],
             [
              0.1111111111111111,
              "#46039f"
             ],
             [
              0.2222222222222222,
              "#7201a8"
             ],
             [
              0.3333333333333333,
              "#9c179e"
             ],
             [
              0.4444444444444444,
              "#bd3786"
             ],
             [
              0.5555555555555556,
              "#d8576b"
             ],
             [
              0.6666666666666666,
              "#ed7953"
             ],
             [
              0.7777777777777778,
              "#fb9f3a"
             ],
             [
              0.8888888888888888,
              "#fdca26"
             ],
             [
              1,
              "#f0f921"
             ]
            ],
            "type": "histogram2dcontour"
           }
          ],
          "mesh3d": [
           {
            "colorbar": {
             "outlinewidth": 0,
             "ticks": ""
            },
            "type": "mesh3d"
           }
          ],
          "parcoords": [
           {
            "line": {
             "colorbar": {
              "outlinewidth": 0,
              "ticks": ""
             }
            },
            "type": "parcoords"
           }
          ],
          "pie": [
           {
            "automargin": true,
            "type": "pie"
           }
          ],
          "scatter": [
           {
            "fillpattern": {
             "fillmode": "overlay",
             "size": 10,
             "solidity": 0.2
            },
            "type": "scatter"
           }
          ],
          "scatter3d": [
           {
            "line": {
             "colorbar": {
              "outlinewidth": 0,
              "ticks": ""
             }
            },
            "marker": {
             "colorbar": {
              "outlinewidth": 0,
              "ticks": ""
             }
            },
            "type": "scatter3d"
           }
          ],
          "scattercarpet": [
           {
            "marker": {
             "colorbar": {
              "outlinewidth": 0,
              "ticks": ""
             }
            },
            "type": "scattercarpet"
           }
          ],
          "scattergeo": [
           {
            "marker": {
             "colorbar": {
              "outlinewidth": 0,
              "ticks": ""
             }
            },
            "type": "scattergeo"
           }
          ],
          "scattergl": [
           {
            "marker": {
             "colorbar": {
              "outlinewidth": 0,
              "ticks": ""
             }
            },
            "type": "scattergl"
           }
          ],
          "scattermap": [
           {
            "marker": {
             "colorbar": {
              "outlinewidth": 0,
              "ticks": ""
             }
            },
            "type": "scattermap"
           }
          ],
          "scattermapbox": [
           {
            "marker": {
             "colorbar": {
              "outlinewidth": 0,
              "ticks": ""
             }
            },
            "type": "scattermapbox"
           }
          ],
          "scatterpolar": [
           {
            "marker": {
             "colorbar": {
              "outlinewidth": 0,
              "ticks": ""
             }
            },
            "type": "scatterpolar"
           }
          ],
          "scatterpolargl": [
           {
            "marker": {
             "colorbar": {
              "outlinewidth": 0,
              "ticks": ""
             }
            },
            "type": "scatterpolargl"
           }
          ],
          "scatterternary": [
           {
            "marker": {
             "colorbar": {
              "outlinewidth": 0,
              "ticks": ""
             }
            },
            "type": "scatterternary"
           }
          ],
          "surface": [
           {
            "colorbar": {
             "outlinewidth": 0,
             "ticks": ""
            },
            "colorscale": [
             [
              0,
              "#0d0887"
             ],
             [
              0.1111111111111111,
              "#46039f"
             ],
             [
              0.2222222222222222,
              "#7201a8"
             ],
             [
              0.3333333333333333,
              "#9c179e"
             ],
             [
              0.4444444444444444,
              "#bd3786"
             ],
             [
              0.5555555555555556,
              "#d8576b"
             ],
             [
              0.6666666666666666,
              "#ed7953"
             ],
             [
              0.7777777777777778,
              "#fb9f3a"
             ],
             [
              0.8888888888888888,
              "#fdca26"
             ],
             [
              1,
              "#f0f921"
             ]
            ],
            "type": "surface"
           }
          ],
          "table": [
           {
            "cells": {
             "fill": {
              "color": "#EBF0F8"
             },
             "line": {
              "color": "white"
             }
            },
            "header": {
             "fill": {
              "color": "#C8D4E3"
             },
             "line": {
              "color": "white"
             }
            },
            "type": "table"
           }
          ]
         },
         "layout": {
          "annotationdefaults": {
           "arrowcolor": "#2a3f5f",
           "arrowhead": 0,
           "arrowwidth": 1
          },
          "autotypenumbers": "strict",
          "coloraxis": {
           "colorbar": {
            "outlinewidth": 0,
            "ticks": ""
           }
          },
          "colorscale": {
           "diverging": [
            [
             0,
             "#8e0152"
            ],
            [
             0.1,
             "#c51b7d"
            ],
            [
             0.2,
             "#de77ae"
            ],
            [
             0.3,
             "#f1b6da"
            ],
            [
             0.4,
             "#fde0ef"
            ],
            [
             0.5,
             "#f7f7f7"
            ],
            [
             0.6,
             "#e6f5d0"
            ],
            [
             0.7,
             "#b8e186"
            ],
            [
             0.8,
             "#7fbc41"
            ],
            [
             0.9,
             "#4d9221"
            ],
            [
             1,
             "#276419"
            ]
           ],
           "sequential": [
            [
             0,
             "#0d0887"
            ],
            [
             0.1111111111111111,
             "#46039f"
            ],
            [
             0.2222222222222222,
             "#7201a8"
            ],
            [
             0.3333333333333333,
             "#9c179e"
            ],
            [
             0.4444444444444444,
             "#bd3786"
            ],
            [
             0.5555555555555556,
             "#d8576b"
            ],
            [
             0.6666666666666666,
             "#ed7953"
            ],
            [
             0.7777777777777778,
             "#fb9f3a"
            ],
            [
             0.8888888888888888,
             "#fdca26"
            ],
            [
             1,
             "#f0f921"
            ]
           ],
           "sequentialminus": [
            [
             0,
             "#0d0887"
            ],
            [
             0.1111111111111111,
             "#46039f"
            ],
            [
             0.2222222222222222,
             "#7201a8"
            ],
            [
             0.3333333333333333,
             "#9c179e"
            ],
            [
             0.4444444444444444,
             "#bd3786"
            ],
            [
             0.5555555555555556,
             "#d8576b"
            ],
            [
             0.6666666666666666,
             "#ed7953"
            ],
            [
             0.7777777777777778,
             "#fb9f3a"
            ],
            [
             0.8888888888888888,
             "#fdca26"
            ],
            [
             1,
             "#f0f921"
            ]
           ]
          },
          "colorway": [
           "#636efa",
           "#EF553B",
           "#00cc96",
           "#ab63fa",
           "#FFA15A",
           "#19d3f3",
           "#FF6692",
           "#B6E880",
           "#FF97FF",
           "#FECB52"
          ],
          "font": {
           "color": "#2a3f5f"
          },
          "geo": {
           "bgcolor": "white",
           "lakecolor": "white",
           "landcolor": "#E5ECF6",
           "showlakes": true,
           "showland": true,
           "subunitcolor": "white"
          },
          "hoverlabel": {
           "align": "left"
          },
          "hovermode": "closest",
          "mapbox": {
           "style": "light"
          },
          "paper_bgcolor": "white",
          "plot_bgcolor": "#E5ECF6",
          "polar": {
           "angularaxis": {
            "gridcolor": "white",
            "linecolor": "white",
            "ticks": ""
           },
           "bgcolor": "#E5ECF6",
           "radialaxis": {
            "gridcolor": "white",
            "linecolor": "white",
            "ticks": ""
           }
          },
          "scene": {
           "xaxis": {
            "backgroundcolor": "#E5ECF6",
            "gridcolor": "white",
            "gridwidth": 2,
            "linecolor": "white",
            "showbackground": true,
            "ticks": "",
            "zerolinecolor": "white"
           },
           "yaxis": {
            "backgroundcolor": "#E5ECF6",
            "gridcolor": "white",
            "gridwidth": 2,
            "linecolor": "white",
            "showbackground": true,
            "ticks": "",
            "zerolinecolor": "white"
           },
           "zaxis": {
            "backgroundcolor": "#E5ECF6",
            "gridcolor": "white",
            "gridwidth": 2,
            "linecolor": "white",
            "showbackground": true,
            "ticks": "",
            "zerolinecolor": "white"
           }
          },
          "shapedefaults": {
           "line": {
            "color": "#2a3f5f"
           }
          },
          "ternary": {
           "aaxis": {
            "gridcolor": "white",
            "linecolor": "white",
            "ticks": ""
           },
           "baxis": {
            "gridcolor": "white",
            "linecolor": "white",
            "ticks": ""
           },
           "bgcolor": "#E5ECF6",
           "caxis": {
            "gridcolor": "white",
            "linecolor": "white",
            "ticks": ""
           }
          },
          "title": {
           "x": 0.05
          },
          "xaxis": {
           "automargin": true,
           "gridcolor": "white",
           "linecolor": "white",
           "ticks": "",
           "title": {
            "standoff": 15
           },
           "zerolinecolor": "white",
           "zerolinewidth": 2
          },
          "yaxis": {
           "automargin": true,
           "gridcolor": "white",
           "linecolor": "white",
           "ticks": "",
           "title": {
            "standoff": 15
           },
           "zerolinecolor": "white",
           "zerolinewidth": 2
          }
         }
        },
        "title": {
         "text": "Boxplot for sepal_length - Iris Dataset"
        },
        "xaxis": {
         "anchor": "y",
         "domain": [
          0,
          1
         ],
         "title": {
          "text": "Category"
         }
        },
        "yaxis": {
         "anchor": "x",
         "domain": [
          0,
          1
         ],
         "title": {
          "text": "sepal_length"
         }
        }
       }
      }
     },
     "metadata": {},
     "output_type": "display_data"
    },
    {
     "data": {
      "application/vnd.plotly.v1+json": {
       "config": {
        "plotlyServerURL": "https://plot.ly"
       },
       "data": [
        {
         "alignmentgroup": "True",
         "hovertemplate": "sepal_width=%{y}<extra></extra>",
         "legendgroup": "",
         "marker": {
          "color": "#636efa"
         },
         "name": "",
         "notched": false,
         "offsetgroup": "",
         "orientation": "v",
         "showlegend": false,
         "type": "box",
         "x0": " ",
         "xaxis": "x",
         "y": {
          "bdata": "AAAAAAAADEAAAAAAAAAIQJqZmZmZmQlAzczMzMzMCEDNzMzMzMwMQDMzMzMzMw9AMzMzMzMzC0AzMzMzMzMLQDMzMzMzMwdAzczMzMzMCECamZmZmZkNQDMzMzMzMwtAAAAAAAAACEAAAAAAAAAIQAAAAAAAABBAmpmZmZmZEUAzMzMzMzMPQAAAAAAAAAxAZmZmZmZmDkBmZmZmZmYOQDMzMzMzMwtAmpmZmZmZDUDNzMzMzMwMQGZmZmZmZgpAMzMzMzMzC0AAAAAAAAAIQDMzMzMzMwtAAAAAAAAADEAzMzMzMzMLQJqZmZmZmQlAzczMzMzMCEAzMzMzMzMLQGZmZmZmZhBAzczMzMzMEEDNzMzMzMwIQJqZmZmZmQlAAAAAAAAADEDNzMzMzMwIQAAAAAAAAAhAMzMzMzMzC0AAAAAAAAAMQGZmZmZmZgJAmpmZmZmZCUAAAAAAAAAMQGZmZmZmZg5AAAAAAAAACEBmZmZmZmYOQJqZmZmZmQlAmpmZmZmZDUBmZmZmZmYKQJqZmZmZmQlAmpmZmZmZCUDNzMzMzMwIQGZmZmZmZgJAZmZmZmZmBkBmZmZmZmYGQGZmZmZmZgpAMzMzMzMzA0AzMzMzMzMHQJqZmZmZmQVAAAAAAAAAAEAAAAAAAAAIQJqZmZmZmQFAMzMzMzMzB0AzMzMzMzMHQM3MzMzMzAhAAAAAAAAACECamZmZmZkFQJqZmZmZmQFAAAAAAAAABECamZmZmZkJQGZmZmZmZgZAAAAAAAAABEBmZmZmZmYGQDMzMzMzMwdAAAAAAAAACEBmZmZmZmYGQAAAAAAAAAhAMzMzMzMzB0DNzMzMzMwEQDMzMzMzMwNAMzMzMzMzA0CamZmZmZkFQJqZmZmZmQVAAAAAAAAACEAzMzMzMzMLQM3MzMzMzAhAZmZmZmZmAkAAAAAAAAAIQAAAAAAAAARAzczMzMzMBEAAAAAAAAAIQM3MzMzMzARAZmZmZmZmAkCamZmZmZkFQAAAAAAAAAhAMzMzMzMzB0AzMzMzMzMHQAAAAAAAAARAZmZmZmZmBkBmZmZmZmYKQJqZmZmZmQVAAAAAAAAACEAzMzMzMzMHQAAAAAAAAAhAAAAAAAAACEAAAAAAAAAEQDMzMzMzMwdAAAAAAAAABEDNzMzMzMwMQJqZmZmZmQlAmpmZmZmZBUAAAAAAAAAIQAAAAAAAAARAZmZmZmZmBkCamZmZmZkJQAAAAAAAAAhAZmZmZmZmDkDNzMzMzMwEQJqZmZmZmQFAmpmZmZmZCUBmZmZmZmYGQGZmZmZmZgZAmpmZmZmZBUBmZmZmZmYKQJqZmZmZmQlAZmZmZmZmBkAAAAAAAAAIQGZmZmZmZgZAAAAAAAAACEBmZmZmZmYGQGZmZmZmZg5AZmZmZmZmBkBmZmZmZmYGQM3MzMzMzARAAAAAAAAACEAzMzMzMzMLQM3MzMzMzAhAAAAAAAAACEDNzMzMzMwIQM3MzMzMzAhAzczMzMzMCECamZmZmZkFQJqZmZmZmQlAZmZmZmZmCkAAAAAAAAAIQAAAAAAAAARAAAAAAAAACEAzMzMzMzMLQAAAAAAAAAhA",
          "dtype": "f8"
         },
         "y0": " ",
         "yaxis": "y"
        }
       ],
       "layout": {
        "boxmode": "group",
        "legend": {
         "tracegroupgap": 0
        },
        "margin": {
         "t": 60
        },
        "template": {
         "data": {
          "bar": [
           {
            "error_x": {
             "color": "#2a3f5f"
            },
            "error_y": {
             "color": "#2a3f5f"
            },
            "marker": {
             "line": {
              "color": "#E5ECF6",
              "width": 0.5
             },
             "pattern": {
              "fillmode": "overlay",
              "size": 10,
              "solidity": 0.2
             }
            },
            "type": "bar"
           }
          ],
          "barpolar": [
           {
            "marker": {
             "line": {
              "color": "#E5ECF6",
              "width": 0.5
             },
             "pattern": {
              "fillmode": "overlay",
              "size": 10,
              "solidity": 0.2
             }
            },
            "type": "barpolar"
           }
          ],
          "carpet": [
           {
            "aaxis": {
             "endlinecolor": "#2a3f5f",
             "gridcolor": "white",
             "linecolor": "white",
             "minorgridcolor": "white",
             "startlinecolor": "#2a3f5f"
            },
            "baxis": {
             "endlinecolor": "#2a3f5f",
             "gridcolor": "white",
             "linecolor": "white",
             "minorgridcolor": "white",
             "startlinecolor": "#2a3f5f"
            },
            "type": "carpet"
           }
          ],
          "choropleth": [
           {
            "colorbar": {
             "outlinewidth": 0,
             "ticks": ""
            },
            "type": "choropleth"
           }
          ],
          "contour": [
           {
            "colorbar": {
             "outlinewidth": 0,
             "ticks": ""
            },
            "colorscale": [
             [
              0,
              "#0d0887"
             ],
             [
              0.1111111111111111,
              "#46039f"
             ],
             [
              0.2222222222222222,
              "#7201a8"
             ],
             [
              0.3333333333333333,
              "#9c179e"
             ],
             [
              0.4444444444444444,
              "#bd3786"
             ],
             [
              0.5555555555555556,
              "#d8576b"
             ],
             [
              0.6666666666666666,
              "#ed7953"
             ],
             [
              0.7777777777777778,
              "#fb9f3a"
             ],
             [
              0.8888888888888888,
              "#fdca26"
             ],
             [
              1,
              "#f0f921"
             ]
            ],
            "type": "contour"
           }
          ],
          "contourcarpet": [
           {
            "colorbar": {
             "outlinewidth": 0,
             "ticks": ""
            },
            "type": "contourcarpet"
           }
          ],
          "heatmap": [
           {
            "colorbar": {
             "outlinewidth": 0,
             "ticks": ""
            },
            "colorscale": [
             [
              0,
              "#0d0887"
             ],
             [
              0.1111111111111111,
              "#46039f"
             ],
             [
              0.2222222222222222,
              "#7201a8"
             ],
             [
              0.3333333333333333,
              "#9c179e"
             ],
             [
              0.4444444444444444,
              "#bd3786"
             ],
             [
              0.5555555555555556,
              "#d8576b"
             ],
             [
              0.6666666666666666,
              "#ed7953"
             ],
             [
              0.7777777777777778,
              "#fb9f3a"
             ],
             [
              0.8888888888888888,
              "#fdca26"
             ],
             [
              1,
              "#f0f921"
             ]
            ],
            "type": "heatmap"
           }
          ],
          "histogram": [
           {
            "marker": {
             "pattern": {
              "fillmode": "overlay",
              "size": 10,
              "solidity": 0.2
             }
            },
            "type": "histogram"
           }
          ],
          "histogram2d": [
           {
            "colorbar": {
             "outlinewidth": 0,
             "ticks": ""
            },
            "colorscale": [
             [
              0,
              "#0d0887"
             ],
             [
              0.1111111111111111,
              "#46039f"
             ],
             [
              0.2222222222222222,
              "#7201a8"
             ],
             [
              0.3333333333333333,
              "#9c179e"
             ],
             [
              0.4444444444444444,
              "#bd3786"
             ],
             [
              0.5555555555555556,
              "#d8576b"
             ],
             [
              0.6666666666666666,
              "#ed7953"
             ],
             [
              0.7777777777777778,
              "#fb9f3a"
             ],
             [
              0.8888888888888888,
              "#fdca26"
             ],
             [
              1,
              "#f0f921"
             ]
            ],
            "type": "histogram2d"
           }
          ],
          "histogram2dcontour": [
           {
            "colorbar": {
             "outlinewidth": 0,
             "ticks": ""
            },
            "colorscale": [
             [
              0,
              "#0d0887"
             ],
             [
              0.1111111111111111,
              "#46039f"
             ],
             [
              0.2222222222222222,
              "#7201a8"
             ],
             [
              0.3333333333333333,
              "#9c179e"
             ],
             [
              0.4444444444444444,
              "#bd3786"
             ],
             [
              0.5555555555555556,
              "#d8576b"
             ],
             [
              0.6666666666666666,
              "#ed7953"
             ],
             [
              0.7777777777777778,
              "#fb9f3a"
             ],
             [
              0.8888888888888888,
              "#fdca26"
             ],
             [
              1,
              "#f0f921"
             ]
            ],
            "type": "histogram2dcontour"
           }
          ],
          "mesh3d": [
           {
            "colorbar": {
             "outlinewidth": 0,
             "ticks": ""
            },
            "type": "mesh3d"
           }
          ],
          "parcoords": [
           {
            "line": {
             "colorbar": {
              "outlinewidth": 0,
              "ticks": ""
             }
            },
            "type": "parcoords"
           }
          ],
          "pie": [
           {
            "automargin": true,
            "type": "pie"
           }
          ],
          "scatter": [
           {
            "fillpattern": {
             "fillmode": "overlay",
             "size": 10,
             "solidity": 0.2
            },
            "type": "scatter"
           }
          ],
          "scatter3d": [
           {
            "line": {
             "colorbar": {
              "outlinewidth": 0,
              "ticks": ""
             }
            },
            "marker": {
             "colorbar": {
              "outlinewidth": 0,
              "ticks": ""
             }
            },
            "type": "scatter3d"
           }
          ],
          "scattercarpet": [
           {
            "marker": {
             "colorbar": {
              "outlinewidth": 0,
              "ticks": ""
             }
            },
            "type": "scattercarpet"
           }
          ],
          "scattergeo": [
           {
            "marker": {
             "colorbar": {
              "outlinewidth": 0,
              "ticks": ""
             }
            },
            "type": "scattergeo"
           }
          ],
          "scattergl": [
           {
            "marker": {
             "colorbar": {
              "outlinewidth": 0,
              "ticks": ""
             }
            },
            "type": "scattergl"
           }
          ],
          "scattermap": [
           {
            "marker": {
             "colorbar": {
              "outlinewidth": 0,
              "ticks": ""
             }
            },
            "type": "scattermap"
           }
          ],
          "scattermapbox": [
           {
            "marker": {
             "colorbar": {
              "outlinewidth": 0,
              "ticks": ""
             }
            },
            "type": "scattermapbox"
           }
          ],
          "scatterpolar": [
           {
            "marker": {
             "colorbar": {
              "outlinewidth": 0,
              "ticks": ""
             }
            },
            "type": "scatterpolar"
           }
          ],
          "scatterpolargl": [
           {
            "marker": {
             "colorbar": {
              "outlinewidth": 0,
              "ticks": ""
             }
            },
            "type": "scatterpolargl"
           }
          ],
          "scatterternary": [
           {
            "marker": {
             "colorbar": {
              "outlinewidth": 0,
              "ticks": ""
             }
            },
            "type": "scatterternary"
           }
          ],
          "surface": [
           {
            "colorbar": {
             "outlinewidth": 0,
             "ticks": ""
            },
            "colorscale": [
             [
              0,
              "#0d0887"
             ],
             [
              0.1111111111111111,
              "#46039f"
             ],
             [
              0.2222222222222222,
              "#7201a8"
             ],
             [
              0.3333333333333333,
              "#9c179e"
             ],
             [
              0.4444444444444444,
              "#bd3786"
             ],
             [
              0.5555555555555556,
              "#d8576b"
             ],
             [
              0.6666666666666666,
              "#ed7953"
             ],
             [
              0.7777777777777778,
              "#fb9f3a"
             ],
             [
              0.8888888888888888,
              "#fdca26"
             ],
             [
              1,
              "#f0f921"
             ]
            ],
            "type": "surface"
           }
          ],
          "table": [
           {
            "cells": {
             "fill": {
              "color": "#EBF0F8"
             },
             "line": {
              "color": "white"
             }
            },
            "header": {
             "fill": {
              "color": "#C8D4E3"
             },
             "line": {
              "color": "white"
             }
            },
            "type": "table"
           }
          ]
         },
         "layout": {
          "annotationdefaults": {
           "arrowcolor": "#2a3f5f",
           "arrowhead": 0,
           "arrowwidth": 1
          },
          "autotypenumbers": "strict",
          "coloraxis": {
           "colorbar": {
            "outlinewidth": 0,
            "ticks": ""
           }
          },
          "colorscale": {
           "diverging": [
            [
             0,
             "#8e0152"
            ],
            [
             0.1,
             "#c51b7d"
            ],
            [
             0.2,
             "#de77ae"
            ],
            [
             0.3,
             "#f1b6da"
            ],
            [
             0.4,
             "#fde0ef"
            ],
            [
             0.5,
             "#f7f7f7"
            ],
            [
             0.6,
             "#e6f5d0"
            ],
            [
             0.7,
             "#b8e186"
            ],
            [
             0.8,
             "#7fbc41"
            ],
            [
             0.9,
             "#4d9221"
            ],
            [
             1,
             "#276419"
            ]
           ],
           "sequential": [
            [
             0,
             "#0d0887"
            ],
            [
             0.1111111111111111,
             "#46039f"
            ],
            [
             0.2222222222222222,
             "#7201a8"
            ],
            [
             0.3333333333333333,
             "#9c179e"
            ],
            [
             0.4444444444444444,
             "#bd3786"
            ],
            [
             0.5555555555555556,
             "#d8576b"
            ],
            [
             0.6666666666666666,
             "#ed7953"
            ],
            [
             0.7777777777777778,
             "#fb9f3a"
            ],
            [
             0.8888888888888888,
             "#fdca26"
            ],
            [
             1,
             "#f0f921"
            ]
           ],
           "sequentialminus": [
            [
             0,
             "#0d0887"
            ],
            [
             0.1111111111111111,
             "#46039f"
            ],
            [
             0.2222222222222222,
             "#7201a8"
            ],
            [
             0.3333333333333333,
             "#9c179e"
            ],
            [
             0.4444444444444444,
             "#bd3786"
            ],
            [
             0.5555555555555556,
             "#d8576b"
            ],
            [
             0.6666666666666666,
             "#ed7953"
            ],
            [
             0.7777777777777778,
             "#fb9f3a"
            ],
            [
             0.8888888888888888,
             "#fdca26"
            ],
            [
             1,
             "#f0f921"
            ]
           ]
          },
          "colorway": [
           "#636efa",
           "#EF553B",
           "#00cc96",
           "#ab63fa",
           "#FFA15A",
           "#19d3f3",
           "#FF6692",
           "#B6E880",
           "#FF97FF",
           "#FECB52"
          ],
          "font": {
           "color": "#2a3f5f"
          },
          "geo": {
           "bgcolor": "white",
           "lakecolor": "white",
           "landcolor": "#E5ECF6",
           "showlakes": true,
           "showland": true,
           "subunitcolor": "white"
          },
          "hoverlabel": {
           "align": "left"
          },
          "hovermode": "closest",
          "mapbox": {
           "style": "light"
          },
          "paper_bgcolor": "white",
          "plot_bgcolor": "#E5ECF6",
          "polar": {
           "angularaxis": {
            "gridcolor": "white",
            "linecolor": "white",
            "ticks": ""
           },
           "bgcolor": "#E5ECF6",
           "radialaxis": {
            "gridcolor": "white",
            "linecolor": "white",
            "ticks": ""
           }
          },
          "scene": {
           "xaxis": {
            "backgroundcolor": "#E5ECF6",
            "gridcolor": "white",
            "gridwidth": 2,
            "linecolor": "white",
            "showbackground": true,
            "ticks": "",
            "zerolinecolor": "white"
           },
           "yaxis": {
            "backgroundcolor": "#E5ECF6",
            "gridcolor": "white",
            "gridwidth": 2,
            "linecolor": "white",
            "showbackground": true,
            "ticks": "",
            "zerolinecolor": "white"
           },
           "zaxis": {
            "backgroundcolor": "#E5ECF6",
            "gridcolor": "white",
            "gridwidth": 2,
            "linecolor": "white",
            "showbackground": true,
            "ticks": "",
            "zerolinecolor": "white"
           }
          },
          "shapedefaults": {
           "line": {
            "color": "#2a3f5f"
           }
          },
          "ternary": {
           "aaxis": {
            "gridcolor": "white",
            "linecolor": "white",
            "ticks": ""
           },
           "baxis": {
            "gridcolor": "white",
            "linecolor": "white",
            "ticks": ""
           },
           "bgcolor": "#E5ECF6",
           "caxis": {
            "gridcolor": "white",
            "linecolor": "white",
            "ticks": ""
           }
          },
          "title": {
           "x": 0.05
          },
          "xaxis": {
           "automargin": true,
           "gridcolor": "white",
           "linecolor": "white",
           "ticks": "",
           "title": {
            "standoff": 15
           },
           "zerolinecolor": "white",
           "zerolinewidth": 2
          },
          "yaxis": {
           "automargin": true,
           "gridcolor": "white",
           "linecolor": "white",
           "ticks": "",
           "title": {
            "standoff": 15
           },
           "zerolinecolor": "white",
           "zerolinewidth": 2
          }
         }
        },
        "title": {
         "text": "Boxplot for sepal_width - Iris Dataset"
        },
        "xaxis": {
         "anchor": "y",
         "domain": [
          0,
          1
         ],
         "title": {
          "text": "Category"
         }
        },
        "yaxis": {
         "anchor": "x",
         "domain": [
          0,
          1
         ],
         "title": {
          "text": "sepal_width"
         }
        }
       }
      }
     },
     "metadata": {},
     "output_type": "display_data"
    },
    {
     "data": {
      "application/vnd.plotly.v1+json": {
       "config": {
        "plotlyServerURL": "https://plot.ly"
       },
       "data": [
        {
         "alignmentgroup": "True",
         "hovertemplate": "petal_length=%{y}<extra></extra>",
         "legendgroup": "",
         "marker": {
          "color": "#636efa"
         },
         "name": "",
         "notched": false,
         "offsetgroup": "",
         "orientation": "v",
         "showlegend": false,
         "type": "box",
         "x0": " ",
         "xaxis": "x",
         "y": {
          "bdata": "ZmZmZmZm9j9mZmZmZmb2P83MzMzMzPQ/AAAAAAAA+D9mZmZmZmb2PzMzMzMzM/s/ZmZmZmZm9j8AAAAAAAD4P2ZmZmZmZvY/AAAAAAAA+D8AAAAAAAD4P5qZmZmZmfk/ZmZmZmZm9j+amZmZmZnxPzMzMzMzM/M/AAAAAAAA+D/NzMzMzMz0P2ZmZmZmZvY/MzMzMzMz+z8AAAAAAAD4PzMzMzMzM/s/AAAAAAAA+D8AAAAAAADwPzMzMzMzM/s/ZmZmZmZm/j+amZmZmZn5P5qZmZmZmfk/AAAAAAAA+D9mZmZmZmb2P5qZmZmZmfk/mpmZmZmZ+T8AAAAAAAD4PwAAAAAAAPg/ZmZmZmZm9j8AAAAAAAD4PzMzMzMzM/M/zczMzMzM9D8AAAAAAAD4P83MzMzMzPQ/AAAAAAAA+D/NzMzMzMz0P83MzMzMzPQ/zczMzMzM9D+amZmZmZn5P2ZmZmZmZv4/ZmZmZmZm9j+amZmZmZn5P2ZmZmZmZvY/AAAAAAAA+D9mZmZmZmb2P83MzMzMzBJAAAAAAAAAEkCamZmZmZkTQAAAAAAAABBAZmZmZmZmEkAAAAAAAAASQM3MzMzMzBJAZmZmZmZmCkBmZmZmZmYSQDMzMzMzMw9AAAAAAAAADEDNzMzMzMwQQAAAAAAAABBAzczMzMzMEkDNzMzMzMwMQJqZmZmZmRFAAAAAAAAAEkBmZmZmZmYQQAAAAAAAABJAMzMzMzMzD0AzMzMzMzMTQAAAAAAAABBAmpmZmZmZE0DNzMzMzMwSQDMzMzMzMxFAmpmZmZmZEUAzMzMzMzMTQAAAAAAAABRAAAAAAAAAEkAAAAAAAAAMQGZmZmZmZg5AmpmZmZmZDUAzMzMzMzMPQGZmZmZmZhRAAAAAAAAAEkAAAAAAAAASQM3MzMzMzBJAmpmZmZmZEUBmZmZmZmYQQAAAAAAAABBAmpmZmZmZEUBmZmZmZmYSQAAAAAAAABBAZmZmZmZmCkDNzMzMzMwQQM3MzMzMzBBAzczMzMzMEEAzMzMzMzMRQAAAAAAAAAhAZmZmZmZmEEAAAAAAAAAYQGZmZmZmZhRAmpmZmZmZF0BmZmZmZmYWQDMzMzMzMxdAZmZmZmZmGkAAAAAAAAASQDMzMzMzMxlAMzMzMzMzF0BmZmZmZmYYQGZmZmZmZhRAMzMzMzMzFUAAAAAAAAAWQAAAAAAAABRAZmZmZmZmFEAzMzMzMzMVQAAAAAAAABZAzczMzMzMGkCamZmZmZkbQAAAAAAAABRAzczMzMzMFkCamZmZmZkTQM3MzMzMzBpAmpmZmZmZE0DNzMzMzMwWQAAAAAAAABhAMzMzMzMzE0CamZmZmZkTQGZmZmZmZhZAMzMzMzMzF0BmZmZmZmYYQJqZmZmZmRlAZmZmZmZmFkBmZmZmZmYUQGZmZmZmZhZAZmZmZmZmGEBmZmZmZmYWQAAAAAAAABZAMzMzMzMzE0CamZmZmZkVQGZmZmZmZhZAZmZmZmZmFEBmZmZmZmYUQJqZmZmZmRdAzczMzMzMFkDNzMzMzMwUQAAAAAAAABRAzczMzMzMFECamZmZmZkVQGZmZmZmZhRA",
          "dtype": "f8"
         },
         "y0": " ",
         "yaxis": "y"
        }
       ],
       "layout": {
        "boxmode": "group",
        "legend": {
         "tracegroupgap": 0
        },
        "margin": {
         "t": 60
        },
        "template": {
         "data": {
          "bar": [
           {
            "error_x": {
             "color": "#2a3f5f"
            },
            "error_y": {
             "color": "#2a3f5f"
            },
            "marker": {
             "line": {
              "color": "#E5ECF6",
              "width": 0.5
             },
             "pattern": {
              "fillmode": "overlay",
              "size": 10,
              "solidity": 0.2
             }
            },
            "type": "bar"
           }
          ],
          "barpolar": [
           {
            "marker": {
             "line": {
              "color": "#E5ECF6",
              "width": 0.5
             },
             "pattern": {
              "fillmode": "overlay",
              "size": 10,
              "solidity": 0.2
             }
            },
            "type": "barpolar"
           }
          ],
          "carpet": [
           {
            "aaxis": {
             "endlinecolor": "#2a3f5f",
             "gridcolor": "white",
             "linecolor": "white",
             "minorgridcolor": "white",
             "startlinecolor": "#2a3f5f"
            },
            "baxis": {
             "endlinecolor": "#2a3f5f",
             "gridcolor": "white",
             "linecolor": "white",
             "minorgridcolor": "white",
             "startlinecolor": "#2a3f5f"
            },
            "type": "carpet"
           }
          ],
          "choropleth": [
           {
            "colorbar": {
             "outlinewidth": 0,
             "ticks": ""
            },
            "type": "choropleth"
           }
          ],
          "contour": [
           {
            "colorbar": {
             "outlinewidth": 0,
             "ticks": ""
            },
            "colorscale": [
             [
              0,
              "#0d0887"
             ],
             [
              0.1111111111111111,
              "#46039f"
             ],
             [
              0.2222222222222222,
              "#7201a8"
             ],
             [
              0.3333333333333333,
              "#9c179e"
             ],
             [
              0.4444444444444444,
              "#bd3786"
             ],
             [
              0.5555555555555556,
              "#d8576b"
             ],
             [
              0.6666666666666666,
              "#ed7953"
             ],
             [
              0.7777777777777778,
              "#fb9f3a"
             ],
             [
              0.8888888888888888,
              "#fdca26"
             ],
             [
              1,
              "#f0f921"
             ]
            ],
            "type": "contour"
           }
          ],
          "contourcarpet": [
           {
            "colorbar": {
             "outlinewidth": 0,
             "ticks": ""
            },
            "type": "contourcarpet"
           }
          ],
          "heatmap": [
           {
            "colorbar": {
             "outlinewidth": 0,
             "ticks": ""
            },
            "colorscale": [
             [
              0,
              "#0d0887"
             ],
             [
              0.1111111111111111,
              "#46039f"
             ],
             [
              0.2222222222222222,
              "#7201a8"
             ],
             [
              0.3333333333333333,
              "#9c179e"
             ],
             [
              0.4444444444444444,
              "#bd3786"
             ],
             [
              0.5555555555555556,
              "#d8576b"
             ],
             [
              0.6666666666666666,
              "#ed7953"
             ],
             [
              0.7777777777777778,
              "#fb9f3a"
             ],
             [
              0.8888888888888888,
              "#fdca26"
             ],
             [
              1,
              "#f0f921"
             ]
            ],
            "type": "heatmap"
           }
          ],
          "histogram": [
           {
            "marker": {
             "pattern": {
              "fillmode": "overlay",
              "size": 10,
              "solidity": 0.2
             }
            },
            "type": "histogram"
           }
          ],
          "histogram2d": [
           {
            "colorbar": {
             "outlinewidth": 0,
             "ticks": ""
            },
            "colorscale": [
             [
              0,
              "#0d0887"
             ],
             [
              0.1111111111111111,
              "#46039f"
             ],
             [
              0.2222222222222222,
              "#7201a8"
             ],
             [
              0.3333333333333333,
              "#9c179e"
             ],
             [
              0.4444444444444444,
              "#bd3786"
             ],
             [
              0.5555555555555556,
              "#d8576b"
             ],
             [
              0.6666666666666666,
              "#ed7953"
             ],
             [
              0.7777777777777778,
              "#fb9f3a"
             ],
             [
              0.8888888888888888,
              "#fdca26"
             ],
             [
              1,
              "#f0f921"
             ]
            ],
            "type": "histogram2d"
           }
          ],
          "histogram2dcontour": [
           {
            "colorbar": {
             "outlinewidth": 0,
             "ticks": ""
            },
            "colorscale": [
             [
              0,
              "#0d0887"
             ],
             [
              0.1111111111111111,
              "#46039f"
             ],
             [
              0.2222222222222222,
              "#7201a8"
             ],
             [
              0.3333333333333333,
              "#9c179e"
             ],
             [
              0.4444444444444444,
              "#bd3786"
             ],
             [
              0.5555555555555556,
              "#d8576b"
             ],
             [
              0.6666666666666666,
              "#ed7953"
             ],
             [
              0.7777777777777778,
              "#fb9f3a"
             ],
             [
              0.8888888888888888,
              "#fdca26"
             ],
             [
              1,
              "#f0f921"
             ]
            ],
            "type": "histogram2dcontour"
           }
          ],
          "mesh3d": [
           {
            "colorbar": {
             "outlinewidth": 0,
             "ticks": ""
            },
            "type": "mesh3d"
           }
          ],
          "parcoords": [
           {
            "line": {
             "colorbar": {
              "outlinewidth": 0,
              "ticks": ""
             }
            },
            "type": "parcoords"
           }
          ],
          "pie": [
           {
            "automargin": true,
            "type": "pie"
           }
          ],
          "scatter": [
           {
            "fillpattern": {
             "fillmode": "overlay",
             "size": 10,
             "solidity": 0.2
            },
            "type": "scatter"
           }
          ],
          "scatter3d": [
           {
            "line": {
             "colorbar": {
              "outlinewidth": 0,
              "ticks": ""
             }
            },
            "marker": {
             "colorbar": {
              "outlinewidth": 0,
              "ticks": ""
             }
            },
            "type": "scatter3d"
           }
          ],
          "scattercarpet": [
           {
            "marker": {
             "colorbar": {
              "outlinewidth": 0,
              "ticks": ""
             }
            },
            "type": "scattercarpet"
           }
          ],
          "scattergeo": [
           {
            "marker": {
             "colorbar": {
              "outlinewidth": 0,
              "ticks": ""
             }
            },
            "type": "scattergeo"
           }
          ],
          "scattergl": [
           {
            "marker": {
             "colorbar": {
              "outlinewidth": 0,
              "ticks": ""
             }
            },
            "type": "scattergl"
           }
          ],
          "scattermap": [
           {
            "marker": {
             "colorbar": {
              "outlinewidth": 0,
              "ticks": ""
             }
            },
            "type": "scattermap"
           }
          ],
          "scattermapbox": [
           {
            "marker": {
             "colorbar": {
              "outlinewidth": 0,
              "ticks": ""
             }
            },
            "type": "scattermapbox"
           }
          ],
          "scatterpolar": [
           {
            "marker": {
             "colorbar": {
              "outlinewidth": 0,
              "ticks": ""
             }
            },
            "type": "scatterpolar"
           }
          ],
          "scatterpolargl": [
           {
            "marker": {
             "colorbar": {
              "outlinewidth": 0,
              "ticks": ""
             }
            },
            "type": "scatterpolargl"
           }
          ],
          "scatterternary": [
           {
            "marker": {
             "colorbar": {
              "outlinewidth": 0,
              "ticks": ""
             }
            },
            "type": "scatterternary"
           }
          ],
          "surface": [
           {
            "colorbar": {
             "outlinewidth": 0,
             "ticks": ""
            },
            "colorscale": [
             [
              0,
              "#0d0887"
             ],
             [
              0.1111111111111111,
              "#46039f"
             ],
             [
              0.2222222222222222,
              "#7201a8"
             ],
             [
              0.3333333333333333,
              "#9c179e"
             ],
             [
              0.4444444444444444,
              "#bd3786"
             ],
             [
              0.5555555555555556,
              "#d8576b"
             ],
             [
              0.6666666666666666,
              "#ed7953"
             ],
             [
              0.7777777777777778,
              "#fb9f3a"
             ],
             [
              0.8888888888888888,
              "#fdca26"
             ],
             [
              1,
              "#f0f921"
             ]
            ],
            "type": "surface"
           }
          ],
          "table": [
           {
            "cells": {
             "fill": {
              "color": "#EBF0F8"
             },
             "line": {
              "color": "white"
             }
            },
            "header": {
             "fill": {
              "color": "#C8D4E3"
             },
             "line": {
              "color": "white"
             }
            },
            "type": "table"
           }
          ]
         },
         "layout": {
          "annotationdefaults": {
           "arrowcolor": "#2a3f5f",
           "arrowhead": 0,
           "arrowwidth": 1
          },
          "autotypenumbers": "strict",
          "coloraxis": {
           "colorbar": {
            "outlinewidth": 0,
            "ticks": ""
           }
          },
          "colorscale": {
           "diverging": [
            [
             0,
             "#8e0152"
            ],
            [
             0.1,
             "#c51b7d"
            ],
            [
             0.2,
             "#de77ae"
            ],
            [
             0.3,
             "#f1b6da"
            ],
            [
             0.4,
             "#fde0ef"
            ],
            [
             0.5,
             "#f7f7f7"
            ],
            [
             0.6,
             "#e6f5d0"
            ],
            [
             0.7,
             "#b8e186"
            ],
            [
             0.8,
             "#7fbc41"
            ],
            [
             0.9,
             "#4d9221"
            ],
            [
             1,
             "#276419"
            ]
           ],
           "sequential": [
            [
             0,
             "#0d0887"
            ],
            [
             0.1111111111111111,
             "#46039f"
            ],
            [
             0.2222222222222222,
             "#7201a8"
            ],
            [
             0.3333333333333333,
             "#9c179e"
            ],
            [
             0.4444444444444444,
             "#bd3786"
            ],
            [
             0.5555555555555556,
             "#d8576b"
            ],
            [
             0.6666666666666666,
             "#ed7953"
            ],
            [
             0.7777777777777778,
             "#fb9f3a"
            ],
            [
             0.8888888888888888,
             "#fdca26"
            ],
            [
             1,
             "#f0f921"
            ]
           ],
           "sequentialminus": [
            [
             0,
             "#0d0887"
            ],
            [
             0.1111111111111111,
             "#46039f"
            ],
            [
             0.2222222222222222,
             "#7201a8"
            ],
            [
             0.3333333333333333,
             "#9c179e"
            ],
            [
             0.4444444444444444,
             "#bd3786"
            ],
            [
             0.5555555555555556,
             "#d8576b"
            ],
            [
             0.6666666666666666,
             "#ed7953"
            ],
            [
             0.7777777777777778,
             "#fb9f3a"
            ],
            [
             0.8888888888888888,
             "#fdca26"
            ],
            [
             1,
             "#f0f921"
            ]
           ]
          },
          "colorway": [
           "#636efa",
           "#EF553B",
           "#00cc96",
           "#ab63fa",
           "#FFA15A",
           "#19d3f3",
           "#FF6692",
           "#B6E880",
           "#FF97FF",
           "#FECB52"
          ],
          "font": {
           "color": "#2a3f5f"
          },
          "geo": {
           "bgcolor": "white",
           "lakecolor": "white",
           "landcolor": "#E5ECF6",
           "showlakes": true,
           "showland": true,
           "subunitcolor": "white"
          },
          "hoverlabel": {
           "align": "left"
          },
          "hovermode": "closest",
          "mapbox": {
           "style": "light"
          },
          "paper_bgcolor": "white",
          "plot_bgcolor": "#E5ECF6",
          "polar": {
           "angularaxis": {
            "gridcolor": "white",
            "linecolor": "white",
            "ticks": ""
           },
           "bgcolor": "#E5ECF6",
           "radialaxis": {
            "gridcolor": "white",
            "linecolor": "white",
            "ticks": ""
           }
          },
          "scene": {
           "xaxis": {
            "backgroundcolor": "#E5ECF6",
            "gridcolor": "white",
            "gridwidth": 2,
            "linecolor": "white",
            "showbackground": true,
            "ticks": "",
            "zerolinecolor": "white"
           },
           "yaxis": {
            "backgroundcolor": "#E5ECF6",
            "gridcolor": "white",
            "gridwidth": 2,
            "linecolor": "white",
            "showbackground": true,
            "ticks": "",
            "zerolinecolor": "white"
           },
           "zaxis": {
            "backgroundcolor": "#E5ECF6",
            "gridcolor": "white",
            "gridwidth": 2,
            "linecolor": "white",
            "showbackground": true,
            "ticks": "",
            "zerolinecolor": "white"
           }
          },
          "shapedefaults": {
           "line": {
            "color": "#2a3f5f"
           }
          },
          "ternary": {
           "aaxis": {
            "gridcolor": "white",
            "linecolor": "white",
            "ticks": ""
           },
           "baxis": {
            "gridcolor": "white",
            "linecolor": "white",
            "ticks": ""
           },
           "bgcolor": "#E5ECF6",
           "caxis": {
            "gridcolor": "white",
            "linecolor": "white",
            "ticks": ""
           }
          },
          "title": {
           "x": 0.05
          },
          "xaxis": {
           "automargin": true,
           "gridcolor": "white",
           "linecolor": "white",
           "ticks": "",
           "title": {
            "standoff": 15
           },
           "zerolinecolor": "white",
           "zerolinewidth": 2
          },
          "yaxis": {
           "automargin": true,
           "gridcolor": "white",
           "linecolor": "white",
           "ticks": "",
           "title": {
            "standoff": 15
           },
           "zerolinecolor": "white",
           "zerolinewidth": 2
          }
         }
        },
        "title": {
         "text": "Boxplot for petal_length - Iris Dataset"
        },
        "xaxis": {
         "anchor": "y",
         "domain": [
          0,
          1
         ],
         "title": {
          "text": "Category"
         }
        },
        "yaxis": {
         "anchor": "x",
         "domain": [
          0,
          1
         ],
         "title": {
          "text": "petal_length"
         }
        }
       }
      }
     },
     "metadata": {},
     "output_type": "display_data"
    },
    {
     "data": {
      "application/vnd.plotly.v1+json": {
       "config": {
        "plotlyServerURL": "https://plot.ly"
       },
       "data": [
        {
         "alignmentgroup": "True",
         "hovertemplate": "petal_width=%{y}<extra></extra>",
         "legendgroup": "",
         "marker": {
          "color": "#636efa"
         },
         "name": "",
         "notched": false,
         "offsetgroup": "",
         "orientation": "v",
         "showlegend": false,
         "type": "box",
         "x0": " ",
         "xaxis": "x",
         "y": {
          "bdata": "mpmZmZmZyT+amZmZmZnJP5qZmZmZmck/mpmZmZmZyT+amZmZmZnJP5qZmZmZmdk/MzMzMzMz0z+amZmZmZnJP5qZmZmZmck/mpmZmZmZuT+amZmZmZnJP5qZmZmZmck/mpmZmZmZuT+amZmZmZm5P5qZmZmZmck/mpmZmZmZ2T+amZmZmZnZPzMzMzMzM9M/MzMzMzMz0z8zMzMzMzPTP5qZmZmZmck/mpmZmZmZ2T+amZmZmZnJPwAAAAAAAOA/mpmZmZmZyT+amZmZmZnJP5qZmZmZmdk/mpmZmZmZyT+amZmZmZnJP5qZmZmZmck/mpmZmZmZyT+amZmZmZnZP5qZmZmZmbk/mpmZmZmZyT+amZmZmZm5P5qZmZmZmck/mpmZmZmZyT+amZmZmZm5P5qZmZmZmck/mpmZmZmZyT8zMzMzMzPTPzMzMzMzM9M/mpmZmZmZyT8zMzMzMzPjP5qZmZmZmdk/MzMzMzMz0z+amZmZmZnJP5qZmZmZmck/mpmZmZmZyT+amZmZmZnJP2ZmZmZmZvY/AAAAAAAA+D8AAAAAAAD4P83MzMzMzPQ/AAAAAAAA+D/NzMzMzMz0P5qZmZmZmfk/AAAAAAAA8D/NzMzMzMz0P2ZmZmZmZvY/AAAAAAAA8D8AAAAAAAD4PwAAAAAAAPA/ZmZmZmZm9j/NzMzMzMz0P2ZmZmZmZvY/AAAAAAAA+D8AAAAAAADwPwAAAAAAAPg/mpmZmZmZ8T/NzMzMzMz8P83MzMzMzPQ/AAAAAAAA+D8zMzMzMzPzP83MzMzMzPQ/ZmZmZmZm9j9mZmZmZmb2PzMzMzMzM/s/AAAAAAAA+D8AAAAAAADwP5qZmZmZmfE/AAAAAAAA8D8zMzMzMzPzP5qZmZmZmfk/AAAAAAAA+D+amZmZmZn5PwAAAAAAAPg/zczMzMzM9D/NzMzMzMz0P83MzMzMzPQ/MzMzMzMz8z9mZmZmZmb2PzMzMzMzM/M/AAAAAAAA8D/NzMzMzMz0PzMzMzMzM/M/zczMzMzM9D/NzMzMzMz0P5qZmZmZmfE/zczMzMzM9D8AAAAAAAAEQGZmZmZmZv4/zczMzMzMAEDNzMzMzMz8P5qZmZmZmQFAzczMzMzMAEAzMzMzMzP7P83MzMzMzPw/zczMzMzM/D8AAAAAAAAEQAAAAAAAAABAZmZmZmZm/j/NzMzMzMwAQAAAAAAAAABAMzMzMzMzA0BmZmZmZmYCQM3MzMzMzPw/mpmZmZmZAUBmZmZmZmYCQAAAAAAAAPg/ZmZmZmZmAkAAAAAAAAAAQAAAAAAAAABAzczMzMzM/D/NzMzMzMwAQM3MzMzMzPw/zczMzMzM/D/NzMzMzMz8P83MzMzMzABAmpmZmZmZ+T9mZmZmZmb+PwAAAAAAAABAmpmZmZmZAUAAAAAAAAD4P2ZmZmZmZvY/ZmZmZmZmAkAzMzMzMzMDQM3MzMzMzPw/zczMzMzM/D/NzMzMzMwAQDMzMzMzMwNAZmZmZmZmAkBmZmZmZmb+P2ZmZmZmZgJAAAAAAAAABEBmZmZmZmYCQGZmZmZmZv4/AAAAAAAAAEBmZmZmZmYCQM3MzMzMzPw/",
          "dtype": "f8"
         },
         "y0": " ",
         "yaxis": "y"
        }
       ],
       "layout": {
        "boxmode": "group",
        "legend": {
         "tracegroupgap": 0
        },
        "margin": {
         "t": 60
        },
        "template": {
         "data": {
          "bar": [
           {
            "error_x": {
             "color": "#2a3f5f"
            },
            "error_y": {
             "color": "#2a3f5f"
            },
            "marker": {
             "line": {
              "color": "#E5ECF6",
              "width": 0.5
             },
             "pattern": {
              "fillmode": "overlay",
              "size": 10,
              "solidity": 0.2
             }
            },
            "type": "bar"
           }
          ],
          "barpolar": [
           {
            "marker": {
             "line": {
              "color": "#E5ECF6",
              "width": 0.5
             },
             "pattern": {
              "fillmode": "overlay",
              "size": 10,
              "solidity": 0.2
             }
            },
            "type": "barpolar"
           }
          ],
          "carpet": [
           {
            "aaxis": {
             "endlinecolor": "#2a3f5f",
             "gridcolor": "white",
             "linecolor": "white",
             "minorgridcolor": "white",
             "startlinecolor": "#2a3f5f"
            },
            "baxis": {
             "endlinecolor": "#2a3f5f",
             "gridcolor": "white",
             "linecolor": "white",
             "minorgridcolor": "white",
             "startlinecolor": "#2a3f5f"
            },
            "type": "carpet"
           }
          ],
          "choropleth": [
           {
            "colorbar": {
             "outlinewidth": 0,
             "ticks": ""
            },
            "type": "choropleth"
           }
          ],
          "contour": [
           {
            "colorbar": {
             "outlinewidth": 0,
             "ticks": ""
            },
            "colorscale": [
             [
              0,
              "#0d0887"
             ],
             [
              0.1111111111111111,
              "#46039f"
             ],
             [
              0.2222222222222222,
              "#7201a8"
             ],
             [
              0.3333333333333333,
              "#9c179e"
             ],
             [
              0.4444444444444444,
              "#bd3786"
             ],
             [
              0.5555555555555556,
              "#d8576b"
             ],
             [
              0.6666666666666666,
              "#ed7953"
             ],
             [
              0.7777777777777778,
              "#fb9f3a"
             ],
             [
              0.8888888888888888,
              "#fdca26"
             ],
             [
              1,
              "#f0f921"
             ]
            ],
            "type": "contour"
           }
          ],
          "contourcarpet": [
           {
            "colorbar": {
             "outlinewidth": 0,
             "ticks": ""
            },
            "type": "contourcarpet"
           }
          ],
          "heatmap": [
           {
            "colorbar": {
             "outlinewidth": 0,
             "ticks": ""
            },
            "colorscale": [
             [
              0,
              "#0d0887"
             ],
             [
              0.1111111111111111,
              "#46039f"
             ],
             [
              0.2222222222222222,
              "#7201a8"
             ],
             [
              0.3333333333333333,
              "#9c179e"
             ],
             [
              0.4444444444444444,
              "#bd3786"
             ],
             [
              0.5555555555555556,
              "#d8576b"
             ],
             [
              0.6666666666666666,
              "#ed7953"
             ],
             [
              0.7777777777777778,
              "#fb9f3a"
             ],
             [
              0.8888888888888888,
              "#fdca26"
             ],
             [
              1,
              "#f0f921"
             ]
            ],
            "type": "heatmap"
           }
          ],
          "histogram": [
           {
            "marker": {
             "pattern": {
              "fillmode": "overlay",
              "size": 10,
              "solidity": 0.2
             }
            },
            "type": "histogram"
           }
          ],
          "histogram2d": [
           {
            "colorbar": {
             "outlinewidth": 0,
             "ticks": ""
            },
            "colorscale": [
             [
              0,
              "#0d0887"
             ],
             [
              0.1111111111111111,
              "#46039f"
             ],
             [
              0.2222222222222222,
              "#7201a8"
             ],
             [
              0.3333333333333333,
              "#9c179e"
             ],
             [
              0.4444444444444444,
              "#bd3786"
             ],
             [
              0.5555555555555556,
              "#d8576b"
             ],
             [
              0.6666666666666666,
              "#ed7953"
             ],
             [
              0.7777777777777778,
              "#fb9f3a"
             ],
             [
              0.8888888888888888,
              "#fdca26"
             ],
             [
              1,
              "#f0f921"
             ]
            ],
            "type": "histogram2d"
           }
          ],
          "histogram2dcontour": [
           {
            "colorbar": {
             "outlinewidth": 0,
             "ticks": ""
            },
            "colorscale": [
             [
              0,
              "#0d0887"
             ],
             [
              0.1111111111111111,
              "#46039f"
             ],
             [
              0.2222222222222222,
              "#7201a8"
             ],
             [
              0.3333333333333333,
              "#9c179e"
             ],
             [
              0.4444444444444444,
              "#bd3786"
             ],
             [
              0.5555555555555556,
              "#d8576b"
             ],
             [
              0.6666666666666666,
              "#ed7953"
             ],
             [
              0.7777777777777778,
              "#fb9f3a"
             ],
             [
              0.8888888888888888,
              "#fdca26"
             ],
             [
              1,
              "#f0f921"
             ]
            ],
            "type": "histogram2dcontour"
           }
          ],
          "mesh3d": [
           {
            "colorbar": {
             "outlinewidth": 0,
             "ticks": ""
            },
            "type": "mesh3d"
           }
          ],
          "parcoords": [
           {
            "line": {
             "colorbar": {
              "outlinewidth": 0,
              "ticks": ""
             }
            },
            "type": "parcoords"
           }
          ],
          "pie": [
           {
            "automargin": true,
            "type": "pie"
           }
          ],
          "scatter": [
           {
            "fillpattern": {
             "fillmode": "overlay",
             "size": 10,
             "solidity": 0.2
            },
            "type": "scatter"
           }
          ],
          "scatter3d": [
           {
            "line": {
             "colorbar": {
              "outlinewidth": 0,
              "ticks": ""
             }
            },
            "marker": {
             "colorbar": {
              "outlinewidth": 0,
              "ticks": ""
             }
            },
            "type": "scatter3d"
           }
          ],
          "scattercarpet": [
           {
            "marker": {
             "colorbar": {
              "outlinewidth": 0,
              "ticks": ""
             }
            },
            "type": "scattercarpet"
           }
          ],
          "scattergeo": [
           {
            "marker": {
             "colorbar": {
              "outlinewidth": 0,
              "ticks": ""
             }
            },
            "type": "scattergeo"
           }
          ],
          "scattergl": [
           {
            "marker": {
             "colorbar": {
              "outlinewidth": 0,
              "ticks": ""
             }
            },
            "type": "scattergl"
           }
          ],
          "scattermap": [
           {
            "marker": {
             "colorbar": {
              "outlinewidth": 0,
              "ticks": ""
             }
            },
            "type": "scattermap"
           }
          ],
          "scattermapbox": [
           {
            "marker": {
             "colorbar": {
              "outlinewidth": 0,
              "ticks": ""
             }
            },
            "type": "scattermapbox"
           }
          ],
          "scatterpolar": [
           {
            "marker": {
             "colorbar": {
              "outlinewidth": 0,
              "ticks": ""
             }
            },
            "type": "scatterpolar"
           }
          ],
          "scatterpolargl": [
           {
            "marker": {
             "colorbar": {
              "outlinewidth": 0,
              "ticks": ""
             }
            },
            "type": "scatterpolargl"
           }
          ],
          "scatterternary": [
           {
            "marker": {
             "colorbar": {
              "outlinewidth": 0,
              "ticks": ""
             }
            },
            "type": "scatterternary"
           }
          ],
          "surface": [
           {
            "colorbar": {
             "outlinewidth": 0,
             "ticks": ""
            },
            "colorscale": [
             [
              0,
              "#0d0887"
             ],
             [
              0.1111111111111111,
              "#46039f"
             ],
             [
              0.2222222222222222,
              "#7201a8"
             ],
             [
              0.3333333333333333,
              "#9c179e"
             ],
             [
              0.4444444444444444,
              "#bd3786"
             ],
             [
              0.5555555555555556,
              "#d8576b"
             ],
             [
              0.6666666666666666,
              "#ed7953"
             ],
             [
              0.7777777777777778,
              "#fb9f3a"
             ],
             [
              0.8888888888888888,
              "#fdca26"
             ],
             [
              1,
              "#f0f921"
             ]
            ],
            "type": "surface"
           }
          ],
          "table": [
           {
            "cells": {
             "fill": {
              "color": "#EBF0F8"
             },
             "line": {
              "color": "white"
             }
            },
            "header": {
             "fill": {
              "color": "#C8D4E3"
             },
             "line": {
              "color": "white"
             }
            },
            "type": "table"
           }
          ]
         },
         "layout": {
          "annotationdefaults": {
           "arrowcolor": "#2a3f5f",
           "arrowhead": 0,
           "arrowwidth": 1
          },
          "autotypenumbers": "strict",
          "coloraxis": {
           "colorbar": {
            "outlinewidth": 0,
            "ticks": ""
           }
          },
          "colorscale": {
           "diverging": [
            [
             0,
             "#8e0152"
            ],
            [
             0.1,
             "#c51b7d"
            ],
            [
             0.2,
             "#de77ae"
            ],
            [
             0.3,
             "#f1b6da"
            ],
            [
             0.4,
             "#fde0ef"
            ],
            [
             0.5,
             "#f7f7f7"
            ],
            [
             0.6,
             "#e6f5d0"
            ],
            [
             0.7,
             "#b8e186"
            ],
            [
             0.8,
             "#7fbc41"
            ],
            [
             0.9,
             "#4d9221"
            ],
            [
             1,
             "#276419"
            ]
           ],
           "sequential": [
            [
             0,
             "#0d0887"
            ],
            [
             0.1111111111111111,
             "#46039f"
            ],
            [
             0.2222222222222222,
             "#7201a8"
            ],
            [
             0.3333333333333333,
             "#9c179e"
            ],
            [
             0.4444444444444444,
             "#bd3786"
            ],
            [
             0.5555555555555556,
             "#d8576b"
            ],
            [
             0.6666666666666666,
             "#ed7953"
            ],
            [
             0.7777777777777778,
             "#fb9f3a"
            ],
            [
             0.8888888888888888,
             "#fdca26"
            ],
            [
             1,
             "#f0f921"
            ]
           ],
           "sequentialminus": [
            [
             0,
             "#0d0887"
            ],
            [
             0.1111111111111111,
             "#46039f"
            ],
            [
             0.2222222222222222,
             "#7201a8"
            ],
            [
             0.3333333333333333,
             "#9c179e"
            ],
            [
             0.4444444444444444,
             "#bd3786"
            ],
            [
             0.5555555555555556,
             "#d8576b"
            ],
            [
             0.6666666666666666,
             "#ed7953"
            ],
            [
             0.7777777777777778,
             "#fb9f3a"
            ],
            [
             0.8888888888888888,
             "#fdca26"
            ],
            [
             1,
             "#f0f921"
            ]
           ]
          },
          "colorway": [
           "#636efa",
           "#EF553B",
           "#00cc96",
           "#ab63fa",
           "#FFA15A",
           "#19d3f3",
           "#FF6692",
           "#B6E880",
           "#FF97FF",
           "#FECB52"
          ],
          "font": {
           "color": "#2a3f5f"
          },
          "geo": {
           "bgcolor": "white",
           "lakecolor": "white",
           "landcolor": "#E5ECF6",
           "showlakes": true,
           "showland": true,
           "subunitcolor": "white"
          },
          "hoverlabel": {
           "align": "left"
          },
          "hovermode": "closest",
          "mapbox": {
           "style": "light"
          },
          "paper_bgcolor": "white",
          "plot_bgcolor": "#E5ECF6",
          "polar": {
           "angularaxis": {
            "gridcolor": "white",
            "linecolor": "white",
            "ticks": ""
           },
           "bgcolor": "#E5ECF6",
           "radialaxis": {
            "gridcolor": "white",
            "linecolor": "white",
            "ticks": ""
           }
          },
          "scene": {
           "xaxis": {
            "backgroundcolor": "#E5ECF6",
            "gridcolor": "white",
            "gridwidth": 2,
            "linecolor": "white",
            "showbackground": true,
            "ticks": "",
            "zerolinecolor": "white"
           },
           "yaxis": {
            "backgroundcolor": "#E5ECF6",
            "gridcolor": "white",
            "gridwidth": 2,
            "linecolor": "white",
            "showbackground": true,
            "ticks": "",
            "zerolinecolor": "white"
           },
           "zaxis": {
            "backgroundcolor": "#E5ECF6",
            "gridcolor": "white",
            "gridwidth": 2,
            "linecolor": "white",
            "showbackground": true,
            "ticks": "",
            "zerolinecolor": "white"
           }
          },
          "shapedefaults": {
           "line": {
            "color": "#2a3f5f"
           }
          },
          "ternary": {
           "aaxis": {
            "gridcolor": "white",
            "linecolor": "white",
            "ticks": ""
           },
           "baxis": {
            "gridcolor": "white",
            "linecolor": "white",
            "ticks": ""
           },
           "bgcolor": "#E5ECF6",
           "caxis": {
            "gridcolor": "white",
            "linecolor": "white",
            "ticks": ""
           }
          },
          "title": {
           "x": 0.05
          },
          "xaxis": {
           "automargin": true,
           "gridcolor": "white",
           "linecolor": "white",
           "ticks": "",
           "title": {
            "standoff": 15
           },
           "zerolinecolor": "white",
           "zerolinewidth": 2
          },
          "yaxis": {
           "automargin": true,
           "gridcolor": "white",
           "linecolor": "white",
           "ticks": "",
           "title": {
            "standoff": 15
           },
           "zerolinecolor": "white",
           "zerolinewidth": 2
          }
         }
        },
        "title": {
         "text": "Boxplot for petal_width - Iris Dataset"
        },
        "xaxis": {
         "anchor": "y",
         "domain": [
          0,
          1
         ],
         "title": {
          "text": "Category"
         }
        },
        "yaxis": {
         "anchor": "x",
         "domain": [
          0,
          1
         ],
         "title": {
          "text": "petal_width"
         }
        }
       }
      }
     },
     "metadata": {},
     "output_type": "display_data"
    }
   ],
   "source": [
    "def create_boxplots(datasets):\n",
    "    for dataset_name, df in datasets.items():\n",
    "        # Select numeric columns\n",
    "        numeric_cols = df.select_dtypes(include=['number']).columns\n",
    "        \n",
    "        # Select categorical columns\n",
    "        categorical_cols = df.select_dtypes(include=['object', 'category']).columns\n",
    "        \n",
    "        print(f\"\\nCreating boxplots for {dataset_name} dataset:\")\n",
    "        \n",
    "        # Generate boxplots for numeric columns\n",
    "        for column in numeric_cols:\n",
    "            fig = px.box(df, y=column)\n",
    "            fig.update_layout(\n",
    "                title=f'Boxplot for {column} - {dataset_name} Dataset',\n",
    "                yaxis_title=column,\n",
    "                xaxis_title='Category'\n",
    "            )\n",
    "            fig.show()\n",
    "\n",
    "create_boxplots(datasets)"
   ]
  },
  {
   "cell_type": "markdown",
   "metadata": {},
   "source": [
    "#### Identify missing values\n",
    "\n"
   ]
  },
  {
   "cell_type": "code",
   "execution_count": 60,
   "metadata": {},
   "outputs": [
    {
     "name": "stdout",
     "output_type": "stream",
     "text": [
      "Analylis of Cancer\n",
      "There are no missing values\n",
      "Analylis of Iris\n",
      "There are no missing values\n"
     ]
    }
   ],
   "source": [
    "for name, df in datasets.items():\n",
    "        print(f\"Analylis of {name}\")\n",
    "        # 1. Analyze missing values\n",
    "        missing_values = df.isnull().sum()\n",
    "\n",
    "        if not missing_values.any():\n",
    "                print(\"There are no missing values\")\n",
    "        else:\n",
    "                print(\"\\Missing values:\")\n",
    "                print(missing_values[missing_values > 0])\n",
    "\n",
    "        \n",
    "\n"
   ]
  },
  {
   "cell_type": "markdown",
   "metadata": {},
   "source": [
    "#### Making binary columns\n",
    "\n",
    "In both datasets there´s one column that needs to be codified with dummies, in order to conserve the essence of the data of this columns and proceding to the implementation of classification models.\n"
   ]
  },
  {
   "cell_type": "code",
   "execution_count": 61,
   "metadata": {},
   "outputs": [
    {
     "name": "stdout",
     "output_type": "stream",
     "text": [
      "\n",
      "-------------------------------------------------------\n",
      "\n",
      "Verify the correct transformation of diagnosis column:\n",
      "\n",
      "-------------------------------------------------------\n"
     ]
    },
    {
     "data": {
      "text/html": [
       "<div>\n",
       "<style scoped>\n",
       "    .dataframe tbody tr th:only-of-type {\n",
       "        vertical-align: middle;\n",
       "    }\n",
       "\n",
       "    .dataframe tbody tr th {\n",
       "        vertical-align: top;\n",
       "    }\n",
       "\n",
       "    .dataframe thead th {\n",
       "        text-align: right;\n",
       "    }\n",
       "</style>\n",
       "<table border=\"1\" class=\"dataframe\">\n",
       "  <thead>\n",
       "    <tr style=\"text-align: right;\">\n",
       "      <th></th>\n",
       "      <th>id</th>\n",
       "      <th>diagnosis</th>\n",
       "      <th>radius_mean</th>\n",
       "      <th>texture_mean</th>\n",
       "      <th>perimeter_mean</th>\n",
       "      <th>area_mean</th>\n",
       "      <th>smoothness_mean</th>\n",
       "      <th>compactness_mean</th>\n",
       "      <th>concavity_mean</th>\n",
       "      <th>concave_points_mean</th>\n",
       "      <th>...</th>\n",
       "      <th>radius_worst</th>\n",
       "      <th>texture_worst</th>\n",
       "      <th>perimeter_worst</th>\n",
       "      <th>area_worst</th>\n",
       "      <th>smoothness_worst</th>\n",
       "      <th>compactness_worst</th>\n",
       "      <th>concavity_worst</th>\n",
       "      <th>concave_points_worst</th>\n",
       "      <th>symmetry_worst</th>\n",
       "      <th>fractal_dimension_worst</th>\n",
       "    </tr>\n",
       "  </thead>\n",
       "  <tbody>\n",
       "    <tr>\n",
       "      <th>0</th>\n",
       "      <td>842302</td>\n",
       "      <td>1</td>\n",
       "      <td>17.99</td>\n",
       "      <td>10.38</td>\n",
       "      <td>122.80</td>\n",
       "      <td>1001.0</td>\n",
       "      <td>0.11840</td>\n",
       "      <td>0.27760</td>\n",
       "      <td>0.30010</td>\n",
       "      <td>0.14710</td>\n",
       "      <td>...</td>\n",
       "      <td>25.38</td>\n",
       "      <td>17.33</td>\n",
       "      <td>184.60</td>\n",
       "      <td>2019.0</td>\n",
       "      <td>0.1622</td>\n",
       "      <td>0.6656</td>\n",
       "      <td>0.7119</td>\n",
       "      <td>0.2654</td>\n",
       "      <td>0.4601</td>\n",
       "      <td>0.11890</td>\n",
       "    </tr>\n",
       "    <tr>\n",
       "      <th>1</th>\n",
       "      <td>842517</td>\n",
       "      <td>1</td>\n",
       "      <td>20.57</td>\n",
       "      <td>17.77</td>\n",
       "      <td>132.90</td>\n",
       "      <td>1326.0</td>\n",
       "      <td>0.08474</td>\n",
       "      <td>0.07864</td>\n",
       "      <td>0.08690</td>\n",
       "      <td>0.07017</td>\n",
       "      <td>...</td>\n",
       "      <td>24.99</td>\n",
       "      <td>23.41</td>\n",
       "      <td>158.80</td>\n",
       "      <td>1956.0</td>\n",
       "      <td>0.1238</td>\n",
       "      <td>0.1866</td>\n",
       "      <td>0.2416</td>\n",
       "      <td>0.1860</td>\n",
       "      <td>0.2750</td>\n",
       "      <td>0.08902</td>\n",
       "    </tr>\n",
       "    <tr>\n",
       "      <th>2</th>\n",
       "      <td>84300903</td>\n",
       "      <td>1</td>\n",
       "      <td>19.69</td>\n",
       "      <td>21.25</td>\n",
       "      <td>130.00</td>\n",
       "      <td>1203.0</td>\n",
       "      <td>0.10960</td>\n",
       "      <td>0.15990</td>\n",
       "      <td>0.19740</td>\n",
       "      <td>0.12790</td>\n",
       "      <td>...</td>\n",
       "      <td>23.57</td>\n",
       "      <td>25.53</td>\n",
       "      <td>152.50</td>\n",
       "      <td>1709.0</td>\n",
       "      <td>0.1444</td>\n",
       "      <td>0.4245</td>\n",
       "      <td>0.4504</td>\n",
       "      <td>0.2430</td>\n",
       "      <td>0.3613</td>\n",
       "      <td>0.08758</td>\n",
       "    </tr>\n",
       "    <tr>\n",
       "      <th>3</th>\n",
       "      <td>84348301</td>\n",
       "      <td>1</td>\n",
       "      <td>11.42</td>\n",
       "      <td>20.38</td>\n",
       "      <td>77.58</td>\n",
       "      <td>386.1</td>\n",
       "      <td>0.14250</td>\n",
       "      <td>0.28390</td>\n",
       "      <td>0.24140</td>\n",
       "      <td>0.10520</td>\n",
       "      <td>...</td>\n",
       "      <td>14.91</td>\n",
       "      <td>26.50</td>\n",
       "      <td>98.87</td>\n",
       "      <td>567.7</td>\n",
       "      <td>0.2098</td>\n",
       "      <td>0.8663</td>\n",
       "      <td>0.6869</td>\n",
       "      <td>0.2575</td>\n",
       "      <td>0.6638</td>\n",
       "      <td>0.17300</td>\n",
       "    </tr>\n",
       "    <tr>\n",
       "      <th>4</th>\n",
       "      <td>84358402</td>\n",
       "      <td>1</td>\n",
       "      <td>20.29</td>\n",
       "      <td>14.34</td>\n",
       "      <td>135.10</td>\n",
       "      <td>1297.0</td>\n",
       "      <td>0.10030</td>\n",
       "      <td>0.13280</td>\n",
       "      <td>0.19800</td>\n",
       "      <td>0.10430</td>\n",
       "      <td>...</td>\n",
       "      <td>22.54</td>\n",
       "      <td>16.67</td>\n",
       "      <td>152.20</td>\n",
       "      <td>1575.0</td>\n",
       "      <td>0.1374</td>\n",
       "      <td>0.2050</td>\n",
       "      <td>0.4000</td>\n",
       "      <td>0.1625</td>\n",
       "      <td>0.2364</td>\n",
       "      <td>0.07678</td>\n",
       "    </tr>\n",
       "    <tr>\n",
       "      <th>5</th>\n",
       "      <td>843786</td>\n",
       "      <td>1</td>\n",
       "      <td>12.45</td>\n",
       "      <td>15.70</td>\n",
       "      <td>82.57</td>\n",
       "      <td>477.1</td>\n",
       "      <td>0.12780</td>\n",
       "      <td>0.17000</td>\n",
       "      <td>0.15780</td>\n",
       "      <td>0.08089</td>\n",
       "      <td>...</td>\n",
       "      <td>15.47</td>\n",
       "      <td>23.75</td>\n",
       "      <td>103.40</td>\n",
       "      <td>741.6</td>\n",
       "      <td>0.1791</td>\n",
       "      <td>0.5249</td>\n",
       "      <td>0.5355</td>\n",
       "      <td>0.1741</td>\n",
       "      <td>0.3985</td>\n",
       "      <td>0.12440</td>\n",
       "    </tr>\n",
       "    <tr>\n",
       "      <th>6</th>\n",
       "      <td>844359</td>\n",
       "      <td>1</td>\n",
       "      <td>18.25</td>\n",
       "      <td>19.98</td>\n",
       "      <td>119.60</td>\n",
       "      <td>1040.0</td>\n",
       "      <td>0.09463</td>\n",
       "      <td>0.10900</td>\n",
       "      <td>0.11270</td>\n",
       "      <td>0.07400</td>\n",
       "      <td>...</td>\n",
       "      <td>22.88</td>\n",
       "      <td>27.66</td>\n",
       "      <td>153.20</td>\n",
       "      <td>1606.0</td>\n",
       "      <td>0.1442</td>\n",
       "      <td>0.2576</td>\n",
       "      <td>0.3784</td>\n",
       "      <td>0.1932</td>\n",
       "      <td>0.3063</td>\n",
       "      <td>0.08368</td>\n",
       "    </tr>\n",
       "    <tr>\n",
       "      <th>7</th>\n",
       "      <td>84458202</td>\n",
       "      <td>1</td>\n",
       "      <td>13.71</td>\n",
       "      <td>20.83</td>\n",
       "      <td>90.20</td>\n",
       "      <td>577.9</td>\n",
       "      <td>0.11890</td>\n",
       "      <td>0.16450</td>\n",
       "      <td>0.09366</td>\n",
       "      <td>0.05985</td>\n",
       "      <td>...</td>\n",
       "      <td>17.06</td>\n",
       "      <td>28.14</td>\n",
       "      <td>110.60</td>\n",
       "      <td>897.0</td>\n",
       "      <td>0.1654</td>\n",
       "      <td>0.3682</td>\n",
       "      <td>0.2678</td>\n",
       "      <td>0.1556</td>\n",
       "      <td>0.3196</td>\n",
       "      <td>0.11510</td>\n",
       "    </tr>\n",
       "    <tr>\n",
       "      <th>8</th>\n",
       "      <td>844981</td>\n",
       "      <td>1</td>\n",
       "      <td>13.00</td>\n",
       "      <td>21.82</td>\n",
       "      <td>87.50</td>\n",
       "      <td>519.8</td>\n",
       "      <td>0.12730</td>\n",
       "      <td>0.19320</td>\n",
       "      <td>0.18590</td>\n",
       "      <td>0.09353</td>\n",
       "      <td>...</td>\n",
       "      <td>15.49</td>\n",
       "      <td>30.73</td>\n",
       "      <td>106.20</td>\n",
       "      <td>739.3</td>\n",
       "      <td>0.1703</td>\n",
       "      <td>0.5401</td>\n",
       "      <td>0.5390</td>\n",
       "      <td>0.2060</td>\n",
       "      <td>0.4378</td>\n",
       "      <td>0.10720</td>\n",
       "    </tr>\n",
       "    <tr>\n",
       "      <th>9</th>\n",
       "      <td>84501001</td>\n",
       "      <td>1</td>\n",
       "      <td>12.46</td>\n",
       "      <td>24.04</td>\n",
       "      <td>83.97</td>\n",
       "      <td>475.9</td>\n",
       "      <td>0.11860</td>\n",
       "      <td>0.23960</td>\n",
       "      <td>0.22730</td>\n",
       "      <td>0.08543</td>\n",
       "      <td>...</td>\n",
       "      <td>15.09</td>\n",
       "      <td>40.68</td>\n",
       "      <td>97.65</td>\n",
       "      <td>711.4</td>\n",
       "      <td>0.1853</td>\n",
       "      <td>1.0580</td>\n",
       "      <td>1.1050</td>\n",
       "      <td>0.2210</td>\n",
       "      <td>0.4366</td>\n",
       "      <td>0.20750</td>\n",
       "    </tr>\n",
       "  </tbody>\n",
       "</table>\n",
       "<p>10 rows × 32 columns</p>\n",
       "</div>"
      ],
      "text/plain": [
       "         id  diagnosis  radius_mean  texture_mean  perimeter_mean  area_mean  \\\n",
       "0    842302          1        17.99         10.38          122.80     1001.0   \n",
       "1    842517          1        20.57         17.77          132.90     1326.0   \n",
       "2  84300903          1        19.69         21.25          130.00     1203.0   \n",
       "3  84348301          1        11.42         20.38           77.58      386.1   \n",
       "4  84358402          1        20.29         14.34          135.10     1297.0   \n",
       "5    843786          1        12.45         15.70           82.57      477.1   \n",
       "6    844359          1        18.25         19.98          119.60     1040.0   \n",
       "7  84458202          1        13.71         20.83           90.20      577.9   \n",
       "8    844981          1        13.00         21.82           87.50      519.8   \n",
       "9  84501001          1        12.46         24.04           83.97      475.9   \n",
       "\n",
       "   smoothness_mean  compactness_mean  concavity_mean  concave_points_mean  \\\n",
       "0          0.11840           0.27760         0.30010              0.14710   \n",
       "1          0.08474           0.07864         0.08690              0.07017   \n",
       "2          0.10960           0.15990         0.19740              0.12790   \n",
       "3          0.14250           0.28390         0.24140              0.10520   \n",
       "4          0.10030           0.13280         0.19800              0.10430   \n",
       "5          0.12780           0.17000         0.15780              0.08089   \n",
       "6          0.09463           0.10900         0.11270              0.07400   \n",
       "7          0.11890           0.16450         0.09366              0.05985   \n",
       "8          0.12730           0.19320         0.18590              0.09353   \n",
       "9          0.11860           0.23960         0.22730              0.08543   \n",
       "\n",
       "   ...  radius_worst  texture_worst  perimeter_worst  area_worst  \\\n",
       "0  ...         25.38          17.33           184.60      2019.0   \n",
       "1  ...         24.99          23.41           158.80      1956.0   \n",
       "2  ...         23.57          25.53           152.50      1709.0   \n",
       "3  ...         14.91          26.50            98.87       567.7   \n",
       "4  ...         22.54          16.67           152.20      1575.0   \n",
       "5  ...         15.47          23.75           103.40       741.6   \n",
       "6  ...         22.88          27.66           153.20      1606.0   \n",
       "7  ...         17.06          28.14           110.60       897.0   \n",
       "8  ...         15.49          30.73           106.20       739.3   \n",
       "9  ...         15.09          40.68            97.65       711.4   \n",
       "\n",
       "   smoothness_worst  compactness_worst  concavity_worst  concave_points_worst  \\\n",
       "0            0.1622             0.6656           0.7119                0.2654   \n",
       "1            0.1238             0.1866           0.2416                0.1860   \n",
       "2            0.1444             0.4245           0.4504                0.2430   \n",
       "3            0.2098             0.8663           0.6869                0.2575   \n",
       "4            0.1374             0.2050           0.4000                0.1625   \n",
       "5            0.1791             0.5249           0.5355                0.1741   \n",
       "6            0.1442             0.2576           0.3784                0.1932   \n",
       "7            0.1654             0.3682           0.2678                0.1556   \n",
       "8            0.1703             0.5401           0.5390                0.2060   \n",
       "9            0.1853             1.0580           1.1050                0.2210   \n",
       "\n",
       "   symmetry_worst  fractal_dimension_worst  \n",
       "0          0.4601                  0.11890  \n",
       "1          0.2750                  0.08902  \n",
       "2          0.3613                  0.08758  \n",
       "3          0.6638                  0.17300  \n",
       "4          0.2364                  0.07678  \n",
       "5          0.3985                  0.12440  \n",
       "6          0.3063                  0.08368  \n",
       "7          0.3196                  0.11510  \n",
       "8          0.4378                  0.10720  \n",
       "9          0.4366                  0.20750  \n",
       "\n",
       "[10 rows x 32 columns]"
      ]
     },
     "metadata": {},
     "output_type": "display_data"
    },
    {
     "name": "stdout",
     "output_type": "stream",
     "text": [
      "\n",
      "-------------------------------------------------------\n",
      "\n",
      " Verify the correct transformation of class column\n",
      "\n",
      "-------------------------------------------------------\n"
     ]
    },
    {
     "data": {
      "text/html": [
       "<div>\n",
       "<style scoped>\n",
       "    .dataframe tbody tr th:only-of-type {\n",
       "        vertical-align: middle;\n",
       "    }\n",
       "\n",
       "    .dataframe tbody tr th {\n",
       "        vertical-align: top;\n",
       "    }\n",
       "\n",
       "    .dataframe thead th {\n",
       "        text-align: right;\n",
       "    }\n",
       "</style>\n",
       "<table border=\"1\" class=\"dataframe\">\n",
       "  <thead>\n",
       "    <tr style=\"text-align: right;\">\n",
       "      <th></th>\n",
       "      <th>sepal_length</th>\n",
       "      <th>sepal_width</th>\n",
       "      <th>petal_length</th>\n",
       "      <th>petal_width</th>\n",
       "      <th>class</th>\n",
       "    </tr>\n",
       "  </thead>\n",
       "  <tbody>\n",
       "    <tr>\n",
       "      <th>0</th>\n",
       "      <td>5.1</td>\n",
       "      <td>3.5</td>\n",
       "      <td>1.4</td>\n",
       "      <td>0.2</td>\n",
       "      <td>0</td>\n",
       "    </tr>\n",
       "    <tr>\n",
       "      <th>1</th>\n",
       "      <td>4.9</td>\n",
       "      <td>3.0</td>\n",
       "      <td>1.4</td>\n",
       "      <td>0.2</td>\n",
       "      <td>0</td>\n",
       "    </tr>\n",
       "    <tr>\n",
       "      <th>2</th>\n",
       "      <td>4.7</td>\n",
       "      <td>3.2</td>\n",
       "      <td>1.3</td>\n",
       "      <td>0.2</td>\n",
       "      <td>0</td>\n",
       "    </tr>\n",
       "    <tr>\n",
       "      <th>3</th>\n",
       "      <td>4.6</td>\n",
       "      <td>3.1</td>\n",
       "      <td>1.5</td>\n",
       "      <td>0.2</td>\n",
       "      <td>0</td>\n",
       "    </tr>\n",
       "    <tr>\n",
       "      <th>4</th>\n",
       "      <td>5.0</td>\n",
       "      <td>3.6</td>\n",
       "      <td>1.4</td>\n",
       "      <td>0.2</td>\n",
       "      <td>0</td>\n",
       "    </tr>\n",
       "    <tr>\n",
       "      <th>5</th>\n",
       "      <td>5.4</td>\n",
       "      <td>3.9</td>\n",
       "      <td>1.7</td>\n",
       "      <td>0.4</td>\n",
       "      <td>0</td>\n",
       "    </tr>\n",
       "    <tr>\n",
       "      <th>6</th>\n",
       "      <td>4.6</td>\n",
       "      <td>3.4</td>\n",
       "      <td>1.4</td>\n",
       "      <td>0.3</td>\n",
       "      <td>0</td>\n",
       "    </tr>\n",
       "    <tr>\n",
       "      <th>7</th>\n",
       "      <td>5.0</td>\n",
       "      <td>3.4</td>\n",
       "      <td>1.5</td>\n",
       "      <td>0.2</td>\n",
       "      <td>0</td>\n",
       "    </tr>\n",
       "    <tr>\n",
       "      <th>8</th>\n",
       "      <td>4.4</td>\n",
       "      <td>2.9</td>\n",
       "      <td>1.4</td>\n",
       "      <td>0.2</td>\n",
       "      <td>0</td>\n",
       "    </tr>\n",
       "    <tr>\n",
       "      <th>9</th>\n",
       "      <td>4.9</td>\n",
       "      <td>3.1</td>\n",
       "      <td>1.5</td>\n",
       "      <td>0.1</td>\n",
       "      <td>0</td>\n",
       "    </tr>\n",
       "  </tbody>\n",
       "</table>\n",
       "</div>"
      ],
      "text/plain": [
       "   sepal_length  sepal_width  petal_length  petal_width  class\n",
       "0           5.1          3.5           1.4          0.2      0\n",
       "1           4.9          3.0           1.4          0.2      0\n",
       "2           4.7          3.2           1.3          0.2      0\n",
       "3           4.6          3.1           1.5          0.2      0\n",
       "4           5.0          3.6           1.4          0.2      0\n",
       "5           5.4          3.9           1.7          0.4      0\n",
       "6           4.6          3.4           1.4          0.3      0\n",
       "7           5.0          3.4           1.5          0.2      0\n",
       "8           4.4          2.9           1.4          0.2      0\n",
       "9           4.9          3.1           1.5          0.1      0"
      ]
     },
     "metadata": {},
     "output_type": "display_data"
    }
   ],
   "source": [
    "\n",
    "\n",
    "le = LabelEncoder()\n",
    "\n",
    "# Cancer dataset \n",
    "cancer_df['diagnosis'] = le.fit_transform(cancer_df['diagnosis'])  # M=1, B=0\n",
    "\n",
    "# Iris dataset\n",
    "iris_df['class'] = le.fit_transform(iris_df['class'])  # Codify the 3 classes as 0,1,2\n",
    "\n",
    "## Display transformed columns\n",
    "print(f\"\\n{'-'*55}\")\n",
    "print(\"\\nVerify the correct transformation of diagnosis column:\")\n",
    "print(f\"\\n{'-'*55}\")\n",
    "\n",
    "display(cancer_df.head(10))\n",
    "\n",
    "print(f\"\\n{'-'*55}\")\n",
    "print(\"\\n Verify the correct transformation of class column\")\n",
    "print(f\"\\n{'-'*55}\")\n",
    "\n",
    "display(iris_df.head(10))\n"
   ]
  },
  {
   "cell_type": "markdown",
   "metadata": {},
   "source": [
    "### Data normalization\n",
    "\n",
    "We use Scikit-Learn StandardScaler to normalize the data. Having normalized data can improve the performance of future models."
   ]
  },
  {
   "cell_type": "code",
   "execution_count": 63,
   "metadata": {},
   "outputs": [
    {
     "data": {
      "text/html": [
       "<div>\n",
       "<style scoped>\n",
       "    .dataframe tbody tr th:only-of-type {\n",
       "        vertical-align: middle;\n",
       "    }\n",
       "\n",
       "    .dataframe tbody tr th {\n",
       "        vertical-align: top;\n",
       "    }\n",
       "\n",
       "    .dataframe thead th {\n",
       "        text-align: right;\n",
       "    }\n",
       "</style>\n",
       "<table border=\"1\" class=\"dataframe\">\n",
       "  <thead>\n",
       "    <tr style=\"text-align: right;\">\n",
       "      <th></th>\n",
       "      <th>diagnosis</th>\n",
       "      <th>radius_mean</th>\n",
       "      <th>texture_mean</th>\n",
       "      <th>perimeter_mean</th>\n",
       "      <th>area_mean</th>\n",
       "      <th>smoothness_mean</th>\n",
       "      <th>compactness_mean</th>\n",
       "      <th>concavity_mean</th>\n",
       "      <th>concave_points_mean</th>\n",
       "      <th>symmetry_mean</th>\n",
       "      <th>...</th>\n",
       "      <th>radius_worst</th>\n",
       "      <th>texture_worst</th>\n",
       "      <th>perimeter_worst</th>\n",
       "      <th>area_worst</th>\n",
       "      <th>smoothness_worst</th>\n",
       "      <th>compactness_worst</th>\n",
       "      <th>concavity_worst</th>\n",
       "      <th>concave_points_worst</th>\n",
       "      <th>symmetry_worst</th>\n",
       "      <th>fractal_dimension_worst</th>\n",
       "    </tr>\n",
       "  </thead>\n",
       "  <tbody>\n",
       "    <tr>\n",
       "      <th>0</th>\n",
       "      <td>1</td>\n",
       "      <td>1.097064</td>\n",
       "      <td>-2.073335</td>\n",
       "      <td>1.269934</td>\n",
       "      <td>0.984375</td>\n",
       "      <td>1.568466</td>\n",
       "      <td>3.283515</td>\n",
       "      <td>2.652874</td>\n",
       "      <td>2.532475</td>\n",
       "      <td>2.217515</td>\n",
       "      <td>...</td>\n",
       "      <td>1.886690</td>\n",
       "      <td>-1.359293</td>\n",
       "      <td>2.303601</td>\n",
       "      <td>2.001237</td>\n",
       "      <td>1.307686</td>\n",
       "      <td>2.616665</td>\n",
       "      <td>2.109526</td>\n",
       "      <td>2.296076</td>\n",
       "      <td>2.750622</td>\n",
       "      <td>1.937015</td>\n",
       "    </tr>\n",
       "    <tr>\n",
       "      <th>1</th>\n",
       "      <td>1</td>\n",
       "      <td>1.829821</td>\n",
       "      <td>-0.353632</td>\n",
       "      <td>1.685955</td>\n",
       "      <td>1.908708</td>\n",
       "      <td>-0.826962</td>\n",
       "      <td>-0.487072</td>\n",
       "      <td>-0.023846</td>\n",
       "      <td>0.548144</td>\n",
       "      <td>0.001392</td>\n",
       "      <td>...</td>\n",
       "      <td>1.805927</td>\n",
       "      <td>-0.369203</td>\n",
       "      <td>1.535126</td>\n",
       "      <td>1.890489</td>\n",
       "      <td>-0.375612</td>\n",
       "      <td>-0.430444</td>\n",
       "      <td>-0.146749</td>\n",
       "      <td>1.087084</td>\n",
       "      <td>-0.243890</td>\n",
       "      <td>0.281190</td>\n",
       "    </tr>\n",
       "    <tr>\n",
       "      <th>2</th>\n",
       "      <td>1</td>\n",
       "      <td>1.579888</td>\n",
       "      <td>0.456187</td>\n",
       "      <td>1.566503</td>\n",
       "      <td>1.558884</td>\n",
       "      <td>0.942210</td>\n",
       "      <td>1.052926</td>\n",
       "      <td>1.363478</td>\n",
       "      <td>2.037231</td>\n",
       "      <td>0.939685</td>\n",
       "      <td>...</td>\n",
       "      <td>1.511870</td>\n",
       "      <td>-0.023974</td>\n",
       "      <td>1.347475</td>\n",
       "      <td>1.456285</td>\n",
       "      <td>0.527407</td>\n",
       "      <td>1.082932</td>\n",
       "      <td>0.854974</td>\n",
       "      <td>1.955000</td>\n",
       "      <td>1.152255</td>\n",
       "      <td>0.201391</td>\n",
       "    </tr>\n",
       "    <tr>\n",
       "      <th>3</th>\n",
       "      <td>1</td>\n",
       "      <td>-0.768909</td>\n",
       "      <td>0.253732</td>\n",
       "      <td>-0.592687</td>\n",
       "      <td>-0.764464</td>\n",
       "      <td>3.283553</td>\n",
       "      <td>3.402909</td>\n",
       "      <td>1.915897</td>\n",
       "      <td>1.451707</td>\n",
       "      <td>2.867383</td>\n",
       "      <td>...</td>\n",
       "      <td>-0.281464</td>\n",
       "      <td>0.133984</td>\n",
       "      <td>-0.249939</td>\n",
       "      <td>-0.550021</td>\n",
       "      <td>3.394275</td>\n",
       "      <td>3.893397</td>\n",
       "      <td>1.989588</td>\n",
       "      <td>2.175786</td>\n",
       "      <td>6.046041</td>\n",
       "      <td>4.935010</td>\n",
       "    </tr>\n",
       "    <tr>\n",
       "      <th>4</th>\n",
       "      <td>1</td>\n",
       "      <td>1.750297</td>\n",
       "      <td>-1.151816</td>\n",
       "      <td>1.776573</td>\n",
       "      <td>1.826229</td>\n",
       "      <td>0.280372</td>\n",
       "      <td>0.539340</td>\n",
       "      <td>1.371011</td>\n",
       "      <td>1.428493</td>\n",
       "      <td>-0.009560</td>\n",
       "      <td>...</td>\n",
       "      <td>1.298575</td>\n",
       "      <td>-1.466770</td>\n",
       "      <td>1.338539</td>\n",
       "      <td>1.220724</td>\n",
       "      <td>0.220556</td>\n",
       "      <td>-0.313395</td>\n",
       "      <td>0.613179</td>\n",
       "      <td>0.729259</td>\n",
       "      <td>-0.868353</td>\n",
       "      <td>-0.397100</td>\n",
       "    </tr>\n",
       "  </tbody>\n",
       "</table>\n",
       "<p>5 rows × 31 columns</p>\n",
       "</div>"
      ],
      "text/plain": [
       "   diagnosis  radius_mean  texture_mean  perimeter_mean  area_mean  \\\n",
       "0          1     1.097064     -2.073335        1.269934   0.984375   \n",
       "1          1     1.829821     -0.353632        1.685955   1.908708   \n",
       "2          1     1.579888      0.456187        1.566503   1.558884   \n",
       "3          1    -0.768909      0.253732       -0.592687  -0.764464   \n",
       "4          1     1.750297     -1.151816        1.776573   1.826229   \n",
       "\n",
       "   smoothness_mean  compactness_mean  concavity_mean  concave_points_mean  \\\n",
       "0         1.568466          3.283515        2.652874             2.532475   \n",
       "1        -0.826962         -0.487072       -0.023846             0.548144   \n",
       "2         0.942210          1.052926        1.363478             2.037231   \n",
       "3         3.283553          3.402909        1.915897             1.451707   \n",
       "4         0.280372          0.539340        1.371011             1.428493   \n",
       "\n",
       "   symmetry_mean  ...  radius_worst  texture_worst  perimeter_worst  \\\n",
       "0       2.217515  ...      1.886690      -1.359293         2.303601   \n",
       "1       0.001392  ...      1.805927      -0.369203         1.535126   \n",
       "2       0.939685  ...      1.511870      -0.023974         1.347475   \n",
       "3       2.867383  ...     -0.281464       0.133984        -0.249939   \n",
       "4      -0.009560  ...      1.298575      -1.466770         1.338539   \n",
       "\n",
       "   area_worst  smoothness_worst  compactness_worst  concavity_worst  \\\n",
       "0    2.001237          1.307686           2.616665         2.109526   \n",
       "1    1.890489         -0.375612          -0.430444        -0.146749   \n",
       "2    1.456285          0.527407           1.082932         0.854974   \n",
       "3   -0.550021          3.394275           3.893397         1.989588   \n",
       "4    1.220724          0.220556          -0.313395         0.613179   \n",
       "\n",
       "   concave_points_worst  symmetry_worst  fractal_dimension_worst  \n",
       "0              2.296076        2.750622                 1.937015  \n",
       "1              1.087084       -0.243890                 0.281190  \n",
       "2              1.955000        1.152255                 0.201391  \n",
       "3              2.175786        6.046041                 4.935010  \n",
       "4              0.729259       -0.868353                -0.397100  \n",
       "\n",
       "[5 rows x 31 columns]"
      ]
     },
     "metadata": {},
     "output_type": "display_data"
    },
    {
     "data": {
      "text/html": [
       "<div>\n",
       "<style scoped>\n",
       "    .dataframe tbody tr th:only-of-type {\n",
       "        vertical-align: middle;\n",
       "    }\n",
       "\n",
       "    .dataframe tbody tr th {\n",
       "        vertical-align: top;\n",
       "    }\n",
       "\n",
       "    .dataframe thead th {\n",
       "        text-align: right;\n",
       "    }\n",
       "</style>\n",
       "<table border=\"1\" class=\"dataframe\">\n",
       "  <thead>\n",
       "    <tr style=\"text-align: right;\">\n",
       "      <th></th>\n",
       "      <th>sepal_length</th>\n",
       "      <th>sepal_width</th>\n",
       "      <th>petal_length</th>\n",
       "      <th>petal_width</th>\n",
       "      <th>class</th>\n",
       "    </tr>\n",
       "  </thead>\n",
       "  <tbody>\n",
       "    <tr>\n",
       "      <th>0</th>\n",
       "      <td>-0.900681</td>\n",
       "      <td>1.032057</td>\n",
       "      <td>-1.341272</td>\n",
       "      <td>-1.312977</td>\n",
       "      <td>0</td>\n",
       "    </tr>\n",
       "    <tr>\n",
       "      <th>1</th>\n",
       "      <td>-1.143017</td>\n",
       "      <td>-0.124958</td>\n",
       "      <td>-1.341272</td>\n",
       "      <td>-1.312977</td>\n",
       "      <td>0</td>\n",
       "    </tr>\n",
       "    <tr>\n",
       "      <th>2</th>\n",
       "      <td>-1.385353</td>\n",
       "      <td>0.337848</td>\n",
       "      <td>-1.398138</td>\n",
       "      <td>-1.312977</td>\n",
       "      <td>0</td>\n",
       "    </tr>\n",
       "    <tr>\n",
       "      <th>3</th>\n",
       "      <td>-1.506521</td>\n",
       "      <td>0.106445</td>\n",
       "      <td>-1.284407</td>\n",
       "      <td>-1.312977</td>\n",
       "      <td>0</td>\n",
       "    </tr>\n",
       "    <tr>\n",
       "      <th>4</th>\n",
       "      <td>-1.021849</td>\n",
       "      <td>1.263460</td>\n",
       "      <td>-1.341272</td>\n",
       "      <td>-1.312977</td>\n",
       "      <td>0</td>\n",
       "    </tr>\n",
       "  </tbody>\n",
       "</table>\n",
       "</div>"
      ],
      "text/plain": [
       "   sepal_length  sepal_width  petal_length  petal_width  class\n",
       "0     -0.900681     1.032057     -1.341272    -1.312977      0\n",
       "1     -1.143017    -0.124958     -1.341272    -1.312977      0\n",
       "2     -1.385353     0.337848     -1.398138    -1.312977      0\n",
       "3     -1.506521     0.106445     -1.284407    -1.312977      0\n",
       "4     -1.021849     1.263460     -1.341272    -1.312977      0"
      ]
     },
     "metadata": {},
     "output_type": "display_data"
    }
   ],
   "source": [
    "from sklearn.preprocessing import StandardScaler\n",
    "\n",
    "# Cancer dataset - Excluir 'id' y 'diagnosis' (binaria)\n",
    "\n",
    "# Eliminate id column, there is no significant information in the column\n",
    "cancer_df.drop('id', axis=1, inplace=True)\n",
    "\n",
    "cancer_numeric = cancer_df.drop(['diagnosis'], axis=1)\n",
    "cancer_df[cancer_numeric.columns] = StandardScaler().fit_transform(cancer_numeric)\n",
    "\n",
    "# Iris dataset - Excluir 'class' (categórica)\n",
    "iris_numeric = iris_df.drop(['class'], axis=1)\n",
    "iris_df[iris_numeric.columns] = StandardScaler().fit_transform(iris_numeric)\n",
    "\n",
    "# Display results\n",
    "display(cancer_df.head(), iris_df.head())"
   ]
  },
  {
   "cell_type": "markdown",
   "metadata": {},
   "source": [
    "### Storing Iris dataset in a csv file por model implementation"
   ]
  },
  {
   "cell_type": "code",
   "execution_count": 67,
   "metadata": {},
   "outputs": [],
   "source": [
    "iris_df.to_csv(\"datasets/iris_normalized_data.csv\")"
   ]
  }
 ],
 "metadata": {
  "kernelspec": {
   "display_name": "aprendizaje_env",
   "language": "python",
   "name": "python3"
  },
  "language_info": {
   "codemirror_mode": {
    "name": "ipython",
    "version": 3
   },
   "file_extension": ".py",
   "mimetype": "text/x-python",
   "name": "python",
   "nbconvert_exporter": "python",
   "pygments_lexer": "ipython3",
   "version": "3.10.16"
  }
 },
 "nbformat": 4,
 "nbformat_minor": 2
}
